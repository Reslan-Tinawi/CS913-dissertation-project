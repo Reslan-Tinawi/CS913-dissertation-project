{
 "cells": [
  {
   "cell_type": "code",
   "execution_count": 1,
   "id": "530c3ec4-0c2e-4317-921d-6834a50eafdf",
   "metadata": {
    "execution": {
     "iopub.execute_input": "2024-06-30T00:17:12.725160Z",
     "iopub.status.busy": "2024-06-30T00:17:12.725160Z",
     "iopub.status.idle": "2024-06-30T00:17:13.427526Z",
     "shell.execute_reply": "2024-06-30T00:17:13.427526Z",
     "shell.execute_reply.started": "2024-06-30T00:17:12.725160Z"
    }
   },
   "outputs": [],
   "source": [
    "import os\n",
    "from urllib.parse import quote\n",
    "\n",
    "import pandas as pd\n",
    "import requests\n",
    "from lxml import etree, html\n",
    "from tqdm.auto import tqdm"
   ]
  },
  {
   "cell_type": "code",
   "execution_count": 2,
   "id": "b15f927c-d8cd-4b97-a34f-b6a13678eea1",
   "metadata": {
    "execution": {
     "iopub.execute_input": "2024-06-30T00:17:14.039494Z",
     "iopub.status.busy": "2024-06-30T00:17:14.039494Z",
     "iopub.status.idle": "2024-06-30T00:17:14.055128Z",
     "shell.execute_reply": "2024-06-30T00:17:14.055128Z",
     "shell.execute_reply.started": "2024-06-30T00:17:14.039494Z"
    }
   },
   "outputs": [],
   "source": [
    "pattern_1 = [\n",
    "    \"https://www.mapa.gob.es/es/estadistica/temas/publicaciones/anuario-de-estadistica/2022/default.aspx?parte=3&capitulo=07&grupo=12&seccion=2\",\n",
    "    \"https://www.mapa.gob.es/es/estadistica/temas/publicaciones/anuario-de-estadistica/2021/default.aspx?parte=3&capitulo=07&grupo=12&seccion=2\",\n",
    "    \"https://www.mapa.gob.es/es/estadistica/temas/publicaciones/anuario-de-estadistica/2020/default.aspx?parte=3&capitulo=07&grupo=12&seccion=2\",\n",
    "    \"https://www.mapa.gob.es/es/estadistica/temas/publicaciones/anuario-de-estadistica/2019/default.aspx?parte=3&capitulo=07&grupo=12&seccion=2\",\n",
    "    \"https://www.mapa.gob.es/es/estadistica/temas/publicaciones/anuario-de-estadistica/2018/default.aspx?parte=3&capitulo=07&grupo=12&seccion=2\",\n",
    "    \"https://www.mapa.gob.es/es/estadistica/temas/publicaciones/anuario-de-estadistica/2017/default.aspx?parte=3&capitulo=13&grupo=12&seccion=2\",\n",
    "    \"https://www.mapa.gob.es/es/estadistica/temas/publicaciones/anuario-de-estadistica/2016/default.aspx?parte=3&capitulo=13&grupo=12&seccion=2\",\n",
    "    \"https://www.mapa.gob.es/es/estadistica/temas/publicaciones/anuario-de-estadistica/2015/default.aspx?parte=3&capitulo=13&grupo=12&seccion=2\",\n",
    "    \"https://www.mapa.gob.es/es/estadistica/temas/publicaciones/anuario-de-estadistica/2014/default.aspx?parte=3&capitulo=13&grupo=12&seccion=2\",\n",
    "    \"https://www.mapa.gob.es/es/estadistica/temas/publicaciones/anuario-de-estadistica/2013/default.aspx?parte=3&capitulo=13&grupo=12&seccion=2\",\n",
    "    \"https://www.mapa.gob.es/es/estadistica/temas/publicaciones/anuario-de-estadistica/2012/default.aspx?parte=3&capitulo=13&grupo=12&seccion=2\",\n",
    "    \"https://www.mapa.gob.es/es/estadistica/temas/publicaciones/anuario-de-estadistica/2011/default.aspx?parte=3&capitulo=13&grupo=12&seccion=2\",\n",
    "    \"https://www.mapa.gob.es/es/estadistica/temas/publicaciones/anuario-de-estadistica/2010/default.aspx?parte=3&capitulo=13&grupo=12&seccion=2\",\n",
    "    \"https://www.mapa.gob.es/es/estadistica/temas/publicaciones/anuario-de-estadistica/2009/default.aspx?parte=3&capitulo=13&grupo=12&seccion=2\",\n",
    "    \"https://www.mapa.gob.es/es/estadistica/temas/publicaciones/anuario-de-estadistica/2008/default.aspx?parte=3&capitulo=20&grupo=12&seccion=2\",\n",
    "]"
   ]
  },
  {
   "cell_type": "code",
   "execution_count": 3,
   "id": "3682cde7-47f9-49fc-aea2-8d84371bf3cc",
   "metadata": {
    "execution": {
     "iopub.execute_input": "2024-06-30T00:17:14.604141Z",
     "iopub.status.busy": "2024-06-30T00:17:14.604141Z",
     "iopub.status.idle": "2024-06-30T00:17:14.619755Z",
     "shell.execute_reply": "2024-06-30T00:17:14.619755Z",
     "shell.execute_reply.started": "2024-06-30T00:17:14.604141Z"
    }
   },
   "outputs": [],
   "source": [
    "pattern_2 = [\n",
    "    \"https://www.mapa.gob.es/es/estadistica/temas/publicaciones/anuario-de-estadistica/2007/default.aspx?parte=2&capitulo=17\",\n",
    "    \"https://www.mapa.gob.es/es/estadistica/temas/publicaciones/anuario-de-estadistica/2006/default.aspx?parte=2&capitulo=17\",\n",
    "    \"https://www.mapa.gob.es/es/estadistica/temas/publicaciones/anuario-de-estadistica/2004/default.aspx?parte=2&capitulo=17\",\n",
    "    \"https://www.mapa.gob.es/es/estadistica/temas/publicaciones/anuario-de-estadistica/2003/default.aspx?parte=2&capitulo=17\",\n",
    "    \"https://www.mapa.gob.es/es/estadistica/temas/publicaciones/anuario-de-estadistica/2002/default.aspx?parte=2&capitulo=17\",\n",
    "    \"https://www.mapa.gob.es/es/estadistica/temas/publicaciones/anuario-de-estadistica/2001/default.aspx?parte=2&capitulo=17\",\n",
    "    \"https://www.mapa.gob.es/es/estadistica/temas/publicaciones/anuario-de-estadistica/2001/anexo.aspx?parte=2&capitulo=17\",\n",
    "    \"https://www.mapa.gob.es/es/estadistica/temas/publicaciones/anuario-de-estadistica/2000/default.aspx?parte=2&capitulo=17\",\n",
    "    \"https://www.mapa.gob.es/es/estadistica/temas/publicaciones/anuario-de-estadistica/2000/anexo.aspx?parte=2&capitulo=17\",\n",
    "    \"https://www.mapa.gob.es/es/estadistica/temas/publicaciones/anuario-de-estadistica/1999/default.aspx?parte=2&capitulo=17\",\n",
    "]"
   ]
  },
  {
   "cell_type": "code",
   "execution_count": 4,
   "id": "25637ea8-e76d-4f9d-909b-d07b81c4e8ef",
   "metadata": {
    "execution": {
     "iopub.execute_input": "2024-06-30T00:17:15.278444Z",
     "iopub.status.busy": "2024-06-30T00:17:15.278444Z",
     "iopub.status.idle": "2024-06-30T00:17:15.294066Z",
     "shell.execute_reply": "2024-06-30T00:17:15.294066Z",
     "shell.execute_reply.started": "2024-06-30T00:17:15.278444Z"
    }
   },
   "outputs": [],
   "source": [
    "def get_excel_urls(urls):\n",
    "    main_url = \"https://www.mapa.gob.es\"\n",
    "    excel_urls = []\n",
    "\n",
    "    xpath_query = \"//tr[td[contains(text(), 'Análisis provincial del destino de la producción total')]]//td/a[@title='Contenido en Excel']/@href\"\n",
    "    for url in urls:\n",
    "\n",
    "        try:\n",
    "            response = requests.get(url)\n",
    "            tree = html.fromstring(response.content)\n",
    "\n",
    "            excel_url_list = tree.xpath(xpath_query)\n",
    "\n",
    "            if excel_url_list:\n",
    "                excel_url = excel_url_list[0]\n",
    "                excel_urls.append(main_url + excel_url)\n",
    "            else:\n",
    "                print(\"URL not found\")\n",
    "        except:\n",
    "            print(f\"Exception for connection to {url}\")\n",
    "\n",
    "    return excel_urls"
   ]
  },
  {
   "cell_type": "code",
   "execution_count": 5,
   "id": "b292fb04-d720-4b47-80e0-c44e4cbececf",
   "metadata": {
    "execution": {
     "iopub.execute_input": "2024-06-30T00:17:16.737550Z",
     "iopub.status.busy": "2024-06-30T00:17:16.737550Z",
     "iopub.status.idle": "2024-06-30T00:17:23.593597Z",
     "shell.execute_reply": "2024-06-30T00:17:23.593597Z",
     "shell.execute_reply.started": "2024-06-30T00:17:16.737550Z"
    }
   },
   "outputs": [],
   "source": [
    "excel_urls = get_excel_urls(pattern_1)"
   ]
  },
  {
   "cell_type": "code",
   "execution_count": 6,
   "id": "d30397a2-3310-4ccb-961e-d2adb11d0f3e",
   "metadata": {
    "execution": {
     "iopub.execute_input": "2024-06-30T00:17:24.377780Z",
     "iopub.status.busy": "2024-06-30T00:17:24.377780Z",
     "iopub.status.idle": "2024-06-30T00:17:24.393409Z",
     "shell.execute_reply": "2024-06-30T00:17:24.393409Z",
     "shell.execute_reply.started": "2024-06-30T00:17:24.377780Z"
    }
   },
   "outputs": [
    {
     "data": {
      "text/plain": [
       "['https://www.mapa.gob.es/estadistica/pags/anuario/2022/FORMATO EXCEL/AE22-C07/7.12.2.2.xlsx',\n",
       " 'https://www.mapa.gob.es/estadistica/pags/anuario/2021/TABLAS XLS/CAPITULO07/7.12.2.2.xlsx',\n",
       " 'https://www.mapa.gob.es/estadistica/pags/anuario/2020/TABLAS XLS/CAPITULO07/7.12.2.2.xlsx',\n",
       " 'https://www.mapa.gob.es/estadistica/pags/anuario/2019/CAPITULOSXLS/CAPITULO07/exec07_12.2.2.xlsx',\n",
       " 'https://www.mapa.gob.es/estadistica/pags/anuario/2018/CAPITULOSXLS/CAPITULO07/exec07_12.2.2.xlsx',\n",
       " 'https://www.mapa.gob.es/estadistica/pags/anuario/2017/CAPITULOSXLS/CAPITULO13/exec13_12.2.2.xlsx',\n",
       " 'https://www.mapa.gob.es/estadistica/pags/anuario/2016/CAPITULOSXLS/CAPITULO13/exec13_12.2.2.xlsx',\n",
       " 'https://www.mapa.gob.es/estadistica/pags/anuario/2015/TABLAS XLS/CAPITULO13/exec13_12.2.2.xlsx',\n",
       " 'https://www.mapa.gob.es/estadistica/pags/anuario/2014/AE_2014_13_12_02_02.xls',\n",
       " 'https://www.mapa.gob.es/estadistica/pags/anuario/2013/AE_2013_13_12_02_02.xls',\n",
       " 'https://www.mapa.gob.es/estadistica/pags/anuario/2012/AE_2012_13_12_02_02.xls',\n",
       " 'https://www.mapa.gob.es/estadistica/pags/anuario/2011/AE_2011_13_12_02_02.xls',\n",
       " 'https://www.mapa.gob.es/estadistica/pags/anuario/2010/AE_2010_13_12_02_02.xls',\n",
       " 'https://www.mapa.gob.es/estadistica/pags/anuario/2009/AE_2009_13_12_02_02.xls',\n",
       " 'https://www.mapa.gob.es/estadistica/pags/anuario/2008/AE_2008_20_12_02_01.xls']"
      ]
     },
     "execution_count": 6,
     "metadata": {},
     "output_type": "execute_result"
    }
   ],
   "source": [
    "excel_urls"
   ]
  },
  {
   "cell_type": "code",
   "execution_count": 7,
   "id": "180dc920-2703-4969-a267-b49836f2ecb6",
   "metadata": {
    "execution": {
     "iopub.execute_input": "2024-06-30T00:17:25.539496Z",
     "iopub.status.busy": "2024-06-30T00:17:25.539496Z",
     "iopub.status.idle": "2024-06-30T00:17:25.555556Z",
     "shell.execute_reply": "2024-06-30T00:17:25.555556Z",
     "shell.execute_reply.started": "2024-06-30T00:17:25.539496Z"
    }
   },
   "outputs": [],
   "source": [
    "encoded_urls = [quote(url, safe=\":/\") for url in excel_urls]"
   ]
  },
  {
   "cell_type": "code",
   "execution_count": 8,
   "id": "5ce7c2c7-6d37-4cf6-ae64-e3112ee07284",
   "metadata": {
    "execution": {
     "iopub.execute_input": "2024-06-30T00:17:26.183139Z",
     "iopub.status.busy": "2024-06-30T00:17:26.183139Z",
     "iopub.status.idle": "2024-06-30T00:17:26.198773Z",
     "shell.execute_reply": "2024-06-30T00:17:26.198773Z",
     "shell.execute_reply.started": "2024-06-30T00:17:26.183139Z"
    }
   },
   "outputs": [
    {
     "data": {
      "text/plain": [
       "['https://www.mapa.gob.es/estadistica/pags/anuario/2022/FORMATO%20EXCEL/AE22-C07/7.12.2.2.xlsx',\n",
       " 'https://www.mapa.gob.es/estadistica/pags/anuario/2021/TABLAS%20XLS/CAPITULO07/7.12.2.2.xlsx',\n",
       " 'https://www.mapa.gob.es/estadistica/pags/anuario/2020/TABLAS%20XLS/CAPITULO07/7.12.2.2.xlsx',\n",
       " 'https://www.mapa.gob.es/estadistica/pags/anuario/2019/CAPITULOSXLS/CAPITULO07/exec07_12.2.2.xlsx',\n",
       " 'https://www.mapa.gob.es/estadistica/pags/anuario/2018/CAPITULOSXLS/CAPITULO07/exec07_12.2.2.xlsx',\n",
       " 'https://www.mapa.gob.es/estadistica/pags/anuario/2017/CAPITULOSXLS/CAPITULO13/exec13_12.2.2.xlsx',\n",
       " 'https://www.mapa.gob.es/estadistica/pags/anuario/2016/CAPITULOSXLS/CAPITULO13/exec13_12.2.2.xlsx',\n",
       " 'https://www.mapa.gob.es/estadistica/pags/anuario/2015/TABLAS%20XLS/CAPITULO13/exec13_12.2.2.xlsx',\n",
       " 'https://www.mapa.gob.es/estadistica/pags/anuario/2014/AE_2014_13_12_02_02.xls',\n",
       " 'https://www.mapa.gob.es/estadistica/pags/anuario/2013/AE_2013_13_12_02_02.xls',\n",
       " 'https://www.mapa.gob.es/estadistica/pags/anuario/2012/AE_2012_13_12_02_02.xls',\n",
       " 'https://www.mapa.gob.es/estadistica/pags/anuario/2011/AE_2011_13_12_02_02.xls',\n",
       " 'https://www.mapa.gob.es/estadistica/pags/anuario/2010/AE_2010_13_12_02_02.xls',\n",
       " 'https://www.mapa.gob.es/estadistica/pags/anuario/2009/AE_2009_13_12_02_02.xls',\n",
       " 'https://www.mapa.gob.es/estadistica/pags/anuario/2008/AE_2008_20_12_02_01.xls']"
      ]
     },
     "execution_count": 8,
     "metadata": {},
     "output_type": "execute_result"
    }
   ],
   "source": [
    "encoded_urls"
   ]
  },
  {
   "cell_type": "code",
   "execution_count": null,
   "id": "062a488f-6677-4581-89e1-66b838f4e095",
   "metadata": {},
   "outputs": [],
   "source": [
    "def process_tuple(t):\n",
    "    if t[1].startswith(\"Unnamed:\"):\n",
    "        return t[0]\n",
    "    else:\n",
    "        return \" \".join(t)"
   ]
  },
  {
   "cell_type": "code",
   "execution_count": null,
   "id": "7ba335ad-72f9-4ee7-9569-4d071765e18c",
   "metadata": {},
   "outputs": [],
   "source": [
    "def read_excel_file(url: str):\n",
    "    df = pd.read_excel(url, skiprows=4, na_values=\"–\", header=[0, 1])\n",
    "    df.columns = df.columns.map(lambda x: tuple(str(val).strip() for val in x))\n",
    "    df.columns = [process_tuple(col).strip() for col in df.columns]\n",
    "    return df"
   ]
  },
  {
   "cell_type": "code",
   "execution_count": null,
   "id": "7a8d497f-2c12-4c57-b100-2e2d548d0140",
   "metadata": {},
   "outputs": [],
   "source": [
    "# df_list = []\n",
    "\n",
    "# for url in tqdm(encoded_urls):\n",
    "#     try:\n",
    "#         data = read_excel_file(url)\n",
    "#         df_list.append(data)\n",
    "#     except:\n",
    "#         print(url)"
   ]
  },
  {
   "cell_type": "code",
   "execution_count": 16,
   "id": "56940877-c967-45d8-903c-7663edf36e9b",
   "metadata": {
    "execution": {
     "iopub.execute_input": "2024-06-30T00:25:18.232674Z",
     "iopub.status.busy": "2024-06-30T00:25:18.232674Z",
     "iopub.status.idle": "2024-06-30T00:25:18.263936Z",
     "shell.execute_reply": "2024-06-30T00:25:18.263936Z",
     "shell.execute_reply.started": "2024-06-30T00:25:18.232674Z"
    }
   },
   "outputs": [
    {
     "data": {
      "application/vnd.jupyter.widget-view+json": {
       "model_id": "980f940a56a243d4a5ea8423ae0715ab",
       "version_major": 2,
       "version_minor": 0
      },
      "text/plain": [
       "0it [00:00, ?it/s]"
      ]
     },
     "metadata": {},
     "output_type": "display_data"
    },
    {
     "name": "stdout",
     "output_type": "stream",
     "text": [
      "0 https://www.mapa.gob.es/estadistica/pags/anuario/2022/FORMATO%20EXCEL/AE22-C07/7.12.2.2.xlsx\n",
      "1 https://www.mapa.gob.es/estadistica/pags/anuario/2021/TABLAS%20XLS/CAPITULO07/7.12.2.2.xlsx\n",
      "2 https://www.mapa.gob.es/estadistica/pags/anuario/2020/TABLAS%20XLS/CAPITULO07/7.12.2.2.xlsx\n",
      "3 https://www.mapa.gob.es/estadistica/pags/anuario/2019/CAPITULOSXLS/CAPITULO07/exec07_12.2.2.xlsx\n",
      "4 https://www.mapa.gob.es/estadistica/pags/anuario/2018/CAPITULOSXLS/CAPITULO07/exec07_12.2.2.xlsx\n",
      "5 https://www.mapa.gob.es/estadistica/pags/anuario/2017/CAPITULOSXLS/CAPITULO13/exec13_12.2.2.xlsx\n",
      "6 https://www.mapa.gob.es/estadistica/pags/anuario/2016/CAPITULOSXLS/CAPITULO13/exec13_12.2.2.xlsx\n",
      "7 https://www.mapa.gob.es/estadistica/pags/anuario/2015/TABLAS%20XLS/CAPITULO13/exec13_12.2.2.xlsx\n",
      "8 https://www.mapa.gob.es/estadistica/pags/anuario/2014/AE_2014_13_12_02_02.xls\n",
      "9 https://www.mapa.gob.es/estadistica/pags/anuario/2013/AE_2013_13_12_02_02.xls\n",
      "10 https://www.mapa.gob.es/estadistica/pags/anuario/2012/AE_2012_13_12_02_02.xls\n",
      "11 https://www.mapa.gob.es/estadistica/pags/anuario/2011/AE_2011_13_12_02_02.xls\n",
      "12 https://www.mapa.gob.es/estadistica/pags/anuario/2010/AE_2010_13_12_02_02.xls\n",
      "13 https://www.mapa.gob.es/estadistica/pags/anuario/2009/AE_2009_13_12_02_02.xls\n",
      "14 https://www.mapa.gob.es/estadistica/pags/anuario/2008/AE_2008_20_12_02_01.xls\n"
     ]
    }
   ],
   "source": [
    "for i, url in tqdm(enumerate(encoded_urls)):\n",
    "    print(i, url)\n",
    "    # resp = requests.get(url)\n",
    "\n",
    "    # output = open(f\"{i}.xls\", \"wb\")\n",
    "    # output.write(resp.content)\n",
    "    # output.close()"
   ]
  },
  {
   "cell_type": "code",
   "execution_count": null,
   "id": "83bd02d4-9a07-4d11-a9ee-33a4eb57c504",
   "metadata": {},
   "outputs": [],
   "source": []
  },
  {
   "cell_type": "code",
   "execution_count": null,
   "id": "0cc356c8-fef7-4eee-a820-a410beffa0cf",
   "metadata": {},
   "outputs": [],
   "source": []
  }
 ],
 "metadata": {
  "kernelspec": {
   "display_name": "Python (cs913-dissertation-project)",
   "language": "python",
   "name": "cs913-dissertation-project"
  },
  "language_info": {
   "codemirror_mode": {
    "name": "ipython",
    "version": 3
   },
   "file_extension": ".py",
   "mimetype": "text/x-python",
   "name": "python",
   "nbconvert_exporter": "python",
   "pygments_lexer": "ipython3",
   "version": "3.10.0"
  }
 },
 "nbformat": 4,
 "nbformat_minor": 5
}
