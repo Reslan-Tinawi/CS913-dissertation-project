{
 "cells": [
  {
   "cell_type": "markdown",
   "id": "d05a674b-d746-4e52-9bf6-0450b152b2f4",
   "metadata": {},
   "source": [
    "# Import packages"
   ]
  },
  {
   "cell_type": "code",
   "execution_count": null,
   "id": "3b153720-6bdc-4b7b-a5a5-c8be5945bc0c",
   "metadata": {},
   "outputs": [],
   "source": [
    "import folium\n",
    "import geopandas as gpd\n",
    "import ipywidgets as widgets\n",
    "import numpy as np\n",
    "import pandas as pd\n",
    "import plotly.express as px\n",
    "from hmmlearn import hmm\n",
    "from ipyleaflet import GeoData, LayersControl, Map\n",
    "from IPython.display import HTML, display\n",
    "from ipywidgets import HTML\n",
    "from sklearn.preprocessing import StandardScaler"
   ]
  },
  {
   "cell_type": "markdown",
   "id": "2f713c46-6ad3-40de-ab64-57a91a78d396",
   "metadata": {},
   "source": [
    "# Load data:"
   ]
  },
  {
   "cell_type": "code",
   "execution_count": null,
   "id": "a9828573-454a-4bcb-9d14-719dfeb860af",
   "metadata": {},
   "outputs": [],
   "source": [
    "spain_map = gpd.read_file(\"../data/maps/spain_map.geojson\")"
   ]
  },
  {
   "cell_type": "code",
   "execution_count": null,
   "id": "afd3a2da-b475-4386-8120-f38d77b91782",
   "metadata": {},
   "outputs": [],
   "source": [
    "olive_yield_df = pd.read_csv(\"../data/yearly_olive_data.csv\")"
   ]
  },
  {
   "cell_type": "code",
   "execution_count": null,
   "id": "a902e85a-8494-4d14-b0cf-9b244f2ff811",
   "metadata": {},
   "outputs": [],
   "source": [
    "spei_df = pd.read_csv(\"../data/spei.csv\", parse_dates=[\"date\"])"
   ]
  },
  {
   "cell_type": "code",
   "execution_count": null,
   "id": "9c24f933-7477-4a6e-bac9-d8ac05a03c9a",
   "metadata": {},
   "outputs": [],
   "source": [
    "olive_yield_df.head()"
   ]
  },
  {
   "cell_type": "code",
   "execution_count": null,
   "id": "061c46b1-1cae-4295-8b84-63911cb30d4f",
   "metadata": {},
   "outputs": [],
   "source": [
    "spei_df.head()"
   ]
  },
  {
   "cell_type": "code",
   "execution_count": null,
   "id": "9df4471a-9d8d-4506-88d6-8eb50ea9ef6e",
   "metadata": {},
   "outputs": [],
   "source": [
    "s1 = set(olive_yield_df[\"province\"])"
   ]
  },
  {
   "cell_type": "code",
   "execution_count": null,
   "id": "86d9e90f-9e4e-46e4-b4df-041342f0febe",
   "metadata": {},
   "outputs": [],
   "source": [
    "s2 = set(spei_df[\"province\"])"
   ]
  },
  {
   "cell_type": "code",
   "execution_count": null,
   "id": "987dabda-b9dc-4d0c-b9b7-341f19569e66",
   "metadata": {},
   "outputs": [],
   "source": [
    "s1 - s2"
   ]
  },
  {
   "cell_type": "code",
   "execution_count": null,
   "id": "c7857afb-7b62-442b-831c-f39c7baeaa65",
   "metadata": {},
   "outputs": [],
   "source": [
    "s2 - s1"
   ]
  },
  {
   "cell_type": "code",
   "execution_count": null,
   "id": "90c27fdd-86e0-47b5-95cb-c806b2ce94cc",
   "metadata": {},
   "outputs": [],
   "source": [
    "spei_df = spei_df[spei_df[\"province\"].isin(olive_yield_df[\"province\"])]"
   ]
  },
  {
   "cell_type": "code",
   "execution_count": null,
   "id": "9ef3d348-c33c-49aa-8a1f-1f31de094b0a",
   "metadata": {},
   "outputs": [],
   "source": [
    "spei_df.head()"
   ]
  },
  {
   "cell_type": "code",
   "execution_count": null,
   "id": "36134b05-c67d-472b-b5ef-fca1a201e9fe",
   "metadata": {},
   "outputs": [],
   "source": [
    "olive_yield_df.head()"
   ]
  },
  {
   "cell_type": "code",
   "execution_count": null,
   "id": "6dd54748-8a04-47c3-b8ea-e63a8bfc4a56",
   "metadata": {},
   "outputs": [],
   "source": [
    "start_year = 2000\n",
    "end_year = 2021"
   ]
  },
  {
   "cell_type": "code",
   "execution_count": null,
   "id": "c06bfc24-c809-4979-90d3-baa2d68864e6",
   "metadata": {},
   "outputs": [],
   "source": [
    "olive_yield_df = olive_yield_df[olive_yield_df[\"year\"].between(start_year, end_year)]"
   ]
  },
  {
   "cell_type": "code",
   "execution_count": null,
   "id": "0e2460f0-ac2d-4854-9ea4-8fcaac674403",
   "metadata": {},
   "outputs": [],
   "source": [
    "spei_df = spei_df[spei_df[\"date\"].dt.year.between(start_year, end_year)]"
   ]
  },
  {
   "cell_type": "code",
   "execution_count": null,
   "id": "67c4d329-cead-439e-9433-3845bf776981",
   "metadata": {},
   "outputs": [],
   "source": [
    "olive_yield_df[\"year\"].unique()"
   ]
  },
  {
   "cell_type": "code",
   "execution_count": null,
   "id": "d82b9c87-6248-4539-8242-a195e92cfd75",
   "metadata": {},
   "outputs": [],
   "source": [
    "spei_df[\"date\"].dt.year.unique()"
   ]
  },
  {
   "cell_type": "code",
   "execution_count": null,
   "id": "14267c2e-5a3a-459a-8248-e04bfd33b40a",
   "metadata": {},
   "outputs": [],
   "source": [
    "olive_yield_df.head()"
   ]
  },
  {
   "cell_type": "code",
   "execution_count": null,
   "id": "ed097671-9b9f-4182-9dc3-05b2978e9b29",
   "metadata": {},
   "outputs": [],
   "source": [
    "spei_df.head()"
   ]
  },
  {
   "cell_type": "markdown",
   "id": "6dcb5ea1-8039-44ab-87ed-8c1afc2b6950",
   "metadata": {},
   "source": [
    "# High producing provinces:"
   ]
  },
  {
   "cell_type": "code",
   "execution_count": null,
   "id": "e44372b6-3036-41ca-a019-178bb559f74d",
   "metadata": {},
   "outputs": [],
   "source": [
    "top_5_provinces = (\n",
    "    olive_yield_df.groupby(by=\"province\", as_index=False)\n",
    "    .agg(total=pd.NamedAgg(column=\"total\", aggfunc=\"sum\"))\n",
    "    .sort_values(by=\"total\", ascending=False)\n",
    "    .reset_index()\n",
    "    .loc[:5, \"province\"]\n",
    "    .tolist()\n",
    ")"
   ]
  },
  {
   "cell_type": "code",
   "execution_count": null,
   "id": "6186cbb6-daef-48d4-bcb0-e300441a2543",
   "metadata": {},
   "outputs": [],
   "source": [
    "print(top_5_provinces)"
   ]
  },
  {
   "cell_type": "code",
   "execution_count": null,
   "id": "1b9bf84a-0beb-4c9d-9278-b1fcb978b791",
   "metadata": {},
   "outputs": [],
   "source": [
    "fig = px.line(\n",
    "    data_frame=olive_yield_df[olive_yield_df[\"province\"].isin(top_5_provinces)],\n",
    "    x=\"year\",\n",
    "    y=\"total\",\n",
    "    color=\"province\",\n",
    ")\n",
    "\n",
    "fig.show()"
   ]
  },
  {
   "cell_type": "markdown",
   "id": "8852299d-b00d-44b9-811e-982e057e5563",
   "metadata": {},
   "source": [
    "# Hidden Markov Model"
   ]
  },
  {
   "cell_type": "code",
   "execution_count": null,
   "id": "1dc57535-8c9c-488c-803e-7231639b2f12",
   "metadata": {},
   "outputs": [],
   "source": [
    "spei_df[\"year\"] = spei_df[\"date\"].dt.year\n",
    "spei_df[\"month\"] = spei_df[\"date\"].dt.month"
   ]
  },
  {
   "cell_type": "code",
   "execution_count": null,
   "id": "87e1af9b-aee8-4f4d-89c6-5c9683707d9f",
   "metadata": {},
   "outputs": [],
   "source": [
    "merged_data = (\n",
    "    pd.merge(spei_df, olive_yield_df, on=[\"province\", \"year\"], how=\"left\")\n",
    "    .fillna({\"total\": 0, \"table_olive\": 0, \"olive_oil\": 0})\n",
    "    .drop(\n",
    "        columns=[\n",
    "            \"avg_pet\",\n",
    "            \"avg_precipitation\",\n",
    "            \"water_balance\",\n",
    "            \"year\",\n",
    "            \"month\",\n",
    "            \"table_olive\",\n",
    "            \"olive_oil\",\n",
    "        ]\n",
    "    )\n",
    ")"
   ]
  },
  {
   "cell_type": "code",
   "execution_count": null,
   "id": "6c8481fd-8c00-491d-b0ba-f79f84b5cd1e",
   "metadata": {},
   "outputs": [],
   "source": [
    "merged_data.head()"
   ]
  },
  {
   "cell_type": "code",
   "execution_count": null,
   "id": "26ded4eb-b5b9-46f8-8f93-482375bf4b74",
   "metadata": {},
   "outputs": [],
   "source": [
    "scaler_spei = StandardScaler()\n",
    "scaler_yield = StandardScaler()"
   ]
  },
  {
   "cell_type": "code",
   "execution_count": null,
   "id": "12e5dede-0d54-4a50-a691-82453f359fba",
   "metadata": {},
   "outputs": [],
   "source": [
    "merged_data[\"spei_scaled\"] = scaler_spei.fit_transform(merged_data[[\"spei\"]])"
   ]
  },
  {
   "cell_type": "code",
   "execution_count": null,
   "id": "c3bc09b9-1782-4660-92cd-82b3557b40a3",
   "metadata": {},
   "outputs": [],
   "source": [
    "merged_data[\"yield_scaled\"] = scaler_yield.fit_transform(merged_data[[\"total\"]])"
   ]
  },
  {
   "cell_type": "code",
   "execution_count": null,
   "id": "13a1ecac-afe8-4eed-af22-bdba6c31e0d0",
   "metadata": {},
   "outputs": [],
   "source": [
    "merged_data.head()"
   ]
  },
  {
   "cell_type": "code",
   "execution_count": null,
   "id": "5eb6fa29-ac45-4974-bc6d-0fb679e2991d",
   "metadata": {},
   "outputs": [],
   "source": [
    "merged_data.shape"
   ]
  },
  {
   "cell_type": "markdown",
   "id": "84278ce6-b900-4df7-9ee0-308b2694525e",
   "metadata": {},
   "source": [
    "Number of years * number of months * number of provinces: `22 * 12 * 50 = 13200`"
   ]
  },
  {
   "cell_type": "code",
   "execution_count": null,
   "id": "b3899507-6048-4e6f-a45e-4e23ecd2f7df",
   "metadata": {},
   "outputs": [],
   "source": [
    "state_labels = [\"Low Drought Impact\", \"Medium Drought Impact\", \"High Drought Impact\"]\n",
    "n_states = len(state_labels)"
   ]
  },
  {
   "cell_type": "code",
   "execution_count": null,
   "id": "19501ace-7bf5-4e39-936b-8ac748be0a56",
   "metadata": {},
   "outputs": [],
   "source": [
    "observations = {}\n",
    "for province in merged_data[\"province\"].unique():\n",
    "    province_data = merged_data[merged_data[\"province\"] == province]\n",
    "    X = province_data[[\"spei_scaled\", \"yield_scaled\"]].values\n",
    "    observations[province] = X"
   ]
  },
  {
   "cell_type": "code",
   "execution_count": null,
   "id": "f040afe7-c284-4f03-84a0-152de831893e",
   "metadata": {},
   "outputs": [],
   "source": [
    "models = {}\n",
    "for province, X in observations.items():\n",
    "    model = hmm.GaussianHMM(\n",
    "        n_components=n_states, covariance_type=\"full\", n_iter=100000, random_state=42\n",
    "    )\n",
    "    model.fit(X)\n",
    "    models[province] = model\n",
    "\n",
    "    # Predict the hidden states\n",
    "    hidden_states = model.predict(X)\n",
    "    merged_data.loc[merged_data[\"province\"] == province, \"hidden_state\"] = hidden_states"
   ]
  },
  {
   "cell_type": "code",
   "execution_count": null,
   "id": "b36b5906-9afc-4d39-92e5-2ee799f88ced",
   "metadata": {},
   "outputs": [],
   "source": [
    "state_mapping = {i: label for i, label in enumerate(state_labels)}\n",
    "merged_data[\"state_label\"] = merged_data[\"hidden_state\"].map(state_mapping)"
   ]
  },
  {
   "cell_type": "code",
   "execution_count": null,
   "id": "7ffd76df-7eac-4d9c-be53-3eeb56273a6c",
   "metadata": {},
   "outputs": [],
   "source": [
    "merged_data.head()"
   ]
  },
  {
   "cell_type": "code",
   "execution_count": null,
   "id": "3787e68c-024c-4d6f-bc6e-384557b27fa3",
   "metadata": {},
   "outputs": [],
   "source": [
    "province_drought_impact_df = merged_data.groupby(by=\"province\", as_index=False).agg(\n",
    "    drought_impact=pd.NamedAgg(column=\"state_label\", aggfunc=\"first\")\n",
    ")"
   ]
  },
  {
   "cell_type": "code",
   "execution_count": null,
   "id": "20ce2e96-1a10-423e-8d02-fe2d4955288e",
   "metadata": {},
   "outputs": [],
   "source": [
    "drought_colors_mapping = {\n",
    "    \"Low Drought Impact\": \"green\",\n",
    "    \"Medium Drought Impact\": \"yellow\",\n",
    "    \"High Drought Impact\": \"red\",\n",
    "}"
   ]
  },
  {
   "cell_type": "code",
   "execution_count": null,
   "id": "f3e44538-90ac-4041-b8e7-e219df49b239",
   "metadata": {},
   "outputs": [],
   "source": [
    "drought_impact_map = spain_map.merge(\n",
    "    right=province_drought_impact_df, on=\"province\"\n",
    ").pipe(\n",
    "    lambda df_: df_.assign(\n",
    "        drought_color=df_[\"drought_impact\"].map(drought_colors_mapping)\n",
    "    )\n",
    ")"
   ]
  },
  {
   "cell_type": "code",
   "execution_count": null,
   "id": "69b6e430-482e-4c84-8877-cd57998daead",
   "metadata": {},
   "outputs": [],
   "source": [
    "avg_spei_map = spain_map.merge(\n",
    "    right=merged_data.groupby(by=\"province\", as_index=False).agg(\n",
    "        avg_spei=pd.NamedAgg(column=\"spei\", aggfunc=\"mean\")\n",
    "    ),\n",
    "    on=\"province\",\n",
    ")"
   ]
  },
  {
   "cell_type": "code",
   "execution_count": null,
   "id": "3ff712cc-dd91-440d-a3bc-dbf47d83a31d",
   "metadata": {},
   "outputs": [],
   "source": [
    "avg_yield_map = spain_map.merge(\n",
    "    right=olive_yield_df.groupby(by=\"province\", as_index=False).agg(\n",
    "        avg_total=pd.NamedAgg(column=\"total\", aggfunc=\"mean\")\n",
    "    ),\n",
    "    on=\"province\",\n",
    ")"
   ]
  },
  {
   "cell_type": "code",
   "execution_count": null,
   "id": "700c8b0b-26d7-49e9-b2ea-fe6d205b968c",
   "metadata": {},
   "outputs": [],
   "source": [
    "map1 = drought_impact_map.explore(\n",
    "    color=\"drought_color\", style_kwds={\"stroke\": False}, height=400, width=400\n",
    ")\n",
    "map2 = avg_spei_map.explore(column=\"avg_spei\", height=400, width=400)\n",
    "map3 = avg_yield_map.explore(column=\"avg_total\", height=400, width=400)"
   ]
  },
  {
   "cell_type": "code",
   "execution_count": null,
   "id": "d4635b57-8fea-4c2e-9a32-40dc5ed68616",
   "metadata": {},
   "outputs": [],
   "source": [
    "html_string = \"\"\"\n",
    "<div style=\"display: flex; justify-content: space-between;\">\n",
    "    <div style=\"width: 33%;\">{}</div>\n",
    "    <div style=\"width: 33%;\">{}</div>\n",
    "    <div style=\"width: 33%;\">{}</div>\n",
    "</div>\n",
    "\"\"\".format(\n",
    "    map1._repr_html_(), map2._repr_html_(), map3._repr_html_()\n",
    ")"
   ]
  },
  {
   "cell_type": "code",
   "execution_count": null,
   "id": "ed8fbf9a-45c3-4406-804f-b50abf3fef6a",
   "metadata": {
    "scrolled": true
   },
   "outputs": [],
   "source": [
    "display(HTML(html_string))"
   ]
  },
  {
   "cell_type": "code",
   "execution_count": null,
   "id": "602d3940-49cd-4470-9bf5-9937307219a2",
   "metadata": {},
   "outputs": [],
   "source": []
  }
 ],
 "metadata": {
  "kernelspec": {
   "display_name": "Python (cs913-dissertation-project)",
   "language": "python",
   "name": "cs913-dissertation-project"
  },
  "language_info": {
   "codemirror_mode": {
    "name": "ipython",
    "version": 3
   },
   "file_extension": ".py",
   "mimetype": "text/x-python",
   "name": "python",
   "nbconvert_exporter": "python",
   "pygments_lexer": "ipython3",
   "version": "3.10.0"
  }
 },
 "nbformat": 4,
 "nbformat_minor": 5
}
