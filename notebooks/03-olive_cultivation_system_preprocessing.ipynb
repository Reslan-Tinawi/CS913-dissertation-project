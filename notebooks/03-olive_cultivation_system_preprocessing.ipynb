{
 "cells": [
  {
   "cell_type": "markdown",
   "id": "86d1f326-e2ca-4da7-9af0-201acc5440b1",
   "metadata": {},
   "source": [
    "# Import packages:"
   ]
  },
  {
   "cell_type": "code",
   "execution_count": 1,
   "id": "156e324c-de18-44b9-acc5-9f6c381eeec4",
   "metadata": {
    "execution": {
     "iopub.execute_input": "2024-08-16T20:25:47.046257Z",
     "iopub.status.busy": "2024-08-16T20:25:47.045730Z",
     "iopub.status.idle": "2024-08-16T20:25:47.612824Z",
     "shell.execute_reply": "2024-08-16T20:25:47.612824Z",
     "shell.execute_reply.started": "2024-08-16T20:25:47.046257Z"
    }
   },
   "outputs": [],
   "source": [
    "from pathlib import Path\n",
    "\n",
    "import geopandas as gpd\n",
    "import numpy as np\n",
    "import pandas as pd"
   ]
  },
  {
   "cell_type": "markdown",
   "id": "db7fbeac-9b5f-4585-bb36-4dfe7360b969",
   "metadata": {},
   "source": [
    "# Load data:"
   ]
  },
  {
   "cell_type": "markdown",
   "id": "c2282481-da1c-4f2f-ad0c-f596a1ecfdea",
   "metadata": {},
   "source": [
    "This dictionary contains mapping of province names from the files downloaded from the Spanish Ministry of Agriculture to the corresponding names in the Spain map."
   ]
  },
  {
   "cell_type": "code",
   "execution_count": 2,
   "id": "8c61a265-801c-43bd-a589-557fc234f02a",
   "metadata": {
    "execution": {
     "iopub.execute_input": "2024-08-16T20:26:29.844454Z",
     "iopub.status.busy": "2024-08-16T20:26:29.844454Z",
     "iopub.status.idle": "2024-08-16T20:26:29.851042Z",
     "shell.execute_reply": "2024-08-16T20:26:29.851042Z",
     "shell.execute_reply.started": "2024-08-16T20:26:29.844454Z"
    }
   },
   "outputs": [],
   "source": [
    "province_name_mapping = {\n",
    "    \"Alava\": \"Araba/Álava\",\n",
    "    \"Álava\": \"Araba/Álava\",\n",
    "    \"PAÍS VASCO\": \"País Vasco/Euskadi\",\n",
    "    \"PAIS VASCO\": \"País Vasco/Euskadi\",\n",
    "    \"NAVARRA\": \"Navarra\",\n",
    "    \"LA RIOJA\": \"La Rioja\",\n",
    "    \"ARAGÓN\": \"Aragón\",\n",
    "    \"ARAGON\": \"Aragón\",\n",
    "    \"CATALUÑA\": \"Cataluña/Catalunya\",\n",
    "    \"BALEARES\": \"Illes Balears\",\n",
    "    \"Avila\": \"Ávila\",\n",
    "    \"CASTILLA Y LEÓN\": \"Castilla y León\",\n",
    "    \"CASTILLA Y LEON\": \"Castilla y León\",\n",
    "    \"MADRID\": \"Madrid\",\n",
    "    \"CASTILLA-LA MANCHA\": \"Castilla-La Mancha\",\n",
    "    \"C. VALENCIANA\": \"Comunitat Valenciana\",\n",
    "    \"R. DE MURCIA\": \"Murcia\",\n",
    "    \"EXTREMADURA\": \"Extremadura\",\n",
    "    \"ANDALUCÍA\": \"Andalucía\",\n",
    "    \"ANDALUCIA\": \"Andalucía\",\n",
    "    \"CANARIAS\": \"Canarias\",\n",
    "    \"Guipúzcoa\": \"Gipuzkoa\",\n",
    "    \"GALICIA\": \"Galicia\",\n",
    "    \"P. DE ASTURIAS\": \"Asturias\",\n",
    "    \"CANTABRIA\": \"Cantabria\",\n",
    "    \"Vizcaya\": \"Bizkaia\",\n",
    "    \"S.C. de Tenerife\": \"Santa Cruz de Tenerife\",\n",
    "    \"Alicante\": \"Alacant/Alicante\",\n",
    "    \"Castellón\": \"Castelló/Castellón\",\n",
    "    \"Valencia\": \"València/Valencia\",\n",
    "}"
   ]
  },
  {
   "cell_type": "code",
   "execution_count": 3,
   "id": "f5177660-0bf7-44f1-bb59-fab4e2ea3f30",
   "metadata": {
    "execution": {
     "iopub.execute_input": "2024-08-16T20:26:38.990778Z",
     "iopub.status.busy": "2024-08-16T20:26:38.990778Z",
     "iopub.status.idle": "2024-08-16T20:26:38.994295Z",
     "shell.execute_reply": "2024-08-16T20:26:38.994295Z",
     "shell.execute_reply.started": "2024-08-16T20:26:38.990778Z"
    }
   },
   "outputs": [],
   "source": [
    "def normalize_province_name(input_province_name: str) -> str:\n",
    "    if input_province_name in province_name_mapping.keys():\n",
    "        return province_name_mapping.get(input_province_name)\n",
    "    return input_province_name"
   ]
  },
  {
   "cell_type": "code",
   "execution_count": 4,
   "id": "b1258a95-cb9c-4191-a5ad-17056bb8032c",
   "metadata": {
    "execution": {
     "iopub.execute_input": "2024-08-16T20:27:19.800683Z",
     "iopub.status.busy": "2024-08-16T20:27:19.800683Z",
     "iopub.status.idle": "2024-08-16T20:27:19.808081Z",
     "shell.execute_reply": "2024-08-16T20:27:19.808081Z",
     "shell.execute_reply.started": "2024-08-16T20:27:19.800683Z"
    }
   },
   "outputs": [],
   "source": [
    "def read_excel_file(file_path):\n",
    "    df = pd.read_excel(file_path, skiprows=8, na_values=\"–\", header=None)\n",
    "\n",
    "    # change column names\n",
    "    df.columns = [\n",
    "        \"province\",\n",
    "        \"rainfed_plantation_area\",\n",
    "        \"irrigated_plantation_area\",\n",
    "        \"total_plantation_area\",\n",
    "        \"rainfed_production_area\",\n",
    "        \"irrigated_production_area\",\n",
    "        \"n_scattered_trees\",\n",
    "        \"rainfed_yield\",\n",
    "        \"irrigated_yield\",\n",
    "        \"scattered_trees_yield\",\n",
    "        \"total_production\",\n",
    "    ]\n",
    "\n",
    "    numeric_columns = [\n",
    "        \"rainfed_plantation_area\",\n",
    "        \"irrigated_plantation_area\",\n",
    "        \"total_plantation_area\",\n",
    "        \"rainfed_production_area\",\n",
    "        \"irrigated_production_area\",\n",
    "        \"n_scattered_trees\",\n",
    "        \"rainfed_yield\",\n",
    "        \"irrigated_yield\",\n",
    "        \"scattered_trees_yield\",\n",
    "        \"total_production\",\n",
    "    ]\n",
    "\n",
    "    # add year column\n",
    "    crop_type, year = file_path.stem.split(\"_\")\n",
    "    df[\"crop_type\"] = crop_type\n",
    "    df[\"year\"] = int(year)\n",
    "\n",
    "    # normalize values in province column\n",
    "    df[\"province\"] = df[\"province\"].str.strip().apply(normalize_province_name)\n",
    "\n",
    "    # fill NA values in numeric columns with zero\n",
    "    df[numeric_columns] = df[numeric_columns].fillna(0.0)\n",
    "\n",
    "    # drop empty rows\n",
    "    df = df.dropna()\n",
    "\n",
    "    # fix dtype\n",
    "    df = df.astype(\n",
    "        {\n",
    "            \"province\": \"string[pyarrow]\",\n",
    "            \"rainfed_plantation_area\": \"float32\",\n",
    "            \"irrigated_plantation_area\": \"float32\",\n",
    "            \"total_plantation_area\": \"float32\",\n",
    "            \"rainfed_production_area\": \"float32\",\n",
    "            \"irrigated_production_area\": \"float32\",\n",
    "            \"n_scattered_trees\": \"float32\",\n",
    "            \"rainfed_yield\": \"float32\",\n",
    "            \"irrigated_yield\": \"float32\",\n",
    "            \"scattered_trees_yield\": \"float32\",\n",
    "            \"total_production\": \"float32\",\n",
    "            \"crop_type\": \"string[pyarrow]\",\n",
    "            \"year\": \"int\",\n",
    "        }\n",
    "    )\n",
    "\n",
    "    return df"
   ]
  },
  {
   "cell_type": "code",
   "execution_count": 5,
   "id": "5852469e-0665-4723-acb1-8bd108aae3c6",
   "metadata": {
    "execution": {
     "iopub.execute_input": "2024-08-16T20:28:33.851041Z",
     "iopub.status.busy": "2024-08-16T20:28:33.851041Z",
     "iopub.status.idle": "2024-08-16T20:28:33.856916Z",
     "shell.execute_reply": "2024-08-16T20:28:33.856916Z",
     "shell.execute_reply.started": "2024-08-16T20:28:33.851041Z"
    }
   },
   "outputs": [],
   "source": [
    "olive_cultivation_system_path = Path(\"../data/raw/olive_cultivation_system/\")"
   ]
  },
  {
   "cell_type": "code",
   "execution_count": 7,
   "id": "80fea467-9369-43fa-9f6c-cb3897691198",
   "metadata": {
    "execution": {
     "iopub.execute_input": "2024-08-16T20:29:14.685769Z",
     "iopub.status.busy": "2024-08-16T20:29:14.680740Z",
     "iopub.status.idle": "2024-08-16T20:29:16.195782Z",
     "shell.execute_reply": "2024-08-16T20:29:16.195782Z",
     "shell.execute_reply.started": "2024-08-16T20:29:14.685769Z"
    }
   },
   "outputs": [],
   "source": [
    "df_list = []\n",
    "\n",
    "for file_path in olive_cultivation_system_path.iterdir():\n",
    "    df = read_excel_file(file_path)\n",
    "    df_list.append(df)"
   ]
  },
  {
   "cell_type": "code",
   "execution_count": 9,
   "id": "4efbe094-989a-49cd-81aa-e17f5fe02aa4",
   "metadata": {
    "execution": {
     "iopub.execute_input": "2024-08-16T20:29:27.685178Z",
     "iopub.status.busy": "2024-08-16T20:29:27.684575Z",
     "iopub.status.idle": "2024-08-16T20:29:27.690429Z",
     "shell.execute_reply": "2024-08-16T20:29:27.689890Z",
     "shell.execute_reply.started": "2024-08-16T20:29:27.685178Z"
    }
   },
   "outputs": [
    {
     "data": {
      "text/plain": [
       "50"
      ]
     },
     "execution_count": 9,
     "metadata": {},
     "output_type": "execute_result"
    }
   ],
   "source": [
    "len(df_list)"
   ]
  },
  {
   "cell_type": "code",
   "execution_count": 10,
   "id": "2b9ee813-f721-46ab-ad72-c675398b2faf",
   "metadata": {
    "execution": {
     "iopub.execute_input": "2024-08-16T20:29:48.591952Z",
     "iopub.status.busy": "2024-08-16T20:29:48.591952Z",
     "iopub.status.idle": "2024-08-16T20:29:48.609064Z",
     "shell.execute_reply": "2024-08-16T20:29:48.609064Z",
     "shell.execute_reply.started": "2024-08-16T20:29:48.591952Z"
    }
   },
   "outputs": [],
   "source": [
    "olive_cultivation_system_data = pd.concat(df_list, ignore_index=True)"
   ]
  },
  {
   "cell_type": "code",
   "execution_count": 11,
   "id": "078bbc32-cf2e-4e13-bcd9-7e85c14bec3c",
   "metadata": {
    "execution": {
     "iopub.execute_input": "2024-08-16T20:29:58.164887Z",
     "iopub.status.busy": "2024-08-16T20:29:58.164887Z",
     "iopub.status.idle": "2024-08-16T20:29:58.183453Z",
     "shell.execute_reply": "2024-08-16T20:29:58.183453Z",
     "shell.execute_reply.started": "2024-08-16T20:29:58.164887Z"
    }
   },
   "outputs": [
    {
     "data": {
      "text/html": [
       "<div>\n",
       "<style scoped>\n",
       "    .dataframe tbody tr th:only-of-type {\n",
       "        vertical-align: middle;\n",
       "    }\n",
       "\n",
       "    .dataframe tbody tr th {\n",
       "        vertical-align: top;\n",
       "    }\n",
       "\n",
       "    .dataframe thead th {\n",
       "        text-align: right;\n",
       "    }\n",
       "</style>\n",
       "<table border=\"1\" class=\"dataframe\">\n",
       "  <thead>\n",
       "    <tr style=\"text-align: right;\">\n",
       "      <th></th>\n",
       "      <th>province</th>\n",
       "      <th>rainfed_plantation_area</th>\n",
       "      <th>irrigated_plantation_area</th>\n",
       "      <th>total_plantation_area</th>\n",
       "      <th>rainfed_production_area</th>\n",
       "      <th>irrigated_production_area</th>\n",
       "      <th>n_scattered_trees</th>\n",
       "      <th>rainfed_yield</th>\n",
       "      <th>irrigated_yield</th>\n",
       "      <th>scattered_trees_yield</th>\n",
       "      <th>total_production</th>\n",
       "      <th>crop_type</th>\n",
       "      <th>year</th>\n",
       "    </tr>\n",
       "  </thead>\n",
       "  <tbody>\n",
       "    <tr>\n",
       "      <th>0</th>\n",
       "      <td>Araba/Álava</td>\n",
       "      <td>92.0</td>\n",
       "      <td>0.0</td>\n",
       "      <td>92.0</td>\n",
       "      <td>87.0</td>\n",
       "      <td>0.0</td>\n",
       "      <td>0.0</td>\n",
       "      <td>2356.0</td>\n",
       "      <td>0.0</td>\n",
       "      <td>0.0</td>\n",
       "      <td>205.0</td>\n",
       "      <td>oil</td>\n",
       "      <td>1998</td>\n",
       "    </tr>\n",
       "    <tr>\n",
       "      <th>1</th>\n",
       "      <td>País Vasco/Euskadi</td>\n",
       "      <td>92.0</td>\n",
       "      <td>0.0</td>\n",
       "      <td>92.0</td>\n",
       "      <td>87.0</td>\n",
       "      <td>0.0</td>\n",
       "      <td>0.0</td>\n",
       "      <td>2356.0</td>\n",
       "      <td>0.0</td>\n",
       "      <td>0.0</td>\n",
       "      <td>205.0</td>\n",
       "      <td>oil</td>\n",
       "      <td>1998</td>\n",
       "    </tr>\n",
       "    <tr>\n",
       "      <th>2</th>\n",
       "      <td>Navarra</td>\n",
       "      <td>1635.0</td>\n",
       "      <td>1159.0</td>\n",
       "      <td>2794.0</td>\n",
       "      <td>1594.0</td>\n",
       "      <td>944.0</td>\n",
       "      <td>78.0</td>\n",
       "      <td>2476.0</td>\n",
       "      <td>3067.0</td>\n",
       "      <td>13.0</td>\n",
       "      <td>6843.0</td>\n",
       "      <td>oil</td>\n",
       "      <td>1998</td>\n",
       "    </tr>\n",
       "    <tr>\n",
       "      <th>3</th>\n",
       "      <td>La Rioja</td>\n",
       "      <td>2197.0</td>\n",
       "      <td>494.0</td>\n",
       "      <td>2691.0</td>\n",
       "      <td>1862.0</td>\n",
       "      <td>346.0</td>\n",
       "      <td>2268.0</td>\n",
       "      <td>1276.0</td>\n",
       "      <td>1396.0</td>\n",
       "      <td>4.0</td>\n",
       "      <td>2868.0</td>\n",
       "      <td>oil</td>\n",
       "      <td>1998</td>\n",
       "    </tr>\n",
       "    <tr>\n",
       "      <th>4</th>\n",
       "      <td>Huesca</td>\n",
       "      <td>8442.0</td>\n",
       "      <td>2022.0</td>\n",
       "      <td>10464.0</td>\n",
       "      <td>8442.0</td>\n",
       "      <td>2022.0</td>\n",
       "      <td>24200.0</td>\n",
       "      <td>430.0</td>\n",
       "      <td>1037.0</td>\n",
       "      <td>0.0</td>\n",
       "      <td>5727.0</td>\n",
       "      <td>oil</td>\n",
       "      <td>1998</td>\n",
       "    </tr>\n",
       "  </tbody>\n",
       "</table>\n",
       "</div>"
      ],
      "text/plain": [
       "             province  rainfed_plantation_area  irrigated_plantation_area  \\\n",
       "0         Araba/Álava                     92.0                        0.0   \n",
       "1  País Vasco/Euskadi                     92.0                        0.0   \n",
       "2             Navarra                   1635.0                     1159.0   \n",
       "3            La Rioja                   2197.0                      494.0   \n",
       "4              Huesca                   8442.0                     2022.0   \n",
       "\n",
       "   total_plantation_area  rainfed_production_area  irrigated_production_area  \\\n",
       "0                   92.0                     87.0                        0.0   \n",
       "1                   92.0                     87.0                        0.0   \n",
       "2                 2794.0                   1594.0                      944.0   \n",
       "3                 2691.0                   1862.0                      346.0   \n",
       "4                10464.0                   8442.0                     2022.0   \n",
       "\n",
       "   n_scattered_trees  rainfed_yield  irrigated_yield  scattered_trees_yield  \\\n",
       "0                0.0         2356.0              0.0                    0.0   \n",
       "1                0.0         2356.0              0.0                    0.0   \n",
       "2               78.0         2476.0           3067.0                   13.0   \n",
       "3             2268.0         1276.0           1396.0                    4.0   \n",
       "4            24200.0          430.0           1037.0                    0.0   \n",
       "\n",
       "   total_production crop_type  year  \n",
       "0             205.0       oil  1998  \n",
       "1             205.0       oil  1998  \n",
       "2            6843.0       oil  1998  \n",
       "3            2868.0       oil  1998  \n",
       "4            5727.0       oil  1998  "
      ]
     },
     "execution_count": 11,
     "metadata": {},
     "output_type": "execute_result"
    }
   ],
   "source": [
    "olive_cultivation_system_data.head()"
   ]
  },
  {
   "cell_type": "code",
   "execution_count": 12,
   "id": "4dcce996-a94b-4686-bc80-836b25dd514c",
   "metadata": {
    "execution": {
     "iopub.execute_input": "2024-08-16T20:30:10.950791Z",
     "iopub.status.busy": "2024-08-16T20:30:10.950791Z",
     "iopub.status.idle": "2024-08-16T20:30:10.957149Z",
     "shell.execute_reply": "2024-08-16T20:30:10.957149Z",
     "shell.execute_reply.started": "2024-08-16T20:30:10.950791Z"
    }
   },
   "outputs": [
    {
     "data": {
      "text/plain": [
       "(2254, 13)"
      ]
     },
     "execution_count": 12,
     "metadata": {},
     "output_type": "execute_result"
    }
   ],
   "source": [
    "olive_cultivation_system_data.shape"
   ]
  },
  {
   "cell_type": "code",
   "execution_count": 13,
   "id": "3d5fa92f-8baf-46ff-b076-b43d28029b86",
   "metadata": {
    "execution": {
     "iopub.execute_input": "2024-08-16T20:30:22.070784Z",
     "iopub.status.busy": "2024-08-16T20:30:22.070784Z",
     "iopub.status.idle": "2024-08-16T20:30:22.079370Z",
     "shell.execute_reply": "2024-08-16T20:30:22.079370Z",
     "shell.execute_reply.started": "2024-08-16T20:30:22.070784Z"
    }
   },
   "outputs": [
    {
     "data": {
      "text/plain": [
       "province                     string[pyarrow]\n",
       "rainfed_plantation_area              float32\n",
       "irrigated_plantation_area            float32\n",
       "total_plantation_area                float32\n",
       "rainfed_production_area              float32\n",
       "irrigated_production_area            float32\n",
       "n_scattered_trees                    float32\n",
       "rainfed_yield                        float32\n",
       "irrigated_yield                      float32\n",
       "scattered_trees_yield                float32\n",
       "total_production                     float32\n",
       "crop_type                    string[pyarrow]\n",
       "year                                   int32\n",
       "dtype: object"
      ]
     },
     "execution_count": 13,
     "metadata": {},
     "output_type": "execute_result"
    }
   ],
   "source": [
    "olive_cultivation_system_data.dtypes"
   ]
  },
  {
   "cell_type": "markdown",
   "id": "56dbe4ee-d00b-4a38-8d97-20c74ddfe669",
   "metadata": {},
   "source": [
    "# Validate province mapping"
   ]
  },
  {
   "cell_type": "code",
   "execution_count": 15,
   "id": "8c002b32-2e6b-487a-b9c1-4b463ba006d9",
   "metadata": {
    "execution": {
     "iopub.execute_input": "2024-08-16T20:31:12.030914Z",
     "iopub.status.busy": "2024-08-16T20:31:12.030914Z",
     "iopub.status.idle": "2024-08-16T20:31:12.036879Z",
     "shell.execute_reply": "2024-08-16T20:31:12.036879Z",
     "shell.execute_reply.started": "2024-08-16T20:31:12.030914Z"
    }
   },
   "outputs": [],
   "source": [
    "spain_map_path = Path(\"../data/processed/maps/\")"
   ]
  },
  {
   "cell_type": "code",
   "execution_count": 16,
   "id": "573ba149-1194-4299-8d2f-a5df769e9c8b",
   "metadata": {
    "execution": {
     "iopub.execute_input": "2024-08-16T20:31:21.090899Z",
     "iopub.status.busy": "2024-08-16T20:31:21.090899Z",
     "iopub.status.idle": "2024-08-16T20:31:21.191001Z",
     "shell.execute_reply": "2024-08-16T20:31:21.189974Z",
     "shell.execute_reply.started": "2024-08-16T20:31:21.090899Z"
    }
   },
   "outputs": [],
   "source": [
    "spain_map = gpd.read_file(spain_map_path)"
   ]
  },
  {
   "cell_type": "code",
   "execution_count": 19,
   "id": "db313d03-c008-44d8-812a-6f136646d31b",
   "metadata": {
    "execution": {
     "iopub.execute_input": "2024-08-16T20:32:01.850782Z",
     "iopub.status.busy": "2024-08-16T20:32:01.850782Z",
     "iopub.status.idle": "2024-08-16T20:32:01.900871Z",
     "shell.execute_reply": "2024-08-16T20:32:01.900871Z",
     "shell.execute_reply.started": "2024-08-16T20:32:01.850782Z"
    }
   },
   "outputs": [
    {
     "data": {
      "text/html": [
       "<div>\n",
       "<style scoped>\n",
       "    .dataframe tbody tr th:only-of-type {\n",
       "        vertical-align: middle;\n",
       "    }\n",
       "\n",
       "    .dataframe tbody tr th {\n",
       "        vertical-align: top;\n",
       "    }\n",
       "\n",
       "    .dataframe thead th {\n",
       "        text-align: right;\n",
       "    }\n",
       "</style>\n",
       "<table border=\"1\" class=\"dataframe\">\n",
       "  <thead>\n",
       "    <tr style=\"text-align: right;\">\n",
       "      <th></th>\n",
       "      <th>community</th>\n",
       "      <th>province</th>\n",
       "      <th>geometry</th>\n",
       "    </tr>\n",
       "  </thead>\n",
       "  <tbody>\n",
       "    <tr>\n",
       "      <th>0</th>\n",
       "      <td>País Vasco/Euskadi</td>\n",
       "      <td>Araba/Álava</td>\n",
       "      <td>POLYGON ((-2.76808 42.61408, -2.76863 42.61334...</td>\n",
       "    </tr>\n",
       "    <tr>\n",
       "      <th>1</th>\n",
       "      <td>Castilla-La Mancha</td>\n",
       "      <td>Albacete</td>\n",
       "      <td>POLYGON ((-2.55212 38.08501, -2.55207 38.08517...</td>\n",
       "    </tr>\n",
       "    <tr>\n",
       "      <th>2</th>\n",
       "      <td>Comunitat Valenciana</td>\n",
       "      <td>Alacant/Alicante</td>\n",
       "      <td>MULTIPOLYGON (((-0.75223 37.88691, -0.75225 37...</td>\n",
       "    </tr>\n",
       "    <tr>\n",
       "      <th>3</th>\n",
       "      <td>Andalucía</td>\n",
       "      <td>Almería</td>\n",
       "      <td>MULTIPOLYGON (((-3.03624 35.93791, -3.03637 35...</td>\n",
       "    </tr>\n",
       "    <tr>\n",
       "      <th>4</th>\n",
       "      <td>Castilla y León</td>\n",
       "      <td>Ávila</td>\n",
       "      <td>POLYGON ((-5.43382 40.24491, -5.4343 40.24276,...</td>\n",
       "    </tr>\n",
       "  </tbody>\n",
       "</table>\n",
       "</div>"
      ],
      "text/plain": [
       "              community          province  \\\n",
       "0    País Vasco/Euskadi       Araba/Álava   \n",
       "1    Castilla-La Mancha          Albacete   \n",
       "2  Comunitat Valenciana  Alacant/Alicante   \n",
       "3             Andalucía           Almería   \n",
       "4       Castilla y León             Ávila   \n",
       "\n",
       "                                            geometry  \n",
       "0  POLYGON ((-2.76808 42.61408, -2.76863 42.61334...  \n",
       "1  POLYGON ((-2.55212 38.08501, -2.55207 38.08517...  \n",
       "2  MULTIPOLYGON (((-0.75223 37.88691, -0.75225 37...  \n",
       "3  MULTIPOLYGON (((-3.03624 35.93791, -3.03637 35...  \n",
       "4  POLYGON ((-5.43382 40.24491, -5.4343 40.24276,...  "
      ]
     },
     "execution_count": 19,
     "metadata": {},
     "output_type": "execute_result"
    }
   ],
   "source": [
    "spain_map.head()"
   ]
  },
  {
   "cell_type": "code",
   "execution_count": 20,
   "id": "15b086ca-2f44-4b61-9de2-ef0c0705c78b",
   "metadata": {
    "execution": {
     "iopub.execute_input": "2024-08-16T20:36:03.210998Z",
     "iopub.status.busy": "2024-08-16T20:36:03.210998Z",
     "iopub.status.idle": "2024-08-16T20:36:03.218732Z",
     "shell.execute_reply": "2024-08-16T20:36:03.218732Z",
     "shell.execute_reply.started": "2024-08-16T20:36:03.210998Z"
    }
   },
   "outputs": [],
   "source": [
    "def is_province(province_name: str) -> bool:\n",
    "    return any(spain_map[\"province\"] == province_name) or any(\n",
    "        spain_map[\"community\"] == province_name\n",
    "    )"
   ]
  },
  {
   "cell_type": "code",
   "execution_count": 22,
   "id": "fd40aef1-efb8-450a-9add-9a779f55e05a",
   "metadata": {
    "execution": {
     "iopub.execute_input": "2024-08-16T20:36:16.295571Z",
     "iopub.status.busy": "2024-08-16T20:36:16.295571Z",
     "iopub.status.idle": "2024-08-16T20:36:16.303492Z",
     "shell.execute_reply": "2024-08-16T20:36:16.303492Z",
     "shell.execute_reply.started": "2024-08-16T20:36:16.295571Z"
    }
   },
   "outputs": [],
   "source": [
    "provinces_from_data = olive_cultivation_system_data[\"province\"].unique()"
   ]
  },
  {
   "cell_type": "code",
   "execution_count": 23,
   "id": "326a698c-8ea5-4a9c-a475-3cac9989a81a",
   "metadata": {
    "execution": {
     "iopub.execute_input": "2024-08-16T20:36:22.254239Z",
     "iopub.status.busy": "2024-08-16T20:36:22.254239Z",
     "iopub.status.idle": "2024-08-16T20:36:22.266665Z",
     "shell.execute_reply": "2024-08-16T20:36:22.266665Z",
     "shell.execute_reply.started": "2024-08-16T20:36:22.254239Z"
    }
   },
   "outputs": [
    {
     "name": "stdout",
     "output_type": "stream",
     "text": [
      "ESPAÑA\n",
      "(1) Incluye a ceituna de mesa con destino almazara\n",
      "(1) Incluyendo aceitunas de mesa con destino almazara\n",
      "(1) Incluyendo aceitunas de almazara con destino mesa\n",
      "Ciudades Autónomas (*)\n",
      "(*) Fuente: Censo Agrario, 1999. I.N.E.\n"
     ]
    }
   ],
   "source": [
    "for province in provinces_from_data:\n",
    "    if not is_province(province):\n",
    "        print(f\"{province}\")"
   ]
  },
  {
   "cell_type": "markdown",
   "id": "7665b2d0-02ba-440f-b151-888a2f20c16f",
   "metadata": {},
   "source": [
    "Some rows in the dataset represents aggregations at the community level. We should remove these rows.\n",
    "\n",
    "To do so, for each value in the `province` column we need to know whther it's a province or communtiy."
   ]
  },
  {
   "cell_type": "code",
   "execution_count": 24,
   "id": "e18b1b43-a74a-4912-a954-6f90c1dec55b",
   "metadata": {
    "execution": {
     "iopub.execute_input": "2024-08-16T20:36:59.290823Z",
     "iopub.status.busy": "2024-08-16T20:36:59.290823Z",
     "iopub.status.idle": "2024-08-16T20:36:59.299417Z",
     "shell.execute_reply": "2024-08-16T20:36:59.299417Z",
     "shell.execute_reply.started": "2024-08-16T20:36:59.290823Z"
    }
   },
   "outputs": [],
   "source": [
    "spain_provinces = spain_map[\"province\"].unique()"
   ]
  },
  {
   "cell_type": "code",
   "execution_count": 25,
   "id": "fd02e033-4181-4c50-868b-3614be0eb739",
   "metadata": {
    "execution": {
     "iopub.execute_input": "2024-08-16T20:37:13.955055Z",
     "iopub.status.busy": "2024-08-16T20:37:13.955055Z",
     "iopub.status.idle": "2024-08-16T20:37:13.964239Z",
     "shell.execute_reply": "2024-08-16T20:37:13.964239Z",
     "shell.execute_reply.started": "2024-08-16T20:37:13.955055Z"
    }
   },
   "outputs": [],
   "source": [
    "single_province_communities = (\n",
    "    spain_map[\"community\"].value_counts().pipe(lambda x: x[x == 1]).index\n",
    ").values"
   ]
  },
  {
   "cell_type": "code",
   "execution_count": 26,
   "id": "f663987e-ac7c-4d55-a7ad-ce0b0a3819a2",
   "metadata": {
    "execution": {
     "iopub.execute_input": "2024-08-16T20:37:26.876036Z",
     "iopub.status.busy": "2024-08-16T20:37:26.876036Z",
     "iopub.status.idle": "2024-08-16T20:37:26.884617Z",
     "shell.execute_reply": "2024-08-16T20:37:26.884617Z",
     "shell.execute_reply.started": "2024-08-16T20:37:26.876036Z"
    }
   },
   "outputs": [],
   "source": [
    "provinces_to_keep = np.unique(\n",
    "    np.concatenate((single_province_communities, spain_provinces))\n",
    ")"
   ]
  },
  {
   "cell_type": "code",
   "execution_count": 27,
   "id": "c208c70e-f2d9-446c-af86-7c02a3ef8e84",
   "metadata": {
    "execution": {
     "iopub.execute_input": "2024-08-16T20:37:34.135750Z",
     "iopub.status.busy": "2024-08-16T20:37:34.135750Z",
     "iopub.status.idle": "2024-08-16T20:37:34.143995Z",
     "shell.execute_reply": "2024-08-16T20:37:34.143995Z",
     "shell.execute_reply.started": "2024-08-16T20:37:34.135750Z"
    }
   },
   "outputs": [
    {
     "name": "stdout",
     "output_type": "stream",
     "text": [
      "['A Coruña' 'Alacant/Alicante' 'Albacete' 'Almería' 'Araba/Álava'\n",
      " 'Asturias' 'Badajoz' 'Barcelona' 'Bizkaia' 'Burgos' 'Cantabria'\n",
      " 'Castelló/Castellón' 'Ceuta' 'Ciudad Autónoma de Ceuta'\n",
      " 'Ciudad Autónoma de Melilla' 'Ciudad Real' 'Comunidad Foral de Navarra'\n",
      " 'Comunidad de Madrid' 'Cuenca' 'Cáceres' 'Cádiz' 'Córdoba' 'Gipuzkoa'\n",
      " 'Girona' 'Granada' 'Guadalajara' 'Huelva' 'Huesca' 'Illes Balears' 'Jaén'\n",
      " 'La Rioja' 'Las Palmas' 'León' 'Lleida' 'Lugo' 'Madrid' 'Melilla'\n",
      " 'Murcia' 'Málaga' 'Navarra' 'Ourense' 'Palencia' 'Pontevedra'\n",
      " 'Principado de Asturias' 'Región de Murcia' 'Salamanca'\n",
      " 'Santa Cruz de Tenerife' 'Segovia' 'Sevilla' 'Soria' 'Tarragona' 'Teruel'\n",
      " 'Toledo' 'Valladolid' 'València/Valencia' 'Zamora' 'Zaragoza' 'Ávila']\n"
     ]
    }
   ],
   "source": [
    "print(provinces_to_keep)"
   ]
  },
  {
   "cell_type": "code",
   "execution_count": 28,
   "id": "e60e8da9-851e-4e59-9c39-a52e9771b2bb",
   "metadata": {
    "execution": {
     "iopub.execute_input": "2024-08-16T20:43:15.635055Z",
     "iopub.status.busy": "2024-08-16T20:43:15.634498Z",
     "iopub.status.idle": "2024-08-16T20:43:15.643794Z",
     "shell.execute_reply": "2024-08-16T20:43:15.642684Z",
     "shell.execute_reply.started": "2024-08-16T20:43:15.635055Z"
    }
   },
   "outputs": [],
   "source": [
    "olive_cultivation_system_data = olive_cultivation_system_data[\n",
    "    olive_cultivation_system_data[\"province\"].isin(provinces_to_keep)\n",
    "].reset_index(drop=True)"
   ]
  },
  {
   "cell_type": "code",
   "execution_count": 29,
   "id": "d6a7b69a-c1bf-489d-a287-82c1d1cc177d",
   "metadata": {
    "execution": {
     "iopub.execute_input": "2024-08-16T20:43:39.446649Z",
     "iopub.status.busy": "2024-08-16T20:43:39.446649Z",
     "iopub.status.idle": "2024-08-16T20:43:39.466462Z",
     "shell.execute_reply": "2024-08-16T20:43:39.466462Z",
     "shell.execute_reply.started": "2024-08-16T20:43:39.446649Z"
    }
   },
   "outputs": [
    {
     "data": {
      "text/html": [
       "<div>\n",
       "<style scoped>\n",
       "    .dataframe tbody tr th:only-of-type {\n",
       "        vertical-align: middle;\n",
       "    }\n",
       "\n",
       "    .dataframe tbody tr th {\n",
       "        vertical-align: top;\n",
       "    }\n",
       "\n",
       "    .dataframe thead th {\n",
       "        text-align: right;\n",
       "    }\n",
       "</style>\n",
       "<table border=\"1\" class=\"dataframe\">\n",
       "  <thead>\n",
       "    <tr style=\"text-align: right;\">\n",
       "      <th></th>\n",
       "      <th>province</th>\n",
       "      <th>rainfed_plantation_area</th>\n",
       "      <th>irrigated_plantation_area</th>\n",
       "      <th>total_plantation_area</th>\n",
       "      <th>rainfed_production_area</th>\n",
       "      <th>irrigated_production_area</th>\n",
       "      <th>n_scattered_trees</th>\n",
       "      <th>rainfed_yield</th>\n",
       "      <th>irrigated_yield</th>\n",
       "      <th>scattered_trees_yield</th>\n",
       "      <th>total_production</th>\n",
       "      <th>crop_type</th>\n",
       "      <th>year</th>\n",
       "    </tr>\n",
       "  </thead>\n",
       "  <tbody>\n",
       "    <tr>\n",
       "      <th>0</th>\n",
       "      <td>Araba/Álava</td>\n",
       "      <td>92.0</td>\n",
       "      <td>0.0</td>\n",
       "      <td>92.0</td>\n",
       "      <td>87.0</td>\n",
       "      <td>0.0</td>\n",
       "      <td>0.0</td>\n",
       "      <td>2356.0</td>\n",
       "      <td>0.0</td>\n",
       "      <td>0.0</td>\n",
       "      <td>205.0</td>\n",
       "      <td>oil</td>\n",
       "      <td>1998</td>\n",
       "    </tr>\n",
       "    <tr>\n",
       "      <th>1</th>\n",
       "      <td>Navarra</td>\n",
       "      <td>1635.0</td>\n",
       "      <td>1159.0</td>\n",
       "      <td>2794.0</td>\n",
       "      <td>1594.0</td>\n",
       "      <td>944.0</td>\n",
       "      <td>78.0</td>\n",
       "      <td>2476.0</td>\n",
       "      <td>3067.0</td>\n",
       "      <td>13.0</td>\n",
       "      <td>6843.0</td>\n",
       "      <td>oil</td>\n",
       "      <td>1998</td>\n",
       "    </tr>\n",
       "    <tr>\n",
       "      <th>2</th>\n",
       "      <td>La Rioja</td>\n",
       "      <td>2197.0</td>\n",
       "      <td>494.0</td>\n",
       "      <td>2691.0</td>\n",
       "      <td>1862.0</td>\n",
       "      <td>346.0</td>\n",
       "      <td>2268.0</td>\n",
       "      <td>1276.0</td>\n",
       "      <td>1396.0</td>\n",
       "      <td>4.0</td>\n",
       "      <td>2868.0</td>\n",
       "      <td>oil</td>\n",
       "      <td>1998</td>\n",
       "    </tr>\n",
       "    <tr>\n",
       "      <th>3</th>\n",
       "      <td>Huesca</td>\n",
       "      <td>8442.0</td>\n",
       "      <td>2022.0</td>\n",
       "      <td>10464.0</td>\n",
       "      <td>8442.0</td>\n",
       "      <td>2022.0</td>\n",
       "      <td>24200.0</td>\n",
       "      <td>430.0</td>\n",
       "      <td>1037.0</td>\n",
       "      <td>0.0</td>\n",
       "      <td>5727.0</td>\n",
       "      <td>oil</td>\n",
       "      <td>1998</td>\n",
       "    </tr>\n",
       "    <tr>\n",
       "      <th>4</th>\n",
       "      <td>Teruel</td>\n",
       "      <td>28426.0</td>\n",
       "      <td>1461.0</td>\n",
       "      <td>29887.0</td>\n",
       "      <td>28068.0</td>\n",
       "      <td>1436.0</td>\n",
       "      <td>214.0</td>\n",
       "      <td>490.0</td>\n",
       "      <td>1015.0</td>\n",
       "      <td>10.0</td>\n",
       "      <td>15213.0</td>\n",
       "      <td>oil</td>\n",
       "      <td>1998</td>\n",
       "    </tr>\n",
       "  </tbody>\n",
       "</table>\n",
       "</div>"
      ],
      "text/plain": [
       "      province  rainfed_plantation_area  irrigated_plantation_area  \\\n",
       "0  Araba/Álava                     92.0                        0.0   \n",
       "1      Navarra                   1635.0                     1159.0   \n",
       "2     La Rioja                   2197.0                      494.0   \n",
       "3       Huesca                   8442.0                     2022.0   \n",
       "4       Teruel                  28426.0                     1461.0   \n",
       "\n",
       "   total_plantation_area  rainfed_production_area  irrigated_production_area  \\\n",
       "0                   92.0                     87.0                        0.0   \n",
       "1                 2794.0                   1594.0                      944.0   \n",
       "2                 2691.0                   1862.0                      346.0   \n",
       "3                10464.0                   8442.0                     2022.0   \n",
       "4                29887.0                  28068.0                     1436.0   \n",
       "\n",
       "   n_scattered_trees  rainfed_yield  irrigated_yield  scattered_trees_yield  \\\n",
       "0                0.0         2356.0              0.0                    0.0   \n",
       "1               78.0         2476.0           3067.0                   13.0   \n",
       "2             2268.0         1276.0           1396.0                    4.0   \n",
       "3            24200.0          430.0           1037.0                    0.0   \n",
       "4              214.0          490.0           1015.0                   10.0   \n",
       "\n",
       "   total_production crop_type  year  \n",
       "0             205.0       oil  1998  \n",
       "1            6843.0       oil  1998  \n",
       "2            2868.0       oil  1998  \n",
       "3            5727.0       oil  1998  \n",
       "4           15213.0       oil  1998  "
      ]
     },
     "execution_count": 29,
     "metadata": {},
     "output_type": "execute_result"
    }
   ],
   "source": [
    "olive_cultivation_system_data.head()"
   ]
  },
  {
   "cell_type": "code",
   "execution_count": 32,
   "id": "c6bb8a31-d8d2-4bed-82c9-6da53e2edc25",
   "metadata": {
    "execution": {
     "iopub.execute_input": "2024-08-16T20:44:19.841673Z",
     "iopub.status.busy": "2024-08-16T20:44:19.841673Z",
     "iopub.status.idle": "2024-08-16T20:44:19.860418Z",
     "shell.execute_reply": "2024-08-16T20:44:19.860418Z",
     "shell.execute_reply.started": "2024-08-16T20:44:19.841673Z"
    }
   },
   "outputs": [
    {
     "data": {
      "text/html": [
       "<div>\n",
       "<style scoped>\n",
       "    .dataframe tbody tr th:only-of-type {\n",
       "        vertical-align: middle;\n",
       "    }\n",
       "\n",
       "    .dataframe tbody tr th {\n",
       "        vertical-align: top;\n",
       "    }\n",
       "\n",
       "    .dataframe thead th {\n",
       "        text-align: right;\n",
       "    }\n",
       "</style>\n",
       "<table border=\"1\" class=\"dataframe\">\n",
       "  <thead>\n",
       "    <tr style=\"text-align: right;\">\n",
       "      <th></th>\n",
       "      <th>n_year</th>\n",
       "    </tr>\n",
       "    <tr>\n",
       "      <th>province</th>\n",
       "      <th></th>\n",
       "    </tr>\n",
       "  </thead>\n",
       "  <tbody>\n",
       "    <tr>\n",
       "      <th>A Coruña</th>\n",
       "      <td>4</td>\n",
       "    </tr>\n",
       "    <tr>\n",
       "      <th>Alacant/Alicante</th>\n",
       "      <td>25</td>\n",
       "    </tr>\n",
       "    <tr>\n",
       "      <th>Albacete</th>\n",
       "      <td>25</td>\n",
       "    </tr>\n",
       "    <tr>\n",
       "      <th>Almería</th>\n",
       "      <td>25</td>\n",
       "    </tr>\n",
       "    <tr>\n",
       "      <th>Araba/Álava</th>\n",
       "      <td>25</td>\n",
       "    </tr>\n",
       "    <tr>\n",
       "      <th>Asturias</th>\n",
       "      <td>4</td>\n",
       "    </tr>\n",
       "    <tr>\n",
       "      <th>Badajoz</th>\n",
       "      <td>25</td>\n",
       "    </tr>\n",
       "    <tr>\n",
       "      <th>Barcelona</th>\n",
       "      <td>25</td>\n",
       "    </tr>\n",
       "    <tr>\n",
       "      <th>Bizkaia</th>\n",
       "      <td>4</td>\n",
       "    </tr>\n",
       "    <tr>\n",
       "      <th>Burgos</th>\n",
       "      <td>11</td>\n",
       "    </tr>\n",
       "    <tr>\n",
       "      <th>Cantabria</th>\n",
       "      <td>4</td>\n",
       "    </tr>\n",
       "    <tr>\n",
       "      <th>Castelló/Castellón</th>\n",
       "      <td>25</td>\n",
       "    </tr>\n",
       "    <tr>\n",
       "      <th>Ciudad Real</th>\n",
       "      <td>25</td>\n",
       "    </tr>\n",
       "    <tr>\n",
       "      <th>Cuenca</th>\n",
       "      <td>25</td>\n",
       "    </tr>\n",
       "    <tr>\n",
       "      <th>Cáceres</th>\n",
       "      <td>25</td>\n",
       "    </tr>\n",
       "    <tr>\n",
       "      <th>Cádiz</th>\n",
       "      <td>25</td>\n",
       "    </tr>\n",
       "    <tr>\n",
       "      <th>Córdoba</th>\n",
       "      <td>25</td>\n",
       "    </tr>\n",
       "    <tr>\n",
       "      <th>Gipuzkoa</th>\n",
       "      <td>16</td>\n",
       "    </tr>\n",
       "    <tr>\n",
       "      <th>Girona</th>\n",
       "      <td>25</td>\n",
       "    </tr>\n",
       "    <tr>\n",
       "      <th>Granada</th>\n",
       "      <td>25</td>\n",
       "    </tr>\n",
       "    <tr>\n",
       "      <th>Guadalajara</th>\n",
       "      <td>25</td>\n",
       "    </tr>\n",
       "    <tr>\n",
       "      <th>Huelva</th>\n",
       "      <td>25</td>\n",
       "    </tr>\n",
       "    <tr>\n",
       "      <th>Huesca</th>\n",
       "      <td>25</td>\n",
       "    </tr>\n",
       "    <tr>\n",
       "      <th>Illes Balears</th>\n",
       "      <td>25</td>\n",
       "    </tr>\n",
       "    <tr>\n",
       "      <th>Jaén</th>\n",
       "      <td>25</td>\n",
       "    </tr>\n",
       "    <tr>\n",
       "      <th>La Rioja</th>\n",
       "      <td>25</td>\n",
       "    </tr>\n",
       "    <tr>\n",
       "      <th>Las Palmas</th>\n",
       "      <td>24</td>\n",
       "    </tr>\n",
       "    <tr>\n",
       "      <th>León</th>\n",
       "      <td>8</td>\n",
       "    </tr>\n",
       "    <tr>\n",
       "      <th>Lleida</th>\n",
       "      <td>25</td>\n",
       "    </tr>\n",
       "    <tr>\n",
       "      <th>Lugo</th>\n",
       "      <td>19</td>\n",
       "    </tr>\n",
       "    <tr>\n",
       "      <th>Madrid</th>\n",
       "      <td>25</td>\n",
       "    </tr>\n",
       "    <tr>\n",
       "      <th>Melilla</th>\n",
       "      <td>2</td>\n",
       "    </tr>\n",
       "    <tr>\n",
       "      <th>Murcia</th>\n",
       "      <td>25</td>\n",
       "    </tr>\n",
       "    <tr>\n",
       "      <th>Málaga</th>\n",
       "      <td>25</td>\n",
       "    </tr>\n",
       "    <tr>\n",
       "      <th>Navarra</th>\n",
       "      <td>25</td>\n",
       "    </tr>\n",
       "    <tr>\n",
       "      <th>Ourense</th>\n",
       "      <td>13</td>\n",
       "    </tr>\n",
       "    <tr>\n",
       "      <th>Palencia</th>\n",
       "      <td>15</td>\n",
       "    </tr>\n",
       "    <tr>\n",
       "      <th>Pontevedra</th>\n",
       "      <td>13</td>\n",
       "    </tr>\n",
       "    <tr>\n",
       "      <th>Salamanca</th>\n",
       "      <td>25</td>\n",
       "    </tr>\n",
       "    <tr>\n",
       "      <th>Santa Cruz de Tenerife</th>\n",
       "      <td>16</td>\n",
       "    </tr>\n",
       "    <tr>\n",
       "      <th>Segovia</th>\n",
       "      <td>10</td>\n",
       "    </tr>\n",
       "    <tr>\n",
       "      <th>Sevilla</th>\n",
       "      <td>25</td>\n",
       "    </tr>\n",
       "    <tr>\n",
       "      <th>Soria</th>\n",
       "      <td>8</td>\n",
       "    </tr>\n",
       "    <tr>\n",
       "      <th>Tarragona</th>\n",
       "      <td>25</td>\n",
       "    </tr>\n",
       "    <tr>\n",
       "      <th>Teruel</th>\n",
       "      <td>25</td>\n",
       "    </tr>\n",
       "    <tr>\n",
       "      <th>Toledo</th>\n",
       "      <td>25</td>\n",
       "    </tr>\n",
       "    <tr>\n",
       "      <th>Valladolid</th>\n",
       "      <td>21</td>\n",
       "    </tr>\n",
       "    <tr>\n",
       "      <th>València/Valencia</th>\n",
       "      <td>25</td>\n",
       "    </tr>\n",
       "    <tr>\n",
       "      <th>Zamora</th>\n",
       "      <td>25</td>\n",
       "    </tr>\n",
       "    <tr>\n",
       "      <th>Zaragoza</th>\n",
       "      <td>25</td>\n",
       "    </tr>\n",
       "    <tr>\n",
       "      <th>Ávila</th>\n",
       "      <td>25</td>\n",
       "    </tr>\n",
       "  </tbody>\n",
       "</table>\n",
       "</div>"
      ],
      "text/plain": [
       "                        n_year\n",
       "province                      \n",
       "A Coruña                     4\n",
       "Alacant/Alicante            25\n",
       "Albacete                    25\n",
       "Almería                     25\n",
       "Araba/Álava                 25\n",
       "Asturias                     4\n",
       "Badajoz                     25\n",
       "Barcelona                   25\n",
       "Bizkaia                      4\n",
       "Burgos                      11\n",
       "Cantabria                    4\n",
       "Castelló/Castellón          25\n",
       "Ciudad Real                 25\n",
       "Cuenca                      25\n",
       "Cáceres                     25\n",
       "Cádiz                       25\n",
       "Córdoba                     25\n",
       "Gipuzkoa                    16\n",
       "Girona                      25\n",
       "Granada                     25\n",
       "Guadalajara                 25\n",
       "Huelva                      25\n",
       "Huesca                      25\n",
       "Illes Balears               25\n",
       "Jaén                        25\n",
       "La Rioja                    25\n",
       "Las Palmas                  24\n",
       "León                         8\n",
       "Lleida                      25\n",
       "Lugo                        19\n",
       "Madrid                      25\n",
       "Melilla                      2\n",
       "Murcia                      25\n",
       "Málaga                      25\n",
       "Navarra                     25\n",
       "Ourense                     13\n",
       "Palencia                    15\n",
       "Pontevedra                  13\n",
       "Salamanca                   25\n",
       "Santa Cruz de Tenerife      16\n",
       "Segovia                     10\n",
       "Sevilla                     25\n",
       "Soria                        8\n",
       "Tarragona                   25\n",
       "Teruel                      25\n",
       "Toledo                      25\n",
       "Valladolid                  21\n",
       "València/Valencia           25\n",
       "Zamora                      25\n",
       "Zaragoza                    25\n",
       "Ávila                       25"
      ]
     },
     "execution_count": 32,
     "metadata": {},
     "output_type": "execute_result"
    }
   ],
   "source": [
    "olive_cultivation_system_data.groupby(by=\"province\").agg(n_year=(\"year\", \"nunique\"))"
   ]
  },
  {
   "cell_type": "markdown",
   "id": "e5050fcd-6e7a-4788-a8f8-23445a687a74",
   "metadata": {},
   "source": [
    "Not all provinces have the same number of years."
   ]
  },
  {
   "cell_type": "markdown",
   "id": "e60e40e4-673a-4c3f-95d8-348c9385cb5c",
   "metadata": {},
   "source": [
    "# Add Features:"
   ]
  },
  {
   "cell_type": "code",
   "execution_count": 33,
   "id": "5baf71bc-6188-4cd2-9a07-891ca9e11d64",
   "metadata": {
    "execution": {
     "iopub.execute_input": "2024-08-16T20:49:14.056928Z",
     "iopub.status.busy": "2024-08-16T20:49:14.056928Z",
     "iopub.status.idle": "2024-08-16T20:49:14.065716Z",
     "shell.execute_reply": "2024-08-16T20:49:14.065716Z",
     "shell.execute_reply.started": "2024-08-16T20:49:14.056928Z"
    }
   },
   "outputs": [],
   "source": [
    "def add_total_production_area(\n",
    "    input_data: pd.DataFrame, rainfed_prod_col: str, irrigated_prod_col: str\n",
    ") -> pd.DataFrame:\n",
    "    return input_data.assign(\n",
    "        total_production_area=input_data[rainfed_prod_col]\n",
    "        + input_data[irrigated_prod_col]\n",
    "    )"
   ]
  },
  {
   "cell_type": "code",
   "execution_count": 34,
   "id": "f6a55bab-e26b-4c97-9d16-02f64464e44a",
   "metadata": {
    "execution": {
     "iopub.execute_input": "2024-08-16T20:49:15.437253Z",
     "iopub.status.busy": "2024-08-16T20:49:15.437253Z",
     "iopub.status.idle": "2024-08-16T20:49:15.443279Z",
     "shell.execute_reply": "2024-08-16T20:49:15.443279Z",
     "shell.execute_reply.started": "2024-08-16T20:49:15.437253Z"
    }
   },
   "outputs": [],
   "source": [
    "def add_production_area_percentage(\n",
    "    input_data: pd.DataFrame,\n",
    "    total_plantation_area_col: str,\n",
    "    total_production_area_col: str,\n",
    ") -> pd.DataFrame:\n",
    "    return input_data.assign(\n",
    "        production_area_percentage=(\n",
    "            input_data[total_production_area_col]\n",
    "            / input_data[total_plantation_area_col]\n",
    "        )\n",
    "        * 100.0\n",
    "    )"
   ]
  },
  {
   "cell_type": "code",
   "execution_count": 35,
   "id": "dd5fc728-81b0-4521-9a50-3f0838af79da",
   "metadata": {
    "execution": {
     "iopub.execute_input": "2024-08-16T20:49:16.426957Z",
     "iopub.status.busy": "2024-08-16T20:49:16.426957Z",
     "iopub.status.idle": "2024-08-16T20:49:16.434007Z",
     "shell.execute_reply": "2024-08-16T20:49:16.434007Z",
     "shell.execute_reply.started": "2024-08-16T20:49:16.426957Z"
    }
   },
   "outputs": [],
   "source": [
    "def add_rainfed_production_area_percentage(\n",
    "    input_data: pd.DataFrame,\n",
    "    rainfed_production_area_col: str,\n",
    "    total_production_area_col: str,\n",
    ") -> pd.DataFrame:\n",
    "    return input_data.assign(\n",
    "        rainfed_production_area_percentage=(\n",
    "            input_data[rainfed_production_area_col]\n",
    "            / input_data[total_production_area_col]\n",
    "        )\n",
    "        * 100.0\n",
    "    )"
   ]
  },
  {
   "cell_type": "code",
   "execution_count": 36,
   "id": "275bae25-0ea6-456e-9409-0f13ac6bd40c",
   "metadata": {
    "execution": {
     "iopub.execute_input": "2024-08-16T20:49:17.947697Z",
     "iopub.status.busy": "2024-08-16T20:49:17.947697Z",
     "iopub.status.idle": "2024-08-16T20:49:17.953629Z",
     "shell.execute_reply": "2024-08-16T20:49:17.953629Z",
     "shell.execute_reply.started": "2024-08-16T20:49:17.947697Z"
    }
   },
   "outputs": [],
   "source": [
    "def add_rainfed_total_production(\n",
    "    input_data: pd.DataFrame, rainfed_production_area_col: str, rainfed_yield_col: str\n",
    ") -> pd.DataFrame:\n",
    "    return input_data.assign(\n",
    "        rainfed_total_production=(\n",
    "            input_data[rainfed_production_area_col] * input_data[rainfed_yield_col]\n",
    "        )\n",
    "        / 1000.0\n",
    "    )"
   ]
  },
  {
   "cell_type": "code",
   "execution_count": 37,
   "id": "ee015b94-f6b7-446a-bb15-224ae4b23141",
   "metadata": {
    "execution": {
     "iopub.execute_input": "2024-08-16T20:49:18.622530Z",
     "iopub.status.busy": "2024-08-16T20:49:18.622530Z",
     "iopub.status.idle": "2024-08-16T20:49:18.628548Z",
     "shell.execute_reply": "2024-08-16T20:49:18.628548Z",
     "shell.execute_reply.started": "2024-08-16T20:49:18.622530Z"
    }
   },
   "outputs": [],
   "source": [
    "def add_irrigated_total_production(\n",
    "    input_data: pd.DataFrame,\n",
    "    irrigated_production_area_col: str,\n",
    "    irrigated_yield_col: str,\n",
    ") -> pd.DataFrame:\n",
    "    return input_data.assign(\n",
    "        irrigated_total_production=(\n",
    "            input_data[irrigated_production_area_col] * input_data[irrigated_yield_col]\n",
    "        )\n",
    "        / 1000.0\n",
    "    )"
   ]
  },
  {
   "cell_type": "code",
   "execution_count": 42,
   "id": "9ac352ef-77e9-4fa4-9788-1084a2b9c82e",
   "metadata": {
    "execution": {
     "iopub.execute_input": "2024-08-16T20:50:47.461199Z",
     "iopub.status.busy": "2024-08-16T20:50:47.461199Z",
     "iopub.status.idle": "2024-08-16T20:50:47.477741Z",
     "shell.execute_reply": "2024-08-16T20:50:47.477741Z",
     "shell.execute_reply.started": "2024-08-16T20:50:47.461199Z"
    }
   },
   "outputs": [],
   "source": [
    "olive_cultivation_system_data = (\n",
    "    olive_cultivation_system_data.pipe(\n",
    "        add_total_production_area,\n",
    "        \"rainfed_production_area\",\n",
    "        \"irrigated_production_area\",\n",
    "    )\n",
    "    .pipe(\n",
    "        add_production_area_percentage, \"total_plantation_area\", \"total_production_area\"\n",
    "    )\n",
    "    .pipe(\n",
    "        add_rainfed_production_area_percentage,\n",
    "        \"rainfed_production_area\",\n",
    "        \"total_production_area\",\n",
    "    )\n",
    "    .pipe(add_rainfed_total_production, \"rainfed_production_area\", \"rainfed_yield\")\n",
    "    .pipe(\n",
    "        add_irrigated_total_production,\n",
    "        \"irrigated_production_area\",\n",
    "        \"irrigated_yield\",\n",
    "    )\n",
    "    .fillna(0.0)\n",
    ")"
   ]
  },
  {
   "cell_type": "code",
   "execution_count": 46,
   "id": "39ad2435-c62e-4436-a622-04fba23ffb92",
   "metadata": {
    "execution": {
     "iopub.execute_input": "2024-08-16T20:53:42.114709Z",
     "iopub.status.busy": "2024-08-16T20:53:42.114709Z",
     "iopub.status.idle": "2024-08-16T20:53:42.122322Z",
     "shell.execute_reply": "2024-08-16T20:53:42.122322Z",
     "shell.execute_reply.started": "2024-08-16T20:53:42.114709Z"
    }
   },
   "outputs": [],
   "source": [
    "output_path = Path(\"../data/processed/olive_cultivation_system/\")"
   ]
  },
  {
   "cell_type": "code",
   "execution_count": 47,
   "id": "79df111c-aec8-460e-ba3c-f6b132df3311",
   "metadata": {
    "execution": {
     "iopub.execute_input": "2024-08-16T20:53:55.697031Z",
     "iopub.status.busy": "2024-08-16T20:53:55.697031Z",
     "iopub.status.idle": "2024-08-16T20:53:55.722802Z",
     "shell.execute_reply": "2024-08-16T20:53:55.722802Z",
     "shell.execute_reply.started": "2024-08-16T20:53:55.697031Z"
    }
   },
   "outputs": [],
   "source": [
    "olive_cultivation_system_data.to_parquet(\n",
    "    output_path / \"olive_cultivation_system.parquet\", index=False\n",
    ")"
   ]
  },
  {
   "cell_type": "code",
   "execution_count": null,
   "id": "7a0384e8-b07a-48cf-843d-eb9349c8bcae",
   "metadata": {},
   "outputs": [],
   "source": []
  }
 ],
 "metadata": {
  "kernelspec": {
   "display_name": "Python (cs913-dissertation-project)",
   "language": "python",
   "name": "cs913-dissertation-project"
  },
  "language_info": {
   "codemirror_mode": {
    "name": "ipython",
    "version": 3
   },
   "file_extension": ".py",
   "mimetype": "text/x-python",
   "name": "python",
   "nbconvert_exporter": "python",
   "pygments_lexer": "ipython3",
   "version": "3.11.9"
  }
 },
 "nbformat": 4,
 "nbformat_minor": 5
}
