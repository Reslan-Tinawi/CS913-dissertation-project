{
 "cells": [
  {
   "cell_type": "code",
   "execution_count": null,
   "id": "ccbefc8a-858d-4661-810a-621216cac4e2",
   "metadata": {},
   "outputs": [],
   "source": [
    "import geopandas as gpd\n",
    "import pandas as pd"
   ]
  },
  {
   "cell_type": "code",
   "execution_count": null,
   "id": "44174307-79e7-45b9-9e84-84d1bfa7341c",
   "metadata": {},
   "outputs": [],
   "source": [
    "olive_groves = gpd.read_file(\n",
    "    \"../data/maps/olive-groves-spain.geojson\", columns=[\"OBJECTID\", \"geometry\"]\n",
    ")"
   ]
  },
  {
   "cell_type": "code",
   "execution_count": null,
   "id": "3e8a0930-13d5-4767-97a5-c3f4c94f2d78",
   "metadata": {},
   "outputs": [],
   "source": [
    "spain_map = gpd.read_file(\"../data/maps/spain-map.geojson\")"
   ]
  },
  {
   "cell_type": "code",
   "execution_count": null,
   "id": "984909a7-234f-4736-98a3-032701ebb747",
   "metadata": {},
   "outputs": [],
   "source": [
    "olive_groves.head()"
   ]
  },
  {
   "cell_type": "code",
   "execution_count": null,
   "id": "fcebd0bb-94e4-41f1-b7a3-57e5df52f4d8",
   "metadata": {},
   "outputs": [],
   "source": [
    "spain_map.head()"
   ]
  },
  {
   "cell_type": "code",
   "execution_count": null,
   "id": "38ed409b-980e-4b58-88b5-26e927869abf",
   "metadata": {},
   "outputs": [],
   "source": [
    "print(olive_groves.crs)"
   ]
  },
  {
   "cell_type": "code",
   "execution_count": null,
   "id": "52b9e9b6-3880-4a9a-b4f3-48d9d6a69c5d",
   "metadata": {},
   "outputs": [],
   "source": [
    "print(spain_map.crs)"
   ]
  },
  {
   "cell_type": "code",
   "execution_count": null,
   "id": "b9837557-cfec-4aff-a62a-40552d84f8d9",
   "metadata": {},
   "outputs": [],
   "source": [
    "res = gpd.sjoin(\n",
    "    left_df=spain_map, right_df=olive_groves, how=\"left\", predicate=\"contains\"\n",
    ")"
   ]
  },
  {
   "cell_type": "code",
   "execution_count": null,
   "id": "f259725c-eb28-4ce7-afcc-0a38832edceb",
   "metadata": {},
   "outputs": [],
   "source": [
    "res.head()"
   ]
  },
  {
   "cell_type": "code",
   "execution_count": null,
   "id": "3efe76c4-3f77-46e9-9d70-1d34a53aff13",
   "metadata": {},
   "outputs": [],
   "source": [
    "province_grove_mapping = res[[\"ADM1_NAME\", \"ADM2_NAME\", \"OBJECTID\"]]"
   ]
  },
  {
   "cell_type": "code",
   "execution_count": null,
   "id": "9ddcc71f-31ac-48da-bc86-25ff8e1ed1f7",
   "metadata": {},
   "outputs": [],
   "source": [
    "province_grove_mapping.head()"
   ]
  },
  {
   "cell_type": "code",
   "execution_count": null,
   "id": "ebc1c5ea-98f6-4d63-81e9-af747fc456c5",
   "metadata": {},
   "outputs": [],
   "source": [
    "groves_in_andalucia = (\n",
    "    province_grove_mapping.query(\"ADM1_NAME == 'Andalucía'\").loc[:, \"OBJECTID\"].values\n",
    ")"
   ]
  },
  {
   "cell_type": "code",
   "execution_count": null,
   "id": "32647d2a-f2db-4290-999f-3c0411fa0f0e",
   "metadata": {},
   "outputs": [],
   "source": [
    "olive_groves[olive_groves['OBJECTID'].isin(groves_in_andalucia)].explore()"
   ]
  },
  {
   "cell_type": "code",
   "execution_count": null,
   "id": "864146c6-6f50-4552-b8bb-10705a86c463",
   "metadata": {},
   "outputs": [],
   "source": []
  }
 ],
 "metadata": {
  "kernelspec": {
   "display_name": "Python (cs913-dissertation-project)",
   "language": "python",
   "name": "cs913-dissertation-project"
  },
  "language_info": {
   "codemirror_mode": {
    "name": "ipython",
    "version": 3
   },
   "file_extension": ".py",
   "mimetype": "text/x-python",
   "name": "python",
   "nbconvert_exporter": "python",
   "pygments_lexer": "ipython3",
   "version": "3.10.0"
  }
 },
 "nbformat": 4,
 "nbformat_minor": 5
}
