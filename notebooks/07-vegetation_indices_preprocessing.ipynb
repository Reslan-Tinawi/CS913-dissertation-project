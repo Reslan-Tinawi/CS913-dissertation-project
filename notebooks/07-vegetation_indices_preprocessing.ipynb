{
 "cells": [
  {
   "cell_type": "code",
   "execution_count": 1,
   "id": "0dd5e69d-fdcb-4786-8a06-74a2b868beda",
   "metadata": {
    "execution": {
     "iopub.execute_input": "2024-08-17T13:15:38.851506Z",
     "iopub.status.busy": "2024-08-17T13:15:38.851506Z",
     "iopub.status.idle": "2024-08-17T13:15:40.980688Z",
     "shell.execute_reply": "2024-08-17T13:15:40.980688Z",
     "shell.execute_reply.started": "2024-08-17T13:15:38.851506Z"
    }
   },
   "outputs": [],
   "source": [
    "from pathlib import Path\n",
    "\n",
    "import numpy as np\n",
    "import pandas as pd"
   ]
  },
  {
   "cell_type": "code",
   "execution_count": 2,
   "id": "e79a6f5d-d4d1-449e-a47c-a129c8ecb01f",
   "metadata": {
    "execution": {
     "iopub.execute_input": "2024-08-17T13:18:51.868167Z",
     "iopub.status.busy": "2024-08-17T13:18:51.868167Z",
     "iopub.status.idle": "2024-08-17T13:18:51.876592Z",
     "shell.execute_reply": "2024-08-17T13:18:51.876592Z",
     "shell.execute_reply.started": "2024-08-17T13:18:51.868167Z"
    }
   },
   "outputs": [],
   "source": [
    "vegetation_data_path = Path(\"../data/raw/vegetation_indices/\")"
   ]
  },
  {
   "cell_type": "code",
   "execution_count": 3,
   "id": "dbb0425e-6e61-4920-9ede-fab612a6335b",
   "metadata": {
    "execution": {
     "iopub.execute_input": "2024-08-17T13:19:14.874792Z",
     "iopub.status.busy": "2024-08-17T13:19:14.874792Z",
     "iopub.status.idle": "2024-08-17T13:19:14.954061Z",
     "shell.execute_reply": "2024-08-17T13:19:14.954061Z",
     "shell.execute_reply.started": "2024-08-17T13:19:14.874792Z"
    }
   },
   "outputs": [],
   "source": [
    "vegetation_data = pd.read_csv(vegetation_data_path / \"vegetation_indices_monthly.csv\")"
   ]
  },
  {
   "cell_type": "code",
   "execution_count": 4,
   "id": "ebcf66b3-fb7c-492d-931d-ae8aaebf8ca4",
   "metadata": {
    "execution": {
     "iopub.execute_input": "2024-08-17T13:19:19.594440Z",
     "iopub.status.busy": "2024-08-17T13:19:19.594440Z",
     "iopub.status.idle": "2024-08-17T13:19:19.614874Z",
     "shell.execute_reply": "2024-08-17T13:19:19.614874Z",
     "shell.execute_reply.started": "2024-08-17T13:19:19.594440Z"
    }
   },
   "outputs": [
    {
     "data": {
      "text/html": [
       "<div>\n",
       "<style scoped>\n",
       "    .dataframe tbody tr th:only-of-type {\n",
       "        vertical-align: middle;\n",
       "    }\n",
       "\n",
       "    .dataframe tbody tr th {\n",
       "        vertical-align: top;\n",
       "    }\n",
       "\n",
       "    .dataframe thead th {\n",
       "        text-align: right;\n",
       "    }\n",
       "</style>\n",
       "<table border=\"1\" class=\"dataframe\">\n",
       "  <thead>\n",
       "    <tr style=\"text-align: right;\">\n",
       "      <th></th>\n",
       "      <th>system:index</th>\n",
       "      <th>EVI</th>\n",
       "      <th>NDVI</th>\n",
       "      <th>community</th>\n",
       "      <th>date</th>\n",
       "      <th>province</th>\n",
       "      <th>.geo</th>\n",
       "    </tr>\n",
       "  </thead>\n",
       "  <tbody>\n",
       "    <tr>\n",
       "      <th>0</th>\n",
       "      <td>2000_02_18_00000000000000000003</td>\n",
       "      <td>1666.087474</td>\n",
       "      <td>2910.739643</td>\n",
       "      <td>Andalucía</td>\n",
       "      <td>2000-02-18T00:00:00</td>\n",
       "      <td>Almería</td>\n",
       "      <td>{\"type\":\"MultiPoint\",\"coordinates\":[]}</td>\n",
       "    </tr>\n",
       "    <tr>\n",
       "      <th>1</th>\n",
       "      <td>2000_02_18_0000000000000000000a</td>\n",
       "      <td>3603.938705</td>\n",
       "      <td>5594.445332</td>\n",
       "      <td>Andalucía</td>\n",
       "      <td>2000-02-18T00:00:00</td>\n",
       "      <td>Cádiz</td>\n",
       "      <td>{\"type\":\"MultiPoint\",\"coordinates\":[]}</td>\n",
       "    </tr>\n",
       "    <tr>\n",
       "      <th>2</th>\n",
       "      <td>2000_02_18_0000000000000000000d</td>\n",
       "      <td>3102.277765</td>\n",
       "      <td>4941.543856</td>\n",
       "      <td>Andalucía</td>\n",
       "      <td>2000-02-18T00:00:00</td>\n",
       "      <td>Córdoba</td>\n",
       "      <td>{\"type\":\"MultiPoint\",\"coordinates\":[]}</td>\n",
       "    </tr>\n",
       "    <tr>\n",
       "      <th>3</th>\n",
       "      <td>2000_02_18_00000000000000000011</td>\n",
       "      <td>1918.489158</td>\n",
       "      <td>3235.196941</td>\n",
       "      <td>Andalucía</td>\n",
       "      <td>2000-02-18T00:00:00</td>\n",
       "      <td>Granada</td>\n",
       "      <td>{\"type\":\"MultiPoint\",\"coordinates\":[]}</td>\n",
       "    </tr>\n",
       "    <tr>\n",
       "      <th>4</th>\n",
       "      <td>2000_02_18_00000000000000000014</td>\n",
       "      <td>2556.650933</td>\n",
       "      <td>4650.023857</td>\n",
       "      <td>Andalucía</td>\n",
       "      <td>2000-02-18T00:00:00</td>\n",
       "      <td>Huelva</td>\n",
       "      <td>{\"type\":\"MultiPoint\",\"coordinates\":[]}</td>\n",
       "    </tr>\n",
       "  </tbody>\n",
       "</table>\n",
       "</div>"
      ],
      "text/plain": [
       "                      system:index          EVI         NDVI  community  \\\n",
       "0  2000_02_18_00000000000000000003  1666.087474  2910.739643  Andalucía   \n",
       "1  2000_02_18_0000000000000000000a  3603.938705  5594.445332  Andalucía   \n",
       "2  2000_02_18_0000000000000000000d  3102.277765  4941.543856  Andalucía   \n",
       "3  2000_02_18_00000000000000000011  1918.489158  3235.196941  Andalucía   \n",
       "4  2000_02_18_00000000000000000014  2556.650933  4650.023857  Andalucía   \n",
       "\n",
       "                  date province                                    .geo  \n",
       "0  2000-02-18T00:00:00  Almería  {\"type\":\"MultiPoint\",\"coordinates\":[]}  \n",
       "1  2000-02-18T00:00:00    Cádiz  {\"type\":\"MultiPoint\",\"coordinates\":[]}  \n",
       "2  2000-02-18T00:00:00  Córdoba  {\"type\":\"MultiPoint\",\"coordinates\":[]}  \n",
       "3  2000-02-18T00:00:00  Granada  {\"type\":\"MultiPoint\",\"coordinates\":[]}  \n",
       "4  2000-02-18T00:00:00   Huelva  {\"type\":\"MultiPoint\",\"coordinates\":[]}  "
      ]
     },
     "execution_count": 4,
     "metadata": {},
     "output_type": "execute_result"
    }
   ],
   "source": [
    "vegetation_data.head()"
   ]
  },
  {
   "cell_type": "code",
   "execution_count": 6,
   "id": "e0717c65-2f12-468a-a27d-6870d753d96f",
   "metadata": {
    "execution": {
     "iopub.execute_input": "2024-08-17T13:20:22.126077Z",
     "iopub.status.busy": "2024-08-17T13:20:22.126077Z",
     "iopub.status.idle": "2024-08-17T13:20:22.137743Z",
     "shell.execute_reply": "2024-08-17T13:20:22.137743Z",
     "shell.execute_reply.started": "2024-08-17T13:20:22.126077Z"
    }
   },
   "outputs": [],
   "source": [
    "vegetation_data = vegetation_data.drop(columns=[\"system:index\", \".geo\"])"
   ]
  },
  {
   "cell_type": "code",
   "execution_count": 9,
   "id": "4c3a1cb2-4fc7-405b-8b6e-b79c93804640",
   "metadata": {
    "execution": {
     "iopub.execute_input": "2024-08-17T13:21:03.449196Z",
     "iopub.status.busy": "2024-08-17T13:21:03.449196Z",
     "iopub.status.idle": "2024-08-17T13:21:03.462196Z",
     "shell.execute_reply": "2024-08-17T13:21:03.462196Z",
     "shell.execute_reply.started": "2024-08-17T13:21:03.449196Z"
    }
   },
   "outputs": [],
   "source": [
    "vegetation_data[\"date\"] = pd.to_datetime(vegetation_data[\"date\"])"
   ]
  },
  {
   "cell_type": "code",
   "execution_count": 22,
   "id": "0ae035ef-52d1-44e9-ab33-76ba4f08b6c5",
   "metadata": {
    "execution": {
     "iopub.execute_input": "2024-08-17T13:28:32.700980Z",
     "iopub.status.busy": "2024-08-17T13:28:32.700980Z",
     "iopub.status.idle": "2024-08-17T13:28:32.720392Z",
     "shell.execute_reply": "2024-08-17T13:28:32.720392Z",
     "shell.execute_reply.started": "2024-08-17T13:28:32.700980Z"
    }
   },
   "outputs": [],
   "source": [
    "vegetation_data[\"date\"] = vegetation_data.date.dt.to_period(\"M\").dt.to_timestamp()"
   ]
  },
  {
   "cell_type": "code",
   "execution_count": 31,
   "id": "77bc5b12-910e-41c2-b8d9-282664b74583",
   "metadata": {
    "execution": {
     "iopub.execute_input": "2024-08-17T13:31:50.882006Z",
     "iopub.status.busy": "2024-08-17T13:31:50.882006Z",
     "iopub.status.idle": "2024-08-17T13:31:50.909634Z",
     "shell.execute_reply": "2024-08-17T13:31:50.909634Z",
     "shell.execute_reply.started": "2024-08-17T13:31:50.882006Z"
    }
   },
   "outputs": [],
   "source": [
    "vegetation_data = vegetation_data.groupby(by=[\"province\", \"date\"], as_index=False).agg(\n",
    "    EVI=(\"EVI\", \"mean\"), NDVI=(\"NDVI\", \"mean\")\n",
    ")"
   ]
  },
  {
   "cell_type": "code",
   "execution_count": 32,
   "id": "f1aa8502-56f6-4a87-9243-b194248923c1",
   "metadata": {
    "execution": {
     "iopub.execute_input": "2024-08-17T13:41:22.850693Z",
     "iopub.status.busy": "2024-08-17T13:41:22.850693Z",
     "iopub.status.idle": "2024-08-17T13:41:22.863577Z",
     "shell.execute_reply": "2024-08-17T13:41:22.863577Z",
     "shell.execute_reply.started": "2024-08-17T13:41:22.850693Z"
    }
   },
   "outputs": [
    {
     "data": {
      "text/html": [
       "<div>\n",
       "<style scoped>\n",
       "    .dataframe tbody tr th:only-of-type {\n",
       "        vertical-align: middle;\n",
       "    }\n",
       "\n",
       "    .dataframe tbody tr th {\n",
       "        vertical-align: top;\n",
       "    }\n",
       "\n",
       "    .dataframe thead th {\n",
       "        text-align: right;\n",
       "    }\n",
       "</style>\n",
       "<table border=\"1\" class=\"dataframe\">\n",
       "  <thead>\n",
       "    <tr style=\"text-align: right;\">\n",
       "      <th></th>\n",
       "      <th>province</th>\n",
       "      <th>date</th>\n",
       "      <th>EVI</th>\n",
       "      <th>NDVI</th>\n",
       "    </tr>\n",
       "  </thead>\n",
       "  <tbody>\n",
       "    <tr>\n",
       "      <th>0</th>\n",
       "      <td>A Coruña</td>\n",
       "      <td>2000-02-01</td>\n",
       "      <td>3738.468622</td>\n",
       "      <td>6952.356515</td>\n",
       "    </tr>\n",
       "    <tr>\n",
       "      <th>1</th>\n",
       "      <td>A Coruña</td>\n",
       "      <td>2000-03-01</td>\n",
       "      <td>3837.875556</td>\n",
       "      <td>6606.549675</td>\n",
       "    </tr>\n",
       "    <tr>\n",
       "      <th>2</th>\n",
       "      <td>A Coruña</td>\n",
       "      <td>2000-04-01</td>\n",
       "      <td>4058.913004</td>\n",
       "      <td>6752.119118</td>\n",
       "    </tr>\n",
       "    <tr>\n",
       "      <th>3</th>\n",
       "      <td>A Coruña</td>\n",
       "      <td>2000-05-01</td>\n",
       "      <td>4706.062028</td>\n",
       "      <td>7214.755863</td>\n",
       "    </tr>\n",
       "    <tr>\n",
       "      <th>4</th>\n",
       "      <td>A Coruña</td>\n",
       "      <td>2000-06-01</td>\n",
       "      <td>4797.657555</td>\n",
       "      <td>7416.969495</td>\n",
       "    </tr>\n",
       "  </tbody>\n",
       "</table>\n",
       "</div>"
      ],
      "text/plain": [
       "   province       date          EVI         NDVI\n",
       "0  A Coruña 2000-02-01  3738.468622  6952.356515\n",
       "1  A Coruña 2000-03-01  3837.875556  6606.549675\n",
       "2  A Coruña 2000-04-01  4058.913004  6752.119118\n",
       "3  A Coruña 2000-05-01  4706.062028  7214.755863\n",
       "4  A Coruña 2000-06-01  4797.657555  7416.969495"
      ]
     },
     "execution_count": 32,
     "metadata": {},
     "output_type": "execute_result"
    }
   ],
   "source": [
    "vegetation_data.head()"
   ]
  },
  {
   "cell_type": "code",
   "execution_count": 36,
   "id": "31c2cfb9-7971-4e76-ba82-c47b78a99e36",
   "metadata": {
    "execution": {
     "iopub.execute_input": "2024-08-17T13:42:16.271024Z",
     "iopub.status.busy": "2024-08-17T13:42:16.271024Z",
     "iopub.status.idle": "2024-08-17T13:42:16.279211Z",
     "shell.execute_reply": "2024-08-17T13:42:16.279211Z",
     "shell.execute_reply.started": "2024-08-17T13:42:16.271024Z"
    }
   },
   "outputs": [],
   "source": [
    "output_path = Path('../data/processed/vegetation_indices/')"
   ]
  },
  {
   "cell_type": "code",
   "execution_count": 37,
   "id": "fabd3395-4d02-4335-908a-34f5f0708f5d",
   "metadata": {
    "execution": {
     "iopub.execute_input": "2024-08-17T13:42:52.365858Z",
     "iopub.status.busy": "2024-08-17T13:42:52.365858Z",
     "iopub.status.idle": "2024-08-17T13:42:52.723075Z",
     "shell.execute_reply": "2024-08-17T13:42:52.723075Z",
     "shell.execute_reply.started": "2024-08-17T13:42:52.365858Z"
    }
   },
   "outputs": [],
   "source": [
    "vegetation_data.to_parquet(output_path / \"vegetation_indices_monthly.parquet\", index=False)"
   ]
  },
  {
   "cell_type": "code",
   "execution_count": null,
   "id": "e34f040d-474f-41c7-9106-14017662103b",
   "metadata": {},
   "outputs": [],
   "source": []
  }
 ],
 "metadata": {
  "kernelspec": {
   "display_name": "Python (cs913-dissertation-project)",
   "language": "python",
   "name": "cs913-dissertation-project"
  },
  "language_info": {
   "codemirror_mode": {
    "name": "ipython",
    "version": 3
   },
   "file_extension": ".py",
   "mimetype": "text/x-python",
   "name": "python",
   "nbconvert_exporter": "python",
   "pygments_lexer": "ipython3",
   "version": "3.11.9"
  }
 },
 "nbformat": 4,
 "nbformat_minor": 5
}
