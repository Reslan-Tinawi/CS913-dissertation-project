{
 "cells": [
  {
   "cell_type": "code",
   "execution_count": 1,
   "metadata": {
    "execution": {
     "iopub.execute_input": "2024-06-27T08:56:04.569032Z",
     "iopub.status.busy": "2024-06-27T08:56:04.568045Z",
     "iopub.status.idle": "2024-06-27T08:56:06.439868Z",
     "shell.execute_reply": "2024-06-27T08:56:06.439868Z",
     "shell.execute_reply.started": "2024-06-27T08:56:04.569032Z"
    }
   },
   "outputs": [],
   "source": [
    "import geopandas as gpd\n",
    "import pandas as pd"
   ]
  },
  {
   "cell_type": "code",
   "execution_count": 2,
   "metadata": {
    "execution": {
     "iopub.execute_input": "2024-06-27T08:56:10.955447Z",
     "iopub.status.busy": "2024-06-27T08:56:10.955447Z",
     "iopub.status.idle": "2024-06-27T09:09:04.378159Z",
     "shell.execute_reply": "2024-06-27T09:09:04.378159Z",
     "shell.execute_reply.started": "2024-06-27T08:56:10.955447Z"
    }
   },
   "outputs": [],
   "source": [
    "corine_land_cover_data = gpd.read_file(\n",
    "    \"../data/maps/83101/Results/U2018_CLC2018_V2020_20u1.json\"\n",
    ")"
   ]
  },
  {
   "cell_type": "code",
   "execution_count": 3,
   "metadata": {
    "execution": {
     "iopub.execute_input": "2024-06-27T09:17:25.378764Z",
     "iopub.status.busy": "2024-06-27T09:17:25.378764Z",
     "iopub.status.idle": "2024-06-27T09:17:25.426043Z",
     "shell.execute_reply": "2024-06-27T09:17:25.426043Z",
     "shell.execute_reply.started": "2024-06-27T09:17:25.378764Z"
    }
   },
   "outputs": [
    {
     "data": {
      "text/html": [
       "<div>\n",
       "<style scoped>\n",
       "    .dataframe tbody tr th:only-of-type {\n",
       "        vertical-align: middle;\n",
       "    }\n",
       "\n",
       "    .dataframe tbody tr th {\n",
       "        vertical-align: top;\n",
       "    }\n",
       "\n",
       "    .dataframe thead th {\n",
       "        text-align: right;\n",
       "    }\n",
       "</style>\n",
       "<table border=\"1\" class=\"dataframe\">\n",
       "  <thead>\n",
       "    <tr style=\"text-align: right;\">\n",
       "      <th></th>\n",
       "      <th>OBJECTID</th>\n",
       "      <th>Code_18</th>\n",
       "      <th>Remark</th>\n",
       "      <th>Area_Ha</th>\n",
       "      <th>ID</th>\n",
       "      <th>Shape_Length</th>\n",
       "      <th>Shape_Area</th>\n",
       "      <th>geometry</th>\n",
       "    </tr>\n",
       "  </thead>\n",
       "  <tbody>\n",
       "    <tr>\n",
       "      <th>0</th>\n",
       "      <td>2</td>\n",
       "      <td>111</td>\n",
       "      <td>None</td>\n",
       "      <td>53.744524</td>\n",
       "      <td>EU_2</td>\n",
       "      <td>6329.456389</td>\n",
       "      <td>5.374452e+05</td>\n",
       "      <td>POLYGON ((-14.02981 28.20731, -14.02234 28.210...</td>\n",
       "    </tr>\n",
       "    <tr>\n",
       "      <th>1</th>\n",
       "      <td>3</td>\n",
       "      <td>111</td>\n",
       "      <td>None</td>\n",
       "      <td>30.719104</td>\n",
       "      <td>EU_3</td>\n",
       "      <td>3371.774719</td>\n",
       "      <td>3.071910e+05</td>\n",
       "      <td>POLYGON ((-13.98446 28.22836, -13.98276 28.228...</td>\n",
       "    </tr>\n",
       "    <tr>\n",
       "      <th>2</th>\n",
       "      <td>4</td>\n",
       "      <td>111</td>\n",
       "      <td>None</td>\n",
       "      <td>50.201782</td>\n",
       "      <td>EU_4</td>\n",
       "      <td>4869.883061</td>\n",
       "      <td>5.020178e+05</td>\n",
       "      <td>POLYGON ((-15.46316 27.79657, -15.46284 27.796...</td>\n",
       "    </tr>\n",
       "    <tr>\n",
       "      <th>3</th>\n",
       "      <td>5</td>\n",
       "      <td>111</td>\n",
       "      <td>None</td>\n",
       "      <td>481.848803</td>\n",
       "      <td>EU_5</td>\n",
       "      <td>14658.685372</td>\n",
       "      <td>4.818488e+06</td>\n",
       "      <td>POLYGON ((-15.58141 27.77674, -15.58202 27.777...</td>\n",
       "    </tr>\n",
       "    <tr>\n",
       "      <th>4</th>\n",
       "      <td>6</td>\n",
       "      <td>111</td>\n",
       "      <td>None</td>\n",
       "      <td>42.650918</td>\n",
       "      <td>EU_6</td>\n",
       "      <td>4398.511242</td>\n",
       "      <td>4.265092e+05</td>\n",
       "      <td>POLYGON ((-15.42216 27.83158, -15.42253 27.831...</td>\n",
       "    </tr>\n",
       "  </tbody>\n",
       "</table>\n",
       "</div>"
      ],
      "text/plain": [
       "   OBJECTID Code_18 Remark     Area_Ha    ID  Shape_Length    Shape_Area  \\\n",
       "0         2     111   None   53.744524  EU_2   6329.456389  5.374452e+05   \n",
       "1         3     111   None   30.719104  EU_3   3371.774719  3.071910e+05   \n",
       "2         4     111   None   50.201782  EU_4   4869.883061  5.020178e+05   \n",
       "3         5     111   None  481.848803  EU_5  14658.685372  4.818488e+06   \n",
       "4         6     111   None   42.650918  EU_6   4398.511242  4.265092e+05   \n",
       "\n",
       "                                            geometry  \n",
       "0  POLYGON ((-14.02981 28.20731, -14.02234 28.210...  \n",
       "1  POLYGON ((-13.98446 28.22836, -13.98276 28.228...  \n",
       "2  POLYGON ((-15.46316 27.79657, -15.46284 27.796...  \n",
       "3  POLYGON ((-15.58141 27.77674, -15.58202 27.777...  \n",
       "4  POLYGON ((-15.42216 27.83158, -15.42253 27.831...  "
      ]
     },
     "execution_count": 3,
     "metadata": {},
     "output_type": "execute_result"
    }
   ],
   "source": [
    "corine_land_cover_data.head()"
   ]
  },
  {
   "cell_type": "code",
   "execution_count": 4,
   "metadata": {
    "execution": {
     "iopub.execute_input": "2024-06-27T09:17:45.726267Z",
     "iopub.status.busy": "2024-06-27T09:17:45.726267Z",
     "iopub.status.idle": "2024-06-27T09:17:45.738290Z",
     "shell.execute_reply": "2024-06-27T09:17:45.738290Z",
     "shell.execute_reply.started": "2024-06-27T09:17:45.726267Z"
    }
   },
   "outputs": [
    {
     "data": {
      "text/plain": [
       "OBJECTID           int32\n",
       "Code_18           object\n",
       "Remark            object\n",
       "Area_Ha          float64\n",
       "ID                object\n",
       "Shape_Length     float64\n",
       "Shape_Area       float64\n",
       "geometry        geometry\n",
       "dtype: object"
      ]
     },
     "execution_count": 4,
     "metadata": {},
     "output_type": "execute_result"
    }
   ],
   "source": [
    "corine_land_cover_data.dtypes"
   ]
  },
  {
   "cell_type": "code",
   "execution_count": 5,
   "metadata": {
    "execution": {
     "iopub.execute_input": "2024-06-27T09:17:46.499544Z",
     "iopub.status.busy": "2024-06-27T09:17:46.499544Z",
     "iopub.status.idle": "2024-06-27T09:17:46.531588Z",
     "shell.execute_reply": "2024-06-27T09:17:46.531588Z",
     "shell.execute_reply.started": "2024-06-27T09:17:46.499544Z"
    }
   },
   "outputs": [
    {
     "data": {
      "text/plain": [
       "array(['111', '112', '121', '122', '123', '124', '131', '132', '133',\n",
       "       '141', '142', '211', '212', '221', '222', '231', '241', '242',\n",
       "       '243', '311', '312', '313', '321', '322', '323', '324', '331',\n",
       "       '332', '333', '334', '422', '512', '521', '523', '213', '223',\n",
       "       '244', '411', '421', '511', '522', '423', '412', '335', '999'],\n",
       "      dtype=object)"
      ]
     },
     "execution_count": 5,
     "metadata": {},
     "output_type": "execute_result"
    }
   ],
   "source": [
    "corine_land_cover_data[\"Code_18\"].unique()"
   ]
  },
  {
   "cell_type": "code",
   "execution_count": 10,
   "metadata": {
    "execution": {
     "iopub.execute_input": "2024-06-27T09:23:19.974514Z",
     "iopub.status.busy": "2024-06-27T09:23:19.974514Z",
     "iopub.status.idle": "2024-06-27T09:23:20.005777Z",
     "shell.execute_reply": "2024-06-27T09:23:20.005777Z",
     "shell.execute_reply.started": "2024-06-27T09:23:19.974514Z"
    }
   },
   "outputs": [],
   "source": [
    "olive_groves = corine_land_cover_data[corine_land_cover_data[\"Code_18\"] == \"223\"]"
   ]
  },
  {
   "cell_type": "code",
   "execution_count": 11,
   "metadata": {
    "execution": {
     "iopub.execute_input": "2024-06-27T09:24:33.223949Z",
     "iopub.status.busy": "2024-06-27T09:24:33.223949Z",
     "iopub.status.idle": "2024-06-27T09:24:55.459747Z",
     "shell.execute_reply": "2024-06-27T09:24:55.459747Z",
     "shell.execute_reply.started": "2024-06-27T09:24:33.223949Z"
    }
   },
   "outputs": [],
   "source": [
    "olive_groves.to_file(\n",
    "    filename=\"../data/maps/olive-groves-spain.geojson\", driver=\"GeoJSON\"\n",
    ")"
   ]
  },
  {
   "cell_type": "code",
   "execution_count": null,
   "metadata": {},
   "outputs": [],
   "source": []
  }
 ],
 "metadata": {
  "kernelspec": {
   "display_name": "Python (cs913-dissertation-project)",
   "language": "python",
   "name": "cs913-dissertation-project"
  },
  "language_info": {
   "codemirror_mode": {
    "name": "ipython",
    "version": 3
   },
   "file_extension": ".py",
   "mimetype": "text/x-python",
   "name": "python",
   "nbconvert_exporter": "python",
   "pygments_lexer": "ipython3",
   "version": "3.10.0"
  }
 },
 "nbformat": 4,
 "nbformat_minor": 4
}
