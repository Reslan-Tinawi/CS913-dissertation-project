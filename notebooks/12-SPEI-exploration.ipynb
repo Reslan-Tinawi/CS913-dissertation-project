{
 "cells": [
  {
   "cell_type": "code",
   "execution_count": 1,
   "id": "7748f805-371e-48de-a93a-1d9b3c0f0094",
   "metadata": {
    "execution": {
     "iopub.execute_input": "2024-07-09T23:18:34.907286Z",
     "iopub.status.busy": "2024-07-09T23:18:34.907286Z",
     "iopub.status.idle": "2024-07-09T23:18:36.787442Z",
     "shell.execute_reply": "2024-07-09T23:18:36.786521Z",
     "shell.execute_reply.started": "2024-07-09T23:18:34.907286Z"
    }
   },
   "outputs": [],
   "source": [
    "import geopandas as gpd\n",
    "import pandas as pd\n",
    "import plotly.express as px\n",
    "import spei as si"
   ]
  },
  {
   "cell_type": "code",
   "execution_count": 2,
   "id": "140e067c-e62a-458d-819c-6465c322fd94",
   "metadata": {
    "execution": {
     "iopub.execute_input": "2024-07-09T23:18:37.979322Z",
     "iopub.status.busy": "2024-07-09T23:18:37.979322Z",
     "iopub.status.idle": "2024-07-09T23:18:38.026120Z",
     "shell.execute_reply": "2024-07-09T23:18:38.026120Z",
     "shell.execute_reply.started": "2024-07-09T23:18:37.979322Z"
    }
   },
   "outputs": [],
   "source": [
    "df = pd.read_csv(\"../data/climate_data.csv\", parse_dates=[\"date\"])"
   ]
  },
  {
   "cell_type": "code",
   "execution_count": 3,
   "id": "a525a965-93f3-4bdb-ae4a-367b78bc1998",
   "metadata": {
    "execution": {
     "iopub.execute_input": "2024-07-09T23:18:38.795804Z",
     "iopub.status.busy": "2024-07-09T23:18:38.795804Z",
     "iopub.status.idle": "2024-07-09T23:18:38.811419Z",
     "shell.execute_reply": "2024-07-09T23:18:38.811419Z",
     "shell.execute_reply.started": "2024-07-09T23:18:38.795804Z"
    }
   },
   "outputs": [
    {
     "data": {
      "text/html": [
       "<div>\n",
       "<style scoped>\n",
       "    .dataframe tbody tr th:only-of-type {\n",
       "        vertical-align: middle;\n",
       "    }\n",
       "\n",
       "    .dataframe tbody tr th {\n",
       "        vertical-align: top;\n",
       "    }\n",
       "\n",
       "    .dataframe thead th {\n",
       "        text-align: right;\n",
       "    }\n",
       "</style>\n",
       "<table border=\"1\" class=\"dataframe\">\n",
       "  <thead>\n",
       "    <tr style=\"text-align: right;\">\n",
       "      <th></th>\n",
       "      <th>province</th>\n",
       "      <th>date</th>\n",
       "      <th>variable</th>\n",
       "      <th>value</th>\n",
       "    </tr>\n",
       "  </thead>\n",
       "  <tbody>\n",
       "    <tr>\n",
       "      <th>0</th>\n",
       "      <td>Araba/Álava</td>\n",
       "      <td>2000-01-01</td>\n",
       "      <td>avg_precipitation</td>\n",
       "      <td>22.252368</td>\n",
       "    </tr>\n",
       "    <tr>\n",
       "      <th>1</th>\n",
       "      <td>Araba/Álava</td>\n",
       "      <td>2000-02-01</td>\n",
       "      <td>avg_precipitation</td>\n",
       "      <td>23.672784</td>\n",
       "    </tr>\n",
       "    <tr>\n",
       "      <th>2</th>\n",
       "      <td>Araba/Álava</td>\n",
       "      <td>2000-03-01</td>\n",
       "      <td>avg_precipitation</td>\n",
       "      <td>50.380843</td>\n",
       "    </tr>\n",
       "    <tr>\n",
       "      <th>3</th>\n",
       "      <td>Araba/Álava</td>\n",
       "      <td>2000-04-01</td>\n",
       "      <td>avg_precipitation</td>\n",
       "      <td>122.973462</td>\n",
       "    </tr>\n",
       "    <tr>\n",
       "      <th>4</th>\n",
       "      <td>Araba/Álava</td>\n",
       "      <td>2000-05-01</td>\n",
       "      <td>avg_precipitation</td>\n",
       "      <td>69.824049</td>\n",
       "    </tr>\n",
       "  </tbody>\n",
       "</table>\n",
       "</div>"
      ],
      "text/plain": [
       "      province       date           variable       value\n",
       "0  Araba/Álava 2000-01-01  avg_precipitation   22.252368\n",
       "1  Araba/Álava 2000-02-01  avg_precipitation   23.672784\n",
       "2  Araba/Álava 2000-03-01  avg_precipitation   50.380843\n",
       "3  Araba/Álava 2000-04-01  avg_precipitation  122.973462\n",
       "4  Araba/Álava 2000-05-01  avg_precipitation   69.824049"
      ]
     },
     "execution_count": 3,
     "metadata": {},
     "output_type": "execute_result"
    }
   ],
   "source": [
    "df.head()"
   ]
  },
  {
   "cell_type": "code",
   "execution_count": 4,
   "id": "01492d57-2837-4349-81fa-29b091b28339",
   "metadata": {
    "execution": {
     "iopub.execute_input": "2024-07-09T23:18:40.475534Z",
     "iopub.status.busy": "2024-07-09T23:18:40.475534Z",
     "iopub.status.idle": "2024-07-09T23:18:40.491149Z",
     "shell.execute_reply": "2024-07-09T23:18:40.491149Z",
     "shell.execute_reply.started": "2024-07-09T23:18:40.475534Z"
    }
   },
   "outputs": [
    {
     "data": {
      "text/plain": [
       "province            object\n",
       "date        datetime64[ns]\n",
       "variable            object\n",
       "value              float64\n",
       "dtype: object"
      ]
     },
     "execution_count": 4,
     "metadata": {},
     "output_type": "execute_result"
    }
   ],
   "source": [
    "df.dtypes"
   ]
  },
  {
   "cell_type": "code",
   "execution_count": 5,
   "id": "1856b03b-f5ad-4833-8c0e-75903f45ef84",
   "metadata": {
    "execution": {
     "iopub.execute_input": "2024-07-09T23:18:42.799066Z",
     "iopub.status.busy": "2024-07-09T23:18:42.799066Z",
     "iopub.status.idle": "2024-07-09T23:18:42.830256Z",
     "shell.execute_reply": "2024-07-09T23:18:42.830256Z",
     "shell.execute_reply.started": "2024-07-09T23:18:42.799066Z"
    }
   },
   "outputs": [],
   "source": [
    "df = (\n",
    "    pd.pivot(data=df, index=[\"province\", \"date\"], columns=[\"variable\"], values=\"value\")\n",
    "    .reset_index()\n",
    "    .rename_axis(columns=\"\")\n",
    ")"
   ]
  },
  {
   "cell_type": "code",
   "execution_count": 6,
   "id": "f654a038-e1ca-47a5-a2c6-913bdcb90f19",
   "metadata": {
    "execution": {
     "iopub.execute_input": "2024-07-09T23:18:46.081750Z",
     "iopub.status.busy": "2024-07-09T23:18:46.081750Z",
     "iopub.status.idle": "2024-07-09T23:18:46.097237Z",
     "shell.execute_reply": "2024-07-09T23:18:46.097237Z",
     "shell.execute_reply.started": "2024-07-09T23:18:46.081750Z"
    }
   },
   "outputs": [
    {
     "data": {
      "text/html": [
       "<div>\n",
       "<style scoped>\n",
       "    .dataframe tbody tr th:only-of-type {\n",
       "        vertical-align: middle;\n",
       "    }\n",
       "\n",
       "    .dataframe tbody tr th {\n",
       "        vertical-align: top;\n",
       "    }\n",
       "\n",
       "    .dataframe thead th {\n",
       "        text-align: right;\n",
       "    }\n",
       "</style>\n",
       "<table border=\"1\" class=\"dataframe\">\n",
       "  <thead>\n",
       "    <tr style=\"text-align: right;\">\n",
       "      <th></th>\n",
       "      <th>province</th>\n",
       "      <th>date</th>\n",
       "      <th>avg_pet</th>\n",
       "      <th>avg_precipitation</th>\n",
       "    </tr>\n",
       "  </thead>\n",
       "  <tbody>\n",
       "    <tr>\n",
       "      <th>0</th>\n",
       "      <td>A Coruña</td>\n",
       "      <td>2000-01-01</td>\n",
       "      <td>262.324570</td>\n",
       "      <td>57.015631</td>\n",
       "    </tr>\n",
       "    <tr>\n",
       "      <th>1</th>\n",
       "      <td>A Coruña</td>\n",
       "      <td>2000-02-01</td>\n",
       "      <td>375.382717</td>\n",
       "      <td>59.520040</td>\n",
       "    </tr>\n",
       "    <tr>\n",
       "      <th>2</th>\n",
       "      <td>A Coruña</td>\n",
       "      <td>2000-03-01</td>\n",
       "      <td>680.471894</td>\n",
       "      <td>48.476642</td>\n",
       "    </tr>\n",
       "    <tr>\n",
       "      <th>3</th>\n",
       "      <td>A Coruña</td>\n",
       "      <td>2000-04-01</td>\n",
       "      <td>631.914884</td>\n",
       "      <td>225.902888</td>\n",
       "    </tr>\n",
       "    <tr>\n",
       "      <th>4</th>\n",
       "      <td>A Coruña</td>\n",
       "      <td>2000-05-01</td>\n",
       "      <td>971.068998</td>\n",
       "      <td>95.572749</td>\n",
       "    </tr>\n",
       "  </tbody>\n",
       "</table>\n",
       "</div>"
      ],
      "text/plain": [
       "   province       date     avg_pet  avg_precipitation\n",
       "0  A Coruña 2000-01-01  262.324570          57.015631\n",
       "1  A Coruña 2000-02-01  375.382717          59.520040\n",
       "2  A Coruña 2000-03-01  680.471894          48.476642\n",
       "3  A Coruña 2000-04-01  631.914884         225.902888\n",
       "4  A Coruña 2000-05-01  971.068998          95.572749"
      ]
     },
     "execution_count": 6,
     "metadata": {},
     "output_type": "execute_result"
    }
   ],
   "source": [
    "df.head()"
   ]
  },
  {
   "cell_type": "code",
   "execution_count": 7,
   "id": "797d092c-89e5-4c63-af5b-b10346d40cd5",
   "metadata": {
    "execution": {
     "iopub.execute_input": "2024-07-09T23:18:46.834980Z",
     "iopub.status.busy": "2024-07-09T23:18:46.834980Z",
     "iopub.status.idle": "2024-07-09T23:18:46.851012Z",
     "shell.execute_reply": "2024-07-09T23:18:46.851012Z",
     "shell.execute_reply.started": "2024-07-09T23:18:46.834980Z"
    }
   },
   "outputs": [
    {
     "data": {
      "text/plain": [
       "\n",
       "province                     object\n",
       "date                 datetime64[ns]\n",
       "avg_pet                     float64\n",
       "avg_precipitation           float64\n",
       "dtype: object"
      ]
     },
     "execution_count": 7,
     "metadata": {},
     "output_type": "execute_result"
    }
   ],
   "source": [
    "df.dtypes"
   ]
  },
  {
   "cell_type": "code",
   "execution_count": 8,
   "id": "11759fc4-a328-43ed-ba55-a3687f339c2a",
   "metadata": {
    "execution": {
     "iopub.execute_input": "2024-07-09T23:18:47.791819Z",
     "iopub.status.busy": "2024-07-09T23:18:47.791819Z",
     "iopub.status.idle": "2024-07-09T23:18:47.807443Z",
     "shell.execute_reply": "2024-07-09T23:18:47.807443Z",
     "shell.execute_reply.started": "2024-07-09T23:18:47.791819Z"
    }
   },
   "outputs": [],
   "source": [
    "df[\"water_balance\"] = df[\"avg_precipitation\"] - df[\"avg_pet\"]"
   ]
  },
  {
   "cell_type": "code",
   "execution_count": 9,
   "id": "c749996e-ac91-444e-a205-b4dd1faf67e3",
   "metadata": {
    "execution": {
     "iopub.execute_input": "2024-07-09T23:18:48.577272Z",
     "iopub.status.busy": "2024-07-09T23:18:48.577272Z",
     "iopub.status.idle": "2024-07-09T23:18:48.592899Z",
     "shell.execute_reply": "2024-07-09T23:18:48.592899Z",
     "shell.execute_reply.started": "2024-07-09T23:18:48.577272Z"
    }
   },
   "outputs": [
    {
     "data": {
      "text/html": [
       "<div>\n",
       "<style scoped>\n",
       "    .dataframe tbody tr th:only-of-type {\n",
       "        vertical-align: middle;\n",
       "    }\n",
       "\n",
       "    .dataframe tbody tr th {\n",
       "        vertical-align: top;\n",
       "    }\n",
       "\n",
       "    .dataframe thead th {\n",
       "        text-align: right;\n",
       "    }\n",
       "</style>\n",
       "<table border=\"1\" class=\"dataframe\">\n",
       "  <thead>\n",
       "    <tr style=\"text-align: right;\">\n",
       "      <th></th>\n",
       "      <th>province</th>\n",
       "      <th>date</th>\n",
       "      <th>avg_pet</th>\n",
       "      <th>avg_precipitation</th>\n",
       "      <th>water_balance</th>\n",
       "    </tr>\n",
       "  </thead>\n",
       "  <tbody>\n",
       "    <tr>\n",
       "      <th>0</th>\n",
       "      <td>A Coruña</td>\n",
       "      <td>2000-01-01</td>\n",
       "      <td>262.324570</td>\n",
       "      <td>57.015631</td>\n",
       "      <td>-205.308939</td>\n",
       "    </tr>\n",
       "    <tr>\n",
       "      <th>1</th>\n",
       "      <td>A Coruña</td>\n",
       "      <td>2000-02-01</td>\n",
       "      <td>375.382717</td>\n",
       "      <td>59.520040</td>\n",
       "      <td>-315.862677</td>\n",
       "    </tr>\n",
       "    <tr>\n",
       "      <th>2</th>\n",
       "      <td>A Coruña</td>\n",
       "      <td>2000-03-01</td>\n",
       "      <td>680.471894</td>\n",
       "      <td>48.476642</td>\n",
       "      <td>-631.995251</td>\n",
       "    </tr>\n",
       "    <tr>\n",
       "      <th>3</th>\n",
       "      <td>A Coruña</td>\n",
       "      <td>2000-04-01</td>\n",
       "      <td>631.914884</td>\n",
       "      <td>225.902888</td>\n",
       "      <td>-406.011996</td>\n",
       "    </tr>\n",
       "    <tr>\n",
       "      <th>4</th>\n",
       "      <td>A Coruña</td>\n",
       "      <td>2000-05-01</td>\n",
       "      <td>971.068998</td>\n",
       "      <td>95.572749</td>\n",
       "      <td>-875.496249</td>\n",
       "    </tr>\n",
       "  </tbody>\n",
       "</table>\n",
       "</div>"
      ],
      "text/plain": [
       "   province       date     avg_pet  avg_precipitation  water_balance\n",
       "0  A Coruña 2000-01-01  262.324570          57.015631    -205.308939\n",
       "1  A Coruña 2000-02-01  375.382717          59.520040    -315.862677\n",
       "2  A Coruña 2000-03-01  680.471894          48.476642    -631.995251\n",
       "3  A Coruña 2000-04-01  631.914884         225.902888    -406.011996\n",
       "4  A Coruña 2000-05-01  971.068998          95.572749    -875.496249"
      ]
     },
     "execution_count": 9,
     "metadata": {},
     "output_type": "execute_result"
    }
   ],
   "source": [
    "df.head()"
   ]
  },
  {
   "cell_type": "code",
   "execution_count": 10,
   "id": "91ca837a-e33f-4a22-ab01-3524cdfd1e3e",
   "metadata": {
    "execution": {
     "iopub.execute_input": "2024-07-09T23:18:49.784872Z",
     "iopub.status.busy": "2024-07-09T23:18:49.784872Z",
     "iopub.status.idle": "2024-07-09T23:19:18.616899Z",
     "shell.execute_reply": "2024-07-09T23:19:18.616899Z",
     "shell.execute_reply.started": "2024-07-09T23:18:49.784872Z"
    }
   },
   "outputs": [],
   "source": [
    "spei_df = (\n",
    "    df.pivot(index=\"date\", columns=\"province\", values=\"water_balance\")\n",
    "    .apply(lambda x: si.spei(x, timescale=1), axis=0)\n",
    "    .unstack()\n",
    "    .reset_index(name=\"spei\")\n",
    ")"
   ]
  },
  {
   "cell_type": "code",
   "execution_count": 11,
   "id": "4eeb459f-9de2-46d2-80a7-c540d13d7f2b",
   "metadata": {
    "execution": {
     "iopub.execute_input": "2024-07-10T00:00:20.936177Z",
     "iopub.status.busy": "2024-07-10T00:00:20.936177Z",
     "iopub.status.idle": "2024-07-10T00:00:20.967428Z",
     "shell.execute_reply": "2024-07-10T00:00:20.967428Z",
     "shell.execute_reply.started": "2024-07-10T00:00:20.936177Z"
    }
   },
   "outputs": [
    {
     "data": {
      "text/html": [
       "<div>\n",
       "<style scoped>\n",
       "    .dataframe tbody tr th:only-of-type {\n",
       "        vertical-align: middle;\n",
       "    }\n",
       "\n",
       "    .dataframe tbody tr th {\n",
       "        vertical-align: top;\n",
       "    }\n",
       "\n",
       "    .dataframe thead th {\n",
       "        text-align: right;\n",
       "    }\n",
       "</style>\n",
       "<table border=\"1\" class=\"dataframe\">\n",
       "  <thead>\n",
       "    <tr style=\"text-align: right;\">\n",
       "      <th></th>\n",
       "      <th>province</th>\n",
       "      <th>date</th>\n",
       "      <th>spei</th>\n",
       "    </tr>\n",
       "  </thead>\n",
       "  <tbody>\n",
       "    <tr>\n",
       "      <th>0</th>\n",
       "      <td>A Coruña</td>\n",
       "      <td>2000-01-01</td>\n",
       "      <td>-0.453178</td>\n",
       "    </tr>\n",
       "    <tr>\n",
       "      <th>1</th>\n",
       "      <td>A Coruña</td>\n",
       "      <td>2000-02-01</td>\n",
       "      <td>-0.305103</td>\n",
       "    </tr>\n",
       "    <tr>\n",
       "      <th>2</th>\n",
       "      <td>A Coruña</td>\n",
       "      <td>2000-03-01</td>\n",
       "      <td>-1.100348</td>\n",
       "    </tr>\n",
       "    <tr>\n",
       "      <th>3</th>\n",
       "      <td>A Coruña</td>\n",
       "      <td>2000-04-01</td>\n",
       "      <td>2.312600</td>\n",
       "    </tr>\n",
       "    <tr>\n",
       "      <th>4</th>\n",
       "      <td>A Coruña</td>\n",
       "      <td>2000-05-01</td>\n",
       "      <td>1.032068</td>\n",
       "    </tr>\n",
       "  </tbody>\n",
       "</table>\n",
       "</div>"
      ],
      "text/plain": [
       "   province       date      spei\n",
       "0  A Coruña 2000-01-01 -0.453178\n",
       "1  A Coruña 2000-02-01 -0.305103\n",
       "2  A Coruña 2000-03-01 -1.100348\n",
       "3  A Coruña 2000-04-01  2.312600\n",
       "4  A Coruña 2000-05-01  1.032068"
      ]
     },
     "execution_count": 11,
     "metadata": {},
     "output_type": "execute_result"
    }
   ],
   "source": [
    "spei_df.head()"
   ]
  },
  {
   "cell_type": "code",
   "execution_count": 12,
   "id": "763f19fc-911a-403b-88ed-36820456c784",
   "metadata": {
    "execution": {
     "iopub.execute_input": "2024-07-10T00:00:22.428572Z",
     "iopub.status.busy": "2024-07-10T00:00:22.428572Z",
     "iopub.status.idle": "2024-07-10T00:00:22.444218Z",
     "shell.execute_reply": "2024-07-10T00:00:22.444218Z",
     "shell.execute_reply.started": "2024-07-10T00:00:22.428572Z"
    }
   },
   "outputs": [
    {
     "data": {
      "text/html": [
       "<div>\n",
       "<style scoped>\n",
       "    .dataframe tbody tr th:only-of-type {\n",
       "        vertical-align: middle;\n",
       "    }\n",
       "\n",
       "    .dataframe tbody tr th {\n",
       "        vertical-align: top;\n",
       "    }\n",
       "\n",
       "    .dataframe thead th {\n",
       "        text-align: right;\n",
       "    }\n",
       "</style>\n",
       "<table border=\"1\" class=\"dataframe\">\n",
       "  <thead>\n",
       "    <tr style=\"text-align: right;\">\n",
       "      <th></th>\n",
       "      <th>province</th>\n",
       "      <th>date</th>\n",
       "      <th>spei</th>\n",
       "    </tr>\n",
       "  </thead>\n",
       "  <tbody>\n",
       "    <tr>\n",
       "      <th>0</th>\n",
       "      <td>A Coruña</td>\n",
       "      <td>2000-01-01</td>\n",
       "      <td>-0.453178</td>\n",
       "    </tr>\n",
       "    <tr>\n",
       "      <th>1</th>\n",
       "      <td>A Coruña</td>\n",
       "      <td>2000-02-01</td>\n",
       "      <td>-0.305103</td>\n",
       "    </tr>\n",
       "    <tr>\n",
       "      <th>2</th>\n",
       "      <td>A Coruña</td>\n",
       "      <td>2000-03-01</td>\n",
       "      <td>-1.100348</td>\n",
       "    </tr>\n",
       "    <tr>\n",
       "      <th>3</th>\n",
       "      <td>A Coruña</td>\n",
       "      <td>2000-04-01</td>\n",
       "      <td>2.312600</td>\n",
       "    </tr>\n",
       "    <tr>\n",
       "      <th>4</th>\n",
       "      <td>A Coruña</td>\n",
       "      <td>2000-05-01</td>\n",
       "      <td>1.032068</td>\n",
       "    </tr>\n",
       "  </tbody>\n",
       "</table>\n",
       "</div>"
      ],
      "text/plain": [
       "   province       date      spei\n",
       "0  A Coruña 2000-01-01 -0.453178\n",
       "1  A Coruña 2000-02-01 -0.305103\n",
       "2  A Coruña 2000-03-01 -1.100348\n",
       "3  A Coruña 2000-04-01  2.312600\n",
       "4  A Coruña 2000-05-01  1.032068"
      ]
     },
     "execution_count": 12,
     "metadata": {},
     "output_type": "execute_result"
    }
   ],
   "source": [
    "spei_df.head()"
   ]
  },
  {
   "cell_type": "code",
   "execution_count": 13,
   "id": "d542c52b-afad-401e-9158-dc81e3a8e718",
   "metadata": {
    "execution": {
     "iopub.execute_input": "2024-07-10T00:00:23.511734Z",
     "iopub.status.busy": "2024-07-10T00:00:23.511734Z",
     "iopub.status.idle": "2024-07-10T00:00:23.527379Z",
     "shell.execute_reply": "2024-07-10T00:00:23.527379Z",
     "shell.execute_reply.started": "2024-07-10T00:00:23.511734Z"
    }
   },
   "outputs": [
    {
     "data": {
      "text/html": [
       "<div>\n",
       "<style scoped>\n",
       "    .dataframe tbody tr th:only-of-type {\n",
       "        vertical-align: middle;\n",
       "    }\n",
       "\n",
       "    .dataframe tbody tr th {\n",
       "        vertical-align: top;\n",
       "    }\n",
       "\n",
       "    .dataframe thead th {\n",
       "        text-align: right;\n",
       "    }\n",
       "</style>\n",
       "<table border=\"1\" class=\"dataframe\">\n",
       "  <thead>\n",
       "    <tr style=\"text-align: right;\">\n",
       "      <th></th>\n",
       "      <th>province</th>\n",
       "      <th>date</th>\n",
       "      <th>avg_pet</th>\n",
       "      <th>avg_precipitation</th>\n",
       "      <th>water_balance</th>\n",
       "    </tr>\n",
       "  </thead>\n",
       "  <tbody>\n",
       "    <tr>\n",
       "      <th>0</th>\n",
       "      <td>A Coruña</td>\n",
       "      <td>2000-01-01</td>\n",
       "      <td>262.324570</td>\n",
       "      <td>57.015631</td>\n",
       "      <td>-205.308939</td>\n",
       "    </tr>\n",
       "    <tr>\n",
       "      <th>1</th>\n",
       "      <td>A Coruña</td>\n",
       "      <td>2000-02-01</td>\n",
       "      <td>375.382717</td>\n",
       "      <td>59.520040</td>\n",
       "      <td>-315.862677</td>\n",
       "    </tr>\n",
       "    <tr>\n",
       "      <th>2</th>\n",
       "      <td>A Coruña</td>\n",
       "      <td>2000-03-01</td>\n",
       "      <td>680.471894</td>\n",
       "      <td>48.476642</td>\n",
       "      <td>-631.995251</td>\n",
       "    </tr>\n",
       "    <tr>\n",
       "      <th>3</th>\n",
       "      <td>A Coruña</td>\n",
       "      <td>2000-04-01</td>\n",
       "      <td>631.914884</td>\n",
       "      <td>225.902888</td>\n",
       "      <td>-406.011996</td>\n",
       "    </tr>\n",
       "    <tr>\n",
       "      <th>4</th>\n",
       "      <td>A Coruña</td>\n",
       "      <td>2000-05-01</td>\n",
       "      <td>971.068998</td>\n",
       "      <td>95.572749</td>\n",
       "      <td>-875.496249</td>\n",
       "    </tr>\n",
       "  </tbody>\n",
       "</table>\n",
       "</div>"
      ],
      "text/plain": [
       "   province       date     avg_pet  avg_precipitation  water_balance\n",
       "0  A Coruña 2000-01-01  262.324570          57.015631    -205.308939\n",
       "1  A Coruña 2000-02-01  375.382717          59.520040    -315.862677\n",
       "2  A Coruña 2000-03-01  680.471894          48.476642    -631.995251\n",
       "3  A Coruña 2000-04-01  631.914884         225.902888    -406.011996\n",
       "4  A Coruña 2000-05-01  971.068998          95.572749    -875.496249"
      ]
     },
     "execution_count": 13,
     "metadata": {},
     "output_type": "execute_result"
    }
   ],
   "source": [
    "df.head()"
   ]
  },
  {
   "cell_type": "code",
   "execution_count": 14,
   "id": "e49b8c14-59a2-4a71-9444-441b2c711e08",
   "metadata": {
    "execution": {
     "iopub.execute_input": "2024-07-10T00:00:23.841277Z",
     "iopub.status.busy": "2024-07-10T00:00:23.841277Z",
     "iopub.status.idle": "2024-07-10T00:00:23.872542Z",
     "shell.execute_reply": "2024-07-10T00:00:23.872542Z",
     "shell.execute_reply.started": "2024-07-10T00:00:23.841277Z"
    }
   },
   "outputs": [],
   "source": [
    "df = pd.merge(left=df, right=spei_df, on=[\"date\", \"province\"], how=\"inner\")"
   ]
  },
  {
   "cell_type": "code",
   "execution_count": 15,
   "id": "345ba18e-4929-4021-a1cb-7e672553e62c",
   "metadata": {
    "execution": {
     "iopub.execute_input": "2024-07-10T00:00:24.484306Z",
     "iopub.status.busy": "2024-07-10T00:00:24.484306Z",
     "iopub.status.idle": "2024-07-10T00:00:24.515957Z",
     "shell.execute_reply": "2024-07-10T00:00:24.515957Z",
     "shell.execute_reply.started": "2024-07-10T00:00:24.484306Z"
    }
   },
   "outputs": [
    {
     "data": {
      "text/html": [
       "<div>\n",
       "<style scoped>\n",
       "    .dataframe tbody tr th:only-of-type {\n",
       "        vertical-align: middle;\n",
       "    }\n",
       "\n",
       "    .dataframe tbody tr th {\n",
       "        vertical-align: top;\n",
       "    }\n",
       "\n",
       "    .dataframe thead th {\n",
       "        text-align: right;\n",
       "    }\n",
       "</style>\n",
       "<table border=\"1\" class=\"dataframe\">\n",
       "  <thead>\n",
       "    <tr style=\"text-align: right;\">\n",
       "      <th></th>\n",
       "      <th>province</th>\n",
       "      <th>date</th>\n",
       "      <th>avg_pet</th>\n",
       "      <th>avg_precipitation</th>\n",
       "      <th>water_balance</th>\n",
       "      <th>spei</th>\n",
       "    </tr>\n",
       "  </thead>\n",
       "  <tbody>\n",
       "    <tr>\n",
       "      <th>0</th>\n",
       "      <td>A Coruña</td>\n",
       "      <td>2000-01-01</td>\n",
       "      <td>262.324570</td>\n",
       "      <td>57.015631</td>\n",
       "      <td>-205.308939</td>\n",
       "      <td>-0.453178</td>\n",
       "    </tr>\n",
       "    <tr>\n",
       "      <th>1</th>\n",
       "      <td>A Coruña</td>\n",
       "      <td>2000-02-01</td>\n",
       "      <td>375.382717</td>\n",
       "      <td>59.520040</td>\n",
       "      <td>-315.862677</td>\n",
       "      <td>-0.305103</td>\n",
       "    </tr>\n",
       "    <tr>\n",
       "      <th>2</th>\n",
       "      <td>A Coruña</td>\n",
       "      <td>2000-03-01</td>\n",
       "      <td>680.471894</td>\n",
       "      <td>48.476642</td>\n",
       "      <td>-631.995251</td>\n",
       "      <td>-1.100348</td>\n",
       "    </tr>\n",
       "    <tr>\n",
       "      <th>3</th>\n",
       "      <td>A Coruña</td>\n",
       "      <td>2000-04-01</td>\n",
       "      <td>631.914884</td>\n",
       "      <td>225.902888</td>\n",
       "      <td>-406.011996</td>\n",
       "      <td>2.312600</td>\n",
       "    </tr>\n",
       "    <tr>\n",
       "      <th>4</th>\n",
       "      <td>A Coruña</td>\n",
       "      <td>2000-05-01</td>\n",
       "      <td>971.068998</td>\n",
       "      <td>95.572749</td>\n",
       "      <td>-875.496249</td>\n",
       "      <td>1.032068</td>\n",
       "    </tr>\n",
       "  </tbody>\n",
       "</table>\n",
       "</div>"
      ],
      "text/plain": [
       "   province       date     avg_pet  avg_precipitation  water_balance      spei\n",
       "0  A Coruña 2000-01-01  262.324570          57.015631    -205.308939 -0.453178\n",
       "1  A Coruña 2000-02-01  375.382717          59.520040    -315.862677 -0.305103\n",
       "2  A Coruña 2000-03-01  680.471894          48.476642    -631.995251 -1.100348\n",
       "3  A Coruña 2000-04-01  631.914884         225.902888    -406.011996  2.312600\n",
       "4  A Coruña 2000-05-01  971.068998          95.572749    -875.496249  1.032068"
      ]
     },
     "execution_count": 15,
     "metadata": {},
     "output_type": "execute_result"
    }
   ],
   "source": [
    "df.head()"
   ]
  },
  {
   "cell_type": "code",
   "execution_count": 16,
   "id": "3ea8d33f-317e-416a-adcd-01f31736e2b1",
   "metadata": {
    "execution": {
     "iopub.execute_input": "2024-07-10T00:00:48.506133Z",
     "iopub.status.busy": "2024-07-10T00:00:48.506133Z",
     "iopub.status.idle": "2024-07-10T00:00:48.679070Z",
     "shell.execute_reply": "2024-07-10T00:00:48.679070Z",
     "shell.execute_reply.started": "2024-07-10T00:00:48.506133Z"
    }
   },
   "outputs": [],
   "source": [
    "df.to_csv('../data/spei.csv', index=False)"
   ]
  },
  {
   "cell_type": "code",
   "execution_count": null,
   "id": "76405a62-bb58-44d4-ba15-4faceaea733a",
   "metadata": {},
   "outputs": [],
   "source": []
  }
 ],
 "metadata": {
  "kernelspec": {
   "display_name": "Python (cs913-dissertation-project)",
   "language": "python",
   "name": "cs913-dissertation-project"
  },
  "language_info": {
   "codemirror_mode": {
    "name": "ipython",
    "version": 3
   },
   "file_extension": ".py",
   "mimetype": "text/x-python",
   "name": "python",
   "nbconvert_exporter": "python",
   "pygments_lexer": "ipython3",
   "version": "3.10.0"
  }
 },
 "nbformat": 4,
 "nbformat_minor": 5
}
