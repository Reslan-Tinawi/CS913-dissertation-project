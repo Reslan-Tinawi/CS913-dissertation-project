{
 "cells": [
  {
   "cell_type": "code",
   "execution_count": 1,
   "id": "80720cd3-75c4-47d9-8c3f-957ff11ebfc7",
   "metadata": {
    "execution": {
     "iopub.execute_input": "2024-06-29T16:39:24.612772Z",
     "iopub.status.busy": "2024-06-29T16:39:24.612772Z",
     "iopub.status.idle": "2024-06-29T16:39:24.782722Z",
     "shell.execute_reply": "2024-06-29T16:39:24.781725Z",
     "shell.execute_reply.started": "2024-06-29T16:39:24.612772Z"
    }
   },
   "outputs": [],
   "source": [
    "import os\n",
    "\n",
    "import requests\n",
    "from bs4 import BeautifulSoup\n",
    "from lxml import etree, html"
   ]
  },
  {
   "cell_type": "code",
   "execution_count": 2,
   "id": "f90f6942-8629-41fb-909c-da785bde94ad",
   "metadata": {
    "execution": {
     "iopub.execute_input": "2024-06-29T16:39:25.332538Z",
     "iopub.status.busy": "2024-06-29T16:39:25.332538Z",
     "iopub.status.idle": "2024-06-29T16:39:25.346054Z",
     "shell.execute_reply": "2024-06-29T16:39:25.345051Z",
     "shell.execute_reply.started": "2024-06-29T16:39:25.332538Z"
    }
   },
   "outputs": [],
   "source": [
    "def get_years_urls(base_url: str):\n",
    "    main_url = \"https://www.mapa.gob.es\"\n",
    "    response = requests.get(base_url)\n",
    "    html_content = response.content\n",
    "\n",
    "    tree = html.fromstring(html_content)\n",
    "\n",
    "    ul_element = tree.xpath(\n",
    "        '//*[@id=\"main\"]/div/div[2]/div[2]/div/div/div[4]/div/div/ul'\n",
    "    )\n",
    "\n",
    "    urls = []\n",
    "\n",
    "    if ul_element:\n",
    "        ul_element = ul_element[0]\n",
    "        for li in ul_element.iterchildren():\n",
    "            relative_url = li.xpath(\".//a\")[0].get(\"href\")\n",
    "            urls.append(main_url + relative_url)\n",
    "    else:\n",
    "        print(\"Element not found\")\n",
    "\n",
    "    return urls"
   ]
  },
  {
   "cell_type": "code",
   "execution_count": 3,
   "id": "2c3cdb57-c7a7-46bc-b44b-063575aa9b10",
   "metadata": {
    "execution": {
     "iopub.execute_input": "2024-06-29T16:39:28.961924Z",
     "iopub.status.busy": "2024-06-29T16:39:28.961924Z",
     "iopub.status.idle": "2024-06-29T16:39:28.976926Z",
     "shell.execute_reply": "2024-06-29T16:39:28.975925Z",
     "shell.execute_reply.started": "2024-06-29T16:39:28.961924Z"
    }
   },
   "outputs": [],
   "source": [
    "def get_area_and_production_urls(yearbook_urls: list[str]) -> list[str]:\n",
    "    result = []\n",
    "\n",
    "    area_and_production_xpath = (\n",
    "        \"//a[contains(text(), 'SUPERFICIES Y PRODUCCIONES DE CULTIVOS')]\"\n",
    "    )\n",
    "\n",
    "    for yearbook_url in yearbook_urls:\n",
    "\n",
    "        try:\n",
    "            response = requests.get(yearbook_url)\n",
    "            html_content = response.content\n",
    "\n",
    "            tree = html.fromstring(html_content)\n",
    "\n",
    "            res = tree.xpath(area_and_production_xpath)\n",
    "\n",
    "            if res:\n",
    "                res = res[0]\n",
    "                area_and_production_url = res.get(\"href\")\n",
    "\n",
    "                result.append(yearbook_url + \"/\" + area_and_production_url)\n",
    "            else:\n",
    "                print(f\"Nothing found for {yearbook_url}\")\n",
    "        except:\n",
    "            print(f\"Couldn't fetch {yearbook_url}\")\n",
    "\n",
    "    return result"
   ]
  },
  {
   "cell_type": "code",
   "execution_count": 4,
   "id": "b2604bbe-5cce-4302-b5ce-22f300c82e22",
   "metadata": {
    "execution": {
     "iopub.execute_input": "2024-06-29T16:39:29.715362Z",
     "iopub.status.busy": "2024-06-29T16:39:29.715362Z",
     "iopub.status.idle": "2024-06-29T16:39:29.728363Z",
     "shell.execute_reply": "2024-06-29T16:39:29.727366Z",
     "shell.execute_reply.started": "2024-06-29T16:39:29.715362Z"
    }
   },
   "outputs": [],
   "source": [
    "base_url = \"https://www.mapa.gob.es/es/estadistica/temas/publicaciones/anuario-de-estadistica/default.aspx\""
   ]
  },
  {
   "cell_type": "code",
   "execution_count": 5,
   "id": "cb372f0c-8dc7-4ccc-b260-59468e01417b",
   "metadata": {
    "execution": {
     "iopub.execute_input": "2024-06-29T16:39:30.462523Z",
     "iopub.status.busy": "2024-06-29T16:39:30.462523Z",
     "iopub.status.idle": "2024-06-29T16:39:30.832887Z",
     "shell.execute_reply": "2024-06-29T16:39:30.832887Z",
     "shell.execute_reply.started": "2024-06-29T16:39:30.462523Z"
    }
   },
   "outputs": [],
   "source": [
    "yearbook_urls = get_years_urls(base_url)"
   ]
  },
  {
   "cell_type": "code",
   "execution_count": 6,
   "id": "9c4ec221-e1fb-4271-b128-da95492f7d6a",
   "metadata": {
    "execution": {
     "iopub.execute_input": "2024-06-29T16:39:31.665672Z",
     "iopub.status.busy": "2024-06-29T16:39:31.665672Z",
     "iopub.status.idle": "2024-06-29T16:39:40.121503Z",
     "shell.execute_reply": "2024-06-29T16:39:40.121503Z",
     "shell.execute_reply.started": "2024-06-29T16:39:31.665672Z"
    }
   },
   "outputs": [],
   "source": [
    "area_and_production_urls = get_area_and_production_urls(yearbook_urls)"
   ]
  },
  {
   "cell_type": "code",
   "execution_count": null,
   "id": "8ac667da-a177-4dde-a57f-96b5873c70fe",
   "metadata": {},
   "outputs": [],
   "source": []
  }
 ],
 "metadata": {
  "kernelspec": {
   "display_name": "Python (cs913-dissertation-project)",
   "language": "python",
   "name": "cs913-dissertation-project"
  },
  "language_info": {
   "codemirror_mode": {
    "name": "ipython",
    "version": 3
   },
   "file_extension": ".py",
   "mimetype": "text/x-python",
   "name": "python",
   "nbconvert_exporter": "python",
   "pygments_lexer": "ipython3",
   "version": "3.10.0"
  }
 },
 "nbformat": 4,
 "nbformat_minor": 5
}
