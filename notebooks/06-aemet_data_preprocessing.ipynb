{
 "cells": [
  {
   "cell_type": "code",
   "execution_count": 1,
   "id": "ebbf718f-6148-4eae-9193-af980c7798f6",
   "metadata": {
    "execution": {
     "iopub.execute_input": "2024-08-17T15:07:54.675508Z",
     "iopub.status.busy": "2024-08-17T15:07:54.675508Z",
     "iopub.status.idle": "2024-08-17T15:07:57.075696Z",
     "shell.execute_reply": "2024-08-17T15:07:57.075696Z",
     "shell.execute_reply.started": "2024-08-17T15:07:54.675508Z"
    }
   },
   "outputs": [],
   "source": [
    "from pathlib import Path\n",
    "\n",
    "import geopandas as gpd\n",
    "import numpy as np\n",
    "import pandas as pd"
   ]
  },
  {
   "cell_type": "code",
   "execution_count": 2,
   "id": "7ff92a06-5082-499d-b657-674db744f42c",
   "metadata": {
    "execution": {
     "iopub.execute_input": "2024-08-17T15:07:57.654421Z",
     "iopub.status.busy": "2024-08-17T15:07:57.654421Z",
     "iopub.status.idle": "2024-08-17T15:07:57.661124Z",
     "shell.execute_reply": "2024-08-17T15:07:57.661124Z",
     "shell.execute_reply.started": "2024-08-17T15:07:57.654421Z"
    }
   },
   "outputs": [],
   "source": [
    "aemet_data_path = Path(\"../data/raw/aemet/\")"
   ]
  },
  {
   "cell_type": "code",
   "execution_count": 3,
   "id": "f8a95683-d837-4437-85bf-bcb472dd554f",
   "metadata": {
    "execution": {
     "iopub.execute_input": "2024-08-17T15:07:57.959595Z",
     "iopub.status.busy": "2024-08-17T15:07:57.959595Z",
     "iopub.status.idle": "2024-08-17T15:08:12.204413Z",
     "shell.execute_reply": "2024-08-17T15:08:12.204413Z",
     "shell.execute_reply.started": "2024-08-17T15:07:57.959595Z"
    }
   },
   "outputs": [],
   "source": [
    "aemet_data = pd.read_csv(aemet_data_path / \"aemet_daily_data.csv\")"
   ]
  },
  {
   "cell_type": "code",
   "execution_count": 4,
   "id": "24c5d9cb-1664-4d2e-bab8-aabcbdec7dd5",
   "metadata": {
    "execution": {
     "iopub.execute_input": "2024-08-17T15:08:12.204413Z",
     "iopub.status.busy": "2024-08-17T15:08:12.204413Z",
     "iopub.status.idle": "2024-08-17T15:08:12.235583Z",
     "shell.execute_reply": "2024-08-17T15:08:12.235583Z",
     "shell.execute_reply.started": "2024-08-17T15:08:12.204413Z"
    }
   },
   "outputs": [
    {
     "data": {
      "text/html": [
       "<div>\n",
       "<style scoped>\n",
       "    .dataframe tbody tr th:only-of-type {\n",
       "        vertical-align: middle;\n",
       "    }\n",
       "\n",
       "    .dataframe tbody tr th {\n",
       "        vertical-align: top;\n",
       "    }\n",
       "\n",
       "    .dataframe thead th {\n",
       "        text-align: right;\n",
       "    }\n",
       "</style>\n",
       "<table border=\"1\" class=\"dataframe\">\n",
       "  <thead>\n",
       "    <tr style=\"text-align: right;\">\n",
       "      <th></th>\n",
       "      <th>fecha</th>\n",
       "      <th>indicativo</th>\n",
       "      <th>nombre</th>\n",
       "      <th>provincia</th>\n",
       "      <th>altitud</th>\n",
       "      <th>tmed</th>\n",
       "      <th>prec</th>\n",
       "      <th>tmin</th>\n",
       "      <th>horatmin</th>\n",
       "      <th>tmax</th>\n",
       "      <th>...</th>\n",
       "      <th>hrMedia</th>\n",
       "      <th>presMax</th>\n",
       "      <th>horaPresMax</th>\n",
       "      <th>presMin</th>\n",
       "      <th>horaPresMin</th>\n",
       "      <th>hrMax</th>\n",
       "      <th>horaHrMax</th>\n",
       "      <th>hrMin</th>\n",
       "      <th>horaHrMin</th>\n",
       "      <th>sol</th>\n",
       "    </tr>\n",
       "  </thead>\n",
       "  <tbody>\n",
       "    <tr>\n",
       "      <th>0</th>\n",
       "      <td>1998-01-01</td>\n",
       "      <td>9394X</td>\n",
       "      <td>CALATAYUD</td>\n",
       "      <td>ZARAGOZA</td>\n",
       "      <td>582</td>\n",
       "      <td>6.5</td>\n",
       "      <td>0,0</td>\n",
       "      <td>2.8</td>\n",
       "      <td>07:30</td>\n",
       "      <td>10.2</td>\n",
       "      <td>...</td>\n",
       "      <td>NaN</td>\n",
       "      <td>NaN</td>\n",
       "      <td>NaN</td>\n",
       "      <td>NaN</td>\n",
       "      <td>NaN</td>\n",
       "      <td>NaN</td>\n",
       "      <td>NaN</td>\n",
       "      <td>NaN</td>\n",
       "      <td>NaN</td>\n",
       "      <td>NaN</td>\n",
       "    </tr>\n",
       "    <tr>\n",
       "      <th>1</th>\n",
       "      <td>1998-01-01</td>\n",
       "      <td>B434X</td>\n",
       "      <td>PORTOCOLOM</td>\n",
       "      <td>ILLES BALEARS</td>\n",
       "      <td>17</td>\n",
       "      <td>13.0</td>\n",
       "      <td>0,6</td>\n",
       "      <td>10.3</td>\n",
       "      <td>02:40</td>\n",
       "      <td>15.8</td>\n",
       "      <td>...</td>\n",
       "      <td>90.0</td>\n",
       "      <td>NaN</td>\n",
       "      <td>NaN</td>\n",
       "      <td>NaN</td>\n",
       "      <td>NaN</td>\n",
       "      <td>NaN</td>\n",
       "      <td>NaN</td>\n",
       "      <td>NaN</td>\n",
       "      <td>NaN</td>\n",
       "      <td>NaN</td>\n",
       "    </tr>\n",
       "    <tr>\n",
       "      <th>2</th>\n",
       "      <td>1998-01-01</td>\n",
       "      <td>8293X</td>\n",
       "      <td>XÀTIVA</td>\n",
       "      <td>VALENCIA</td>\n",
       "      <td>88</td>\n",
       "      <td>9.1</td>\n",
       "      <td>5,3</td>\n",
       "      <td>7.4</td>\n",
       "      <td>08:40</td>\n",
       "      <td>10.8</td>\n",
       "      <td>...</td>\n",
       "      <td>NaN</td>\n",
       "      <td>NaN</td>\n",
       "      <td>NaN</td>\n",
       "      <td>NaN</td>\n",
       "      <td>NaN</td>\n",
       "      <td>NaN</td>\n",
       "      <td>NaN</td>\n",
       "      <td>NaN</td>\n",
       "      <td>NaN</td>\n",
       "      <td>NaN</td>\n",
       "    </tr>\n",
       "    <tr>\n",
       "      <th>3</th>\n",
       "      <td>1998-01-01</td>\n",
       "      <td>2400E</td>\n",
       "      <td>AUTILLA DEL PINO</td>\n",
       "      <td>PALENCIA</td>\n",
       "      <td>874</td>\n",
       "      <td>0.6</td>\n",
       "      <td>0,0</td>\n",
       "      <td>-2.9</td>\n",
       "      <td>06:30</td>\n",
       "      <td>4.2</td>\n",
       "      <td>...</td>\n",
       "      <td>87.0</td>\n",
       "      <td>916.8</td>\n",
       "      <td>Varias</td>\n",
       "      <td>911.9</td>\n",
       "      <td>00</td>\n",
       "      <td>98.0</td>\n",
       "      <td>07:00</td>\n",
       "      <td>77.0</td>\n",
       "      <td>Varias</td>\n",
       "      <td>NaN</td>\n",
       "    </tr>\n",
       "    <tr>\n",
       "      <th>4</th>\n",
       "      <td>1998-01-01</td>\n",
       "      <td>2755X</td>\n",
       "      <td>BENAVENTE</td>\n",
       "      <td>ZAMORA</td>\n",
       "      <td>715</td>\n",
       "      <td>3.0</td>\n",
       "      <td>0,0</td>\n",
       "      <td>-2.3</td>\n",
       "      <td>07:50</td>\n",
       "      <td>8.2</td>\n",
       "      <td>...</td>\n",
       "      <td>66.0</td>\n",
       "      <td>NaN</td>\n",
       "      <td>NaN</td>\n",
       "      <td>NaN</td>\n",
       "      <td>NaN</td>\n",
       "      <td>88.0</td>\n",
       "      <td>08:25</td>\n",
       "      <td>45.0</td>\n",
       "      <td>Varias</td>\n",
       "      <td>NaN</td>\n",
       "    </tr>\n",
       "  </tbody>\n",
       "</table>\n",
       "<p>5 rows × 25 columns</p>\n",
       "</div>"
      ],
      "text/plain": [
       "        fecha indicativo            nombre      provincia  altitud  tmed prec  \\\n",
       "0  1998-01-01      9394X         CALATAYUD       ZARAGOZA      582   6.5  0,0   \n",
       "1  1998-01-01      B434X        PORTOCOLOM  ILLES BALEARS       17  13.0  0,6   \n",
       "2  1998-01-01      8293X            XÀTIVA       VALENCIA       88   9.1  5,3   \n",
       "3  1998-01-01      2400E  AUTILLA DEL PINO       PALENCIA      874   0.6  0,0   \n",
       "4  1998-01-01      2755X         BENAVENTE         ZAMORA      715   3.0  0,0   \n",
       "\n",
       "   tmin horatmin  tmax  ... hrMedia  presMax  horaPresMax  presMin  \\\n",
       "0   2.8    07:30  10.2  ...     NaN      NaN          NaN      NaN   \n",
       "1  10.3    02:40  15.8  ...    90.0      NaN          NaN      NaN   \n",
       "2   7.4    08:40  10.8  ...     NaN      NaN          NaN      NaN   \n",
       "3  -2.9    06:30   4.2  ...    87.0    916.8       Varias    911.9   \n",
       "4  -2.3    07:50   8.2  ...    66.0      NaN          NaN      NaN   \n",
       "\n",
       "  horaPresMin  hrMax  horaHrMax hrMin  horaHrMin sol  \n",
       "0         NaN    NaN        NaN   NaN        NaN NaN  \n",
       "1         NaN    NaN        NaN   NaN        NaN NaN  \n",
       "2         NaN    NaN        NaN   NaN        NaN NaN  \n",
       "3          00   98.0      07:00  77.0     Varias NaN  \n",
       "4         NaN   88.0      08:25  45.0     Varias NaN  \n",
       "\n",
       "[5 rows x 25 columns]"
      ]
     },
     "execution_count": 4,
     "metadata": {},
     "output_type": "execute_result"
    }
   ],
   "source": [
    "aemet_data.head()"
   ]
  },
  {
   "cell_type": "code",
   "execution_count": 5,
   "id": "5327d1c9-26df-4780-8000-69dbdc7a6661",
   "metadata": {
    "execution": {
     "iopub.execute_input": "2024-08-17T15:08:12.235583Z",
     "iopub.status.busy": "2024-08-17T15:08:12.235583Z",
     "iopub.status.idle": "2024-08-17T15:08:12.243750Z",
     "shell.execute_reply": "2024-08-17T15:08:12.243750Z",
     "shell.execute_reply.started": "2024-08-17T15:08:12.235583Z"
    }
   },
   "outputs": [],
   "source": [
    "columns_mapping = {\n",
    "    \"fecha\": \"date\",\n",
    "    \"indicativo\": \"station_id\",\n",
    "    \"nombre\": \"station_name\",\n",
    "    \"provincia\": \"province\",\n",
    "    \"tmed\": \"temperature_average\",\n",
    "    \"tmin\": \"temperature_min\",\n",
    "    \"tmax\": \"temperature_max\",\n",
    "    \"prec\": \"precipitation\",\n",
    "    \"velmedia\": \"wind_speed_average\",\n",
    "    \"sol\": \"solar_radiation\",\n",
    "    \"presMax\": \"pressure_max\",\n",
    "    \"presMin\": \"pressure_min\",\n",
    "    \"hrMedia\": \"humidity_average\",\n",
    "    \"hrMax\": \"humidity_max\",\n",
    "    \"hrMin\": \"humidity_min\",\n",
    "}"
   ]
  },
  {
   "cell_type": "code",
   "execution_count": 6,
   "id": "3e112d47-6e3e-4690-bacc-c4e249ebf8cd",
   "metadata": {
    "execution": {
     "iopub.execute_input": "2024-08-17T15:08:28.089219Z",
     "iopub.status.busy": "2024-08-17T15:08:28.089219Z",
     "iopub.status.idle": "2024-08-17T15:08:28.096205Z",
     "shell.execute_reply": "2024-08-17T15:08:28.096205Z",
     "shell.execute_reply.started": "2024-08-17T15:08:28.089219Z"
    }
   },
   "outputs": [],
   "source": [
    "numeric_columns = [\n",
    "    \"temperature_average\",\n",
    "    \"temperature_min\",\n",
    "    \"temperature_max\",\n",
    "    \"precipitation\",\n",
    "    \"wind_speed_average\",\n",
    "    \"solar_radiation\",\n",
    "    \"pressure_max\",\n",
    "    \"pressure_min\",\n",
    "    \"humidity_average\",\n",
    "    \"humidity_max\",\n",
    "    \"humidity_min\",\n",
    "]"
   ]
  },
  {
   "cell_type": "code",
   "execution_count": 7,
   "id": "cca300e1-5ae7-474a-8d0d-4e0e7a5a911d",
   "metadata": {
    "execution": {
     "iopub.execute_input": "2024-08-17T15:08:29.393970Z",
     "iopub.status.busy": "2024-08-17T15:08:29.393970Z",
     "iopub.status.idle": "2024-08-17T15:08:29.400359Z",
     "shell.execute_reply": "2024-08-17T15:08:29.400359Z",
     "shell.execute_reply.started": "2024-08-17T15:08:29.393970Z"
    }
   },
   "outputs": [],
   "source": [
    "columns_to_keep = list(columns_mapping.keys())"
   ]
  },
  {
   "cell_type": "code",
   "execution_count": 8,
   "id": "ee47140b-aec4-4efc-b197-5959985fa4fd",
   "metadata": {
    "execution": {
     "iopub.execute_input": "2024-08-17T15:08:31.343145Z",
     "iopub.status.busy": "2024-08-17T15:08:31.343145Z",
     "iopub.status.idle": "2024-08-17T15:08:31.645851Z",
     "shell.execute_reply": "2024-08-17T15:08:31.645851Z",
     "shell.execute_reply.started": "2024-08-17T15:08:31.343145Z"
    }
   },
   "outputs": [],
   "source": [
    "aemet_data = aemet_data[columns_to_keep]"
   ]
  },
  {
   "cell_type": "code",
   "execution_count": 9,
   "id": "d74653d1-7b49-40d8-b0e2-657e7bf8596c",
   "metadata": {
    "execution": {
     "iopub.execute_input": "2024-08-17T15:08:35.726677Z",
     "iopub.status.busy": "2024-08-17T15:08:35.726144Z",
     "iopub.status.idle": "2024-08-17T15:08:36.040249Z",
     "shell.execute_reply": "2024-08-17T15:08:36.040249Z",
     "shell.execute_reply.started": "2024-08-17T15:08:35.726677Z"
    }
   },
   "outputs": [],
   "source": [
    "aemet_data = aemet_data.rename(columns=columns_mapping)"
   ]
  },
  {
   "cell_type": "code",
   "execution_count": 10,
   "id": "d9126d1d-6746-4414-a4e2-b3274a3a8525",
   "metadata": {
    "execution": {
     "iopub.execute_input": "2024-08-17T15:08:37.595205Z",
     "iopub.status.busy": "2024-08-17T15:08:37.595205Z",
     "iopub.status.idle": "2024-08-17T15:08:37.602355Z",
     "shell.execute_reply": "2024-08-17T15:08:37.602355Z",
     "shell.execute_reply.started": "2024-08-17T15:08:37.595205Z"
    }
   },
   "outputs": [],
   "source": [
    "def convert_to_float(series: pd.Series) -> pd.Series:\n",
    "    return pd.to_numeric(\n",
    "        series.replace({\"Ip\": \"0.0\", \"Acum\": np.nan}).str.replace(\",\", \".\")\n",
    "    )"
   ]
  },
  {
   "cell_type": "code",
   "execution_count": 11,
   "id": "a38e365a-8d3c-4b97-bd2e-6e181a91b790",
   "metadata": {
    "execution": {
     "iopub.execute_input": "2024-08-17T15:08:38.890552Z",
     "iopub.status.busy": "2024-08-17T15:08:38.890552Z",
     "iopub.status.idle": "2024-08-17T15:08:39.362236Z",
     "shell.execute_reply": "2024-08-17T15:08:39.362236Z",
     "shell.execute_reply.started": "2024-08-17T15:08:38.890552Z"
    }
   },
   "outputs": [],
   "source": [
    "aemet_data[\"date\"] = pd.to_datetime(aemet_data[\"date\"])"
   ]
  },
  {
   "cell_type": "code",
   "execution_count": 12,
   "id": "2408ae01-13b3-4781-a6c5-4d5c079fdc12",
   "metadata": {
    "execution": {
     "iopub.execute_input": "2024-08-17T15:08:40.175664Z",
     "iopub.status.busy": "2024-08-17T15:08:40.175664Z",
     "iopub.status.idle": "2024-08-17T15:08:43.306915Z",
     "shell.execute_reply": "2024-08-17T15:08:43.306915Z",
     "shell.execute_reply.started": "2024-08-17T15:08:40.175664Z"
    }
   },
   "outputs": [],
   "source": [
    "for column in numeric_columns:\n",
    "    if aemet_data[column].dtype == \"object\":\n",
    "        aemet_data[column] = convert_to_float(aemet_data[column])"
   ]
  },
  {
   "cell_type": "code",
   "execution_count": 13,
   "id": "6a9c1b05-c12a-4890-bf85-2443eae9b4d9",
   "metadata": {
    "execution": {
     "iopub.execute_input": "2024-08-17T15:08:44.462284Z",
     "iopub.status.busy": "2024-08-17T15:08:44.461236Z",
     "iopub.status.idle": "2024-08-17T15:08:44.866806Z",
     "shell.execute_reply": "2024-08-17T15:08:44.866806Z",
     "shell.execute_reply.started": "2024-08-17T15:08:44.462284Z"
    }
   },
   "outputs": [],
   "source": [
    "aemet_data[numeric_columns] = aemet_data[numeric_columns].astype(\"float32\")"
   ]
  },
  {
   "cell_type": "code",
   "execution_count": 14,
   "id": "8a80a754-d81a-4dcc-9609-89cf9ea7d7b1",
   "metadata": {
    "execution": {
     "iopub.execute_input": "2024-08-17T15:08:45.433064Z",
     "iopub.status.busy": "2024-08-17T15:08:45.433064Z",
     "iopub.status.idle": "2024-08-17T15:08:45.451984Z",
     "shell.execute_reply": "2024-08-17T15:08:45.451984Z",
     "shell.execute_reply.started": "2024-08-17T15:08:45.433064Z"
    }
   },
   "outputs": [
    {
     "data": {
      "text/html": [
       "<div>\n",
       "<style scoped>\n",
       "    .dataframe tbody tr th:only-of-type {\n",
       "        vertical-align: middle;\n",
       "    }\n",
       "\n",
       "    .dataframe tbody tr th {\n",
       "        vertical-align: top;\n",
       "    }\n",
       "\n",
       "    .dataframe thead th {\n",
       "        text-align: right;\n",
       "    }\n",
       "</style>\n",
       "<table border=\"1\" class=\"dataframe\">\n",
       "  <thead>\n",
       "    <tr style=\"text-align: right;\">\n",
       "      <th></th>\n",
       "      <th>date</th>\n",
       "      <th>station_id</th>\n",
       "      <th>station_name</th>\n",
       "      <th>province</th>\n",
       "      <th>temperature_average</th>\n",
       "      <th>temperature_min</th>\n",
       "      <th>temperature_max</th>\n",
       "      <th>precipitation</th>\n",
       "      <th>wind_speed_average</th>\n",
       "      <th>solar_radiation</th>\n",
       "      <th>pressure_max</th>\n",
       "      <th>pressure_min</th>\n",
       "      <th>humidity_average</th>\n",
       "      <th>humidity_max</th>\n",
       "      <th>humidity_min</th>\n",
       "    </tr>\n",
       "  </thead>\n",
       "  <tbody>\n",
       "    <tr>\n",
       "      <th>0</th>\n",
       "      <td>1998-01-01</td>\n",
       "      <td>9394X</td>\n",
       "      <td>CALATAYUD</td>\n",
       "      <td>ZARAGOZA</td>\n",
       "      <td>6.5</td>\n",
       "      <td>2.8</td>\n",
       "      <td>10.2</td>\n",
       "      <td>0.0</td>\n",
       "      <td>1.4</td>\n",
       "      <td>NaN</td>\n",
       "      <td>NaN</td>\n",
       "      <td>NaN</td>\n",
       "      <td>NaN</td>\n",
       "      <td>NaN</td>\n",
       "      <td>NaN</td>\n",
       "    </tr>\n",
       "    <tr>\n",
       "      <th>1</th>\n",
       "      <td>1998-01-01</td>\n",
       "      <td>B434X</td>\n",
       "      <td>PORTOCOLOM</td>\n",
       "      <td>ILLES BALEARS</td>\n",
       "      <td>13.0</td>\n",
       "      <td>10.3</td>\n",
       "      <td>15.8</td>\n",
       "      <td>0.6</td>\n",
       "      <td>6.4</td>\n",
       "      <td>NaN</td>\n",
       "      <td>NaN</td>\n",
       "      <td>NaN</td>\n",
       "      <td>90.0</td>\n",
       "      <td>NaN</td>\n",
       "      <td>NaN</td>\n",
       "    </tr>\n",
       "    <tr>\n",
       "      <th>2</th>\n",
       "      <td>1998-01-01</td>\n",
       "      <td>8293X</td>\n",
       "      <td>XÀTIVA</td>\n",
       "      <td>VALENCIA</td>\n",
       "      <td>9.1</td>\n",
       "      <td>7.4</td>\n",
       "      <td>10.8</td>\n",
       "      <td>5.3</td>\n",
       "      <td>1.1</td>\n",
       "      <td>NaN</td>\n",
       "      <td>NaN</td>\n",
       "      <td>NaN</td>\n",
       "      <td>NaN</td>\n",
       "      <td>NaN</td>\n",
       "      <td>NaN</td>\n",
       "    </tr>\n",
       "    <tr>\n",
       "      <th>3</th>\n",
       "      <td>1998-01-01</td>\n",
       "      <td>2400E</td>\n",
       "      <td>AUTILLA DEL PINO</td>\n",
       "      <td>PALENCIA</td>\n",
       "      <td>0.6</td>\n",
       "      <td>-2.9</td>\n",
       "      <td>4.2</td>\n",
       "      <td>0.0</td>\n",
       "      <td>2.2</td>\n",
       "      <td>NaN</td>\n",
       "      <td>916.799988</td>\n",
       "      <td>911.900024</td>\n",
       "      <td>87.0</td>\n",
       "      <td>98.0</td>\n",
       "      <td>77.0</td>\n",
       "    </tr>\n",
       "    <tr>\n",
       "      <th>4</th>\n",
       "      <td>1998-01-01</td>\n",
       "      <td>2755X</td>\n",
       "      <td>BENAVENTE</td>\n",
       "      <td>ZAMORA</td>\n",
       "      <td>3.0</td>\n",
       "      <td>-2.3</td>\n",
       "      <td>8.2</td>\n",
       "      <td>0.0</td>\n",
       "      <td>0.8</td>\n",
       "      <td>NaN</td>\n",
       "      <td>NaN</td>\n",
       "      <td>NaN</td>\n",
       "      <td>66.0</td>\n",
       "      <td>88.0</td>\n",
       "      <td>45.0</td>\n",
       "    </tr>\n",
       "  </tbody>\n",
       "</table>\n",
       "</div>"
      ],
      "text/plain": [
       "        date station_id      station_name       province  temperature_average  \\\n",
       "0 1998-01-01      9394X         CALATAYUD       ZARAGOZA                  6.5   \n",
       "1 1998-01-01      B434X        PORTOCOLOM  ILLES BALEARS                 13.0   \n",
       "2 1998-01-01      8293X            XÀTIVA       VALENCIA                  9.1   \n",
       "3 1998-01-01      2400E  AUTILLA DEL PINO       PALENCIA                  0.6   \n",
       "4 1998-01-01      2755X         BENAVENTE         ZAMORA                  3.0   \n",
       "\n",
       "   temperature_min  temperature_max  precipitation  wind_speed_average  \\\n",
       "0              2.8             10.2            0.0                 1.4   \n",
       "1             10.3             15.8            0.6                 6.4   \n",
       "2              7.4             10.8            5.3                 1.1   \n",
       "3             -2.9              4.2            0.0                 2.2   \n",
       "4             -2.3              8.2            0.0                 0.8   \n",
       "\n",
       "   solar_radiation  pressure_max  pressure_min  humidity_average  \\\n",
       "0              NaN           NaN           NaN               NaN   \n",
       "1              NaN           NaN           NaN              90.0   \n",
       "2              NaN           NaN           NaN               NaN   \n",
       "3              NaN    916.799988    911.900024              87.0   \n",
       "4              NaN           NaN           NaN              66.0   \n",
       "\n",
       "   humidity_max  humidity_min  \n",
       "0           NaN           NaN  \n",
       "1           NaN           NaN  \n",
       "2           NaN           NaN  \n",
       "3          98.0          77.0  \n",
       "4          88.0          45.0  "
      ]
     },
     "execution_count": 14,
     "metadata": {},
     "output_type": "execute_result"
    }
   ],
   "source": [
    "aemet_data.head()"
   ]
  },
  {
   "cell_type": "code",
   "execution_count": 15,
   "id": "92f530bb-e583-489a-88c6-f7123a133bd0",
   "metadata": {
    "execution": {
     "iopub.execute_input": "2024-08-17T15:08:46.289092Z",
     "iopub.status.busy": "2024-08-17T15:08:46.289092Z",
     "iopub.status.idle": "2024-08-17T15:08:46.297455Z",
     "shell.execute_reply": "2024-08-17T15:08:46.297455Z",
     "shell.execute_reply.started": "2024-08-17T15:08:46.289092Z"
    }
   },
   "outputs": [
    {
     "data": {
      "text/plain": [
       "date                   datetime64[ns]\n",
       "station_id                     object\n",
       "station_name                   object\n",
       "province                       object\n",
       "temperature_average           float32\n",
       "temperature_min               float32\n",
       "temperature_max               float32\n",
       "precipitation                 float32\n",
       "wind_speed_average            float32\n",
       "solar_radiation               float32\n",
       "pressure_max                  float32\n",
       "pressure_min                  float32\n",
       "humidity_average              float32\n",
       "humidity_max                  float32\n",
       "humidity_min                  float32\n",
       "dtype: object"
      ]
     },
     "execution_count": 15,
     "metadata": {},
     "output_type": "execute_result"
    }
   ],
   "source": [
    "aemet_data.dtypes"
   ]
  },
  {
   "cell_type": "code",
   "execution_count": 16,
   "id": "f49fb77e-5663-4686-b97b-fae6d7c9f0ae",
   "metadata": {
    "execution": {
     "iopub.execute_input": "2024-08-17T15:08:47.556910Z",
     "iopub.status.busy": "2024-08-17T15:08:47.556910Z",
     "iopub.status.idle": "2024-08-17T15:08:48.175989Z",
     "shell.execute_reply": "2024-08-17T15:08:48.175989Z",
     "shell.execute_reply.started": "2024-08-17T15:08:47.556910Z"
    }
   },
   "outputs": [
    {
     "data": {
      "text/plain": [
       "date                   0.000000\n",
       "station_id             0.000000\n",
       "station_name           0.000000\n",
       "province               0.000000\n",
       "temperature_average    0.031719\n",
       "temperature_min        0.031364\n",
       "temperature_max        0.031176\n",
       "precipitation          0.034826\n",
       "wind_speed_average     0.223662\n",
       "solar_radiation        0.800896\n",
       "pressure_max           0.725008\n",
       "pressure_min           0.725013\n",
       "humidity_average       0.132318\n",
       "humidity_max           0.201242\n",
       "humidity_min           0.201181\n",
       "dtype: float64"
      ]
     },
     "execution_count": 16,
     "metadata": {},
     "output_type": "execute_result"
    }
   ],
   "source": [
    "aemet_data.isna().sum() / len(aemet_data)"
   ]
  },
  {
   "cell_type": "code",
   "execution_count": 17,
   "id": "fd6bffc0-4921-4b2e-ad88-da78b0ddc936",
   "metadata": {
    "execution": {
     "iopub.execute_input": "2024-08-17T15:08:48.983842Z",
     "iopub.status.busy": "2024-08-17T15:08:48.982830Z",
     "iopub.status.idle": "2024-08-17T15:08:48.990961Z",
     "shell.execute_reply": "2024-08-17T15:08:48.990443Z",
     "shell.execute_reply.started": "2024-08-17T15:08:48.982830Z"
    }
   },
   "outputs": [],
   "source": [
    "province_name_mapping = {\n",
    "    \"A CORUÑA\": \"A Coruña\",\n",
    "    \"ALBACETE\": \"Albacete\",\n",
    "    \"ALICANTE\": \"Alacant/Alicante\",\n",
    "    \"ALMERIA\": \"Almería\",\n",
    "    \"ARABA/ALAVA\": \"Araba/Álava\",\n",
    "    \"ASTURIAS\": \"Asturias\",\n",
    "    \"AVILA\": \"Ávila\",\n",
    "    \"BADAJOZ\": \"Badajoz\",\n",
    "    \"BALEARES\": \"Illes Balears\",\n",
    "    \"BARCELONA\": \"Barcelona\",\n",
    "    \"BIZKAIA\": \"Bizkaia\",\n",
    "    \"BURGOS\": \"Burgos\",\n",
    "    \"CACERES\": \"Cáceres\",\n",
    "    \"CADIZ\": \"Cádiz\",\n",
    "    \"CANTABRIA\": \"Cantabria\",\n",
    "    \"CASTELLON\": \"Castelló/Castellón\",\n",
    "    \"CEUTA\": \"Ceuta\",\n",
    "    \"CIUDAD REAL\": \"Ciudad Real\",\n",
    "    \"CORDOBA\": \"Córdoba\",\n",
    "    \"CUENCA\": \"Cuenca\",\n",
    "    \"GIPUZKOA\": \"Gipuzkoa\",\n",
    "    \"GIRONA\": \"Girona\",\n",
    "    \"GRANADA\": \"Granada\",\n",
    "    \"GUADALAJARA\": \"Guadalajara\",\n",
    "    \"HUELVA\": \"Huelva\",\n",
    "    \"HUESCA\": \"Huesca\",\n",
    "    \"ILLES BALEARS\": \"Illes Balears\",\n",
    "    \"JAEN\": \"Jaén\",\n",
    "    \"LA RIOJA\": \"La Rioja\",\n",
    "    \"LAS PALMAS\": \"Las Palmas\",\n",
    "    \"LEON\": \"León\",\n",
    "    \"LLEIDA\": \"Lleida\",\n",
    "    \"LUGO\": \"Lugo\",\n",
    "    \"MADRID\": \"Madrid\",\n",
    "    \"MALAGA\": \"Málaga\",\n",
    "    \"MELILLA\": \"Melilla\",\n",
    "    \"MURCIA\": \"Murcia\",\n",
    "    \"NAVARRA\": \"Navarra\",\n",
    "    \"OURENSE\": \"Ourense\",\n",
    "    \"PALENCIA\": \"Palencia\",\n",
    "    \"PONTEVEDRA\": \"Pontevedra\",\n",
    "    \"SALAMANCA\": \"Salamanca\",\n",
    "    \"SEGOVIA\": \"Segovia\",\n",
    "    \"SEVILLA\": \"Sevilla\",\n",
    "    \"SORIA\": \"Soria\",\n",
    "    \"STA. CRUZ DE TENERIFE\": \"Santa Cruz de Tenerife\",\n",
    "    \"TARRAGONA\": \"Tarragona\",\n",
    "    \"TERUEL\": \"Teruel\",\n",
    "    \"TOLEDO\": \"Toledo\",\n",
    "    \"VALENCIA\": \"València/Valencia\",\n",
    "    \"VALLADOLID\": \"Valladolid\",\n",
    "    \"ZAMORA\": \"Zamora\",\n",
    "    \"ZARAGOZA\": \"Zaragoza\",\n",
    "}"
   ]
  },
  {
   "cell_type": "code",
   "execution_count": 18,
   "id": "a9f42b45-c2ef-4ea0-9b09-5c14f27a15c7",
   "metadata": {
    "execution": {
     "iopub.execute_input": "2024-08-17T15:08:49.545672Z",
     "iopub.status.busy": "2024-08-17T15:08:49.545672Z",
     "iopub.status.idle": "2024-08-17T15:08:49.914412Z",
     "shell.execute_reply": "2024-08-17T15:08:49.914412Z",
     "shell.execute_reply.started": "2024-08-17T15:08:49.545672Z"
    }
   },
   "outputs": [],
   "source": [
    "aemet_data[\"province\"] = aemet_data[\"province\"].map(province_name_mapping)"
   ]
  },
  {
   "cell_type": "code",
   "execution_count": 19,
   "id": "e17d76e3-da92-4b1f-9de3-e2bfe56d2036",
   "metadata": {
    "execution": {
     "iopub.execute_input": "2024-08-17T15:08:50.968428Z",
     "iopub.status.busy": "2024-08-17T15:08:50.968428Z",
     "iopub.status.idle": "2024-08-17T15:08:52.274465Z",
     "shell.execute_reply": "2024-08-17T15:08:52.274465Z",
     "shell.execute_reply.started": "2024-08-17T15:08:50.968428Z"
    }
   },
   "outputs": [],
   "source": [
    "aemet_daily_data = (\n",
    "    aemet_data.drop(columns=[\"station_id\", \"station_name\"])\n",
    "    .groupby(by=[\"province\", \"date\"], as_index=False)\n",
    "    .mean()\n",
    ")"
   ]
  },
  {
   "cell_type": "code",
   "execution_count": 20,
   "id": "b8d76039-248e-412a-917b-f99ff3011f30",
   "metadata": {
    "execution": {
     "iopub.execute_input": "2024-08-17T15:08:55.164493Z",
     "iopub.status.busy": "2024-08-17T15:08:55.164493Z",
     "iopub.status.idle": "2024-08-17T15:09:05.352871Z",
     "shell.execute_reply": "2024-08-17T15:09:05.352871Z",
     "shell.execute_reply.started": "2024-08-17T15:08:55.164493Z"
    }
   },
   "outputs": [],
   "source": [
    "aemet_weekly_data = (\n",
    "    aemet_daily_data.set_index(keys=\"date\")\n",
    "    .groupby(by=\"province\")\n",
    "    .resample(\"W\")\n",
    "    .agg(\n",
    "        {\n",
    "            \"temperature_average\": \"mean\",\n",
    "            \"temperature_min\": \"min\",\n",
    "            \"temperature_max\": \"max\",\n",
    "            \"precipitation\": \"sum\",\n",
    "            \"wind_speed_average\": \"mean\",\n",
    "            \"solar_radiation\": \"mean\",\n",
    "            \"pressure_max\": \"max\",\n",
    "            \"pressure_min\": \"min\",\n",
    "            \"humidity_average\": \"mean\",\n",
    "            \"humidity_max\": \"max\",\n",
    "            \"humidity_min\": \"min\",\n",
    "        }\n",
    "    )\n",
    "    .reset_index()\n",
    ")"
   ]
  },
  {
   "cell_type": "code",
   "execution_count": 21,
   "id": "1e686045-94a7-4f0e-9417-325fd1545b75",
   "metadata": {
    "execution": {
     "iopub.execute_input": "2024-08-17T15:09:15.761521Z",
     "iopub.status.busy": "2024-08-17T15:09:15.761521Z",
     "iopub.status.idle": "2024-08-17T15:09:18.026136Z",
     "shell.execute_reply": "2024-08-17T15:09:18.026136Z",
     "shell.execute_reply.started": "2024-08-17T15:09:15.761521Z"
    }
   },
   "outputs": [],
   "source": [
    "aemet_monthly_data = (\n",
    "    aemet_daily_data.set_index(keys=\"date\")\n",
    "    .groupby(by=\"province\")\n",
    "    .resample(\"MS\")\n",
    "    .agg(\n",
    "        {\n",
    "            \"temperature_average\": \"mean\",\n",
    "            \"temperature_min\": \"min\",\n",
    "            \"temperature_max\": \"max\",\n",
    "            \"precipitation\": \"sum\",\n",
    "            \"wind_speed_average\": \"mean\",\n",
    "            \"solar_radiation\": \"mean\",\n",
    "            \"pressure_max\": \"max\",\n",
    "            \"pressure_min\": \"min\",\n",
    "            \"humidity_average\": \"mean\",\n",
    "            \"humidity_max\": \"max\",\n",
    "            \"humidity_min\": \"min\",\n",
    "        }\n",
    "    )\n",
    "    .reset_index()\n",
    ")"
   ]
  },
  {
   "cell_type": "code",
   "execution_count": 22,
   "id": "9b13c0cf-0f82-4947-bf9b-8c9308949a50",
   "metadata": {
    "execution": {
     "iopub.execute_input": "2024-08-17T15:10:12.609179Z",
     "iopub.status.busy": "2024-08-17T15:10:12.609179Z",
     "iopub.status.idle": "2024-08-17T15:10:12.618103Z",
     "shell.execute_reply": "2024-08-17T15:10:12.618103Z",
     "shell.execute_reply.started": "2024-08-17T15:10:12.609179Z"
    }
   },
   "outputs": [],
   "source": [
    "output_path = Path('../data/processed/aemet/')"
   ]
  },
  {
   "cell_type": "code",
   "execution_count": 23,
   "id": "e06bc675-c869-40f5-ab46-fb1870989c7a",
   "metadata": {
    "execution": {
     "iopub.execute_input": "2024-08-17T15:10:47.488202Z",
     "iopub.status.busy": "2024-08-17T15:10:47.488202Z",
     "iopub.status.idle": "2024-08-17T15:10:48.071995Z",
     "shell.execute_reply": "2024-08-17T15:10:48.071995Z",
     "shell.execute_reply.started": "2024-08-17T15:10:47.488202Z"
    }
   },
   "outputs": [],
   "source": [
    "aemet_daily_data.to_parquet(output_path / \"aemet_daily_data.parquet\", index=False)"
   ]
  },
  {
   "cell_type": "code",
   "execution_count": 24,
   "id": "0e9eb392-aaf1-48e0-8dce-6f6e11ba14d7",
   "metadata": {
    "execution": {
     "iopub.execute_input": "2024-08-17T15:11:21.178852Z",
     "iopub.status.busy": "2024-08-17T15:11:21.178852Z",
     "iopub.status.idle": "2024-08-17T15:11:21.261557Z",
     "shell.execute_reply": "2024-08-17T15:11:21.261557Z",
     "shell.execute_reply.started": "2024-08-17T15:11:21.178852Z"
    }
   },
   "outputs": [],
   "source": [
    "aemet_weekly_data.to_parquet(output_path / \"aemet_weekly_data.parquet\", index=False)"
   ]
  },
  {
   "cell_type": "code",
   "execution_count": 25,
   "id": "d1a025dc-852c-46c4-ba62-c51c0f1b5be3",
   "metadata": {
    "execution": {
     "iopub.execute_input": "2024-08-17T15:11:55.015142Z",
     "iopub.status.busy": "2024-08-17T15:11:55.015142Z",
     "iopub.status.idle": "2024-08-17T15:11:55.048827Z",
     "shell.execute_reply": "2024-08-17T15:11:55.048827Z",
     "shell.execute_reply.started": "2024-08-17T15:11:55.015142Z"
    }
   },
   "outputs": [],
   "source": [
    "aemet_monthly_data.to_parquet(output_path / \"aemet_monthly_data.parquet\", index=False)"
   ]
  },
  {
   "cell_type": "code",
   "execution_count": null,
   "id": "ee78a002-98bb-46bb-af56-c42ec44f2f5f",
   "metadata": {},
   "outputs": [],
   "source": []
  }
 ],
 "metadata": {
  "kernelspec": {
   "display_name": "Python (cs913-dissertation-project)",
   "language": "python",
   "name": "cs913-dissertation-project"
  },
  "language_info": {
   "codemirror_mode": {
    "name": "ipython",
    "version": 3
   },
   "file_extension": ".py",
   "mimetype": "text/x-python",
   "name": "python",
   "nbconvert_exporter": "python",
   "pygments_lexer": "ipython3",
   "version": "3.11.9"
  }
 },
 "nbformat": 4,
 "nbformat_minor": 5
}
