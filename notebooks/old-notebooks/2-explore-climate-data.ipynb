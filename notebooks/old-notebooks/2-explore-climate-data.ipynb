{
 "cells": [
  {
   "cell_type": "code",
   "execution_count": 1,
   "metadata": {
    "execution": {
     "iopub.execute_input": "2024-04-29T22:42:41.141060Z",
     "iopub.status.busy": "2024-04-29T22:42:41.141060Z",
     "iopub.status.idle": "2024-04-29T22:42:43.374022Z",
     "shell.execute_reply": "2024-04-29T22:42:43.374022Z",
     "shell.execute_reply.started": "2024-04-29T22:42:41.141060Z"
    }
   },
   "outputs": [],
   "source": [
    "import geopandas as gpd\n",
    "import matplotlib.pyplot as plt\n",
    "import numpy as np\n",
    "import pandas as pd\n",
    "import plotly.express as px\n",
    "import scipy.stats as scs\n",
    "import spei as si  # si for standardized index"
   ]
  },
  {
   "cell_type": "code",
   "execution_count": 2,
   "metadata": {
    "execution": {
     "iopub.execute_input": "2024-04-29T22:45:38.668201Z",
     "iopub.status.busy": "2024-04-29T22:45:38.668201Z",
     "iopub.status.idle": "2024-04-29T22:45:38.688440Z",
     "shell.execute_reply": "2024-04-29T22:45:38.687428Z",
     "shell.execute_reply.started": "2024-04-29T22:45:38.668201Z"
    }
   },
   "outputs": [],
   "source": [
    "pet = pd.read_csv(\"../data/climate-data/pet.csv\")"
   ]
  },
  {
   "cell_type": "code",
   "execution_count": 3,
   "metadata": {
    "execution": {
     "iopub.execute_input": "2024-04-29T22:45:39.337801Z",
     "iopub.status.busy": "2024-04-29T22:45:39.337801Z",
     "iopub.status.idle": "2024-04-29T22:45:39.356216Z",
     "shell.execute_reply": "2024-04-29T22:45:39.356216Z",
     "shell.execute_reply.started": "2024-04-29T22:45:39.337801Z"
    }
   },
   "outputs": [],
   "source": [
    "precipitation = pd.read_csv(\"../data/climate-data/precipitation.csv\")"
   ]
  },
  {
   "cell_type": "code",
   "execution_count": 4,
   "metadata": {
    "execution": {
     "iopub.execute_input": "2024-04-29T22:45:39.937955Z",
     "iopub.status.busy": "2024-04-29T22:45:39.937955Z",
     "iopub.status.idle": "2024-04-29T22:45:42.764467Z",
     "shell.execute_reply": "2024-04-29T22:45:42.764467Z",
     "shell.execute_reply.started": "2024-04-29T22:45:39.937955Z"
    }
   },
   "outputs": [],
   "source": [
    "spain_map = gpd.read_file(\"../data/maps/spain-map.geojson\")"
   ]
  },
  {
   "cell_type": "code",
   "execution_count": 5,
   "metadata": {
    "execution": {
     "iopub.execute_input": "2024-04-29T22:45:43.990651Z",
     "iopub.status.busy": "2024-04-29T22:45:43.990651Z",
     "iopub.status.idle": "2024-04-29T22:45:44.009005Z",
     "shell.execute_reply": "2024-04-29T22:45:44.009005Z",
     "shell.execute_reply.started": "2024-04-29T22:45:43.990651Z"
    }
   },
   "outputs": [
    {
     "data": {
      "text/html": [
       "<div>\n",
       "<style scoped>\n",
       "    .dataframe tbody tr th:only-of-type {\n",
       "        vertical-align: middle;\n",
       "    }\n",
       "\n",
       "    .dataframe tbody tr th {\n",
       "        vertical-align: top;\n",
       "    }\n",
       "\n",
       "    .dataframe thead th {\n",
       "        text-align: right;\n",
       "    }\n",
       "</style>\n",
       "<table border=\"1\" class=\"dataframe\">\n",
       "  <thead>\n",
       "    <tr style=\"text-align: right;\">\n",
       "      <th></th>\n",
       "      <th>date</th>\n",
       "      <th>province_name</th>\n",
       "      <th>average_PET</th>\n",
       "    </tr>\n",
       "  </thead>\n",
       "  <tbody>\n",
       "    <tr>\n",
       "      <th>0</th>\n",
       "      <td>2000-01-01</td>\n",
       "      <td>Almería</td>\n",
       "      <td>3589.333560</td>\n",
       "    </tr>\n",
       "    <tr>\n",
       "      <th>1</th>\n",
       "      <td>2000-01-01</td>\n",
       "      <td>Cádiz</td>\n",
       "      <td>4127.081502</td>\n",
       "    </tr>\n",
       "    <tr>\n",
       "      <th>2</th>\n",
       "      <td>2000-01-01</td>\n",
       "      <td>Córdoba</td>\n",
       "      <td>3440.179182</td>\n",
       "    </tr>\n",
       "    <tr>\n",
       "      <th>3</th>\n",
       "      <td>2000-01-01</td>\n",
       "      <td>Granada</td>\n",
       "      <td>3157.447551</td>\n",
       "    </tr>\n",
       "    <tr>\n",
       "      <th>4</th>\n",
       "      <td>2000-01-01</td>\n",
       "      <td>Huelva</td>\n",
       "      <td>3529.412466</td>\n",
       "    </tr>\n",
       "  </tbody>\n",
       "</table>\n",
       "</div>"
      ],
      "text/plain": [
       "         date province_name  average_PET\n",
       "0  2000-01-01       Almería  3589.333560\n",
       "1  2000-01-01         Cádiz  4127.081502\n",
       "2  2000-01-01       Córdoba  3440.179182\n",
       "3  2000-01-01       Granada  3157.447551\n",
       "4  2000-01-01        Huelva  3529.412466"
      ]
     },
     "execution_count": 5,
     "metadata": {},
     "output_type": "execute_result"
    }
   ],
   "source": [
    "pet.head()"
   ]
  },
  {
   "cell_type": "code",
   "execution_count": 6,
   "metadata": {
    "execution": {
     "iopub.execute_input": "2024-04-29T22:45:44.782137Z",
     "iopub.status.busy": "2024-04-29T22:45:44.782137Z",
     "iopub.status.idle": "2024-04-29T22:45:44.792116Z",
     "shell.execute_reply": "2024-04-29T22:45:44.792116Z",
     "shell.execute_reply.started": "2024-04-29T22:45:44.782137Z"
    }
   },
   "outputs": [
    {
     "data": {
      "text/html": [
       "<div>\n",
       "<style scoped>\n",
       "    .dataframe tbody tr th:only-of-type {\n",
       "        vertical-align: middle;\n",
       "    }\n",
       "\n",
       "    .dataframe tbody tr th {\n",
       "        vertical-align: top;\n",
       "    }\n",
       "\n",
       "    .dataframe thead th {\n",
       "        text-align: right;\n",
       "    }\n",
       "</style>\n",
       "<table border=\"1\" class=\"dataframe\">\n",
       "  <thead>\n",
       "    <tr style=\"text-align: right;\">\n",
       "      <th></th>\n",
       "      <th>date</th>\n",
       "      <th>province_name</th>\n",
       "      <th>average_precipitation</th>\n",
       "    </tr>\n",
       "  </thead>\n",
       "  <tbody>\n",
       "    <tr>\n",
       "      <th>0</th>\n",
       "      <td>2000-01-01</td>\n",
       "      <td>Almería</td>\n",
       "      <td>28.178856</td>\n",
       "    </tr>\n",
       "    <tr>\n",
       "      <th>1</th>\n",
       "      <td>2000-01-01</td>\n",
       "      <td>Cádiz</td>\n",
       "      <td>49.877930</td>\n",
       "    </tr>\n",
       "    <tr>\n",
       "      <th>2</th>\n",
       "      <td>2000-01-01</td>\n",
       "      <td>Córdoba</td>\n",
       "      <td>24.652694</td>\n",
       "    </tr>\n",
       "    <tr>\n",
       "      <th>3</th>\n",
       "      <td>2000-01-01</td>\n",
       "      <td>Granada</td>\n",
       "      <td>33.576140</td>\n",
       "    </tr>\n",
       "    <tr>\n",
       "      <th>4</th>\n",
       "      <td>2000-01-01</td>\n",
       "      <td>Huelva</td>\n",
       "      <td>29.123514</td>\n",
       "    </tr>\n",
       "  </tbody>\n",
       "</table>\n",
       "</div>"
      ],
      "text/plain": [
       "         date province_name  average_precipitation\n",
       "0  2000-01-01       Almería              28.178856\n",
       "1  2000-01-01         Cádiz              49.877930\n",
       "2  2000-01-01       Córdoba              24.652694\n",
       "3  2000-01-01       Granada              33.576140\n",
       "4  2000-01-01        Huelva              29.123514"
      ]
     },
     "execution_count": 6,
     "metadata": {},
     "output_type": "execute_result"
    }
   ],
   "source": [
    "precipitation.head()"
   ]
  },
  {
   "cell_type": "code",
   "execution_count": 7,
   "metadata": {
    "execution": {
     "iopub.execute_input": "2024-04-29T22:45:45.338084Z",
     "iopub.status.busy": "2024-04-29T22:45:45.338084Z",
     "iopub.status.idle": "2024-04-29T22:45:45.529438Z",
     "shell.execute_reply": "2024-04-29T22:45:45.529438Z",
     "shell.execute_reply.started": "2024-04-29T22:45:45.338084Z"
    }
   },
   "outputs": [
    {
     "data": {
      "text/html": [
       "<div>\n",
       "<style scoped>\n",
       "    .dataframe tbody tr th:only-of-type {\n",
       "        vertical-align: middle;\n",
       "    }\n",
       "\n",
       "    .dataframe tbody tr th {\n",
       "        vertical-align: top;\n",
       "    }\n",
       "\n",
       "    .dataframe thead th {\n",
       "        text-align: right;\n",
       "    }\n",
       "</style>\n",
       "<table border=\"1\" class=\"dataframe\">\n",
       "  <thead>\n",
       "    <tr style=\"text-align: right;\">\n",
       "      <th></th>\n",
       "      <th>id</th>\n",
       "      <th>ADM0_CODE</th>\n",
       "      <th>ADM0_NAME</th>\n",
       "      <th>ADM1_CODE</th>\n",
       "      <th>ADM1_NAME</th>\n",
       "      <th>ADM2_CODE</th>\n",
       "      <th>ADM2_NAME</th>\n",
       "      <th>DISP_AREA</th>\n",
       "      <th>EXP2_YEAR</th>\n",
       "      <th>STATUS</th>\n",
       "      <th>STR2_YEAR</th>\n",
       "      <th>Shape_Area</th>\n",
       "      <th>Shape_Leng</th>\n",
       "      <th>geometry</th>\n",
       "    </tr>\n",
       "  </thead>\n",
       "  <tbody>\n",
       "    <tr>\n",
       "      <th>0</th>\n",
       "      <td>0000000000000000261b</td>\n",
       "      <td>229</td>\n",
       "      <td>Spain</td>\n",
       "      <td>2716</td>\n",
       "      <td>Andalucía</td>\n",
       "      <td>25776</td>\n",
       "      <td>Almería</td>\n",
       "      <td>NO</td>\n",
       "      <td>3000</td>\n",
       "      <td>Member State</td>\n",
       "      <td>1000</td>\n",
       "      <td>0.886192</td>\n",
       "      <td>5.757459</td>\n",
       "      <td>MULTIPOLYGON (((-3.04429 35.94359, -3.04257 35...</td>\n",
       "    </tr>\n",
       "    <tr>\n",
       "      <th>1</th>\n",
       "      <td>0000000000000000261c</td>\n",
       "      <td>229</td>\n",
       "      <td>Spain</td>\n",
       "      <td>2716</td>\n",
       "      <td>Andalucía</td>\n",
       "      <td>25777</td>\n",
       "      <td>Cádiz</td>\n",
       "      <td>NO</td>\n",
       "      <td>3000</td>\n",
       "      <td>Member State</td>\n",
       "      <td>1000</td>\n",
       "      <td>0.740346</td>\n",
       "      <td>6.353672</td>\n",
       "      <td>MULTIPOLYGON (((-5.61149 36.00485, -5.60918 36...</td>\n",
       "    </tr>\n",
       "    <tr>\n",
       "      <th>2</th>\n",
       "      <td>0000000000000000261d</td>\n",
       "      <td>229</td>\n",
       "      <td>Spain</td>\n",
       "      <td>2716</td>\n",
       "      <td>Andalucía</td>\n",
       "      <td>25778</td>\n",
       "      <td>Córdoba</td>\n",
       "      <td>NO</td>\n",
       "      <td>3000</td>\n",
       "      <td>Member State</td>\n",
       "      <td>1000</td>\n",
       "      <td>1.412444</td>\n",
       "      <td>8.316528</td>\n",
       "      <td>MULTIPOLYGON (((-5.08497 37.64379, -5.08421 37...</td>\n",
       "    </tr>\n",
       "    <tr>\n",
       "      <th>3</th>\n",
       "      <td>0000000000000000261e</td>\n",
       "      <td>229</td>\n",
       "      <td>Spain</td>\n",
       "      <td>2716</td>\n",
       "      <td>Andalucía</td>\n",
       "      <td>25779</td>\n",
       "      <td>Granada</td>\n",
       "      <td>NO</td>\n",
       "      <td>3000</td>\n",
       "      <td>Member State</td>\n",
       "      <td>1000</td>\n",
       "      <td>1.281927</td>\n",
       "      <td>7.149425</td>\n",
       "      <td>POLYGON ((-3.14019 36.78779, -3.13982 36.78802...</td>\n",
       "    </tr>\n",
       "    <tr>\n",
       "      <th>4</th>\n",
       "      <td>0000000000000000261f</td>\n",
       "      <td>229</td>\n",
       "      <td>Spain</td>\n",
       "      <td>2716</td>\n",
       "      <td>Andalucía</td>\n",
       "      <td>25780</td>\n",
       "      <td>Huelva</td>\n",
       "      <td>NO</td>\n",
       "      <td>3000</td>\n",
       "      <td>Member State</td>\n",
       "      <td>1000</td>\n",
       "      <td>1.019158</td>\n",
       "      <td>7.582351</td>\n",
       "      <td>MULTIPOLYGON (((-6.90102 37.15554, -6.90098 37...</td>\n",
       "    </tr>\n",
       "  </tbody>\n",
       "</table>\n",
       "</div>"
      ],
      "text/plain": [
       "                     id  ADM0_CODE ADM0_NAME  ADM1_CODE  ADM1_NAME  ADM2_CODE  \\\n",
       "0  0000000000000000261b        229     Spain       2716  Andalucía      25776   \n",
       "1  0000000000000000261c        229     Spain       2716  Andalucía      25777   \n",
       "2  0000000000000000261d        229     Spain       2716  Andalucía      25778   \n",
       "3  0000000000000000261e        229     Spain       2716  Andalucía      25779   \n",
       "4  0000000000000000261f        229     Spain       2716  Andalucía      25780   \n",
       "\n",
       "  ADM2_NAME DISP_AREA  EXP2_YEAR        STATUS  STR2_YEAR  Shape_Area  \\\n",
       "0   Almería        NO       3000  Member State       1000    0.886192   \n",
       "1     Cádiz        NO       3000  Member State       1000    0.740346   \n",
       "2   Córdoba        NO       3000  Member State       1000    1.412444   \n",
       "3   Granada        NO       3000  Member State       1000    1.281927   \n",
       "4    Huelva        NO       3000  Member State       1000    1.019158   \n",
       "\n",
       "   Shape_Leng                                           geometry  \n",
       "0    5.757459  MULTIPOLYGON (((-3.04429 35.94359, -3.04257 35...  \n",
       "1    6.353672  MULTIPOLYGON (((-5.61149 36.00485, -5.60918 36...  \n",
       "2    8.316528  MULTIPOLYGON (((-5.08497 37.64379, -5.08421 37...  \n",
       "3    7.149425  POLYGON ((-3.14019 36.78779, -3.13982 36.78802...  \n",
       "4    7.582351  MULTIPOLYGON (((-6.90102 37.15554, -6.90098 37...  "
      ]
     },
     "execution_count": 7,
     "metadata": {},
     "output_type": "execute_result"
    }
   ],
   "source": [
    "spain_map.head()"
   ]
  },
  {
   "cell_type": "code",
   "execution_count": 8,
   "metadata": {
    "execution": {
     "iopub.execute_input": "2024-04-29T22:45:46.010925Z",
     "iopub.status.busy": "2024-04-29T22:45:46.010925Z",
     "iopub.status.idle": "2024-04-29T22:45:46.023581Z",
     "shell.execute_reply": "2024-04-29T22:45:46.023581Z",
     "shell.execute_reply.started": "2024-04-29T22:45:46.010925Z"
    }
   },
   "outputs": [
    {
     "name": "stdout",
     "output_type": "stream",
     "text": [
      "(14976, 3)\n"
     ]
    }
   ],
   "source": [
    "print(pet.shape)"
   ]
  },
  {
   "cell_type": "code",
   "execution_count": 9,
   "metadata": {
    "execution": {
     "iopub.execute_input": "2024-04-29T22:45:46.765305Z",
     "iopub.status.busy": "2024-04-29T22:45:46.765305Z",
     "iopub.status.idle": "2024-04-29T22:45:46.770463Z",
     "shell.execute_reply": "2024-04-29T22:45:46.770463Z",
     "shell.execute_reply.started": "2024-04-29T22:45:46.765305Z"
    }
   },
   "outputs": [
    {
     "name": "stdout",
     "output_type": "stream",
     "text": [
      "(14976, 3)\n"
     ]
    }
   ],
   "source": [
    "print(precipitation.shape)"
   ]
  },
  {
   "cell_type": "code",
   "execution_count": 10,
   "metadata": {
    "execution": {
     "iopub.execute_input": "2024-04-29T22:45:47.247367Z",
     "iopub.status.busy": "2024-04-29T22:45:47.247367Z",
     "iopub.status.idle": "2024-04-29T22:45:47.259326Z",
     "shell.execute_reply": "2024-04-29T22:45:47.259326Z",
     "shell.execute_reply.started": "2024-04-29T22:45:47.247367Z"
    }
   },
   "outputs": [
    {
     "data": {
      "text/plain": [
       "date                     2018-03-01\n",
       "province_name            Pontevedra\n",
       "average_precipitation    544.225424\n",
       "Name: 11380, dtype: object"
      ]
     },
     "execution_count": 10,
     "metadata": {},
     "output_type": "execute_result"
    }
   ],
   "source": [
    "precipitation.iloc[precipitation[\"average_precipitation\"].argmax()]"
   ]
  },
  {
   "cell_type": "code",
   "execution_count": 11,
   "metadata": {
    "execution": {
     "iopub.execute_input": "2024-04-29T22:45:47.701589Z",
     "iopub.status.busy": "2024-04-29T22:45:47.692596Z",
     "iopub.status.idle": "2024-04-29T22:45:47.708346Z",
     "shell.execute_reply": "2024-04-29T22:45:47.708346Z",
     "shell.execute_reply.started": "2024-04-29T22:45:47.701589Z"
    }
   },
   "outputs": [
    {
     "data": {
      "text/plain": [
       "date               2022-07-01\n",
       "province_name         Badajoz\n",
       "average_PET      24595.305489\n",
       "Name: 14079, dtype: object"
      ]
     },
     "execution_count": 11,
     "metadata": {},
     "output_type": "execute_result"
    }
   ],
   "source": [
    "pet.iloc[pet[\"average_PET\"].argmax()]"
   ]
  },
  {
   "cell_type": "code",
   "execution_count": 12,
   "metadata": {
    "execution": {
     "iopub.execute_input": "2024-04-29T22:45:48.519259Z",
     "iopub.status.busy": "2024-04-29T22:45:48.519259Z",
     "iopub.status.idle": "2024-04-29T22:45:48.531551Z",
     "shell.execute_reply": "2024-04-29T22:45:48.531551Z",
     "shell.execute_reply.started": "2024-04-29T22:45:48.519259Z"
    }
   },
   "outputs": [
    {
     "name": "stdout",
     "output_type": "stream",
     "text": [
      "Number of unique provinces in pet: 52\n",
      "Number of unique provinces in precipitation: 52\n",
      "Number of unique provinces in spain_map: 52\n"
     ]
    }
   ],
   "source": [
    "print(f\"Number of unique provinces in pet: {pet['province_name'].nunique()}\")\n",
    "print(\n",
    "    f\"Number of unique provinces in precipitation: {precipitation['province_name'].nunique()}\"\n",
    ")\n",
    "print(f\"Number of unique provinces in spain_map: {spain_map['ADM2_NAME'].nunique()}\")"
   ]
  },
  {
   "cell_type": "code",
   "execution_count": 13,
   "metadata": {
    "execution": {
     "iopub.execute_input": "2024-04-29T22:45:49.152756Z",
     "iopub.status.busy": "2024-04-29T22:45:49.152756Z",
     "iopub.status.idle": "2024-04-29T22:45:49.170317Z",
     "shell.execute_reply": "2024-04-29T22:45:49.170317Z",
     "shell.execute_reply.started": "2024-04-29T22:45:49.152756Z"
    }
   },
   "outputs": [],
   "source": [
    "precipitation_2023 = precipitation.query(\"date == '2023-12-01'\")\n",
    "pet_2023 = pet.query(\"date == '2023-12-01'\")"
   ]
  },
  {
   "cell_type": "code",
   "execution_count": 14,
   "metadata": {
    "execution": {
     "iopub.execute_input": "2024-04-29T22:45:50.052445Z",
     "iopub.status.busy": "2024-04-29T22:45:50.052445Z",
     "iopub.status.idle": "2024-04-29T22:45:50.066764Z",
     "shell.execute_reply": "2024-04-29T22:45:50.066764Z",
     "shell.execute_reply.started": "2024-04-29T22:45:50.052445Z"
    }
   },
   "outputs": [],
   "source": [
    "precipitation_map = spain_map.merge(\n",
    "    precipitation_2023, left_on=\"ADM2_NAME\", right_on=\"province_name\"\n",
    ").loc[:, [\"province_name\", \"average_precipitation\", \"geometry\"]]"
   ]
  },
  {
   "cell_type": "code",
   "execution_count": 15,
   "metadata": {
    "execution": {
     "iopub.execute_input": "2024-04-29T22:45:50.539819Z",
     "iopub.status.busy": "2024-04-29T22:45:50.539819Z",
     "iopub.status.idle": "2024-04-29T22:45:50.553572Z",
     "shell.execute_reply": "2024-04-29T22:45:50.553572Z",
     "shell.execute_reply.started": "2024-04-29T22:45:50.539819Z"
    }
   },
   "outputs": [],
   "source": [
    "pet_map = spain_map.merge(pet_2023, left_on=\"ADM2_NAME\", right_on=\"province_name\").loc[\n",
    "    :, [\"province_name\", \"average_PET\", \"geometry\"]\n",
    "]"
   ]
  },
  {
   "cell_type": "code",
   "execution_count": 16,
   "metadata": {
    "execution": {
     "iopub.execute_input": "2024-04-29T22:45:51.326044Z",
     "iopub.status.busy": "2024-04-29T22:45:51.326044Z",
     "iopub.status.idle": "2024-04-29T22:45:51.479620Z",
     "shell.execute_reply": "2024-04-29T22:45:51.478595Z",
     "shell.execute_reply.started": "2024-04-29T22:45:51.326044Z"
    }
   },
   "outputs": [
    {
     "data": {
      "text/html": [
       "<div>\n",
       "<style scoped>\n",
       "    .dataframe tbody tr th:only-of-type {\n",
       "        vertical-align: middle;\n",
       "    }\n",
       "\n",
       "    .dataframe tbody tr th {\n",
       "        vertical-align: top;\n",
       "    }\n",
       "\n",
       "    .dataframe thead th {\n",
       "        text-align: right;\n",
       "    }\n",
       "</style>\n",
       "<table border=\"1\" class=\"dataframe\">\n",
       "  <thead>\n",
       "    <tr style=\"text-align: right;\">\n",
       "      <th></th>\n",
       "      <th>province_name</th>\n",
       "      <th>average_precipitation</th>\n",
       "      <th>geometry</th>\n",
       "    </tr>\n",
       "  </thead>\n",
       "  <tbody>\n",
       "    <tr>\n",
       "      <th>0</th>\n",
       "      <td>Almería</td>\n",
       "      <td>13.790718</td>\n",
       "      <td>MULTIPOLYGON (((-3.04429 35.94359, -3.04257 35...</td>\n",
       "    </tr>\n",
       "    <tr>\n",
       "      <th>1</th>\n",
       "      <td>Cádiz</td>\n",
       "      <td>39.751453</td>\n",
       "      <td>MULTIPOLYGON (((-5.61149 36.00485, -5.60918 36...</td>\n",
       "    </tr>\n",
       "    <tr>\n",
       "      <th>2</th>\n",
       "      <td>Córdoba</td>\n",
       "      <td>37.338619</td>\n",
       "      <td>MULTIPOLYGON (((-5.08497 37.64379, -5.08421 37...</td>\n",
       "    </tr>\n",
       "    <tr>\n",
       "      <th>3</th>\n",
       "      <td>Granada</td>\n",
       "      <td>28.721261</td>\n",
       "      <td>POLYGON ((-3.14019 36.78779, -3.13982 36.78802...</td>\n",
       "    </tr>\n",
       "    <tr>\n",
       "      <th>4</th>\n",
       "      <td>Huelva</td>\n",
       "      <td>32.845376</td>\n",
       "      <td>MULTIPOLYGON (((-6.90102 37.15554, -6.90098 37...</td>\n",
       "    </tr>\n",
       "  </tbody>\n",
       "</table>\n",
       "</div>"
      ],
      "text/plain": [
       "  province_name  average_precipitation  \\\n",
       "0       Almería              13.790718   \n",
       "1         Cádiz              39.751453   \n",
       "2       Córdoba              37.338619   \n",
       "3       Granada              28.721261   \n",
       "4        Huelva              32.845376   \n",
       "\n",
       "                                            geometry  \n",
       "0  MULTIPOLYGON (((-3.04429 35.94359, -3.04257 35...  \n",
       "1  MULTIPOLYGON (((-5.61149 36.00485, -5.60918 36...  \n",
       "2  MULTIPOLYGON (((-5.08497 37.64379, -5.08421 37...  \n",
       "3  POLYGON ((-3.14019 36.78779, -3.13982 36.78802...  \n",
       "4  MULTIPOLYGON (((-6.90102 37.15554, -6.90098 37...  "
      ]
     },
     "execution_count": 16,
     "metadata": {},
     "output_type": "execute_result"
    }
   ],
   "source": [
    "precipitation_map.head()"
   ]
  },
  {
   "cell_type": "code",
   "execution_count": 17,
   "metadata": {
    "execution": {
     "iopub.execute_input": "2024-04-29T22:45:53.863239Z",
     "iopub.status.busy": "2024-04-29T22:45:53.863239Z",
     "iopub.status.idle": "2024-04-29T22:45:54.018121Z",
     "shell.execute_reply": "2024-04-29T22:45:54.018121Z",
     "shell.execute_reply.started": "2024-04-29T22:45:53.863239Z"
    }
   },
   "outputs": [
    {
     "data": {
      "text/html": [
       "<div>\n",
       "<style scoped>\n",
       "    .dataframe tbody tr th:only-of-type {\n",
       "        vertical-align: middle;\n",
       "    }\n",
       "\n",
       "    .dataframe tbody tr th {\n",
       "        vertical-align: top;\n",
       "    }\n",
       "\n",
       "    .dataframe thead th {\n",
       "        text-align: right;\n",
       "    }\n",
       "</style>\n",
       "<table border=\"1\" class=\"dataframe\">\n",
       "  <thead>\n",
       "    <tr style=\"text-align: right;\">\n",
       "      <th></th>\n",
       "      <th>province_name</th>\n",
       "      <th>average_PET</th>\n",
       "      <th>geometry</th>\n",
       "    </tr>\n",
       "  </thead>\n",
       "  <tbody>\n",
       "    <tr>\n",
       "      <th>0</th>\n",
       "      <td>Almería</td>\n",
       "      <td>4745.522444</td>\n",
       "      <td>MULTIPOLYGON (((-3.04429 35.94359, -3.04257 35...</td>\n",
       "    </tr>\n",
       "    <tr>\n",
       "      <th>1</th>\n",
       "      <td>Cádiz</td>\n",
       "      <td>4004.288548</td>\n",
       "      <td>MULTIPOLYGON (((-5.61149 36.00485, -5.60918 36...</td>\n",
       "    </tr>\n",
       "    <tr>\n",
       "      <th>2</th>\n",
       "      <td>Córdoba</td>\n",
       "      <td>3413.277023</td>\n",
       "      <td>MULTIPOLYGON (((-5.08497 37.64379, -5.08421 37...</td>\n",
       "    </tr>\n",
       "    <tr>\n",
       "      <th>3</th>\n",
       "      <td>Granada</td>\n",
       "      <td>4259.772660</td>\n",
       "      <td>POLYGON ((-3.14019 36.78779, -3.13982 36.78802...</td>\n",
       "    </tr>\n",
       "    <tr>\n",
       "      <th>4</th>\n",
       "      <td>Huelva</td>\n",
       "      <td>3317.623997</td>\n",
       "      <td>MULTIPOLYGON (((-6.90102 37.15554, -6.90098 37...</td>\n",
       "    </tr>\n",
       "  </tbody>\n",
       "</table>\n",
       "</div>"
      ],
      "text/plain": [
       "  province_name  average_PET  \\\n",
       "0       Almería  4745.522444   \n",
       "1         Cádiz  4004.288548   \n",
       "2       Córdoba  3413.277023   \n",
       "3       Granada  4259.772660   \n",
       "4        Huelva  3317.623997   \n",
       "\n",
       "                                            geometry  \n",
       "0  MULTIPOLYGON (((-3.04429 35.94359, -3.04257 35...  \n",
       "1  MULTIPOLYGON (((-5.61149 36.00485, -5.60918 36...  \n",
       "2  MULTIPOLYGON (((-5.08497 37.64379, -5.08421 37...  \n",
       "3  POLYGON ((-3.14019 36.78779, -3.13982 36.78802...  \n",
       "4  MULTIPOLYGON (((-6.90102 37.15554, -6.90098 37...  "
      ]
     },
     "execution_count": 17,
     "metadata": {},
     "output_type": "execute_result"
    }
   ],
   "source": [
    "pet_map.head()"
   ]
  },
  {
   "cell_type": "code",
   "execution_count": 21,
   "metadata": {
    "execution": {
     "iopub.execute_input": "2024-04-29T22:50:12.224770Z",
     "iopub.status.busy": "2024-04-29T22:50:12.223770Z",
     "iopub.status.idle": "2024-04-29T22:50:12.229536Z",
     "shell.execute_reply": "2024-04-29T22:50:12.229536Z",
     "shell.execute_reply.started": "2024-04-29T22:50:12.224770Z"
    }
   },
   "outputs": [
    {
     "data": {
      "text/plain": [
       "(52, 3)"
      ]
     },
     "execution_count": 21,
     "metadata": {},
     "output_type": "execute_result"
    }
   ],
   "source": [
    "pet_2023.shape"
   ]
  },
  {
   "cell_type": "code",
   "execution_count": 22,
   "metadata": {
    "execution": {
     "iopub.execute_input": "2024-04-29T22:50:17.028787Z",
     "iopub.status.busy": "2024-04-29T22:50:17.028787Z",
     "iopub.status.idle": "2024-04-29T22:50:17.035499Z",
     "shell.execute_reply": "2024-04-29T22:50:17.034482Z",
     "shell.execute_reply.started": "2024-04-29T22:50:17.028787Z"
    }
   },
   "outputs": [
    {
     "data": {
      "text/plain": [
       "(52, 3)"
      ]
     },
     "execution_count": 22,
     "metadata": {},
     "output_type": "execute_result"
    }
   ],
   "source": [
    "precipitation_2023.shape"
   ]
  },
  {
   "cell_type": "code",
   "execution_count": 46,
   "metadata": {
    "execution": {
     "iopub.execute_input": "2024-04-29T23:57:00.228402Z",
     "iopub.status.busy": "2024-04-29T23:57:00.219393Z",
     "iopub.status.idle": "2024-04-29T23:57:00.236920Z",
     "shell.execute_reply": "2024-04-29T23:57:00.236920Z",
     "shell.execute_reply.started": "2024-04-29T23:57:00.228402Z"
    }
   },
   "outputs": [
    {
     "data": {
      "text/plain": [
       "(14976, 3)"
      ]
     },
     "execution_count": 46,
     "metadata": {},
     "output_type": "execute_result"
    }
   ],
   "source": [
    "pet.shape"
   ]
  },
  {
   "cell_type": "code",
   "execution_count": 47,
   "metadata": {
    "execution": {
     "iopub.execute_input": "2024-04-29T23:57:05.037311Z",
     "iopub.status.busy": "2024-04-29T23:57:05.037311Z",
     "iopub.status.idle": "2024-04-29T23:57:05.048249Z",
     "shell.execute_reply": "2024-04-29T23:57:05.048249Z",
     "shell.execute_reply.started": "2024-04-29T23:57:05.037311Z"
    }
   },
   "outputs": [
    {
     "data": {
      "text/plain": [
       "(14976, 3)"
      ]
     },
     "execution_count": 47,
     "metadata": {},
     "output_type": "execute_result"
    }
   ],
   "source": [
    "precipitation.shape"
   ]
  },
  {
   "cell_type": "code",
   "execution_count": 49,
   "metadata": {
    "execution": {
     "iopub.execute_input": "2024-04-30T00:02:20.199791Z",
     "iopub.status.busy": "2024-04-30T00:02:20.199791Z",
     "iopub.status.idle": "2024-04-30T00:02:20.227020Z",
     "shell.execute_reply": "2024-04-30T00:02:20.227020Z",
     "shell.execute_reply.started": "2024-04-30T00:02:20.199791Z"
    }
   },
   "outputs": [],
   "source": [
    "all_data = pd.merge(left=pet, right=precipitation, on=[\"province_name\", \"date\"])"
   ]
  },
  {
   "cell_type": "code",
   "execution_count": 50,
   "metadata": {
    "execution": {
     "iopub.execute_input": "2024-04-30T00:02:57.240054Z",
     "iopub.status.busy": "2024-04-30T00:02:57.240054Z",
     "iopub.status.idle": "2024-04-30T00:02:57.247099Z",
     "shell.execute_reply": "2024-04-30T00:02:57.246088Z",
     "shell.execute_reply.started": "2024-04-30T00:02:57.240054Z"
    }
   },
   "outputs": [],
   "source": [
    "all_data[\"water_balance\"] = all_data[\"average_precipitation\"] - all_data[\"average_PET\"]"
   ]
  },
  {
   "cell_type": "code",
   "execution_count": 51,
   "metadata": {
    "execution": {
     "iopub.execute_input": "2024-04-30T00:03:49.129518Z",
     "iopub.status.busy": "2024-04-30T00:03:49.129518Z",
     "iopub.status.idle": "2024-04-30T00:03:49.336852Z",
     "shell.execute_reply": "2024-04-30T00:03:49.336852Z",
     "shell.execute_reply.started": "2024-04-30T00:03:49.129518Z"
    }
   },
   "outputs": [
    {
     "data": {
      "text/plain": [
       "<Axes: >"
      ]
     },
     "execution_count": 51,
     "metadata": {},
     "output_type": "execute_result"
    },
    {
     "data": {
      "image/png": "[encoded data removed]",
      "text/plain": [
       "<Figure size 640x480 with 1 Axes>"
      ]
     },
     "metadata": {},
     "output_type": "display_data"
    }
   ],
   "source": [
    "all_data[\"water_balance\"].hist()"
   ]
  },
  {
   "cell_type": "code",
   "execution_count": 60,
   "metadata": {
    "execution": {
     "iopub.execute_input": "2024-04-30T00:41:57.304320Z",
     "iopub.status.busy": "2024-04-30T00:41:57.304320Z",
     "iopub.status.idle": "2024-04-30T00:41:57.390189Z",
     "shell.execute_reply": "2024-04-30T00:41:57.389182Z",
     "shell.execute_reply.started": "2024-04-30T00:41:57.304320Z"
    }
   },
   "outputs": [
    {
     "ename": "AttributeError",
     "evalue": "'int' object has no attribute 'fit'",
     "output_type": "error",
     "traceback": [
      "\u001b[1;31m---------------------------------------------------------------------------\u001b[0m",
      "\u001b[1;31mAttributeError\u001b[0m                            Traceback (most recent call last)",
      "Cell \u001b[1;32mIn[60], line 4\u001b[0m\n\u001b[0;32m      1\u001b[0m \u001b[38;5;28;01mfor\u001b[39;00m province_name, province_data \u001b[38;5;129;01min\u001b[39;00m all_data\u001b[38;5;241m.\u001b[39mgroupby(by\u001b[38;5;241m=\u001b[39m\u001b[38;5;124m\"\u001b[39m\u001b[38;5;124mprovince_name\u001b[39m\u001b[38;5;124m\"\u001b[39m):\n\u001b[0;32m      2\u001b[0m     province_data \u001b[38;5;241m=\u001b[39m province_data\u001b[38;5;241m.\u001b[39msort_values(by\u001b[38;5;241m=\u001b[39m\u001b[38;5;124m'\u001b[39m\u001b[38;5;124mdate\u001b[39m\u001b[38;5;124m'\u001b[39m)\n\u001b[1;32m----> 4\u001b[0m     res \u001b[38;5;241m=\u001b[39m \u001b[43msi\u001b[49m\u001b[38;5;241;43m.\u001b[39;49m\u001b[43mspei\u001b[49m\u001b[43m(\u001b[49m\u001b[43mprovince_data\u001b[49m\u001b[38;5;241;43m.\u001b[39;49m\u001b[43mset_index\u001b[49m\u001b[43m(\u001b[49m\u001b[38;5;124;43m'\u001b[39;49m\u001b[38;5;124;43mdate\u001b[39;49m\u001b[38;5;124;43m'\u001b[39;49m\u001b[43m)\u001b[49m\u001b[43m[\u001b[49m\u001b[38;5;124;43m'\u001b[39;49m\u001b[38;5;124;43mwater_balance\u001b[39;49m\u001b[38;5;124;43m'\u001b[39;49m\u001b[43m]\u001b[49m\u001b[43m,\u001b[49m\u001b[43m \u001b[49m\u001b[38;5;241;43m1\u001b[39;49m\u001b[43m)\u001b[49m\n\u001b[0;32m      6\u001b[0m     \u001b[38;5;28;01mbreak\u001b[39;00m\n",
      "File \u001b[1;32m~\\data-analysis\\Lib\\site-packages\\spei\\si.py:188\u001b[0m, in \u001b[0;36mspei\u001b[1;34m(series, dist, timescale, fit_freq, fit_window, prob_zero)\u001b[0m\n\u001b[0;32m    135\u001b[0m \u001b[38;5;250m\u001b[39m\u001b[38;5;124;03m\"\"\"Method to compute the Standardized Precipitation Evaporation Index\u001b[39;00m\n\u001b[0;32m    136\u001b[0m \u001b[38;5;124;03m[spei_2010]_.\u001b[39;00m\n\u001b[0;32m    137\u001b[0m \n\u001b[1;32m   (...)\u001b[0m\n\u001b[0;32m    176\u001b[0m \u001b[38;5;124;03m   Journal of Climate, 23, 1696-1718, 2010.\u001b[39;00m\n\u001b[0;32m    177\u001b[0m \u001b[38;5;124;03m\"\"\"\u001b[39;00m\n\u001b[0;32m    179\u001b[0m spei \u001b[38;5;241m=\u001b[39m SI(\n\u001b[0;32m    180\u001b[0m     series\u001b[38;5;241m=\u001b[39mseries,\n\u001b[0;32m    181\u001b[0m     dist\u001b[38;5;241m=\u001b[39mdist,\n\u001b[1;32m   (...)\u001b[0m\n\u001b[0;32m    186\u001b[0m     normal_scores_transform\u001b[38;5;241m=\u001b[39m\u001b[38;5;28;01mFalse\u001b[39;00m,\n\u001b[0;32m    187\u001b[0m )\n\u001b[1;32m--> 188\u001b[0m \u001b[43mspei\u001b[49m\u001b[38;5;241;43m.\u001b[39;49m\u001b[43mfit_distribution\u001b[49m\u001b[43m(\u001b[49m\u001b[43m)\u001b[49m\n\u001b[0;32m    189\u001b[0m \u001b[38;5;28;01mreturn\u001b[39;00m spei\u001b[38;5;241m.\u001b[39mnorm_ppf()\n",
      "File \u001b[1;32m~\\data-analysis\\Lib\\site-packages\\spei\\si.py:394\u001b[0m, in \u001b[0;36mSI.fit_distribution\u001b[1;34m(self)\u001b[0m\n\u001b[0;32m    390\u001b[0m \u001b[38;5;28;01mfor\u001b[39;00m date, grval \u001b[38;5;129;01min\u001b[39;00m \u001b[38;5;28mself\u001b[39m\u001b[38;5;241m.\u001b[39m_grouped_year\u001b[38;5;241m.\u001b[39mgroupby(\n\u001b[0;32m    391\u001b[0m     Grouper(freq\u001b[38;5;241m=\u001b[39m\u001b[38;5;28mstr\u001b[39m(\u001b[38;5;28mself\u001b[39m\u001b[38;5;241m.\u001b[39mfit_freq))\n\u001b[0;32m    392\u001b[0m ):\n\u001b[0;32m    393\u001b[0m     data \u001b[38;5;241m=\u001b[39m get_data_series(grval)\n\u001b[1;32m--> 394\u001b[0m     fd \u001b[38;5;241m=\u001b[39m \u001b[43mDist\u001b[49m\u001b[43m(\u001b[49m\n\u001b[0;32m    395\u001b[0m \u001b[43m        \u001b[49m\u001b[43mdata\u001b[49m\u001b[38;5;241;43m=\u001b[39;49m\u001b[43mdata\u001b[49m\u001b[43m,\u001b[49m\n\u001b[0;32m    396\u001b[0m \u001b[43m        \u001b[49m\u001b[43mdist\u001b[49m\u001b[38;5;241;43m=\u001b[39;49m\u001b[38;5;28;43mself\u001b[39;49m\u001b[38;5;241;43m.\u001b[39;49m\u001b[43mdist\u001b[49m\u001b[43m,\u001b[49m\n\u001b[0;32m    397\u001b[0m \u001b[43m        \u001b[49m\u001b[43mprob_zero\u001b[49m\u001b[38;5;241;43m=\u001b[39;49m\u001b[38;5;28;43mself\u001b[39;49m\u001b[38;5;241;43m.\u001b[39;49m\u001b[43mprob_zero\u001b[49m\u001b[43m,\u001b[49m\n\u001b[0;32m    398\u001b[0m \u001b[43m        \u001b[49m\u001b[43mdata_window\u001b[49m\u001b[38;5;241;43m=\u001b[39;49m\u001b[38;5;28;43;01mNone\u001b[39;49;00m\u001b[43m,\u001b[49m\n\u001b[0;32m    399\u001b[0m \u001b[43m    \u001b[49m\u001b[43m)\u001b[49m\n\u001b[0;32m    400\u001b[0m     \u001b[38;5;28mself\u001b[39m\u001b[38;5;241m.\u001b[39m_dist_dict[date] \u001b[38;5;241m=\u001b[39m fd\n",
      "File \u001b[1;32m<string>:7\u001b[0m, in \u001b[0;36m__init__\u001b[1;34m(self, data, dist, prob_zero, data_window)\u001b[0m\n",
      "File \u001b[1;32m~\\data-analysis\\Lib\\site-packages\\spei\\dist.py:66\u001b[0m, in \u001b[0;36mDist.__post_init__\u001b[1;34m(self)\u001b[0m\n\u001b[0;32m     62\u001b[0m \u001b[38;5;250m\u001b[39m\u001b[38;5;124;03m\"\"\"\u001b[39;00m\n\u001b[0;32m     63\u001b[0m \u001b[38;5;124;03mPost initializes the Dist class by fitting the distribution.\u001b[39;00m\n\u001b[0;32m     64\u001b[0m \u001b[38;5;124;03m\"\"\"\u001b[39;00m\n\u001b[0;32m     65\u001b[0m data_fit \u001b[38;5;241m=\u001b[39m \u001b[38;5;28mself\u001b[39m\u001b[38;5;241m.\u001b[39mdata_window \u001b[38;5;28;01mif\u001b[39;00m \u001b[38;5;28mself\u001b[39m\u001b[38;5;241m.\u001b[39mdata_window \u001b[38;5;129;01mis\u001b[39;00m \u001b[38;5;129;01mnot\u001b[39;00m \u001b[38;5;28;01mNone\u001b[39;00m \u001b[38;5;28;01melse\u001b[39;00m \u001b[38;5;28mself\u001b[39m\u001b[38;5;241m.\u001b[39mdata\n\u001b[1;32m---> 66\u001b[0m pars, loc, scale \u001b[38;5;241m=\u001b[39m \u001b[38;5;28;43mself\u001b[39;49m\u001b[38;5;241;43m.\u001b[39;49m\u001b[43mfit_dist\u001b[49m\u001b[43m(\u001b[49m\u001b[43mdata\u001b[49m\u001b[38;5;241;43m=\u001b[39;49m\u001b[43mdata_fit\u001b[49m\u001b[43m,\u001b[49m\u001b[43m \u001b[49m\u001b[43mdist\u001b[49m\u001b[38;5;241;43m=\u001b[39;49m\u001b[38;5;28;43mself\u001b[39;49m\u001b[38;5;241;43m.\u001b[39;49m\u001b[43mdist\u001b[49m\u001b[43m)\u001b[49m\n\u001b[0;32m     67\u001b[0m \u001b[38;5;28mself\u001b[39m\u001b[38;5;241m.\u001b[39mloc \u001b[38;5;241m=\u001b[39m loc\n\u001b[0;32m     68\u001b[0m \u001b[38;5;28mself\u001b[39m\u001b[38;5;241m.\u001b[39mscale \u001b[38;5;241m=\u001b[39m scale\n",
      "File \u001b[1;32m~\\data-analysis\\Lib\\site-packages\\spei\\dist.py:93\u001b[0m, in \u001b[0;36mDist.fit_dist\u001b[1;34m(data, dist)\u001b[0m\n\u001b[0;32m     74\u001b[0m \u001b[38;5;129m@staticmethod\u001b[39m\n\u001b[0;32m     75\u001b[0m \u001b[38;5;28;01mdef\u001b[39;00m \u001b[38;5;21mfit_dist\u001b[39m(\n\u001b[0;32m     76\u001b[0m     data: Series, dist: ContinuousDist\n\u001b[0;32m     77\u001b[0m ) \u001b[38;5;241m-\u001b[39m\u001b[38;5;241m>\u001b[39m Tuple[Optional[List[\u001b[38;5;28mfloat\u001b[39m]], \u001b[38;5;28mfloat\u001b[39m, \u001b[38;5;28mfloat\u001b[39m]:\n\u001b[0;32m     78\u001b[0m \u001b[38;5;250m    \u001b[39m\u001b[38;5;124;03m\"\"\"\u001b[39;00m\n\u001b[0;32m     79\u001b[0m \u001b[38;5;124;03m    Fits a Scipy continuous distribution to the data.\u001b[39;00m\n\u001b[0;32m     80\u001b[0m \n\u001b[1;32m   (...)\u001b[0m\n\u001b[0;32m     91\u001b[0m \u001b[38;5;124;03m        Tuple containing distribution parameters (pars, loc, scale).\u001b[39;00m\n\u001b[0;32m     92\u001b[0m \u001b[38;5;124;03m    \"\"\"\u001b[39;00m\n\u001b[1;32m---> 93\u001b[0m     fit_tuple \u001b[38;5;241m=\u001b[39m \u001b[43mdist\u001b[49m\u001b[38;5;241;43m.\u001b[39;49m\u001b[43mfit\u001b[49m(data, scale\u001b[38;5;241m=\u001b[39mstd(data))\n\u001b[0;32m     94\u001b[0m     \u001b[38;5;28;01mif\u001b[39;00m \u001b[38;5;28mlen\u001b[39m(fit_tuple) \u001b[38;5;241m==\u001b[39m \u001b[38;5;241m2\u001b[39m:\n\u001b[0;32m     95\u001b[0m         loc, scale \u001b[38;5;241m=\u001b[39m fit_tuple\n",
      "\u001b[1;31mAttributeError\u001b[0m: 'int' object has no attribute 'fit'"
     ]
    }
   ],
   "source": [
    "for province_name, province_data in all_data.groupby(by=\"province_name\"):\n",
    "    province_data = province_data.sort_values(by='date')\n",
    "\n",
    "    res = si.spei(province_data.set_index('date')['water_balance'], 1)\n",
    "    \n",
    "    break"
   ]
  },
  {
   "cell_type": "code",
   "execution_count": 61,
   "metadata": {
    "execution": {
     "iopub.execute_input": "2024-04-30T00:42:12.100591Z",
     "iopub.status.busy": "2024-04-30T00:42:12.100591Z",
     "iopub.status.idle": "2024-04-30T00:42:12.104287Z",
     "shell.execute_reply": "2024-04-30T00:42:12.104287Z",
     "shell.execute_reply.started": "2024-04-30T00:42:12.100591Z"
    }
   },
   "outputs": [],
   "source": [
    "from spei import spei"
   ]
  },
  {
   "cell_type": "code",
   "execution_count": 62,
   "metadata": {
    "execution": {
     "iopub.execute_input": "2024-04-30T00:42:15.703385Z",
     "iopub.status.busy": "2024-04-30T00:42:15.702872Z",
     "iopub.status.idle": "2024-04-30T00:42:15.716305Z",
     "shell.execute_reply": "2024-04-30T00:42:15.714288Z",
     "shell.execute_reply.started": "2024-04-30T00:42:15.703385Z"
    }
   },
   "outputs": [
    {
     "data": {
      "text/plain": [
       "\u001b[1;31mSignature:\u001b[0m\n",
       "\u001b[0mspei\u001b[0m\u001b[1;33m(\u001b[0m\u001b[1;33m\n",
       "\u001b[0m    \u001b[0mseries\u001b[0m\u001b[1;33m:\u001b[0m \u001b[0mpandas\u001b[0m\u001b[1;33m.\u001b[0m\u001b[0mcore\u001b[0m\u001b[1;33m.\u001b[0m\u001b[0mseries\u001b[0m\u001b[1;33m.\u001b[0m\u001b[0mSeries\u001b[0m\u001b[1;33m,\u001b[0m\u001b[1;33m\n",
       "\u001b[0m    \u001b[0mdist\u001b[0m\u001b[1;33m:\u001b[0m \u001b[0mUnion\u001b[0m\u001b[1;33m[\u001b[0m\u001b[0mAny\u001b[0m\u001b[1;33m,\u001b[0m \u001b[0mscipy\u001b[0m\u001b[1;33m.\u001b[0m\u001b[0mstats\u001b[0m\u001b[1;33m.\u001b[0m\u001b[0m_distn_infrastructure\u001b[0m\u001b[1;33m.\u001b[0m\u001b[0mrv_continuous\u001b[0m\u001b[1;33m]\u001b[0m \u001b[1;33m=\u001b[0m \u001b[1;33m<\u001b[0m\u001b[0mscipy\u001b[0m\u001b[1;33m.\u001b[0m\u001b[0mstats\u001b[0m\u001b[1;33m.\u001b[0m\u001b[0m_continuous_distns\u001b[0m\u001b[1;33m.\u001b[0m\u001b[0mfisk_gen\u001b[0m \u001b[0mobject\u001b[0m \u001b[0mat\u001b[0m \u001b[1;36m0x000001EC59303980\u001b[0m\u001b[1;33m>\u001b[0m\u001b[1;33m,\u001b[0m\u001b[1;33m\n",
       "\u001b[0m    \u001b[0mtimescale\u001b[0m\u001b[1;33m:\u001b[0m \u001b[0mint\u001b[0m \u001b[1;33m=\u001b[0m \u001b[1;36m0\u001b[0m\u001b[1;33m,\u001b[0m\u001b[1;33m\n",
       "\u001b[0m    \u001b[0mfit_freq\u001b[0m\u001b[1;33m:\u001b[0m \u001b[0mOptional\u001b[0m\u001b[1;33m[\u001b[0m\u001b[0mstr\u001b[0m\u001b[1;33m]\u001b[0m \u001b[1;33m=\u001b[0m \u001b[1;32mNone\u001b[0m\u001b[1;33m,\u001b[0m\u001b[1;33m\n",
       "\u001b[0m    \u001b[0mfit_window\u001b[0m\u001b[1;33m:\u001b[0m \u001b[0mint\u001b[0m \u001b[1;33m=\u001b[0m \u001b[1;36m0\u001b[0m\u001b[1;33m,\u001b[0m\u001b[1;33m\n",
       "\u001b[0m    \u001b[0mprob_zero\u001b[0m\u001b[1;33m:\u001b[0m \u001b[0mbool\u001b[0m \u001b[1;33m=\u001b[0m \u001b[1;32mFalse\u001b[0m\u001b[1;33m,\u001b[0m\u001b[1;33m\n",
       "\u001b[0m\u001b[1;33m)\u001b[0m \u001b[1;33m->\u001b[0m \u001b[0mpandas\u001b[0m\u001b[1;33m.\u001b[0m\u001b[0mcore\u001b[0m\u001b[1;33m.\u001b[0m\u001b[0mseries\u001b[0m\u001b[1;33m.\u001b[0m\u001b[0mSeries\u001b[0m\u001b[1;33m\u001b[0m\u001b[1;33m\u001b[0m\u001b[0m\n",
       "\u001b[1;31mDocstring:\u001b[0m\n",
       "Method to compute the Standardized Precipitation Evaporation Index\n",
       "[spei_2010]_.\n",
       "\n",
       "Parameters\n",
       "----------\n",
       "series: pandas.Series\n",
       "    Pandas time series of the precipitation. Time series index\n",
       "    should be a pandas DatetimeIndex.\n",
       "dist: scipy.stats.rv_continuous\n",
       "    Can be any continuous distribution from the scipy.stats library.\n",
       "    However, for the SPEI generally the log-logistic (fisk) probability\n",
       "    density function is recommended. Other appropriate choices could be\n",
       "    the lognormal or PearsonIII distribution.\n",
       "timescale : int, optional, default=0\n",
       "    Size of the moving window over which the series is summed. If zero, no\n",
       "    summation is performed over the time series. If the time series\n",
       "    frequency is daily, then one would provide timescale=30 for SI1,\n",
       "    timescale=90 for SI3, timescale=180 for SI6 etc.\n",
       "fit_freq : str, optional, default=None\n",
       "    Frequency for fitting the distribution. Default is None in which case\n",
       "    the frequency of the series is inferred. If this fails a monthly\n",
       "    frequency is used.\n",
       "fit_window : int, optional, default=0\n",
       "    Window size for fitting data in fit_freq frequency's unit. Default is\n",
       "    zero in which case only data within the fit_freq is considered. If\n",
       "    larger than zero data data within the window is used to fit the\n",
       "    distribution for the series. fit_window must be a odd number larger\n",
       "    than 3 when used.\n",
       "prob_zero : bool, default=False\n",
       "    Flag indicating whether the probability of zero values in the series is\n",
       "    calculated by the occurence.\n",
       "\n",
       "Returns\n",
       "-------\n",
       "pandas.Series\n",
       "\n",
       "References\n",
       "----------\n",
       ".. [spei_2010] Vicente-Serrano S.M., Beguería S., López-Moreno J.I.:\n",
       "   A Multi-scalar drought index sensitive to global warming: The\n",
       "   Standardized Precipitation Evapotranspiration Index.\n",
       "   Journal of Climate, 23, 1696-1718, 2010.\n",
       "\u001b[1;31mFile:\u001b[0m      c:\\users\\reslan al tinawi\\data-analysis\\lib\\site-packages\\spei\\si.py\n",
       "\u001b[1;31mType:\u001b[0m      function"
      ]
     },
     "metadata": {},
     "output_type": "display_data"
    }
   ],
   "source": [
    "spei?"
   ]
  },
  {
   "cell_type": "code",
   "execution_count": null,
   "metadata": {},
   "outputs": [],
   "source": []
  }
 ],
 "metadata": {
  "kernelspec": {
   "display_name": "data-analysis",
   "language": "python",
   "name": "data-analysis"
  },
  "language_info": {
   "codemirror_mode": {
    "name": "ipython",
    "version": 3
   },
   "file_extension": ".py",
   "mimetype": "text/x-python",
   "name": "python",
   "nbconvert_exporter": "python",
   "pygments_lexer": "ipython3",
   "version": "3.12.0"
  }
 },
 "nbformat": 4,
 "nbformat_minor": 4
}
