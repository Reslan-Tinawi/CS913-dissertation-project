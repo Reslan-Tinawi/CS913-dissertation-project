{
 "cells": [
  {
   "cell_type": "code",
   "execution_count": null,
   "id": "330dd484-d8d9-46d1-9dcb-cb80fb02cef8",
   "metadata": {},
   "outputs": [],
   "source": [
    "import geopandas as gpd\n",
    "import numpy as np\n",
    "import pandas as pd\n",
    "import plotly.express as px\n",
    "import spei as si\n",
    "from scipy.stats import fisk, gamma, norm\n",
    "from tqdm.auto import tqdm"
   ]
  },
  {
   "cell_type": "code",
   "execution_count": null,
   "id": "05ec1ed8-8a78-491e-9b38-c7e541f15317",
   "metadata": {},
   "outputs": [],
   "source": [
    "spain_map = gpd.read_file(\"../data/maps/spain-map.geojson\")"
   ]
  },
  {
   "cell_type": "code",
   "execution_count": null,
   "id": "1364d8a7-06c2-4670-a85a-715e5dd486d2",
   "metadata": {},
   "outputs": [],
   "source": [
    "spain_map.head()"
   ]
  },
  {
   "cell_type": "code",
   "execution_count": null,
   "id": "fc19346f-f45b-459f-8a2a-9ddca040f36e",
   "metadata": {},
   "outputs": [],
   "source": [
    "df = pd.read_csv(\n",
    "    \"../data/climate-data/Spain_Avg_Water_Balance.csv\", parse_dates=[\"date\"]\n",
    ")"
   ]
  },
  {
   "cell_type": "code",
   "execution_count": null,
   "id": "6480a261-0b75-44f1-84dc-a0a59d63192f",
   "metadata": {},
   "outputs": [],
   "source": [
    "df.head()"
   ]
  },
  {
   "cell_type": "code",
   "execution_count": null,
   "id": "5624afb7-a9ed-4fa9-bc80-d782e6d3dee4",
   "metadata": {},
   "outputs": [],
   "source": [
    "df.isna().sum()"
   ]
  },
  {
   "cell_type": "code",
   "execution_count": null,
   "id": "4ac7f6e2-5f7b-4fcf-8756-242bd2d93603",
   "metadata": {},
   "outputs": [],
   "source": [
    "df = df.dropna()"
   ]
  },
  {
   "cell_type": "code",
   "execution_count": null,
   "id": "810301a9-d452-40cf-b097-98c5555b26d2",
   "metadata": {},
   "outputs": [],
   "source": [
    "df.dtypes"
   ]
  },
  {
   "cell_type": "code",
   "execution_count": null,
   "id": "5d8fb275-ea31-45d9-bec3-aa90cd58e80e",
   "metadata": {},
   "outputs": [],
   "source": [
    "dfs_list = []\n",
    "\n",
    "for province_name, province_data in tqdm(df.groupby(by=\"province_name\")):\n",
    "    province_data = province_data.sort_values(by=\"date\").set_index(\"date\")\n",
    "    province_data[\"spei\"] = si.spei(series=province_data[\"mean\"], dist=fisk)\n",
    "    dfs_list.append(province_data)"
   ]
  },
  {
   "cell_type": "code",
   "execution_count": null,
   "id": "7dee8b00-68ab-4037-a71b-49c73cf9e82e",
   "metadata": {},
   "outputs": [],
   "source": [
    "dfs_list[0]"
   ]
  },
  {
   "cell_type": "code",
   "execution_count": null,
   "id": "d793387d-461c-4b81-a011-5f7ecaf7f0e4",
   "metadata": {},
   "outputs": [],
   "source": [
    "all_data = pd.concat(dfs_list)"
   ]
  },
  {
   "cell_type": "code",
   "execution_count": null,
   "id": "dabddef3-c9cf-4d7c-a979-524ebb83e38a",
   "metadata": {},
   "outputs": [],
   "source": [
    "all_data = all_data.reset_index()"
   ]
  },
  {
   "cell_type": "code",
   "execution_count": null,
   "id": "996d47ff-a15c-45c1-8dfc-beb912a99b11",
   "metadata": {},
   "outputs": [],
   "source": [
    "SPEI_base = pd.read_csv(\n",
    "    \"../data/climate-data/SPEI_by_province.csv\", parse_dates=[\"date\"]\n",
    ")"
   ]
  },
  {
   "cell_type": "code",
   "execution_count": null,
   "id": "4b8f9af7-e4ab-4abd-808a-12007e87cf1a",
   "metadata": {},
   "outputs": [],
   "source": [
    "SPEI_base.head()"
   ]
  },
  {
   "cell_type": "code",
   "execution_count": null,
   "id": "73bcec0a-1d7b-48bb-b3b9-6f632df01cec",
   "metadata": {},
   "outputs": [],
   "source": [
    "SPEI_base.dtypes"
   ]
  },
  {
   "cell_type": "markdown",
   "id": "0ee0c3bd-d99a-4853-9bd6-759ca4dd986b",
   "metadata": {},
   "source": [
    "# Compare data"
   ]
  },
  {
   "cell_type": "code",
   "execution_count": null,
   "id": "93dfbc6c-fa84-4cef-b1e6-e5703edab46e",
   "metadata": {},
   "outputs": [],
   "source": [
    "all_data[\"province_name\"].nunique()"
   ]
  },
  {
   "cell_type": "code",
   "execution_count": null,
   "id": "7111911e-4102-4162-a080-d19e3b86f792",
   "metadata": {},
   "outputs": [],
   "source": [
    "SPEI_base[\"province\"].nunique()"
   ]
  },
  {
   "cell_type": "code",
   "execution_count": null,
   "id": "34e8ed98-3e27-480d-8528-44748e5b6b90",
   "metadata": {},
   "outputs": [],
   "source": [
    "compare_df = (\n",
    "    pd.merge(\n",
    "        left=all_data,\n",
    "        right=SPEI_base,\n",
    "        left_on=[\"date\", \"province_name\"],\n",
    "        right_on=[\"date\", \"province\"],\n",
    "        how=\"inner\",\n",
    "    )\n",
    "    .rename(columns={\"spei\": \"terra_climate_spei\", \"SPEI\": \"SPEIbase\"})\n",
    "    .drop(columns=[\"mean\", \"province\"])\n",
    ")"
   ]
  },
  {
   "cell_type": "code",
   "execution_count": null,
   "id": "d55c1a3c-9f23-4d8f-a6e3-3933f9a6e60e",
   "metadata": {},
   "outputs": [],
   "source": [
    "compare_df.head()"
   ]
  },
  {
   "cell_type": "code",
   "execution_count": null,
   "id": "f26b021d-372d-40ca-8a7c-36209fa4feef",
   "metadata": {},
   "outputs": [],
   "source": [
    "compare_df[\"province_name\"].unique()"
   ]
  },
  {
   "cell_type": "code",
   "execution_count": null,
   "id": "c6870696-d7d5-479c-8c88-75c1a5f2b111",
   "metadata": {},
   "outputs": [],
   "source": [
    "sevilla_data = compare_df.loc[compare_df[\"province_name\"] == \"Sevilla\"]"
   ]
  },
  {
   "cell_type": "code",
   "execution_count": null,
   "id": "6042c000-f5ef-4a77-a6f6-92ea47b5a1b7",
   "metadata": {},
   "outputs": [],
   "source": [
    "sevilla_data[\"abs_diff\"] = np.abs(\n",
    "    sevilla_data[\"terra_climate_spei\"] - sevilla_data[\"SPEIbase\"]\n",
    ")"
   ]
  },
  {
   "cell_type": "code",
   "execution_count": null,
   "id": "31201498-d1c1-4d17-a0cf-bd8dfc9961a3",
   "metadata": {},
   "outputs": [],
   "source": [
    "fig = px.line(data_frame=sevilla_data, x=\"date\", y=\"abs_diff\")\n",
    "\n",
    "fig.show()"
   ]
  },
  {
   "cell_type": "code",
   "execution_count": null,
   "id": "b7dffe81-6adb-43a3-bf9f-5e1db3ee9369",
   "metadata": {},
   "outputs": [],
   "source": [
    "fig = px.line(data_frame=sevilla_data, x=\"date\", y=[\"terra_climate_spei\", \"SPEIbase\"])\n",
    "\n",
    "fig.show()"
   ]
  },
  {
   "cell_type": "code",
   "execution_count": null,
   "id": "881a4875-0b39-4a06-85b4-abbbe39fbc69",
   "metadata": {},
   "outputs": [],
   "source": [
    "all_data.to_csv('../data/climate-data/terra-climate-spei.csv', index=False)"
   ]
  },
  {
   "cell_type": "code",
   "execution_count": null,
   "id": "52ccc159-8b5e-4c8f-9b3d-30a084f2c6d2",
   "metadata": {},
   "outputs": [],
   "source": []
  }
 ],
 "metadata": {
  "kernelspec": {
   "display_name": "data-analysis",
   "language": "python",
   "name": "data-analysis"
  },
  "language_info": {
   "codemirror_mode": {
    "name": "ipython",
    "version": 3
   },
   "file_extension": ".py",
   "mimetype": "text/x-python",
   "name": "python",
   "nbconvert_exporter": "python",
   "pygments_lexer": "ipython3",
   "version": "3.12.0"
  }
 },
 "nbformat": 4,
 "nbformat_minor": 5
}
