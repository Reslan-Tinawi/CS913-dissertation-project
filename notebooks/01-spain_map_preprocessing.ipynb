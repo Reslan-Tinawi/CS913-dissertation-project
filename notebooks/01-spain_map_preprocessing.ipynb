{
 "cells": [
  {
   "cell_type": "markdown",
   "id": "fe9d6e4b-6b16-41a8-b866-7c6654ba9c88",
   "metadata": {},
   "source": [
    "# Import packages:"
   ]
  },
  {
   "cell_type": "code",
   "execution_count": 1,
   "id": "91c7da94-6df2-400f-8c7b-3309b77f5a26",
   "metadata": {
    "execution": {
     "iopub.execute_input": "2024-08-16T18:18:40.524725Z",
     "iopub.status.busy": "2024-08-16T18:18:40.524725Z",
     "iopub.status.idle": "2024-08-16T18:18:41.190781Z",
     "shell.execute_reply": "2024-08-16T18:18:41.190781Z",
     "shell.execute_reply.started": "2024-08-16T18:18:40.524725Z"
    }
   },
   "outputs": [],
   "source": [
    "from pathlib import Path\n",
    "\n",
    "import geopandas as gpd\n",
    "import pandas as pd"
   ]
  },
  {
   "cell_type": "markdown",
   "id": "4d8f672c-eb1b-493e-a80c-927153820a44",
   "metadata": {},
   "source": [
    "# Load maps:"
   ]
  },
  {
   "cell_type": "code",
   "execution_count": 2,
   "id": "0a02f4f6-2c1e-4b37-b05a-479418abd3de",
   "metadata": {
    "execution": {
     "iopub.execute_input": "2024-08-16T18:18:43.643133Z",
     "iopub.status.busy": "2024-08-16T18:18:43.643133Z",
     "iopub.status.idle": "2024-08-16T18:18:43.648998Z",
     "shell.execute_reply": "2024-08-16T18:18:43.648998Z",
     "shell.execute_reply.started": "2024-08-16T18:18:43.643133Z"
    }
   },
   "outputs": [],
   "source": [
    "maps_data_dir = Path(\"../data/raw/maps/\")"
   ]
  },
  {
   "cell_type": "code",
   "execution_count": 3,
   "id": "2d946230-a85a-4e55-b2bc-39b78eb28eee",
   "metadata": {
    "execution": {
     "iopub.execute_input": "2024-08-16T18:18:44.208009Z",
     "iopub.status.busy": "2024-08-16T18:18:44.208009Z",
     "iopub.status.idle": "2024-08-16T18:18:44.419558Z",
     "shell.execute_reply": "2024-08-16T18:18:44.419033Z",
     "shell.execute_reply.started": "2024-08-16T18:18:44.208009Z"
    }
   },
   "outputs": [],
   "source": [
    "spain_map_communities_level = gpd.read_file(\n",
    "    maps_data_dir\n",
    "    / \"lineas_limite\"\n",
    "    / \"SHP_ETRS89\"\n",
    "    / \"recintos_autonomicas_inspire_peninbal_etrs89\"\n",
    "    / \"recintos_autonomicas_inspire_peninbal_etrs89.shp\"\n",
    ")"
   ]
  },
  {
   "cell_type": "code",
   "execution_count": 4,
   "id": "016bb9e5-7156-4665-9c32-9433d584d08f",
   "metadata": {
    "execution": {
     "iopub.execute_input": "2024-08-16T18:18:44.551873Z",
     "iopub.status.busy": "2024-08-16T18:18:44.551873Z",
     "iopub.status.idle": "2024-08-16T18:18:44.678778Z",
     "shell.execute_reply": "2024-08-16T18:18:44.677702Z",
     "shell.execute_reply.started": "2024-08-16T18:18:44.551873Z"
    }
   },
   "outputs": [],
   "source": [
    "spain_map_provinces_level = gpd.read_file(\n",
    "    maps_data_dir\n",
    "    / \"lineas_limite\"\n",
    "    / \"SHP_ETRS89\"\n",
    "    / \"recintos_provinciales_inspire_peninbal_etrs89\"\n",
    "    / \"recintos_provinciales_inspire_peninbal_etrs89.shp\"\n",
    ")"
   ]
  },
  {
   "cell_type": "code",
   "execution_count": 5,
   "id": "a05f05d9-f414-461c-bc34-86afb26d14b5",
   "metadata": {
    "execution": {
     "iopub.execute_input": "2024-08-16T18:18:44.990537Z",
     "iopub.status.busy": "2024-08-16T18:18:44.990537Z",
     "iopub.status.idle": "2024-08-16T18:18:45.055852Z",
     "shell.execute_reply": "2024-08-16T18:18:45.055852Z",
     "shell.execute_reply.started": "2024-08-16T18:18:44.990537Z"
    }
   },
   "outputs": [],
   "source": [
    "canary_islands_map_communities_level = gpd.read_file(\n",
    "    maps_data_dir\n",
    "    / \"lineas_limite\"\n",
    "    / \"SHP_REGCAN95\"\n",
    "    / \"recintos_autonomicas_inspire_canarias_regcan95\"\n",
    "    / \"recintos_autonomicas_inspire_canarias_regcan95.shp\"\n",
    ")"
   ]
  },
  {
   "cell_type": "code",
   "execution_count": 6,
   "id": "ae634884-804e-481b-abc8-4787bc0e841e",
   "metadata": {
    "execution": {
     "iopub.execute_input": "2024-08-16T18:18:45.289094Z",
     "iopub.status.busy": "2024-08-16T18:18:45.289094Z",
     "iopub.status.idle": "2024-08-16T18:18:45.344652Z",
     "shell.execute_reply": "2024-08-16T18:18:45.344652Z",
     "shell.execute_reply.started": "2024-08-16T18:18:45.289094Z"
    }
   },
   "outputs": [],
   "source": [
    "canary_islands_map_provinces_level = gpd.read_file(\n",
    "    maps_data_dir\n",
    "    / \"lineas_limite\"\n",
    "    / \"SHP_REGCAN95\"\n",
    "    / \"recintos_provinciales_inspire_canarias_regcan95\"\n",
    "    / \"recintos_provinciales_inspire_canarias_regcan95.shp\"\n",
    ")"
   ]
  },
  {
   "cell_type": "code",
   "execution_count": 7,
   "id": "5a747d19-58ae-4a56-be4a-3fb235c95cc5",
   "metadata": {
    "execution": {
     "iopub.execute_input": "2024-08-16T18:18:45.587444Z",
     "iopub.status.busy": "2024-08-16T18:18:45.587444Z",
     "iopub.status.idle": "2024-08-16T18:18:45.607378Z",
     "shell.execute_reply": "2024-08-16T18:18:45.607378Z",
     "shell.execute_reply.started": "2024-08-16T18:18:45.587444Z"
    }
   },
   "outputs": [],
   "source": [
    "df_1 = (\n",
    "    spain_map_provinces_level.loc[:, [\"NAMEUNIT\", \"CODNUT2\", \"geometry\"]]\n",
    "    .merge(\n",
    "        right=spain_map_communities_level.loc[:, [\"NAMEUNIT\", \"CODNUT1\", \"CODNUT2\"]],\n",
    "        left_on=\"CODNUT2\",\n",
    "        right_on=\"CODNUT2\",\n",
    "        suffixes=(\"_province\", \"_community\"),\n",
    "    )\n",
    "    .loc[:, [\"NAMEUNIT_community\", \"NAMEUNIT_province\", \"geometry\"]]\n",
    "    .rename(\n",
    "        columns={\"NAMEUNIT_community\": \"community\", \"NAMEUNIT_province\": \"province\"}\n",
    "    )\n",
    ")"
   ]
  },
  {
   "cell_type": "code",
   "execution_count": 8,
   "id": "ee39d639-45eb-42f0-ab02-04e5927a2649",
   "metadata": {
    "execution": {
     "iopub.execute_input": "2024-08-16T18:18:45.933669Z",
     "iopub.status.busy": "2024-08-16T18:18:45.933669Z",
     "iopub.status.idle": "2024-08-16T18:18:45.946284Z",
     "shell.execute_reply": "2024-08-16T18:18:45.946284Z",
     "shell.execute_reply.started": "2024-08-16T18:18:45.933669Z"
    }
   },
   "outputs": [],
   "source": [
    "df_2 = (\n",
    "    canary_islands_map_provinces_level.loc[:, [\"NAMEUNIT\", \"CODNUT2\", \"geometry\"]]\n",
    "    .merge(\n",
    "        right=canary_islands_map_communities_level.loc[\n",
    "            :, [\"NAMEUNIT\", \"CODNUT1\", \"CODNUT2\"]\n",
    "        ],\n",
    "        left_on=\"CODNUT2\",\n",
    "        right_on=\"CODNUT2\",\n",
    "        suffixes=(\"_province\", \"_community\"),\n",
    "    )\n",
    "    .loc[:, [\"NAMEUNIT_community\", \"NAMEUNIT_province\", \"geometry\"]]\n",
    "    .rename(\n",
    "        columns={\"NAMEUNIT_community\": \"community\", \"NAMEUNIT_province\": \"province\"}\n",
    "    )\n",
    ")"
   ]
  },
  {
   "cell_type": "code",
   "execution_count": 9,
   "id": "0d7b037d-bcc9-47e9-8029-cd654ec25a24",
   "metadata": {
    "execution": {
     "iopub.execute_input": "2024-08-16T18:18:46.371863Z",
     "iopub.status.busy": "2024-08-16T18:18:46.371863Z",
     "iopub.status.idle": "2024-08-16T18:18:46.512923Z",
     "shell.execute_reply": "2024-08-16T18:18:46.512923Z",
     "shell.execute_reply.started": "2024-08-16T18:18:46.371863Z"
    }
   },
   "outputs": [],
   "source": [
    "df_2 = df_2.to_crs(df_1.crs)"
   ]
  },
  {
   "cell_type": "code",
   "execution_count": 10,
   "id": "f026fe8f-33ee-4a38-9be8-e80acc6d892b",
   "metadata": {
    "execution": {
     "iopub.execute_input": "2024-08-16T18:18:46.716889Z",
     "iopub.status.busy": "2024-08-16T18:18:46.716889Z",
     "iopub.status.idle": "2024-08-16T18:18:46.723012Z",
     "shell.execute_reply": "2024-08-16T18:18:46.723012Z",
     "shell.execute_reply.started": "2024-08-16T18:18:46.716889Z"
    }
   },
   "outputs": [],
   "source": [
    "final_map = pd.concat([df_1, df_2], ignore_index=True)"
   ]
  },
  {
   "cell_type": "code",
   "execution_count": 11,
   "id": "b7359225-c6fe-48b9-9caa-087cad3e900d",
   "metadata": {
    "execution": {
     "iopub.execute_input": "2024-08-16T18:18:46.981938Z",
     "iopub.status.busy": "2024-08-16T18:18:46.981938Z",
     "iopub.status.idle": "2024-08-16T18:18:47.041345Z",
     "shell.execute_reply": "2024-08-16T18:18:47.041345Z",
     "shell.execute_reply.started": "2024-08-16T18:18:46.981938Z"
    }
   },
   "outputs": [
    {
     "data": {
      "text/html": [
       "<div>\n",
       "<style scoped>\n",
       "    .dataframe tbody tr th:only-of-type {\n",
       "        vertical-align: middle;\n",
       "    }\n",
       "\n",
       "    .dataframe tbody tr th {\n",
       "        vertical-align: top;\n",
       "    }\n",
       "\n",
       "    .dataframe thead th {\n",
       "        text-align: right;\n",
       "    }\n",
       "</style>\n",
       "<table border=\"1\" class=\"dataframe\">\n",
       "  <thead>\n",
       "    <tr style=\"text-align: right;\">\n",
       "      <th></th>\n",
       "      <th>community</th>\n",
       "      <th>province</th>\n",
       "      <th>geometry</th>\n",
       "    </tr>\n",
       "  </thead>\n",
       "  <tbody>\n",
       "    <tr>\n",
       "      <th>0</th>\n",
       "      <td>País Vasco/Euskadi</td>\n",
       "      <td>Araba/Álava</td>\n",
       "      <td>POLYGON ((-2.76808 42.61408, -2.76863 42.61334...</td>\n",
       "    </tr>\n",
       "    <tr>\n",
       "      <th>1</th>\n",
       "      <td>Castilla-La Mancha</td>\n",
       "      <td>Albacete</td>\n",
       "      <td>POLYGON ((-2.55212 38.08501, -2.55207 38.08517...</td>\n",
       "    </tr>\n",
       "    <tr>\n",
       "      <th>2</th>\n",
       "      <td>Comunitat Valenciana</td>\n",
       "      <td>Alacant/Alicante</td>\n",
       "      <td>MULTIPOLYGON (((-0.75223 37.88691, -0.75225 37...</td>\n",
       "    </tr>\n",
       "    <tr>\n",
       "      <th>3</th>\n",
       "      <td>Andalucía</td>\n",
       "      <td>Almería</td>\n",
       "      <td>MULTIPOLYGON (((-3.03624 35.93791, -3.03637 35...</td>\n",
       "    </tr>\n",
       "    <tr>\n",
       "      <th>4</th>\n",
       "      <td>Castilla y León</td>\n",
       "      <td>Ávila</td>\n",
       "      <td>POLYGON ((-5.43382 40.24491, -5.4343 40.24276,...</td>\n",
       "    </tr>\n",
       "  </tbody>\n",
       "</table>\n",
       "</div>"
      ],
      "text/plain": [
       "              community          province  \\\n",
       "0    País Vasco/Euskadi       Araba/Álava   \n",
       "1    Castilla-La Mancha          Albacete   \n",
       "2  Comunitat Valenciana  Alacant/Alicante   \n",
       "3             Andalucía           Almería   \n",
       "4       Castilla y León             Ávila   \n",
       "\n",
       "                                            geometry  \n",
       "0  POLYGON ((-2.76808 42.61408, -2.76863 42.61334...  \n",
       "1  POLYGON ((-2.55212 38.08501, -2.55207 38.08517...  \n",
       "2  MULTIPOLYGON (((-0.75223 37.88691, -0.75225 37...  \n",
       "3  MULTIPOLYGON (((-3.03624 35.93791, -3.03637 35...  \n",
       "4  POLYGON ((-5.43382 40.24491, -5.4343 40.24276,...  "
      ]
     },
     "execution_count": 11,
     "metadata": {},
     "output_type": "execute_result"
    }
   ],
   "source": [
    "final_map.head()"
   ]
  },
  {
   "cell_type": "markdown",
   "id": "9e1061e8-31e6-4888-9703-8ff1316763bf",
   "metadata": {},
   "source": [
    "# Remove `Gibraltar` and `Pheasant Island`:"
   ]
  },
  {
   "cell_type": "code",
   "execution_count": 12,
   "id": "e67062df-20b7-4b09-9d03-6f7b281c967e",
   "metadata": {
    "execution": {
     "iopub.execute_input": "2024-08-16T18:18:47.640625Z",
     "iopub.status.busy": "2024-08-16T18:18:47.640625Z",
     "iopub.status.idle": "2024-08-16T18:18:47.651000Z",
     "shell.execute_reply": "2024-08-16T18:18:47.651000Z",
     "shell.execute_reply.started": "2024-08-16T18:18:47.640625Z"
    }
   },
   "outputs": [],
   "source": [
    "final_map = final_map.query(\n",
    "    \"province not in ['Gibraltar. Territorio no asociado a ninguna provincia', 'Territorios no asociados a ninguna provincia']\"\n",
    ")"
   ]
  },
  {
   "cell_type": "code",
   "execution_count": 13,
   "id": "b62dc725-8380-4e65-acca-7c9773bc8cca",
   "metadata": {
    "execution": {
     "iopub.execute_input": "2024-08-16T18:18:48.017157Z",
     "iopub.status.busy": "2024-08-16T18:18:48.017157Z",
     "iopub.status.idle": "2024-08-16T18:18:48.073122Z",
     "shell.execute_reply": "2024-08-16T18:18:48.073122Z",
     "shell.execute_reply.started": "2024-08-16T18:18:48.017157Z"
    }
   },
   "outputs": [
    {
     "data": {
      "text/html": [
       "<div>\n",
       "<style scoped>\n",
       "    .dataframe tbody tr th:only-of-type {\n",
       "        vertical-align: middle;\n",
       "    }\n",
       "\n",
       "    .dataframe tbody tr th {\n",
       "        vertical-align: top;\n",
       "    }\n",
       "\n",
       "    .dataframe thead th {\n",
       "        text-align: right;\n",
       "    }\n",
       "</style>\n",
       "<table border=\"1\" class=\"dataframe\">\n",
       "  <thead>\n",
       "    <tr style=\"text-align: right;\">\n",
       "      <th></th>\n",
       "      <th>community</th>\n",
       "      <th>province</th>\n",
       "      <th>geometry</th>\n",
       "    </tr>\n",
       "  </thead>\n",
       "  <tbody>\n",
       "    <tr>\n",
       "      <th>0</th>\n",
       "      <td>País Vasco/Euskadi</td>\n",
       "      <td>Araba/Álava</td>\n",
       "      <td>POLYGON ((-2.76808 42.61408, -2.76863 42.61334...</td>\n",
       "    </tr>\n",
       "    <tr>\n",
       "      <th>1</th>\n",
       "      <td>Castilla-La Mancha</td>\n",
       "      <td>Albacete</td>\n",
       "      <td>POLYGON ((-2.55212 38.08501, -2.55207 38.08517...</td>\n",
       "    </tr>\n",
       "    <tr>\n",
       "      <th>2</th>\n",
       "      <td>Comunitat Valenciana</td>\n",
       "      <td>Alacant/Alicante</td>\n",
       "      <td>MULTIPOLYGON (((-0.75223 37.88691, -0.75225 37...</td>\n",
       "    </tr>\n",
       "    <tr>\n",
       "      <th>3</th>\n",
       "      <td>Andalucía</td>\n",
       "      <td>Almería</td>\n",
       "      <td>MULTIPOLYGON (((-3.03624 35.93791, -3.03637 35...</td>\n",
       "    </tr>\n",
       "    <tr>\n",
       "      <th>4</th>\n",
       "      <td>Castilla y León</td>\n",
       "      <td>Ávila</td>\n",
       "      <td>POLYGON ((-5.43382 40.24491, -5.4343 40.24276,...</td>\n",
       "    </tr>\n",
       "  </tbody>\n",
       "</table>\n",
       "</div>"
      ],
      "text/plain": [
       "              community          province  \\\n",
       "0    País Vasco/Euskadi       Araba/Álava   \n",
       "1    Castilla-La Mancha          Albacete   \n",
       "2  Comunitat Valenciana  Alacant/Alicante   \n",
       "3             Andalucía           Almería   \n",
       "4       Castilla y León             Ávila   \n",
       "\n",
       "                                            geometry  \n",
       "0  POLYGON ((-2.76808 42.61408, -2.76863 42.61334...  \n",
       "1  POLYGON ((-2.55212 38.08501, -2.55207 38.08517...  \n",
       "2  MULTIPOLYGON (((-0.75223 37.88691, -0.75225 37...  \n",
       "3  MULTIPOLYGON (((-3.03624 35.93791, -3.03637 35...  \n",
       "4  POLYGON ((-5.43382 40.24491, -5.4343 40.24276,...  "
      ]
     },
     "execution_count": 13,
     "metadata": {},
     "output_type": "execute_result"
    }
   ],
   "source": [
    "final_map.head()"
   ]
  },
  {
   "cell_type": "code",
   "execution_count": 14,
   "id": "ccb3c533-354f-40aa-91ae-fa9e6058e1c6",
   "metadata": {
    "execution": {
     "iopub.execute_input": "2024-08-16T18:18:49.146972Z",
     "iopub.status.busy": "2024-08-16T18:18:49.146972Z",
     "iopub.status.idle": "2024-08-16T18:18:49.152145Z",
     "shell.execute_reply": "2024-08-16T18:18:49.152145Z",
     "shell.execute_reply.started": "2024-08-16T18:18:49.146972Z"
    }
   },
   "outputs": [],
   "source": [
    "output_path = Path(\"../data/processed/maps/\")"
   ]
  },
  {
   "cell_type": "code",
   "execution_count": 15,
   "id": "d1173264-d64a-4b43-a0a3-06061a2cf5fe",
   "metadata": {
    "execution": {
     "iopub.execute_input": "2024-08-16T18:18:50.543665Z",
     "iopub.status.busy": "2024-08-16T18:18:50.543665Z",
     "iopub.status.idle": "2024-08-16T18:18:50.740773Z",
     "shell.execute_reply": "2024-08-16T18:18:50.740773Z",
     "shell.execute_reply.started": "2024-08-16T18:18:50.543665Z"
    }
   },
   "outputs": [],
   "source": [
    "final_map.to_file(output_path / \"spain_map.shp\", index=False)"
   ]
  },
  {
   "cell_type": "code",
   "execution_count": null,
   "id": "c37a495b-b51d-4469-a20e-836e90f305ac",
   "metadata": {},
   "outputs": [],
   "source": []
  }
 ],
 "metadata": {
  "kernelspec": {
   "display_name": "Python (cs913-dissertation-project)",
   "language": "python",
   "name": "cs913-dissertation-project"
  },
  "language_info": {
   "codemirror_mode": {
    "name": "ipython",
    "version": 3
   },
   "file_extension": ".py",
   "mimetype": "text/x-python",
   "name": "python",
   "nbconvert_exporter": "python",
   "pygments_lexer": "ipython3",
   "version": "3.11.9"
  }
 },
 "nbformat": 4,
 "nbformat_minor": 5
}
