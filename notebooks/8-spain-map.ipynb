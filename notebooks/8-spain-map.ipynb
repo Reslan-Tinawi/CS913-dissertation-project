{
 "cells": [
  {
   "cell_type": "code",
   "execution_count": null,
   "id": "7d08764f-4d0d-4cf0-8530-ea1c8e03544e",
   "metadata": {},
   "outputs": [],
   "source": [
    "import io\n",
    "import zipfile\n",
    "\n",
    "import geopandas as gpd\n",
    "import pandas as pd\n",
    "import requests"
   ]
  },
  {
   "cell_type": "code",
   "execution_count": null,
   "id": "093230b8-c8e6-4e32-852a-9df0e3456679",
   "metadata": {},
   "outputs": [],
   "source": [
    "# # Function to download and extract a zip file\n",
    "# def download_and_extract(url, extract_to=\".\"):\n",
    "#     response = requests.get(url)\n",
    "#     if response.status_code == 200:\n",
    "#         with zipfile.ZipFile(io.BytesIO(response.content)) as z:\n",
    "#             z.extractall(extract_to)\n",
    "#     else:\n",
    "#         print(f\"Failed to download the file: {response.status_code}\")"
   ]
  },
  {
   "cell_type": "code",
   "execution_count": null,
   "id": "dd49c7da-0d4f-42a2-a541-68b2cbd22f31",
   "metadata": {},
   "outputs": [],
   "source": [
    "# # URL for Eurostat GISCO NUTS 2021 boundaries\n",
    "# url = \"https://gisco-services.ec.europa.eu/distribution/v2/nuts/download/ref-nuts-2021-03m.shp.zip\""
   ]
  },
  {
   "cell_type": "code",
   "execution_count": null,
   "id": "47ad2f72-3303-4964-8e59-7ea6ddb41395",
   "metadata": {},
   "outputs": [],
   "source": [
    "# # Download and extract the data\n",
    "# download_and_extract(url, \"eurostat_nuts\")"
   ]
  },
  {
   "cell_type": "code",
   "execution_count": null,
   "id": "d31d1881-dd62-46df-b754-262577e23c6e",
   "metadata": {},
   "outputs": [],
   "source": [
    "# Load the shapefiles using GeoPandas\n",
    "gdf_nuts_3 = gpd.read_file(\"eurostat_nuts/NUTS_RG_03M_2021_4326_LEVL_3.shp.zip\")\n",
    "gdf_nuts_2 = gpd.read_file(\"eurostat_nuts/NUTS_RG_03M_2021_4326_LEVL_2.shp.zip\")"
   ]
  },
  {
   "cell_type": "code",
   "execution_count": null,
   "id": "f3839f8a-db35-400a-8fb3-42b443462140",
   "metadata": {},
   "outputs": [],
   "source": [
    "# Filter the GeoDataFrames to include only Spain\n",
    "gdf_nuts_3_spain = gdf_nuts_3[gdf_nuts_3[\"CNTR_CODE\"] == \"ES\"]\n",
    "gdf_nuts_2_spain = gdf_nuts_2[gdf_nuts_2[\"CNTR_CODE\"] == \"ES\"]"
   ]
  },
  {
   "cell_type": "code",
   "execution_count": null,
   "id": "a6f0e290-238c-452a-933a-0ee92fd85526",
   "metadata": {},
   "outputs": [],
   "source": [
    "gdf_nuts_3_spain.head()"
   ]
  },
  {
   "cell_type": "code",
   "execution_count": null,
   "id": "733d53a2-63b0-427a-8025-6bb536c0a1db",
   "metadata": {},
   "outputs": [],
   "source": [
    "gdf_nuts_2_spain.head()"
   ]
  },
  {
   "cell_type": "code",
   "execution_count": null,
   "id": "f56b860d-7cab-4c82-8e43-ab82c50160aa",
   "metadata": {},
   "outputs": [],
   "source": [
    "gdf_nuts_3_spain[[\"NUTS_ID\", \"NAME_LATN\"]].head()"
   ]
  },
  {
   "cell_type": "code",
   "execution_count": null,
   "id": "27cc963f-3d25-473b-a88a-5d445ae6d404",
   "metadata": {},
   "outputs": [],
   "source": [
    "gdf_nuts_2_spain[[\"NUTS_ID\", \"NAME_LATN\"]].head()"
   ]
  },
  {
   "cell_type": "code",
   "execution_count": null,
   "id": "ae071a79-565f-470f-8972-2d3b4be47f9d",
   "metadata": {},
   "outputs": [],
   "source": [
    "final_map = (\n",
    "    gdf_nuts_3_spain.assign(nuts_2_id=gdf_nuts_3_spain[\"NUTS_ID\"].str.slice(0, 4))\n",
    "    .loc[\n",
    "        :,\n",
    "        [\n",
    "            \"nuts_2_id\",\n",
    "            \"NAME_LATN\",\n",
    "            \"geometry\",\n",
    "        ],\n",
    "    ]\n",
    "    .merge(\n",
    "        right=gdf_nuts_2_spain[[\"NUTS_ID\", \"NAME_LATN\"]],\n",
    "        left_on=\"nuts_2_id\",\n",
    "        right_on=\"NUTS_ID\",\n",
    "        suffixes=(\"_province\", \"_community\"),\n",
    "        how=\"outer\",\n",
    "    )\n",
    "    .rename(\n",
    "        columns={\"NAME_LATN_province\": \"province\", \"NAME_LATN_community\": \"community\"}\n",
    "    )\n",
    "    .drop(columns=[\"nuts_2_id\", \"NUTS_ID\"])\n",
    ")"
   ]
  },
  {
   "cell_type": "code",
   "execution_count": null,
   "id": "8c65a5f4-15c6-4a08-b5c6-dae60c9c3cc9",
   "metadata": {},
   "outputs": [],
   "source": [
    "final_map.to_file(\"../data/maps/spain-eurostat.geojson\", driver=\"GeoJSON\", index=False)"
   ]
  },
  {
   "cell_type": "code",
   "execution_count": null,
   "id": "cac67b84-e434-466b-b8e3-875882c9bcad",
   "metadata": {},
   "outputs": [],
   "source": []
  }
 ],
 "metadata": {
  "kernelspec": {
   "display_name": "Python (cs913-dissertation-project)",
   "language": "python",
   "name": "cs913-dissertation-project"
  },
  "language_info": {
   "codemirror_mode": {
    "name": "ipython",
    "version": 3
   },
   "file_extension": ".py",
   "mimetype": "text/x-python",
   "name": "python",
   "nbconvert_exporter": "python",
   "pygments_lexer": "ipython3",
   "version": "3.10.0"
  }
 },
 "nbformat": 4,
 "nbformat_minor": 5
}
