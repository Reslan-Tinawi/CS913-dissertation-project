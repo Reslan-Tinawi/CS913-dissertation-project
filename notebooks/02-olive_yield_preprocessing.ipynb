{
 "cells": [
  {
   "cell_type": "markdown",
   "id": "30f02707-dbe8-4e36-9369-7174a4305d77",
   "metadata": {},
   "source": [
    "# Import packages"
   ]
  },
  {
   "cell_type": "code",
   "execution_count": 1,
   "id": "d4fbadc6-065c-4bea-9137-bf34d79f2e89",
   "metadata": {
    "execution": {
     "iopub.execute_input": "2024-08-16T20:15:19.374641Z",
     "iopub.status.busy": "2024-08-16T20:15:19.370695Z",
     "iopub.status.idle": "2024-08-16T20:15:21.636135Z",
     "shell.execute_reply": "2024-08-16T20:15:21.636135Z",
     "shell.execute_reply.started": "2024-08-16T20:15:19.374641Z"
    }
   },
   "outputs": [],
   "source": [
    "from pathlib import Path\n",
    "\n",
    "import geopandas as gpd\n",
    "import numpy as np\n",
    "import pandas as pd"
   ]
  },
  {
   "cell_type": "markdown",
   "id": "956d5121-1748-4f15-a615-3eef418b8c7f",
   "metadata": {},
   "source": [
    "# Load data:"
   ]
  },
  {
   "cell_type": "code",
   "execution_count": 2,
   "id": "d12f387d-9402-4dcf-86d5-f27edaaff20f",
   "metadata": {
    "execution": {
     "iopub.execute_input": "2024-08-16T20:15:22.630505Z",
     "iopub.status.busy": "2024-08-16T20:15:22.630505Z",
     "iopub.status.idle": "2024-08-16T20:15:22.637643Z",
     "shell.execute_reply": "2024-08-16T20:15:22.637643Z",
     "shell.execute_reply.started": "2024-08-16T20:15:22.630505Z"
    }
   },
   "outputs": [],
   "source": [
    "province_name_mapping = {\n",
    "    \"Alava\": \"Araba/Álava\",\n",
    "    \"Álava\": \"Araba/Álava\",\n",
    "    \"PAÍS VASCO\": \"País Vasco/Euskadi\",\n",
    "    \"PAIS VASCO\": \"País Vasco/Euskadi\",\n",
    "    \"NAVARRA\": \"Navarra\",\n",
    "    \"LA RIOJA\": \"La Rioja\",\n",
    "    \"ARAGÓN\": \"Aragón\",\n",
    "    \"ARAGON\": \"Aragón\",\n",
    "    \"CATALUÑA\": \"Cataluña/Catalunya\",\n",
    "    \"BALEARES\": \"Illes Balears\",\n",
    "    \"Avila\": \"Ávila\",\n",
    "    \"CASTILLA Y LEÓN\": \"Castilla y León\",\n",
    "    \"CASTILLA Y LEON\": \"Castilla y León\",\n",
    "    \"MADRID\": \"Madrid\",\n",
    "    \"CASTILLA-LA MANCHA\": \"Castilla-La Mancha\",\n",
    "    \"C. VALENCIANA\": \"Comunitat Valenciana\",\n",
    "    \"R. DE MURCIA\": \"Murcia\",\n",
    "    \"EXTREMADURA\": \"Extremadura\",\n",
    "    \"ANDALUCÍA\": \"Andalucía\",\n",
    "    \"ANDALUCIA\": \"Andalucía\",\n",
    "    \"CANARIAS\": \"Canarias\",\n",
    "    \"Guipúzcoa\": \"Gipuzkoa\",\n",
    "    \"GALICIA\": \"Galicia\",\n",
    "    \"P. DE ASTURIAS\": \"Asturias\",\n",
    "    \"CANTABRIA\": \"Cantabria\",\n",
    "    \"Vizcaya\": \"Bizkaia\",\n",
    "    \"S.C. de Tenerife\": \"Santa Cruz de Tenerife\",\n",
    "    \"Alicante\": \"Alacant/Alicante\",\n",
    "    \"Castellón\": \"Castelló/Castellón\",\n",
    "    \"Valencia\": \"València/Valencia\",\n",
    "}"
   ]
  },
  {
   "cell_type": "code",
   "execution_count": 3,
   "id": "c8019c0a-bdbe-4b78-b109-d7f1cb9069d6",
   "metadata": {
    "execution": {
     "iopub.execute_input": "2024-08-16T20:15:23.682944Z",
     "iopub.status.busy": "2024-08-16T20:15:23.682944Z",
     "iopub.status.idle": "2024-08-16T20:15:23.687293Z",
     "shell.execute_reply": "2024-08-16T20:15:23.687293Z",
     "shell.execute_reply.started": "2024-08-16T20:15:23.682944Z"
    }
   },
   "outputs": [],
   "source": [
    "def normalize_province_name(input_province_name: str) -> str:\n",
    "    if input_province_name in province_name_mapping.keys():\n",
    "        return province_name_mapping.get(input_province_name)\n",
    "    return input_province_name"
   ]
  },
  {
   "cell_type": "code",
   "execution_count": 4,
   "id": "c07c99b9-3095-457f-810a-59c9bf01c740",
   "metadata": {
    "execution": {
     "iopub.execute_input": "2024-08-16T20:15:24.084546Z",
     "iopub.status.busy": "2024-08-16T20:15:24.084546Z",
     "iopub.status.idle": "2024-08-16T20:15:24.092880Z",
     "shell.execute_reply": "2024-08-16T20:15:24.092880Z",
     "shell.execute_reply.started": "2024-08-16T20:15:24.084546Z"
    }
   },
   "outputs": [],
   "source": [
    "def read_excel_file(file_path):\n",
    "    df = pd.read_excel(file_path, skiprows=6, na_values=\"–\", header=None)\n",
    "\n",
    "    # change column names\n",
    "    df.columns = [\"province\", \"total\", \"table_olive\", \"olive_oil\"]\n",
    "\n",
    "    # add year column\n",
    "    df[\"year\"] = int(file_path.stem)\n",
    "\n",
    "    # normalize values in province column\n",
    "    df[\"province\"] = df[\"province\"].str.strip().apply(normalize_province_name)\n",
    "\n",
    "    # fill NA values in numeric columns with zero\n",
    "    df[[\"total\", \"table_olive\", \"olive_oil\"]] = df[\n",
    "        [\"total\", \"table_olive\", \"olive_oil\"]\n",
    "    ].fillna(0)\n",
    "\n",
    "    # drop empty rows\n",
    "    df = df.dropna()\n",
    "\n",
    "    # fix dtype\n",
    "    df = df.astype(\n",
    "        {\n",
    "            \"province\": \"string[pyarrow]\",\n",
    "            \"total\": \"int32\",\n",
    "            \"table_olive\": \"int32\",\n",
    "            \"olive_oil\": \"int32\",\n",
    "        }\n",
    "    )\n",
    "\n",
    "    return df"
   ]
  },
  {
   "cell_type": "code",
   "execution_count": 5,
   "id": "14c14908-65bb-48cd-b1d7-0fa8f7e8f94b",
   "metadata": {
    "execution": {
     "iopub.execute_input": "2024-08-16T20:15:24.654897Z",
     "iopub.status.busy": "2024-08-16T20:15:24.654897Z",
     "iopub.status.idle": "2024-08-16T20:15:24.661466Z",
     "shell.execute_reply": "2024-08-16T20:15:24.661466Z",
     "shell.execute_reply.started": "2024-08-16T20:15:24.654897Z"
    }
   },
   "outputs": [],
   "source": [
    "olive_yield_dir = Path(\"../data/raw/olive_yield/\")"
   ]
  },
  {
   "cell_type": "code",
   "execution_count": 6,
   "id": "bfa072f8-24e3-4ddd-9f57-6d4e4ea01ac9",
   "metadata": {
    "execution": {
     "iopub.execute_input": "2024-08-16T20:15:25.204855Z",
     "iopub.status.busy": "2024-08-16T20:15:25.204855Z",
     "iopub.status.idle": "2024-08-16T20:15:26.167551Z",
     "shell.execute_reply": "2024-08-16T20:15:26.167551Z",
     "shell.execute_reply.started": "2024-08-16T20:15:25.204855Z"
    }
   },
   "outputs": [],
   "source": [
    "df_list = [read_excel_file(file_path) for file_path in olive_yield_dir.iterdir()]"
   ]
  },
  {
   "cell_type": "code",
   "execution_count": 7,
   "id": "ca22439e-9afd-43bf-b9d6-73b73cdfac3d",
   "metadata": {
    "execution": {
     "iopub.execute_input": "2024-08-16T20:15:26.167551Z",
     "iopub.status.busy": "2024-08-16T20:15:26.167551Z",
     "iopub.status.idle": "2024-08-16T20:15:26.174727Z",
     "shell.execute_reply": "2024-08-16T20:15:26.174727Z",
     "shell.execute_reply.started": "2024-08-16T20:15:26.167551Z"
    }
   },
   "outputs": [],
   "source": [
    "olive_yield_data = pd.concat(df_list, ignore_index=True)"
   ]
  },
  {
   "cell_type": "code",
   "execution_count": 8,
   "id": "04107dbb-aeb9-4808-92fb-68c9b7d6a9e5",
   "metadata": {
    "execution": {
     "iopub.execute_input": "2024-08-16T20:15:27.300452Z",
     "iopub.status.busy": "2024-08-16T20:15:27.300452Z",
     "iopub.status.idle": "2024-08-16T20:15:27.316054Z",
     "shell.execute_reply": "2024-08-16T20:15:27.316054Z",
     "shell.execute_reply.started": "2024-08-16T20:15:27.300452Z"
    }
   },
   "outputs": [
    {
     "data": {
      "text/html": [
       "<div>\n",
       "<style scoped>\n",
       "    .dataframe tbody tr th:only-of-type {\n",
       "        vertical-align: middle;\n",
       "    }\n",
       "\n",
       "    .dataframe tbody tr th {\n",
       "        vertical-align: top;\n",
       "    }\n",
       "\n",
       "    .dataframe thead th {\n",
       "        text-align: right;\n",
       "    }\n",
       "</style>\n",
       "<table border=\"1\" class=\"dataframe\">\n",
       "  <thead>\n",
       "    <tr style=\"text-align: right;\">\n",
       "      <th></th>\n",
       "      <th>province</th>\n",
       "      <th>total</th>\n",
       "      <th>table_olive</th>\n",
       "      <th>olive_oil</th>\n",
       "      <th>year</th>\n",
       "    </tr>\n",
       "  </thead>\n",
       "  <tbody>\n",
       "    <tr>\n",
       "      <th>0</th>\n",
       "      <td>Araba/Álava</td>\n",
       "      <td>205</td>\n",
       "      <td>0</td>\n",
       "      <td>205</td>\n",
       "      <td>1998</td>\n",
       "    </tr>\n",
       "    <tr>\n",
       "      <th>1</th>\n",
       "      <td>País Vasco/Euskadi</td>\n",
       "      <td>205</td>\n",
       "      <td>0</td>\n",
       "      <td>205</td>\n",
       "      <td>1998</td>\n",
       "    </tr>\n",
       "    <tr>\n",
       "      <th>2</th>\n",
       "      <td>Navarra</td>\n",
       "      <td>6843</td>\n",
       "      <td>105</td>\n",
       "      <td>6738</td>\n",
       "      <td>1998</td>\n",
       "    </tr>\n",
       "    <tr>\n",
       "      <th>3</th>\n",
       "      <td>La Rioja</td>\n",
       "      <td>2868</td>\n",
       "      <td>15</td>\n",
       "      <td>2853</td>\n",
       "      <td>1998</td>\n",
       "    </tr>\n",
       "    <tr>\n",
       "      <th>4</th>\n",
       "      <td>Huesca</td>\n",
       "      <td>5727</td>\n",
       "      <td>0</td>\n",
       "      <td>5727</td>\n",
       "      <td>1998</td>\n",
       "    </tr>\n",
       "  </tbody>\n",
       "</table>\n",
       "</div>"
      ],
      "text/plain": [
       "             province  total  table_olive  olive_oil  year\n",
       "0         Araba/Álava    205            0        205  1998\n",
       "1  País Vasco/Euskadi    205            0        205  1998\n",
       "2             Navarra   6843          105       6738  1998\n",
       "3            La Rioja   2868           15       2853  1998\n",
       "4              Huesca   5727            0       5727  1998"
      ]
     },
     "execution_count": 8,
     "metadata": {},
     "output_type": "execute_result"
    }
   ],
   "source": [
    "olive_yield_data.head()"
   ]
  },
  {
   "cell_type": "code",
   "execution_count": 9,
   "id": "d01bc8ba-173d-4035-9c1f-5beb5ae5278a",
   "metadata": {
    "execution": {
     "iopub.execute_input": "2024-08-16T20:15:27.712810Z",
     "iopub.status.busy": "2024-08-16T20:15:27.712810Z",
     "iopub.status.idle": "2024-08-16T20:15:27.726251Z",
     "shell.execute_reply": "2024-08-16T20:15:27.726251Z",
     "shell.execute_reply.started": "2024-08-16T20:15:27.712810Z"
    }
   },
   "outputs": [
    {
     "data": {
      "text/html": [
       "<div>\n",
       "<style scoped>\n",
       "    .dataframe tbody tr th:only-of-type {\n",
       "        vertical-align: middle;\n",
       "    }\n",
       "\n",
       "    .dataframe tbody tr th {\n",
       "        vertical-align: top;\n",
       "    }\n",
       "\n",
       "    .dataframe thead th {\n",
       "        text-align: right;\n",
       "    }\n",
       "</style>\n",
       "<table border=\"1\" class=\"dataframe\">\n",
       "  <thead>\n",
       "    <tr style=\"text-align: right;\">\n",
       "      <th></th>\n",
       "      <th>n_year</th>\n",
       "    </tr>\n",
       "    <tr>\n",
       "      <th>province</th>\n",
       "      <th></th>\n",
       "    </tr>\n",
       "  </thead>\n",
       "  <tbody>\n",
       "    <tr>\n",
       "      <th>A Coruña</th>\n",
       "      <td>4</td>\n",
       "    </tr>\n",
       "    <tr>\n",
       "      <th>Palencia</th>\n",
       "      <td>4</td>\n",
       "    </tr>\n",
       "    <tr>\n",
       "      <th>Cantabria</th>\n",
       "      <td>4</td>\n",
       "    </tr>\n",
       "    <tr>\n",
       "      <th>Burgos</th>\n",
       "      <td>4</td>\n",
       "    </tr>\n",
       "    <tr>\n",
       "      <th>Soria</th>\n",
       "      <td>4</td>\n",
       "    </tr>\n",
       "    <tr>\n",
       "      <th>...</th>\n",
       "      <td>...</td>\n",
       "    </tr>\n",
       "    <tr>\n",
       "      <th>Granada</th>\n",
       "      <td>25</td>\n",
       "    </tr>\n",
       "    <tr>\n",
       "      <th>Zaragoza</th>\n",
       "      <td>25</td>\n",
       "    </tr>\n",
       "    <tr>\n",
       "      <th>Huelva</th>\n",
       "      <td>25</td>\n",
       "    </tr>\n",
       "    <tr>\n",
       "      <th>Ciudad Real</th>\n",
       "      <td>25</td>\n",
       "    </tr>\n",
       "    <tr>\n",
       "      <th>Ávila</th>\n",
       "      <td>25</td>\n",
       "    </tr>\n",
       "  </tbody>\n",
       "</table>\n",
       "<p>61 rows × 1 columns</p>\n",
       "</div>"
      ],
      "text/plain": [
       "             n_year\n",
       "province           \n",
       "A Coruña          4\n",
       "Palencia          4\n",
       "Cantabria         4\n",
       "Burgos            4\n",
       "Soria             4\n",
       "...             ...\n",
       "Granada          25\n",
       "Zaragoza         25\n",
       "Huelva           25\n",
       "Ciudad Real      25\n",
       "Ávila            25\n",
       "\n",
       "[61 rows x 1 columns]"
      ]
     },
     "execution_count": 9,
     "metadata": {},
     "output_type": "execute_result"
    }
   ],
   "source": [
    "olive_yield_data.groupby(by=\"province\").agg(n_year=(\"year\", \"nunique\")).sort_values(\n",
    "    by=\"n_year\"\n",
    ")"
   ]
  },
  {
   "cell_type": "markdown",
   "id": "1d87a9a5-9c6d-48f4-851e-4117082a9284",
   "metadata": {},
   "source": [
    "Not all provinces have data for all years."
   ]
  },
  {
   "cell_type": "code",
   "execution_count": 10,
   "id": "e84b879f-7941-4e21-a47f-6aeaebf2f094",
   "metadata": {
    "execution": {
     "iopub.execute_input": "2024-08-16T20:15:29.355078Z",
     "iopub.status.busy": "2024-08-16T20:15:29.350986Z",
     "iopub.status.idle": "2024-08-16T20:15:29.360560Z",
     "shell.execute_reply": "2024-08-16T20:15:29.360032Z",
     "shell.execute_reply.started": "2024-08-16T20:15:29.355078Z"
    }
   },
   "outputs": [
    {
     "data": {
      "text/plain": [
       "province       0\n",
       "total          0\n",
       "table_olive    0\n",
       "olive_oil      0\n",
       "year           0\n",
       "dtype: int64"
      ]
     },
     "execution_count": 10,
     "metadata": {},
     "output_type": "execute_result"
    }
   ],
   "source": [
    "olive_yield_data.isna().sum()"
   ]
  },
  {
   "cell_type": "markdown",
   "id": "89fc9c95-4099-4e9e-bc5b-ab9a2a0b9dcb",
   "metadata": {},
   "source": [
    "# Validate province mapping"
   ]
  },
  {
   "cell_type": "code",
   "execution_count": 11,
   "id": "802f76c8-18bc-4696-a401-601f98cf00dd",
   "metadata": {
    "execution": {
     "iopub.execute_input": "2024-08-16T20:15:30.504635Z",
     "iopub.status.busy": "2024-08-16T20:15:30.504635Z",
     "iopub.status.idle": "2024-08-16T20:15:30.510665Z",
     "shell.execute_reply": "2024-08-16T20:15:30.510665Z",
     "shell.execute_reply.started": "2024-08-16T20:15:30.504635Z"
    }
   },
   "outputs": [],
   "source": [
    "spain_map_path = Path(\"../data/processed/maps/\")"
   ]
  },
  {
   "cell_type": "code",
   "execution_count": 12,
   "id": "6607b091-c90f-4cdf-b324-efec94d611e6",
   "metadata": {
    "execution": {
     "iopub.execute_input": "2024-08-16T20:15:31.299880Z",
     "iopub.status.busy": "2024-08-16T20:15:31.299880Z",
     "iopub.status.idle": "2024-08-16T20:15:31.813415Z",
     "shell.execute_reply": "2024-08-16T20:15:31.813415Z",
     "shell.execute_reply.started": "2024-08-16T20:15:31.299880Z"
    }
   },
   "outputs": [],
   "source": [
    "spain_map = gpd.read_file(spain_map_path)"
   ]
  },
  {
   "cell_type": "code",
   "execution_count": 13,
   "id": "5a32086e-be1d-4089-ab00-22e98eb0bf27",
   "metadata": {
    "execution": {
     "iopub.execute_input": "2024-08-16T20:15:32.567402Z",
     "iopub.status.busy": "2024-08-16T20:15:32.567402Z",
     "iopub.status.idle": "2024-08-16T20:15:32.614978Z",
     "shell.execute_reply": "2024-08-16T20:15:32.614978Z",
     "shell.execute_reply.started": "2024-08-16T20:15:32.567402Z"
    }
   },
   "outputs": [
    {
     "data": {
      "text/html": [
       "<div>\n",
       "<style scoped>\n",
       "    .dataframe tbody tr th:only-of-type {\n",
       "        vertical-align: middle;\n",
       "    }\n",
       "\n",
       "    .dataframe tbody tr th {\n",
       "        vertical-align: top;\n",
       "    }\n",
       "\n",
       "    .dataframe thead th {\n",
       "        text-align: right;\n",
       "    }\n",
       "</style>\n",
       "<table border=\"1\" class=\"dataframe\">\n",
       "  <thead>\n",
       "    <tr style=\"text-align: right;\">\n",
       "      <th></th>\n",
       "      <th>community</th>\n",
       "      <th>province</th>\n",
       "      <th>geometry</th>\n",
       "    </tr>\n",
       "  </thead>\n",
       "  <tbody>\n",
       "    <tr>\n",
       "      <th>0</th>\n",
       "      <td>País Vasco/Euskadi</td>\n",
       "      <td>Araba/Álava</td>\n",
       "      <td>POLYGON ((-2.76808 42.61408, -2.76863 42.61334...</td>\n",
       "    </tr>\n",
       "    <tr>\n",
       "      <th>1</th>\n",
       "      <td>Castilla-La Mancha</td>\n",
       "      <td>Albacete</td>\n",
       "      <td>POLYGON ((-2.55212 38.08501, -2.55207 38.08517...</td>\n",
       "    </tr>\n",
       "    <tr>\n",
       "      <th>2</th>\n",
       "      <td>Comunitat Valenciana</td>\n",
       "      <td>Alacant/Alicante</td>\n",
       "      <td>MULTIPOLYGON (((-0.75223 37.88691, -0.75225 37...</td>\n",
       "    </tr>\n",
       "    <tr>\n",
       "      <th>3</th>\n",
       "      <td>Andalucía</td>\n",
       "      <td>Almería</td>\n",
       "      <td>MULTIPOLYGON (((-3.03624 35.93791, -3.03637 35...</td>\n",
       "    </tr>\n",
       "    <tr>\n",
       "      <th>4</th>\n",
       "      <td>Castilla y León</td>\n",
       "      <td>Ávila</td>\n",
       "      <td>POLYGON ((-5.43382 40.24491, -5.4343 40.24276,...</td>\n",
       "    </tr>\n",
       "  </tbody>\n",
       "</table>\n",
       "</div>"
      ],
      "text/plain": [
       "              community          province  \\\n",
       "0    País Vasco/Euskadi       Araba/Álava   \n",
       "1    Castilla-La Mancha          Albacete   \n",
       "2  Comunitat Valenciana  Alacant/Alicante   \n",
       "3             Andalucía           Almería   \n",
       "4       Castilla y León             Ávila   \n",
       "\n",
       "                                            geometry  \n",
       "0  POLYGON ((-2.76808 42.61408, -2.76863 42.61334...  \n",
       "1  POLYGON ((-2.55212 38.08501, -2.55207 38.08517...  \n",
       "2  MULTIPOLYGON (((-0.75223 37.88691, -0.75225 37...  \n",
       "3  MULTIPOLYGON (((-3.03624 35.93791, -3.03637 35...  \n",
       "4  POLYGON ((-5.43382 40.24491, -5.4343 40.24276,...  "
      ]
     },
     "execution_count": 13,
     "metadata": {},
     "output_type": "execute_result"
    }
   ],
   "source": [
    "spain_map.head()"
   ]
  },
  {
   "cell_type": "code",
   "execution_count": 14,
   "id": "fd75c33f-a845-4cdb-b2a5-117606c3a4ac",
   "metadata": {
    "execution": {
     "iopub.execute_input": "2024-08-16T20:15:33.160561Z",
     "iopub.status.busy": "2024-08-16T20:15:33.157533Z",
     "iopub.status.idle": "2024-08-16T20:15:33.163042Z",
     "shell.execute_reply": "2024-08-16T20:15:33.163042Z",
     "shell.execute_reply.started": "2024-08-16T20:15:33.160561Z"
    }
   },
   "outputs": [],
   "source": [
    "def is_province(province_name: str) -> bool:\n",
    "    return any(spain_map[\"province\"] == province_name) or any(\n",
    "        spain_map[\"community\"] == province_name\n",
    "    )"
   ]
  },
  {
   "cell_type": "code",
   "execution_count": 15,
   "id": "995be9c5-8095-41e0-8180-4f9be95bacb2",
   "metadata": {
    "execution": {
     "iopub.execute_input": "2024-08-16T20:15:34.722805Z",
     "iopub.status.busy": "2024-08-16T20:15:34.722805Z",
     "iopub.status.idle": "2024-08-16T20:15:34.728732Z",
     "shell.execute_reply": "2024-08-16T20:15:34.728732Z",
     "shell.execute_reply.started": "2024-08-16T20:15:34.722805Z"
    }
   },
   "outputs": [],
   "source": [
    "provinces_from_data = olive_yield_data[\"province\"].unique()"
   ]
  },
  {
   "cell_type": "code",
   "execution_count": 16,
   "id": "07523b31-00af-4b26-88e8-22518d7ac016",
   "metadata": {
    "execution": {
     "iopub.execute_input": "2024-08-16T20:15:35.355778Z",
     "iopub.status.busy": "2024-08-16T20:15:35.355778Z",
     "iopub.status.idle": "2024-08-16T20:15:35.365570Z",
     "shell.execute_reply": "2024-08-16T20:15:35.365570Z",
     "shell.execute_reply.started": "2024-08-16T20:15:35.355778Z"
    }
   },
   "outputs": [
    {
     "name": "stdout",
     "output_type": "stream",
     "text": [
      "ESPAÑA\n"
     ]
    }
   ],
   "source": [
    "for province in provinces_from_data:\n",
    "    if not is_province(province):\n",
    "        print(f\"{province}\")"
   ]
  },
  {
   "cell_type": "markdown",
   "id": "db89e6de-1139-430b-acc8-bb642704efb2",
   "metadata": {},
   "source": [
    "Some rows in the dataset represents aggregations at the community level. We should remove these rows.\n",
    "\n",
    "To do so, for each value in the `province` column we need to know whther it's a province or communtiy.\n"
   ]
  },
  {
   "cell_type": "code",
   "execution_count": 17,
   "id": "4fc1d035-7287-4c70-be49-732069150d77",
   "metadata": {
    "execution": {
     "iopub.execute_input": "2024-08-16T20:15:36.820558Z",
     "iopub.status.busy": "2024-08-16T20:15:36.820558Z",
     "iopub.status.idle": "2024-08-16T20:15:36.824727Z",
     "shell.execute_reply": "2024-08-16T20:15:36.824727Z",
     "shell.execute_reply.started": "2024-08-16T20:15:36.820558Z"
    }
   },
   "outputs": [],
   "source": [
    "spain_provinces = spain_map[\"province\"].unique()"
   ]
  },
  {
   "cell_type": "code",
   "execution_count": 18,
   "id": "b3d2a319-4f89-4d55-a3e0-4b49e3522c3d",
   "metadata": {
    "execution": {
     "iopub.execute_input": "2024-08-16T20:15:37.421569Z",
     "iopub.status.busy": "2024-08-16T20:15:37.421569Z",
     "iopub.status.idle": "2024-08-16T20:15:37.427695Z",
     "shell.execute_reply": "2024-08-16T20:15:37.427695Z",
     "shell.execute_reply.started": "2024-08-16T20:15:37.421569Z"
    }
   },
   "outputs": [],
   "source": [
    "single_province_communities = (\n",
    "    spain_map[\"community\"].value_counts().pipe(lambda x: x[x == 1]).index\n",
    ").values"
   ]
  },
  {
   "cell_type": "code",
   "execution_count": 19,
   "id": "3413cf71-b5a7-45e6-881d-1120465d31da",
   "metadata": {
    "execution": {
     "iopub.execute_input": "2024-08-16T20:15:38.800824Z",
     "iopub.status.busy": "2024-08-16T20:15:38.800824Z",
     "iopub.status.idle": "2024-08-16T20:15:38.805854Z",
     "shell.execute_reply": "2024-08-16T20:15:38.805854Z",
     "shell.execute_reply.started": "2024-08-16T20:15:38.800824Z"
    }
   },
   "outputs": [
    {
     "name": "stdout",
     "output_type": "stream",
     "text": [
      "['Illes Balears' 'La Rioja' 'Comunidad de Madrid' 'Región de Murcia'\n",
      " 'Comunidad Foral de Navarra' 'Principado de Asturias' 'Cantabria'\n",
      " 'Ciudad Autónoma de Ceuta' 'Ciudad Autónoma de Melilla']\n"
     ]
    }
   ],
   "source": [
    "print(single_province_communities)"
   ]
  },
  {
   "cell_type": "code",
   "execution_count": 20,
   "id": "53239e09-d2fd-4229-a527-19bd7c702e84",
   "metadata": {
    "execution": {
     "iopub.execute_input": "2024-08-16T20:15:40.285197Z",
     "iopub.status.busy": "2024-08-16T20:15:40.285197Z",
     "iopub.status.idle": "2024-08-16T20:15:40.290891Z",
     "shell.execute_reply": "2024-08-16T20:15:40.290891Z",
     "shell.execute_reply.started": "2024-08-16T20:15:40.285197Z"
    }
   },
   "outputs": [],
   "source": [
    "provinces_to_keep = np.unique(\n",
    "    np.concatenate((single_province_communities, spain_provinces))\n",
    ")"
   ]
  },
  {
   "cell_type": "code",
   "execution_count": 21,
   "id": "a781e0df-07f9-48b3-b427-679a9b8d0c71",
   "metadata": {
    "execution": {
     "iopub.execute_input": "2024-08-16T20:15:41.555183Z",
     "iopub.status.busy": "2024-08-16T20:15:41.552677Z",
     "iopub.status.idle": "2024-08-16T20:15:41.558211Z",
     "shell.execute_reply": "2024-08-16T20:15:41.558211Z",
     "shell.execute_reply.started": "2024-08-16T20:15:41.555183Z"
    }
   },
   "outputs": [
    {
     "name": "stdout",
     "output_type": "stream",
     "text": [
      "['A Coruña' 'Alacant/Alicante' 'Albacete' 'Almería' 'Araba/Álava'\n",
      " 'Asturias' 'Badajoz' 'Barcelona' 'Bizkaia' 'Burgos' 'Cantabria'\n",
      " 'Castelló/Castellón' 'Ceuta' 'Ciudad Autónoma de Ceuta'\n",
      " 'Ciudad Autónoma de Melilla' 'Ciudad Real' 'Comunidad Foral de Navarra'\n",
      " 'Comunidad de Madrid' 'Cuenca' 'Cáceres' 'Cádiz' 'Córdoba' 'Gipuzkoa'\n",
      " 'Girona' 'Granada' 'Guadalajara' 'Huelva' 'Huesca' 'Illes Balears' 'Jaén'\n",
      " 'La Rioja' 'Las Palmas' 'León' 'Lleida' 'Lugo' 'Madrid' 'Melilla'\n",
      " 'Murcia' 'Málaga' 'Navarra' 'Ourense' 'Palencia' 'Pontevedra'\n",
      " 'Principado de Asturias' 'Región de Murcia' 'Salamanca'\n",
      " 'Santa Cruz de Tenerife' 'Segovia' 'Sevilla' 'Soria' 'Tarragona' 'Teruel'\n",
      " 'Toledo' 'Valladolid' 'València/Valencia' 'Zamora' 'Zaragoza' 'Ávila']\n"
     ]
    }
   ],
   "source": [
    "print(provinces_to_keep)"
   ]
  },
  {
   "cell_type": "code",
   "execution_count": 22,
   "id": "ba0ceaee-dfcb-421e-9ac7-4229fb23422f",
   "metadata": {
    "execution": {
     "iopub.execute_input": "2024-08-16T20:15:45.190743Z",
     "iopub.status.busy": "2024-08-16T20:15:45.190743Z",
     "iopub.status.idle": "2024-08-16T20:15:45.196103Z",
     "shell.execute_reply": "2024-08-16T20:15:45.196103Z",
     "shell.execute_reply.started": "2024-08-16T20:15:45.190743Z"
    }
   },
   "outputs": [
    {
     "data": {
      "text/plain": [
       "(1263, 5)"
      ]
     },
     "execution_count": 22,
     "metadata": {},
     "output_type": "execute_result"
    }
   ],
   "source": [
    "olive_yield_data.shape"
   ]
  },
  {
   "cell_type": "code",
   "execution_count": 23,
   "id": "c3c44453-38be-481b-994e-2b23fc3a3895",
   "metadata": {
    "execution": {
     "iopub.execute_input": "2024-08-16T20:15:45.590788Z",
     "iopub.status.busy": "2024-08-16T20:15:45.590788Z",
     "iopub.status.idle": "2024-08-16T20:15:45.602538Z",
     "shell.execute_reply": "2024-08-16T20:15:45.602538Z",
     "shell.execute_reply.started": "2024-08-16T20:15:45.590788Z"
    }
   },
   "outputs": [],
   "source": [
    "olive_yield_data = olive_yield_data[\n",
    "    olive_yield_data[\"province\"].isin(provinces_to_keep)\n",
    "]"
   ]
  },
  {
   "cell_type": "code",
   "execution_count": 24,
   "id": "6c713991-51b4-4289-baaf-4994a92ec553",
   "metadata": {
    "execution": {
     "iopub.execute_input": "2024-08-16T20:15:46.631011Z",
     "iopub.status.busy": "2024-08-16T20:15:46.631011Z",
     "iopub.status.idle": "2024-08-16T20:15:46.638192Z",
     "shell.execute_reply": "2024-08-16T20:15:46.638192Z",
     "shell.execute_reply.started": "2024-08-16T20:15:46.631011Z"
    }
   },
   "outputs": [
    {
     "data": {
      "text/plain": [
       "(1000, 5)"
      ]
     },
     "execution_count": 24,
     "metadata": {},
     "output_type": "execute_result"
    }
   ],
   "source": [
    "olive_yield_data.shape"
   ]
  },
  {
   "cell_type": "markdown",
   "id": "b6330960-cdbe-4c2e-91d3-414d82f91fbe",
   "metadata": {},
   "source": [
    "# Fill in missing years:"
   ]
  },
  {
   "cell_type": "markdown",
   "id": "1e72fa0d-c408-43e5-8446-3fb0e918299f",
   "metadata": {},
   "source": [
    "Each province should have data for the whole years range, from `min_year` to `max_year`.\n",
    "\n",
    "Added years will have zero values.\n",
    "\n",
    "This is done to ensure the data is aligned in a way where each province have the same number of years."
   ]
  },
  {
   "cell_type": "code",
   "execution_count": 25,
   "id": "43fe7025-4330-47a2-ae73-288c4560a318",
   "metadata": {
    "execution": {
     "iopub.execute_input": "2024-08-16T20:17:24.810988Z",
     "iopub.status.busy": "2024-08-16T20:17:24.807465Z",
     "iopub.status.idle": "2024-08-16T20:17:24.814204Z",
     "shell.execute_reply": "2024-08-16T20:17:24.814204Z",
     "shell.execute_reply.started": "2024-08-16T20:17:24.810988Z"
    }
   },
   "outputs": [],
   "source": [
    "min_year = olive_yield_data[\"year\"].min()\n",
    "max_year = olive_yield_data[\"year\"].max()"
   ]
  },
  {
   "cell_type": "code",
   "execution_count": 26,
   "id": "3f2aa133-f316-4d97-b5fd-69c9fcc9df66",
   "metadata": {
    "execution": {
     "iopub.execute_input": "2024-08-16T20:17:47.293988Z",
     "iopub.status.busy": "2024-08-16T20:17:47.293435Z",
     "iopub.status.idle": "2024-08-16T20:17:47.298251Z",
     "shell.execute_reply": "2024-08-16T20:17:47.297689Z",
     "shell.execute_reply.started": "2024-08-16T20:17:47.293988Z"
    }
   },
   "outputs": [
    {
     "name": "stdout",
     "output_type": "stream",
     "text": [
      "Min year: 1998\n",
      "Max year: 2022\n"
     ]
    }
   ],
   "source": [
    "print(f\"Min year: {min_year}\")\n",
    "print(f\"Max year: {max_year}\")"
   ]
  },
  {
   "cell_type": "code",
   "execution_count": 27,
   "id": "8795c217-8727-471e-a9aa-a3de00a89ac1",
   "metadata": {
    "execution": {
     "iopub.execute_input": "2024-08-16T20:19:26.131152Z",
     "iopub.status.busy": "2024-08-16T20:19:26.131152Z",
     "iopub.status.idle": "2024-08-16T20:19:26.138846Z",
     "shell.execute_reply": "2024-08-16T20:19:26.138846Z",
     "shell.execute_reply.started": "2024-08-16T20:19:26.131152Z"
    }
   },
   "outputs": [],
   "source": [
    "years = pd.Series(range(min_year, max_year + 1), name=\"year\")"
   ]
  },
  {
   "cell_type": "code",
   "execution_count": 28,
   "id": "38940e5a-9433-473b-9ee5-2106fb2cd21c",
   "metadata": {
    "execution": {
     "iopub.execute_input": "2024-08-16T20:19:26.814239Z",
     "iopub.status.busy": "2024-08-16T20:19:26.814239Z",
     "iopub.status.idle": "2024-08-16T20:19:26.820748Z",
     "shell.execute_reply": "2024-08-16T20:19:26.820748Z",
     "shell.execute_reply.started": "2024-08-16T20:19:26.814239Z"
    }
   },
   "outputs": [],
   "source": [
    "provinces = pd.Series(olive_yield_data[\"province\"].unique(), name=\"province\")"
   ]
  },
  {
   "cell_type": "code",
   "execution_count": 29,
   "id": "aeee1f57-7eb4-4349-946e-eab39945f0c5",
   "metadata": {
    "execution": {
     "iopub.execute_input": "2024-08-16T20:19:28.758217Z",
     "iopub.status.busy": "2024-08-16T20:19:28.758217Z",
     "iopub.status.idle": "2024-08-16T20:19:28.766890Z",
     "shell.execute_reply": "2024-08-16T20:19:28.766890Z",
     "shell.execute_reply.started": "2024-08-16T20:19:28.758217Z"
    }
   },
   "outputs": [],
   "source": [
    "all_provinces_years_df = pd.merge(left=years, right=provinces, how=\"cross\")"
   ]
  },
  {
   "cell_type": "code",
   "execution_count": 30,
   "id": "4877d3b6-167d-46ff-8cc6-32e8f34ade28",
   "metadata": {
    "execution": {
     "iopub.execute_input": "2024-08-16T20:19:33.570996Z",
     "iopub.status.busy": "2024-08-16T20:19:33.570996Z",
     "iopub.status.idle": "2024-08-16T20:19:33.583690Z",
     "shell.execute_reply": "2024-08-16T20:19:33.583690Z",
     "shell.execute_reply.started": "2024-08-16T20:19:33.570996Z"
    }
   },
   "outputs": [
    {
     "data": {
      "text/html": [
       "<div>\n",
       "<style scoped>\n",
       "    .dataframe tbody tr th:only-of-type {\n",
       "        vertical-align: middle;\n",
       "    }\n",
       "\n",
       "    .dataframe tbody tr th {\n",
       "        vertical-align: top;\n",
       "    }\n",
       "\n",
       "    .dataframe thead th {\n",
       "        text-align: right;\n",
       "    }\n",
       "</style>\n",
       "<table border=\"1\" class=\"dataframe\">\n",
       "  <thead>\n",
       "    <tr style=\"text-align: right;\">\n",
       "      <th></th>\n",
       "      <th>year</th>\n",
       "      <th>province</th>\n",
       "    </tr>\n",
       "  </thead>\n",
       "  <tbody>\n",
       "    <tr>\n",
       "      <th>0</th>\n",
       "      <td>1998</td>\n",
       "      <td>Araba/Álava</td>\n",
       "    </tr>\n",
       "    <tr>\n",
       "      <th>1</th>\n",
       "      <td>1998</td>\n",
       "      <td>Navarra</td>\n",
       "    </tr>\n",
       "    <tr>\n",
       "      <th>2</th>\n",
       "      <td>1998</td>\n",
       "      <td>La Rioja</td>\n",
       "    </tr>\n",
       "    <tr>\n",
       "      <th>3</th>\n",
       "      <td>1998</td>\n",
       "      <td>Huesca</td>\n",
       "    </tr>\n",
       "    <tr>\n",
       "      <th>4</th>\n",
       "      <td>1998</td>\n",
       "      <td>Teruel</td>\n",
       "    </tr>\n",
       "    <tr>\n",
       "      <th>...</th>\n",
       "      <td>...</td>\n",
       "      <td>...</td>\n",
       "    </tr>\n",
       "    <tr>\n",
       "      <th>1245</th>\n",
       "      <td>2022</td>\n",
       "      <td>Cantabria</td>\n",
       "    </tr>\n",
       "    <tr>\n",
       "      <th>1246</th>\n",
       "      <td>2022</td>\n",
       "      <td>Bizkaia</td>\n",
       "    </tr>\n",
       "    <tr>\n",
       "      <th>1247</th>\n",
       "      <td>2022</td>\n",
       "      <td>Burgos</td>\n",
       "    </tr>\n",
       "    <tr>\n",
       "      <th>1248</th>\n",
       "      <td>2022</td>\n",
       "      <td>Palencia</td>\n",
       "    </tr>\n",
       "    <tr>\n",
       "      <th>1249</th>\n",
       "      <td>2022</td>\n",
       "      <td>Soria</td>\n",
       "    </tr>\n",
       "  </tbody>\n",
       "</table>\n",
       "<p>1250 rows × 2 columns</p>\n",
       "</div>"
      ],
      "text/plain": [
       "      year     province\n",
       "0     1998  Araba/Álava\n",
       "1     1998      Navarra\n",
       "2     1998     La Rioja\n",
       "3     1998       Huesca\n",
       "4     1998       Teruel\n",
       "...    ...          ...\n",
       "1245  2022    Cantabria\n",
       "1246  2022      Bizkaia\n",
       "1247  2022       Burgos\n",
       "1248  2022     Palencia\n",
       "1249  2022        Soria\n",
       "\n",
       "[1250 rows x 2 columns]"
      ]
     },
     "execution_count": 30,
     "metadata": {},
     "output_type": "execute_result"
    }
   ],
   "source": [
    "all_provinces_years_df"
   ]
  },
  {
   "cell_type": "code",
   "execution_count": 31,
   "id": "4f80d7ab-28a9-4b7b-9823-4ea4658afcda",
   "metadata": {
    "execution": {
     "iopub.execute_input": "2024-08-16T20:19:40.052118Z",
     "iopub.status.busy": "2024-08-16T20:19:40.052118Z",
     "iopub.status.idle": "2024-08-16T20:19:40.061795Z",
     "shell.execute_reply": "2024-08-16T20:19:40.061795Z",
     "shell.execute_reply.started": "2024-08-16T20:19:40.052118Z"
    }
   },
   "outputs": [],
   "source": [
    "olive_yield_data_processed = (\n",
    "    pd.merge(\n",
    "        left=all_provinces_years_df,\n",
    "        right=olive_yield_data,\n",
    "        on=[\"province\", \"year\"],\n",
    "        how=\"left\",\n",
    "    )\n",
    "    .sort_values(by=[\"province\", \"year\"])\n",
    "    .fillna(0.0)\n",
    ")"
   ]
  },
  {
   "cell_type": "code",
   "execution_count": 32,
   "id": "959707df-5e78-4462-8f12-936fe18c1a74",
   "metadata": {
    "execution": {
     "iopub.execute_input": "2024-08-16T20:19:40.950590Z",
     "iopub.status.busy": "2024-08-16T20:19:40.950590Z",
     "iopub.status.idle": "2024-08-16T20:19:40.959451Z",
     "shell.execute_reply": "2024-08-16T20:19:40.959451Z",
     "shell.execute_reply.started": "2024-08-16T20:19:40.950590Z"
    }
   },
   "outputs": [
    {
     "data": {
      "text/html": [
       "<div>\n",
       "<style scoped>\n",
       "    .dataframe tbody tr th:only-of-type {\n",
       "        vertical-align: middle;\n",
       "    }\n",
       "\n",
       "    .dataframe tbody tr th {\n",
       "        vertical-align: top;\n",
       "    }\n",
       "\n",
       "    .dataframe thead th {\n",
       "        text-align: right;\n",
       "    }\n",
       "</style>\n",
       "<table border=\"1\" class=\"dataframe\">\n",
       "  <thead>\n",
       "    <tr style=\"text-align: right;\">\n",
       "      <th></th>\n",
       "      <th>year</th>\n",
       "      <th>province</th>\n",
       "      <th>total</th>\n",
       "      <th>table_olive</th>\n",
       "      <th>olive_oil</th>\n",
       "    </tr>\n",
       "  </thead>\n",
       "  <tbody>\n",
       "    <tr>\n",
       "      <th>43</th>\n",
       "      <td>1998</td>\n",
       "      <td>A Coruña</td>\n",
       "      <td>0.0</td>\n",
       "      <td>0.0</td>\n",
       "      <td>0.0</td>\n",
       "    </tr>\n",
       "    <tr>\n",
       "      <th>93</th>\n",
       "      <td>1999</td>\n",
       "      <td>A Coruña</td>\n",
       "      <td>0.0</td>\n",
       "      <td>0.0</td>\n",
       "      <td>0.0</td>\n",
       "    </tr>\n",
       "    <tr>\n",
       "      <th>143</th>\n",
       "      <td>2000</td>\n",
       "      <td>A Coruña</td>\n",
       "      <td>0.0</td>\n",
       "      <td>0.0</td>\n",
       "      <td>0.0</td>\n",
       "    </tr>\n",
       "    <tr>\n",
       "      <th>193</th>\n",
       "      <td>2001</td>\n",
       "      <td>A Coruña</td>\n",
       "      <td>0.0</td>\n",
       "      <td>0.0</td>\n",
       "      <td>0.0</td>\n",
       "    </tr>\n",
       "    <tr>\n",
       "      <th>243</th>\n",
       "      <td>2002</td>\n",
       "      <td>A Coruña</td>\n",
       "      <td>0.0</td>\n",
       "      <td>0.0</td>\n",
       "      <td>0.0</td>\n",
       "    </tr>\n",
       "  </tbody>\n",
       "</table>\n",
       "</div>"
      ],
      "text/plain": [
       "     year  province  total  table_olive  olive_oil\n",
       "43   1998  A Coruña    0.0          0.0        0.0\n",
       "93   1999  A Coruña    0.0          0.0        0.0\n",
       "143  2000  A Coruña    0.0          0.0        0.0\n",
       "193  2001  A Coruña    0.0          0.0        0.0\n",
       "243  2002  A Coruña    0.0          0.0        0.0"
      ]
     },
     "execution_count": 32,
     "metadata": {},
     "output_type": "execute_result"
    }
   ],
   "source": [
    "olive_yield_data_processed.head()"
   ]
  },
  {
   "cell_type": "code",
   "execution_count": 33,
   "id": "7cf4ffbe-8917-4489-bb5f-0a0e48a77756",
   "metadata": {
    "execution": {
     "iopub.execute_input": "2024-08-16T20:19:43.224165Z",
     "iopub.status.busy": "2024-08-16T20:19:43.224165Z",
     "iopub.status.idle": "2024-08-16T20:19:43.231186Z",
     "shell.execute_reply": "2024-08-16T20:19:43.231186Z",
     "shell.execute_reply.started": "2024-08-16T20:19:43.224165Z"
    }
   },
   "outputs": [
    {
     "data": {
      "text/plain": [
       "year                     int64\n",
       "province       string[pyarrow]\n",
       "total                  float64\n",
       "table_olive            float64\n",
       "olive_oil              float64\n",
       "dtype: object"
      ]
     },
     "execution_count": 33,
     "metadata": {},
     "output_type": "execute_result"
    }
   ],
   "source": [
    "olive_yield_data_processed.dtypes"
   ]
  },
  {
   "cell_type": "markdown",
   "id": "d089bee7-5dc0-4cdd-b17f-c1ca0bf467f3",
   "metadata": {},
   "source": [
    "Convert numerical columns to `float32` for space efficiency:"
   ]
  },
  {
   "cell_type": "code",
   "execution_count": 34,
   "id": "3b3a1efb-4c4c-4abf-b76d-ec665f0d71fc",
   "metadata": {
    "execution": {
     "iopub.execute_input": "2024-08-16T20:20:06.122130Z",
     "iopub.status.busy": "2024-08-16T20:20:06.122130Z",
     "iopub.status.idle": "2024-08-16T20:20:06.128819Z",
     "shell.execute_reply": "2024-08-16T20:20:06.128819Z",
     "shell.execute_reply.started": "2024-08-16T20:20:06.122130Z"
    }
   },
   "outputs": [],
   "source": [
    "olive_yield_data_processed = olive_yield_data_processed.astype(\n",
    "    dtype={\"total\": \"float32\", \"table_olive\": \"float32\", \"olive_oil\": \"float32\"}\n",
    ")"
   ]
  },
  {
   "cell_type": "code",
   "execution_count": 35,
   "id": "05dd2856-803d-4cbc-bfc2-116b21b19085",
   "metadata": {
    "execution": {
     "iopub.execute_input": "2024-08-16T20:23:00.671036Z",
     "iopub.status.busy": "2024-08-16T20:23:00.671036Z",
     "iopub.status.idle": "2024-08-16T20:23:00.674987Z",
     "shell.execute_reply": "2024-08-16T20:23:00.674987Z",
     "shell.execute_reply.started": "2024-08-16T20:23:00.671036Z"
    }
   },
   "outputs": [],
   "source": [
    "output_path = Path(\"../data/processed/olive_yield/\")"
   ]
  },
  {
   "cell_type": "code",
   "execution_count": 36,
   "id": "6ee63a2f-0ec5-4667-84b2-6cebec93bdf9",
   "metadata": {
    "execution": {
     "iopub.execute_input": "2024-08-16T20:23:01.901074Z",
     "iopub.status.busy": "2024-08-16T20:23:01.901074Z",
     "iopub.status.idle": "2024-08-16T20:23:02.094661Z",
     "shell.execute_reply": "2024-08-16T20:23:02.094661Z",
     "shell.execute_reply.started": "2024-08-16T20:23:01.901074Z"
    }
   },
   "outputs": [],
   "source": [
    "olive_yield_data_processed.to_parquet(output_path / \"olive_yield.parquet\", index=False)"
   ]
  },
  {
   "cell_type": "code",
   "execution_count": null,
   "id": "e02fb0c6-2e90-4ad4-9265-6ea69d0bb43c",
   "metadata": {},
   "outputs": [],
   "source": []
  }
 ],
 "metadata": {
  "kernelspec": {
   "display_name": "Python (cs913-dissertation-project)",
   "language": "python",
   "name": "cs913-dissertation-project"
  },
  "language_info": {
   "codemirror_mode": {
    "name": "ipython",
    "version": 3
   },
   "file_extension": ".py",
   "mimetype": "text/x-python",
   "name": "python",
   "nbconvert_exporter": "python",
   "pygments_lexer": "ipython3",
   "version": "3.11.9"
  }
 },
 "nbformat": 4,
 "nbformat_minor": 5
}
