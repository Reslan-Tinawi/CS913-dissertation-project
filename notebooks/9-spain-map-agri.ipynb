{
 "cells": [
  {
   "cell_type": "code",
   "execution_count": 1,
   "id": "a3a9dea3-0fb7-475f-a69b-7d8008271a0d",
   "metadata": {
    "execution": {
     "iopub.execute_input": "2024-07-01T20:48:05.238596Z",
     "iopub.status.busy": "2024-07-01T20:48:05.238596Z",
     "iopub.status.idle": "2024-07-01T20:48:05.718851Z",
     "shell.execute_reply": "2024-07-01T20:48:05.718851Z",
     "shell.execute_reply.started": "2024-07-01T20:48:05.238596Z"
    }
   },
   "outputs": [],
   "source": [
    "import geopandas as gpd\n",
    "import pandas as pd"
   ]
  },
  {
   "cell_type": "code",
   "execution_count": 2,
   "id": "f50681bb-385d-4b34-b2e1-4005db994323",
   "metadata": {
    "execution": {
     "iopub.execute_input": "2024-07-01T20:48:06.399200Z",
     "iopub.status.busy": "2024-07-01T20:48:06.399200Z",
     "iopub.status.idle": "2024-07-01T20:48:06.519474Z",
     "shell.execute_reply": "2024-07-01T20:48:06.519474Z",
     "shell.execute_reply.started": "2024-07-01T20:48:06.399200Z"
    }
   },
   "outputs": [],
   "source": [
    "spain_communities = gpd.read_file(\n",
    "    \"../data/maps/new-maps/lineas_limite/SHP_ETRS89/recintos_autonomicas_inspire_peninbal_etrs89/recintos_autonomicas_inspire_peninbal_etrs89.shp\"\n",
    ")"
   ]
  },
  {
   "cell_type": "code",
   "execution_count": 3,
   "id": "f9aea9fa-8205-4d8c-a046-02d0a4da06da",
   "metadata": {
    "execution": {
     "iopub.execute_input": "2024-07-01T20:48:07.111133Z",
     "iopub.status.busy": "2024-07-01T20:48:07.111133Z",
     "iopub.status.idle": "2024-07-01T20:48:07.188453Z",
     "shell.execute_reply": "2024-07-01T20:48:07.188453Z",
     "shell.execute_reply.started": "2024-07-01T20:48:07.111133Z"
    }
   },
   "outputs": [],
   "source": [
    "spain_provinces = gpd.read_file(\n",
    "    \"../data/maps/new-maps/lineas_limite/SHP_ETRS89/recintos_provinciales_inspire_peninbal_etrs89/recintos_provinciales_inspire_peninbal_etrs89.shp\"\n",
    ")"
   ]
  },
  {
   "cell_type": "code",
   "execution_count": 4,
   "id": "19e85467-1686-4293-bc2d-a667c639249f",
   "metadata": {
    "execution": {
     "iopub.execute_input": "2024-07-01T20:48:07.969839Z",
     "iopub.status.busy": "2024-07-01T20:48:07.969839Z",
     "iopub.status.idle": "2024-07-01T20:48:07.999907Z",
     "shell.execute_reply": "2024-07-01T20:48:07.999907Z",
     "shell.execute_reply.started": "2024-07-01T20:48:07.969839Z"
    }
   },
   "outputs": [],
   "source": [
    "canary_islands_communities = gpd.read_file(\n",
    "    \"../data/maps/new-maps/lineas_limite/SHP_REGCAN95/recintos_autonomicas_inspire_canarias_regcan95/recintos_autonomicas_inspire_canarias_regcan95.shp\"\n",
    ")"
   ]
  },
  {
   "cell_type": "code",
   "execution_count": 5,
   "id": "1ff48c9f-1732-4ba7-b838-283723ce6bb1",
   "metadata": {
    "execution": {
     "iopub.execute_input": "2024-07-01T20:48:08.861374Z",
     "iopub.status.busy": "2024-07-01T20:48:08.861374Z",
     "iopub.status.idle": "2024-07-01T20:48:08.891366Z",
     "shell.execute_reply": "2024-07-01T20:48:08.891366Z",
     "shell.execute_reply.started": "2024-07-01T20:48:08.861374Z"
    }
   },
   "outputs": [],
   "source": [
    "canary_islands_provinces = gpd.read_file(\n",
    "    \"../data/maps/new-maps/lineas_limite/SHP_REGCAN95/recintos_provinciales_inspire_canarias_regcan95/recintos_provinciales_inspire_canarias_regcan95.shp\"\n",
    ")"
   ]
  },
  {
   "cell_type": "code",
   "execution_count": 6,
   "id": "63f00901-e024-49e2-aa14-1749a14cd2ed",
   "metadata": {
    "execution": {
     "iopub.execute_input": "2024-07-01T20:48:10.393550Z",
     "iopub.status.busy": "2024-07-01T20:48:10.393550Z",
     "iopub.status.idle": "2024-07-01T20:48:10.413557Z",
     "shell.execute_reply": "2024-07-01T20:48:10.413557Z",
     "shell.execute_reply.started": "2024-07-01T20:48:10.393550Z"
    }
   },
   "outputs": [],
   "source": [
    "df_1 = (\n",
    "    spain_provinces.loc[:, [\"NAMEUNIT\", \"CODNUT2\", \"geometry\"]]\n",
    "    .merge(\n",
    "        right=spain_communities.loc[:, [\"NAMEUNIT\", \"CODNUT1\", \"CODNUT2\"]],\n",
    "        left_on=\"CODNUT2\",\n",
    "        right_on=\"CODNUT2\",\n",
    "        suffixes=(\"_province\", \"_community\"),\n",
    "    )\n",
    "    .loc[:, [\"NAMEUNIT_community\", \"NAMEUNIT_province\", \"geometry\"]]\n",
    "    .rename(\n",
    "        columns={\"NAMEUNIT_community\": \"community\", \"NAMEUNIT_province\": \"province\"}\n",
    "    )\n",
    ")"
   ]
  },
  {
   "cell_type": "code",
   "execution_count": 7,
   "id": "86825cd0-96ae-4fc6-815c-7f314d076065",
   "metadata": {
    "execution": {
     "iopub.execute_input": "2024-07-01T20:48:11.214486Z",
     "iopub.status.busy": "2024-07-01T20:48:11.214486Z",
     "iopub.status.idle": "2024-07-01T20:48:11.224491Z",
     "shell.execute_reply": "2024-07-01T20:48:11.224491Z",
     "shell.execute_reply.started": "2024-07-01T20:48:11.214486Z"
    }
   },
   "outputs": [],
   "source": [
    "df_2 = (\n",
    "    canary_islands_provinces.loc[:, [\"NAMEUNIT\", \"CODNUT2\", \"geometry\"]]\n",
    "    .merge(\n",
    "        right=canary_islands_communities.loc[:, [\"NAMEUNIT\", \"CODNUT1\", \"CODNUT2\"]],\n",
    "        left_on=\"CODNUT2\",\n",
    "        right_on=\"CODNUT2\",\n",
    "        suffixes=(\"_province\", \"_community\"),\n",
    "    )\n",
    "    .loc[:, [\"NAMEUNIT_community\", \"NAMEUNIT_province\", \"geometry\"]]\n",
    "    .rename(\n",
    "        columns={\"NAMEUNIT_community\": \"community\", \"NAMEUNIT_province\": \"province\"}\n",
    "    )\n",
    ")"
   ]
  },
  {
   "cell_type": "code",
   "execution_count": 8,
   "id": "1f98e085-f203-434f-aab3-55e18e0410f3",
   "metadata": {
    "execution": {
     "iopub.execute_input": "2024-07-01T20:48:11.964898Z",
     "iopub.status.busy": "2024-07-01T20:48:11.964898Z",
     "iopub.status.idle": "2024-07-01T20:48:12.044922Z",
     "shell.execute_reply": "2024-07-01T20:48:12.044922Z",
     "shell.execute_reply.started": "2024-07-01T20:48:11.964898Z"
    }
   },
   "outputs": [],
   "source": [
    "df_2 = df_2.to_crs(df_1.crs)"
   ]
  },
  {
   "cell_type": "code",
   "execution_count": 9,
   "id": "b625045c-0ec1-4418-adb8-bbd0e5950d03",
   "metadata": {
    "execution": {
     "iopub.execute_input": "2024-07-01T20:48:12.981619Z",
     "iopub.status.busy": "2024-07-01T20:48:12.981619Z",
     "iopub.status.idle": "2024-07-01T20:48:12.993635Z",
     "shell.execute_reply": "2024-07-01T20:48:12.993635Z",
     "shell.execute_reply.started": "2024-07-01T20:48:12.981619Z"
    }
   },
   "outputs": [],
   "source": [
    "final_map = pd.concat([df_1, df_2])"
   ]
  },
  {
   "cell_type": "code",
   "execution_count": 10,
   "id": "e5c57801-6a7e-4d98-a58a-ebff6240e62d",
   "metadata": {
    "execution": {
     "iopub.execute_input": "2024-07-01T20:48:14.880288Z",
     "iopub.status.busy": "2024-07-01T20:48:14.880288Z",
     "iopub.status.idle": "2024-07-01T20:48:19.135919Z",
     "shell.execute_reply": "2024-07-01T20:48:19.135919Z",
     "shell.execute_reply.started": "2024-07-01T20:48:14.880288Z"
    }
   },
   "outputs": [],
   "source": [
    "final_map.to_file(\"../data/maps/spain_map.geojson\", driver=\"GeoJSON\", index=False)"
   ]
  },
  {
   "cell_type": "code",
   "execution_count": null,
   "id": "bd4e66cd-126c-4590-872f-7fd2b32688fc",
   "metadata": {},
   "outputs": [],
   "source": []
  }
 ],
 "metadata": {
  "kernelspec": {
   "display_name": "Python (cs913-dissertation-project)",
   "language": "python",
   "name": "cs913-dissertation-project"
  },
  "language_info": {
   "codemirror_mode": {
    "name": "ipython",
    "version": 3
   },
   "file_extension": ".py",
   "mimetype": "text/x-python",
   "name": "python",
   "nbconvert_exporter": "python",
   "pygments_lexer": "ipython3",
   "version": "3.10.0"
  }
 },
 "nbformat": 4,
 "nbformat_minor": 5
}
