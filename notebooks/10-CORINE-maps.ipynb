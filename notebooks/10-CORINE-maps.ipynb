{
 "cells": [
  {
   "cell_type": "code",
   "execution_count": null,
   "id": "8659d9c6-ca0d-4a8a-a6ac-317b32d0f3ce",
   "metadata": {},
   "outputs": [],
   "source": [
    "import geopandas as gpd\n",
    "import numpy as np\n",
    "import pandas as pd\n",
    "import plotly.express as px"
   ]
  },
  {
   "cell_type": "code",
   "execution_count": null,
   "id": "1176cceb-8da0-4efe-9fae-49589f80b6d2",
   "metadata": {},
   "outputs": [],
   "source": [
    "spain_map = gpd.read_file(r\"D:\\CORINE\\84387\\U2018_CLC2018_V2020_20u1.shp\")"
   ]
  },
  {
   "cell_type": "code",
   "execution_count": null,
   "id": "dddcf513-307f-41bb-a006-7b3d1dcf535d",
   "metadata": {},
   "outputs": [],
   "source": [
    "(\n",
    "    spain_map[spain_map[\"Code_18\"] == \"223\"]\n",
    "    .explore()\n",
    ")"
   ]
  },
  {
   "cell_type": "code",
   "execution_count": null,
   "id": "bff8d803-20cd-4c84-9359-6188f3a7f638",
   "metadata": {},
   "outputs": [],
   "source": []
  }
 ],
 "metadata": {
  "kernelspec": {
   "display_name": "Python (cs913-dissertation-project)",
   "language": "python",
   "name": "cs913-dissertation-project"
  },
  "language_info": {
   "codemirror_mode": {
    "name": "ipython",
    "version": 3
   },
   "file_extension": ".py",
   "mimetype": "text/x-python",
   "name": "python",
   "nbconvert_exporter": "python",
   "pygments_lexer": "ipython3",
   "version": "3.10.0"
  }
 },
 "nbformat": 4,
 "nbformat_minor": 5
}
