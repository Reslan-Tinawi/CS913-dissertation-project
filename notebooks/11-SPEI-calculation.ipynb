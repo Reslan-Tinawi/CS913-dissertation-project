{
 "cells": [
  {
   "cell_type": "code",
   "execution_count": 1,
   "id": "37292694-dd79-43d0-bfab-4f9dc93086f4",
   "metadata": {
    "execution": {
     "iopub.execute_input": "2024-07-05T00:21:08.950945Z",
     "iopub.status.busy": "2024-07-05T00:21:08.950945Z",
     "iopub.status.idle": "2024-07-05T00:21:10.817751Z",
     "shell.execute_reply": "2024-07-05T00:21:10.817751Z",
     "shell.execute_reply.started": "2024-07-05T00:21:08.950945Z"
    }
   },
   "outputs": [],
   "source": [
    "import ee\n",
    "import geemap\n",
    "import geopandas as gpd\n",
    "import numpy as np\n",
    "import pandas as pd\n",
    "import plotly.express as px\n",
    "from tqdm.notebook import tqdm"
   ]
  },
  {
   "cell_type": "code",
   "execution_count": 2,
   "id": "eeae4cb2-9018-42c5-8ac7-1d36e7110fe5",
   "metadata": {
    "execution": {
     "iopub.execute_input": "2024-07-05T00:21:10.817751Z",
     "iopub.status.busy": "2024-07-05T00:21:10.817751Z",
     "iopub.status.idle": "2024-07-05T00:21:13.061402Z",
     "shell.execute_reply": "2024-07-05T00:21:13.061402Z",
     "shell.execute_reply.started": "2024-07-05T00:21:10.817751Z"
    }
   },
   "outputs": [
    {
     "data": {
      "text/html": [
       "\n",
       "            <style>\n",
       "                .geemap-dark {\n",
       "                    --jp-widgets-color: white;\n",
       "                    --jp-widgets-label-color: white;\n",
       "                    --jp-ui-font-color1: white;\n",
       "                    --jp-layout-color2: #454545;\n",
       "                    background-color: #383838;\n",
       "                }\n",
       "\n",
       "                .geemap-dark .jupyter-button {\n",
       "                    --jp-layout-color3: #383838;\n",
       "                }\n",
       "\n",
       "                .geemap-colab {\n",
       "                    background-color: var(--colab-primary-surface-color, white);\n",
       "                }\n",
       "\n",
       "                .geemap-colab .jupyter-button {\n",
       "                    --jp-layout-color3: var(--colab-primary-surface-color, white);\n",
       "                }\n",
       "            </style>\n",
       "            "
      ],
      "text/plain": [
       "<IPython.core.display.HTML object>"
      ]
     },
     "metadata": {},
     "output_type": "display_data"
    }
   ],
   "source": [
    "ee.Initialize()"
   ]
  },
  {
   "cell_type": "code",
   "execution_count": 3,
   "id": "03432ac4-8c6c-4b5e-b658-7110b43b4975",
   "metadata": {
    "execution": {
     "iopub.execute_input": "2024-07-05T00:21:13.061402Z",
     "iopub.status.busy": "2024-07-05T00:21:13.061402Z",
     "iopub.status.idle": "2024-07-05T00:21:13.077031Z",
     "shell.execute_reply": "2024-07-05T00:21:13.077031Z",
     "shell.execute_reply.started": "2024-07-05T00:21:13.061402Z"
    }
   },
   "outputs": [
    {
     "data": {
      "text/html": [
       "\n",
       "            <style>\n",
       "                .geemap-dark {\n",
       "                    --jp-widgets-color: white;\n",
       "                    --jp-widgets-label-color: white;\n",
       "                    --jp-ui-font-color1: white;\n",
       "                    --jp-layout-color2: #454545;\n",
       "                    background-color: #383838;\n",
       "                }\n",
       "\n",
       "                .geemap-dark .jupyter-button {\n",
       "                    --jp-layout-color3: #383838;\n",
       "                }\n",
       "\n",
       "                .geemap-colab {\n",
       "                    background-color: var(--colab-primary-surface-color, white);\n",
       "                }\n",
       "\n",
       "                .geemap-colab .jupyter-button {\n",
       "                    --jp-layout-color3: var(--colab-primary-surface-color, white);\n",
       "                }\n",
       "            </style>\n",
       "            "
      ],
      "text/plain": [
       "<IPython.core.display.HTML object>"
      ]
     },
     "metadata": {},
     "output_type": "display_data"
    }
   ],
   "source": [
    "start_date = \"2000-01-01\"\n",
    "end_date = \"2023-12-31\""
   ]
  },
  {
   "cell_type": "code",
   "execution_count": 4,
   "id": "aa03b8e4-ff53-444a-ba89-22c344e1dac7",
   "metadata": {
    "execution": {
     "iopub.execute_input": "2024-07-05T00:21:13.077031Z",
     "iopub.status.busy": "2024-07-05T00:21:13.077031Z",
     "iopub.status.idle": "2024-07-05T00:21:13.092642Z",
     "shell.execute_reply": "2024-07-05T00:21:13.092642Z",
     "shell.execute_reply.started": "2024-07-05T00:21:13.077031Z"
    }
   },
   "outputs": [
    {
     "data": {
      "text/html": [
       "\n",
       "            <style>\n",
       "                .geemap-dark {\n",
       "                    --jp-widgets-color: white;\n",
       "                    --jp-widgets-label-color: white;\n",
       "                    --jp-ui-font-color1: white;\n",
       "                    --jp-layout-color2: #454545;\n",
       "                    background-color: #383838;\n",
       "                }\n",
       "\n",
       "                .geemap-dark .jupyter-button {\n",
       "                    --jp-layout-color3: #383838;\n",
       "                }\n",
       "\n",
       "                .geemap-colab {\n",
       "                    background-color: var(--colab-primary-surface-color, white);\n",
       "                }\n",
       "\n",
       "                .geemap-colab .jupyter-button {\n",
       "                    --jp-layout-color3: var(--colab-primary-surface-color, white);\n",
       "                }\n",
       "            </style>\n",
       "            "
      ],
      "text/plain": [
       "<IPython.core.display.HTML object>"
      ]
     },
     "metadata": {},
     "output_type": "display_data"
    }
   ],
   "source": [
    "spain_map = ee.FeatureCollection(\"FAO/GAUL/2015/level0\").filter(\n",
    "    ee.Filter.eq(\"ADM0_NAME\", \"Spain\")\n",
    ")"
   ]
  },
  {
   "cell_type": "code",
   "execution_count": 5,
   "id": "44f1d70d-1a38-4540-afc3-e4b917979e9b",
   "metadata": {
    "execution": {
     "iopub.execute_input": "2024-07-05T00:21:13.092642Z",
     "iopub.status.busy": "2024-07-05T00:21:13.092642Z",
     "iopub.status.idle": "2024-07-05T00:21:22.998752Z",
     "shell.execute_reply": "2024-07-05T00:21:22.998752Z",
     "shell.execute_reply.started": "2024-07-05T00:21:13.092642Z"
    }
   },
   "outputs": [
    {
     "data": {
      "text/html": [
       "\n",
       "            <style>\n",
       "                .geemap-dark {\n",
       "                    --jp-widgets-color: white;\n",
       "                    --jp-widgets-label-color: white;\n",
       "                    --jp-ui-font-color1: white;\n",
       "                    --jp-layout-color2: #454545;\n",
       "                    background-color: #383838;\n",
       "                }\n",
       "\n",
       "                .geemap-dark .jupyter-button {\n",
       "                    --jp-layout-color3: #383838;\n",
       "                }\n",
       "\n",
       "                .geemap-colab {\n",
       "                    background-color: var(--colab-primary-surface-color, white);\n",
       "                }\n",
       "\n",
       "                .geemap-colab .jupyter-button {\n",
       "                    --jp-layout-color3: var(--colab-primary-surface-color, white);\n",
       "                }\n",
       "            </style>\n",
       "            "
      ],
      "text/plain": [
       "<IPython.core.display.HTML object>"
      ]
     },
     "metadata": {},
     "output_type": "display_data"
    }
   ],
   "source": [
    "spain_provinces = gpd.read_file(\"../data/maps/spain_map.geojson\")"
   ]
  },
  {
   "cell_type": "code",
   "execution_count": 6,
   "id": "68bddbfd-37d7-4539-a5fe-c82f151be949",
   "metadata": {
    "execution": {
     "iopub.execute_input": "2024-07-05T00:21:22.998752Z",
     "iopub.status.busy": "2024-07-05T00:21:22.998752Z",
     "iopub.status.idle": "2024-07-05T00:21:23.014366Z",
     "shell.execute_reply": "2024-07-05T00:21:23.014366Z",
     "shell.execute_reply.started": "2024-07-05T00:21:22.998752Z"
    }
   },
   "outputs": [
    {
     "data": {
      "text/html": [
       "\n",
       "            <style>\n",
       "                .geemap-dark {\n",
       "                    --jp-widgets-color: white;\n",
       "                    --jp-widgets-label-color: white;\n",
       "                    --jp-ui-font-color1: white;\n",
       "                    --jp-layout-color2: #454545;\n",
       "                    background-color: #383838;\n",
       "                }\n",
       "\n",
       "                .geemap-dark .jupyter-button {\n",
       "                    --jp-layout-color3: #383838;\n",
       "                }\n",
       "\n",
       "                .geemap-colab {\n",
       "                    background-color: var(--colab-primary-surface-color, white);\n",
       "                }\n",
       "\n",
       "                .geemap-colab .jupyter-button {\n",
       "                    --jp-layout-color3: var(--colab-primary-surface-color, white);\n",
       "                }\n",
       "            </style>\n",
       "            "
      ],
      "text/plain": [
       "<IPython.core.display.HTML object>"
      ]
     },
     "metadata": {},
     "output_type": "display_data"
    }
   ],
   "source": [
    "spain_provinces = spain_provinces[\n",
    "    spain_provinces[\"community\"]\n",
    "    != \"Gibraltar. Territorio no asociado a ninguna autonomía\"\n",
    "]"
   ]
  },
  {
   "cell_type": "code",
   "execution_count": 7,
   "id": "98eeaae8-49a0-40c9-ac4f-3eeaf9bb4115",
   "metadata": {
    "execution": {
     "iopub.execute_input": "2024-07-05T00:21:23.014366Z",
     "iopub.status.busy": "2024-07-05T00:21:23.014366Z",
     "iopub.status.idle": "2024-07-05T00:21:23.030007Z",
     "shell.execute_reply": "2024-07-05T00:21:23.030007Z",
     "shell.execute_reply.started": "2024-07-05T00:21:23.014366Z"
    }
   },
   "outputs": [
    {
     "data": {
      "text/html": [
       "\n",
       "            <style>\n",
       "                .geemap-dark {\n",
       "                    --jp-widgets-color: white;\n",
       "                    --jp-widgets-label-color: white;\n",
       "                    --jp-ui-font-color1: white;\n",
       "                    --jp-layout-color2: #454545;\n",
       "                    background-color: #383838;\n",
       "                }\n",
       "\n",
       "                .geemap-dark .jupyter-button {\n",
       "                    --jp-layout-color3: #383838;\n",
       "                }\n",
       "\n",
       "                .geemap-colab {\n",
       "                    background-color: var(--colab-primary-surface-color, white);\n",
       "                }\n",
       "\n",
       "                .geemap-colab .jupyter-button {\n",
       "                    --jp-layout-color3: var(--colab-primary-surface-color, white);\n",
       "                }\n",
       "            </style>\n",
       "            "
      ],
      "text/plain": [
       "<IPython.core.display.HTML object>"
      ]
     },
     "metadata": {},
     "output_type": "display_data"
    }
   ],
   "source": [
    "terra_climate_dataset = (\n",
    "    ee.ImageCollection(\"IDAHO_EPSCOR/TERRACLIMATE\")\n",
    "    .filterBounds(spain_map)\n",
    "    .filterDate(start_date, end_date)\n",
    ")"
   ]
  },
  {
   "cell_type": "code",
   "execution_count": 8,
   "id": "42bbf10d-3a76-4ac6-933d-6f8c19a4c24c",
   "metadata": {
    "execution": {
     "iopub.execute_input": "2024-07-05T00:21:23.030007Z",
     "iopub.status.busy": "2024-07-05T00:21:23.030007Z",
     "iopub.status.idle": "2024-07-05T00:21:23.045617Z",
     "shell.execute_reply": "2024-07-05T00:21:23.045617Z",
     "shell.execute_reply.started": "2024-07-05T00:21:23.030007Z"
    }
   },
   "outputs": [
    {
     "data": {
      "text/html": [
       "\n",
       "            <style>\n",
       "                .geemap-dark {\n",
       "                    --jp-widgets-color: white;\n",
       "                    --jp-widgets-label-color: white;\n",
       "                    --jp-ui-font-color1: white;\n",
       "                    --jp-layout-color2: #454545;\n",
       "                    background-color: #383838;\n",
       "                }\n",
       "\n",
       "                .geemap-dark .jupyter-button {\n",
       "                    --jp-layout-color3: #383838;\n",
       "                }\n",
       "\n",
       "                .geemap-colab {\n",
       "                    background-color: var(--colab-primary-surface-color, white);\n",
       "                }\n",
       "\n",
       "                .geemap-colab .jupyter-button {\n",
       "                    --jp-layout-color3: var(--colab-primary-surface-color, white);\n",
       "                }\n",
       "            </style>\n",
       "            "
      ],
      "text/plain": [
       "<IPython.core.display.HTML object>"
      ]
     },
     "metadata": {},
     "output_type": "display_data"
    }
   ],
   "source": [
    "def get_monthly_data(feature):\n",
    "    province_name = feature[\"properties\"][\"province\"]\n",
    "    province_geometry = feature[\"geometry\"]\n",
    "\n",
    "    def spatial_aggregation(image):\n",
    "        mean_precipitation_dict = image.select(\"pr\").reduceRegion(\n",
    "            reducer=ee.Reducer.mean(),\n",
    "            geometry=province_geometry,\n",
    "            scale=4638.3,\n",
    "        )\n",
    "\n",
    "        mean_pet_dict = image.select(\"pet\").reduceRegion(\n",
    "            reducer=ee.Reducer.mean(),\n",
    "            geometry=province_geometry,\n",
    "            scale=4638.3,\n",
    "        )\n",
    "\n",
    "        date = image.date().format(\"YYYY-MM-dd\")\n",
    "\n",
    "        feature = ee.Feature(\n",
    "            None,\n",
    "            {\n",
    "                \"province\": province_name,\n",
    "                \"date\": date,\n",
    "                \"avg_precipitation\": mean_precipitation_dict.get(\"pr\"),\n",
    "                \"avg_pet\": mean_pet_dict.get(\"pet\"),\n",
    "            },\n",
    "        )\n",
    "\n",
    "        return feature\n",
    "\n",
    "    return terra_climate_dataset.map(spatial_aggregation)"
   ]
  },
  {
   "cell_type": "code",
   "execution_count": 9,
   "id": "3ef0a452-f07a-4227-bfe4-f01ccc8ac29f",
   "metadata": {
    "execution": {
     "iopub.execute_input": "2024-07-05T00:21:23.045617Z",
     "iopub.status.busy": "2024-07-05T00:21:23.045617Z",
     "iopub.status.idle": "2024-07-05T00:49:25.149520Z",
     "shell.execute_reply": "2024-07-05T00:49:25.149520Z",
     "shell.execute_reply.started": "2024-07-05T00:21:23.045617Z"
    }
   },
   "outputs": [
    {
     "data": {
      "text/html": [
       "\n",
       "            <style>\n",
       "                .geemap-dark {\n",
       "                    --jp-widgets-color: white;\n",
       "                    --jp-widgets-label-color: white;\n",
       "                    --jp-ui-font-color1: white;\n",
       "                    --jp-layout-color2: #454545;\n",
       "                    background-color: #383838;\n",
       "                }\n",
       "\n",
       "                .geemap-dark .jupyter-button {\n",
       "                    --jp-layout-color3: #383838;\n",
       "                }\n",
       "\n",
       "                .geemap-colab {\n",
       "                    background-color: var(--colab-primary-surface-color, white);\n",
       "                }\n",
       "\n",
       "                .geemap-colab .jupyter-button {\n",
       "                    --jp-layout-color3: var(--colab-primary-surface-color, white);\n",
       "                }\n",
       "            </style>\n",
       "            "
      ],
      "text/plain": [
       "<IPython.core.display.HTML object>"
      ]
     },
     "metadata": {},
     "output_type": "display_data"
    },
    {
     "data": {
      "application/vnd.jupyter.widget-view+json": {
       "model_id": "6d2bc74d3bda4da69c2f00fb31763d17",
       "version_major": 2,
       "version_minor": 0
      },
      "text/plain": [
       "  0%|          | 0/53 [00:00<?, ?it/s]"
      ]
     },
     "metadata": {},
     "output_type": "display_data"
    }
   ],
   "source": [
    "df_list = []\n",
    "\n",
    "n_province = spain_provinces[\"province\"].nunique()\n",
    "\n",
    "for feature in tqdm(spain_provinces.iterfeatures(), total=n_province):\n",
    "    res = get_monthly_data(feature).getInfo()\n",
    "\n",
    "    df = pd.DataFrame([r[\"properties\"] for r in res[\"features\"]])\n",
    "\n",
    "    df_list.append(df)"
   ]
  },
  {
   "cell_type": "code",
   "execution_count": 10,
   "id": "791fe142-9ba6-4fec-be70-3e5cc6a5a8a8",
   "metadata": {
    "execution": {
     "iopub.execute_input": "2024-07-05T00:49:25.149520Z",
     "iopub.status.busy": "2024-07-05T00:49:25.149520Z",
     "iopub.status.idle": "2024-07-05T00:49:25.161045Z",
     "shell.execute_reply": "2024-07-05T00:49:25.161045Z",
     "shell.execute_reply.started": "2024-07-05T00:49:25.149520Z"
    }
   },
   "outputs": [
    {
     "data": {
      "text/html": [
       "\n",
       "            <style>\n",
       "                .geemap-dark {\n",
       "                    --jp-widgets-color: white;\n",
       "                    --jp-widgets-label-color: white;\n",
       "                    --jp-ui-font-color1: white;\n",
       "                    --jp-layout-color2: #454545;\n",
       "                    background-color: #383838;\n",
       "                }\n",
       "\n",
       "                .geemap-dark .jupyter-button {\n",
       "                    --jp-layout-color3: #383838;\n",
       "                }\n",
       "\n",
       "                .geemap-colab {\n",
       "                    background-color: var(--colab-primary-surface-color, white);\n",
       "                }\n",
       "\n",
       "                .geemap-colab .jupyter-button {\n",
       "                    --jp-layout-color3: var(--colab-primary-surface-color, white);\n",
       "                }\n",
       "            </style>\n",
       "            "
      ],
      "text/plain": [
       "<IPython.core.display.HTML object>"
      ]
     },
     "metadata": {},
     "output_type": "display_data"
    }
   ],
   "source": [
    "data = pd.concat(df_list)"
   ]
  },
  {
   "cell_type": "code",
   "execution_count": 11,
   "id": "30f8777a-cd7a-44c4-8a40-6697ca8f32e7",
   "metadata": {
    "execution": {
     "iopub.execute_input": "2024-07-05T00:49:25.161045Z",
     "iopub.status.busy": "2024-07-05T00:49:25.161045Z",
     "iopub.status.idle": "2024-07-05T00:49:25.185100Z",
     "shell.execute_reply": "2024-07-05T00:49:25.185100Z",
     "shell.execute_reply.started": "2024-07-05T00:49:25.161045Z"
    }
   },
   "outputs": [
    {
     "data": {
      "text/html": [
       "\n",
       "            <style>\n",
       "                .geemap-dark {\n",
       "                    --jp-widgets-color: white;\n",
       "                    --jp-widgets-label-color: white;\n",
       "                    --jp-ui-font-color1: white;\n",
       "                    --jp-layout-color2: #454545;\n",
       "                    background-color: #383838;\n",
       "                }\n",
       "\n",
       "                .geemap-dark .jupyter-button {\n",
       "                    --jp-layout-color3: #383838;\n",
       "                }\n",
       "\n",
       "                .geemap-colab {\n",
       "                    background-color: var(--colab-primary-surface-color, white);\n",
       "                }\n",
       "\n",
       "                .geemap-colab .jupyter-button {\n",
       "                    --jp-layout-color3: var(--colab-primary-surface-color, white);\n",
       "                }\n",
       "            </style>\n",
       "            "
      ],
      "text/plain": [
       "<IPython.core.display.HTML object>"
      ]
     },
     "metadata": {},
     "output_type": "display_data"
    },
    {
     "data": {
      "text/html": [
       "<div>\n",
       "<style scoped>\n",
       "    .dataframe tbody tr th:only-of-type {\n",
       "        vertical-align: middle;\n",
       "    }\n",
       "\n",
       "    .dataframe tbody tr th {\n",
       "        vertical-align: top;\n",
       "    }\n",
       "\n",
       "    .dataframe thead th {\n",
       "        text-align: right;\n",
       "    }\n",
       "</style>\n",
       "<table border=\"1\" class=\"dataframe\">\n",
       "  <thead>\n",
       "    <tr style=\"text-align: right;\">\n",
       "      <th></th>\n",
       "      <th>avg_pet</th>\n",
       "      <th>avg_precipitation</th>\n",
       "      <th>date</th>\n",
       "      <th>province</th>\n",
       "    </tr>\n",
       "  </thead>\n",
       "  <tbody>\n",
       "    <tr>\n",
       "      <th>0</th>\n",
       "      <td>142.446771</td>\n",
       "      <td>22.252368</td>\n",
       "      <td>2000-01-01</td>\n",
       "      <td>Araba/Álava</td>\n",
       "    </tr>\n",
       "    <tr>\n",
       "      <th>1</th>\n",
       "      <td>350.056457</td>\n",
       "      <td>23.672784</td>\n",
       "      <td>2000-02-01</td>\n",
       "      <td>Araba/Álava</td>\n",
       "    </tr>\n",
       "    <tr>\n",
       "      <th>2</th>\n",
       "      <td>667.062588</td>\n",
       "      <td>50.380843</td>\n",
       "      <td>2000-03-01</td>\n",
       "      <td>Araba/Álava</td>\n",
       "    </tr>\n",
       "    <tr>\n",
       "      <th>3</th>\n",
       "      <td>696.993360</td>\n",
       "      <td>122.973462</td>\n",
       "      <td>2000-04-01</td>\n",
       "      <td>Araba/Álava</td>\n",
       "    </tr>\n",
       "    <tr>\n",
       "      <th>4</th>\n",
       "      <td>1096.485081</td>\n",
       "      <td>69.824049</td>\n",
       "      <td>2000-05-01</td>\n",
       "      <td>Araba/Álava</td>\n",
       "    </tr>\n",
       "  </tbody>\n",
       "</table>\n",
       "</div>"
      ],
      "text/plain": [
       "       avg_pet  avg_precipitation        date     province\n",
       "0   142.446771          22.252368  2000-01-01  Araba/Álava\n",
       "1   350.056457          23.672784  2000-02-01  Araba/Álava\n",
       "2   667.062588          50.380843  2000-03-01  Araba/Álava\n",
       "3   696.993360         122.973462  2000-04-01  Araba/Álava\n",
       "4  1096.485081          69.824049  2000-05-01  Araba/Álava"
      ]
     },
     "execution_count": 11,
     "metadata": {},
     "output_type": "execute_result"
    }
   ],
   "source": [
    "data.head()"
   ]
  },
  {
   "cell_type": "code",
   "execution_count": 12,
   "id": "ec98d6e2-9366-489a-8738-b734b04cb3be",
   "metadata": {
    "execution": {
     "iopub.execute_input": "2024-07-05T00:49:25.185100Z",
     "iopub.status.busy": "2024-07-05T00:49:25.185100Z",
     "iopub.status.idle": "2024-07-05T00:49:25.197515Z",
     "shell.execute_reply": "2024-07-05T00:49:25.197032Z",
     "shell.execute_reply.started": "2024-07-05T00:49:25.185100Z"
    }
   },
   "outputs": [
    {
     "data": {
      "text/html": [
       "\n",
       "            <style>\n",
       "                .geemap-dark {\n",
       "                    --jp-widgets-color: white;\n",
       "                    --jp-widgets-label-color: white;\n",
       "                    --jp-ui-font-color1: white;\n",
       "                    --jp-layout-color2: #454545;\n",
       "                    background-color: #383838;\n",
       "                }\n",
       "\n",
       "                .geemap-dark .jupyter-button {\n",
       "                    --jp-layout-color3: #383838;\n",
       "                }\n",
       "\n",
       "                .geemap-colab {\n",
       "                    background-color: var(--colab-primary-surface-color, white);\n",
       "                }\n",
       "\n",
       "                .geemap-colab .jupyter-button {\n",
       "                    --jp-layout-color3: var(--colab-primary-surface-color, white);\n",
       "                }\n",
       "            </style>\n",
       "            "
      ],
      "text/plain": [
       "<IPython.core.display.HTML object>"
      ]
     },
     "metadata": {},
     "output_type": "display_data"
    }
   ],
   "source": [
    "data[\"date\"] = pd.to_datetime(data[\"date\"])"
   ]
  },
  {
   "cell_type": "code",
   "execution_count": 13,
   "id": "636e7851-fe41-4315-85f9-614359e18b6d",
   "metadata": {
    "execution": {
     "iopub.execute_input": "2024-07-05T00:49:25.197515Z",
     "iopub.status.busy": "2024-07-05T00:49:25.197515Z",
     "iopub.status.idle": "2024-07-05T00:49:25.209592Z",
     "shell.execute_reply": "2024-07-05T00:49:25.209592Z",
     "shell.execute_reply.started": "2024-07-05T00:49:25.197515Z"
    }
   },
   "outputs": [
    {
     "data": {
      "text/html": [
       "\n",
       "            <style>\n",
       "                .geemap-dark {\n",
       "                    --jp-widgets-color: white;\n",
       "                    --jp-widgets-label-color: white;\n",
       "                    --jp-ui-font-color1: white;\n",
       "                    --jp-layout-color2: #454545;\n",
       "                    background-color: #383838;\n",
       "                }\n",
       "\n",
       "                .geemap-dark .jupyter-button {\n",
       "                    --jp-layout-color3: #383838;\n",
       "                }\n",
       "\n",
       "                .geemap-colab {\n",
       "                    background-color: var(--colab-primary-surface-color, white);\n",
       "                }\n",
       "\n",
       "                .geemap-colab .jupyter-button {\n",
       "                    --jp-layout-color3: var(--colab-primary-surface-color, white);\n",
       "                }\n",
       "            </style>\n",
       "            "
      ],
      "text/plain": [
       "<IPython.core.display.HTML object>"
      ]
     },
     "metadata": {},
     "output_type": "display_data"
    },
    {
     "data": {
      "text/html": [
       "<div>\n",
       "<style scoped>\n",
       "    .dataframe tbody tr th:only-of-type {\n",
       "        vertical-align: middle;\n",
       "    }\n",
       "\n",
       "    .dataframe tbody tr th {\n",
       "        vertical-align: top;\n",
       "    }\n",
       "\n",
       "    .dataframe thead th {\n",
       "        text-align: right;\n",
       "    }\n",
       "</style>\n",
       "<table border=\"1\" class=\"dataframe\">\n",
       "  <thead>\n",
       "    <tr style=\"text-align: right;\">\n",
       "      <th></th>\n",
       "      <th>avg_pet</th>\n",
       "      <th>avg_precipitation</th>\n",
       "      <th>date</th>\n",
       "      <th>province</th>\n",
       "    </tr>\n",
       "  </thead>\n",
       "  <tbody>\n",
       "    <tr>\n",
       "      <th>0</th>\n",
       "      <td>142.446771</td>\n",
       "      <td>22.252368</td>\n",
       "      <td>2000-01-01</td>\n",
       "      <td>Araba/Álava</td>\n",
       "    </tr>\n",
       "    <tr>\n",
       "      <th>1</th>\n",
       "      <td>350.056457</td>\n",
       "      <td>23.672784</td>\n",
       "      <td>2000-02-01</td>\n",
       "      <td>Araba/Álava</td>\n",
       "    </tr>\n",
       "    <tr>\n",
       "      <th>2</th>\n",
       "      <td>667.062588</td>\n",
       "      <td>50.380843</td>\n",
       "      <td>2000-03-01</td>\n",
       "      <td>Araba/Álava</td>\n",
       "    </tr>\n",
       "    <tr>\n",
       "      <th>3</th>\n",
       "      <td>696.993360</td>\n",
       "      <td>122.973462</td>\n",
       "      <td>2000-04-01</td>\n",
       "      <td>Araba/Álava</td>\n",
       "    </tr>\n",
       "    <tr>\n",
       "      <th>4</th>\n",
       "      <td>1096.485081</td>\n",
       "      <td>69.824049</td>\n",
       "      <td>2000-05-01</td>\n",
       "      <td>Araba/Álava</td>\n",
       "    </tr>\n",
       "  </tbody>\n",
       "</table>\n",
       "</div>"
      ],
      "text/plain": [
       "       avg_pet  avg_precipitation       date     province\n",
       "0   142.446771          22.252368 2000-01-01  Araba/Álava\n",
       "1   350.056457          23.672784 2000-02-01  Araba/Álava\n",
       "2   667.062588          50.380843 2000-03-01  Araba/Álava\n",
       "3   696.993360         122.973462 2000-04-01  Araba/Álava\n",
       "4  1096.485081          69.824049 2000-05-01  Araba/Álava"
      ]
     },
     "execution_count": 13,
     "metadata": {},
     "output_type": "execute_result"
    }
   ],
   "source": [
    "data.head()"
   ]
  },
  {
   "cell_type": "code",
   "execution_count": 14,
   "id": "765fed30-a8fd-484d-8202-d5ba0596011c",
   "metadata": {
    "execution": {
     "iopub.execute_input": "2024-07-05T00:49:25.209592Z",
     "iopub.status.busy": "2024-07-05T00:49:25.209592Z",
     "iopub.status.idle": "2024-07-05T00:49:25.221523Z",
     "shell.execute_reply": "2024-07-05T00:49:25.221523Z",
     "shell.execute_reply.started": "2024-07-05T00:49:25.209592Z"
    }
   },
   "outputs": [
    {
     "data": {
      "text/html": [
       "\n",
       "            <style>\n",
       "                .geemap-dark {\n",
       "                    --jp-widgets-color: white;\n",
       "                    --jp-widgets-label-color: white;\n",
       "                    --jp-ui-font-color1: white;\n",
       "                    --jp-layout-color2: #454545;\n",
       "                    background-color: #383838;\n",
       "                }\n",
       "\n",
       "                .geemap-dark .jupyter-button {\n",
       "                    --jp-layout-color3: #383838;\n",
       "                }\n",
       "\n",
       "                .geemap-colab {\n",
       "                    background-color: var(--colab-primary-surface-color, white);\n",
       "                }\n",
       "\n",
       "                .geemap-colab .jupyter-button {\n",
       "                    --jp-layout-color3: var(--colab-primary-surface-color, white);\n",
       "                }\n",
       "            </style>\n",
       "            "
      ],
      "text/plain": [
       "<IPython.core.display.HTML object>"
      ]
     },
     "metadata": {},
     "output_type": "display_data"
    }
   ],
   "source": [
    "data = data.melt(\n",
    "    id_vars=[\"province\", \"date\"], value_vars=[\"avg_precipitation\", \"avg_pet\"]\n",
    ")"
   ]
  },
  {
   "cell_type": "code",
   "execution_count": 15,
   "id": "92c67d30-0401-439c-b7dd-0c2e5cc4956a",
   "metadata": {
    "execution": {
     "iopub.execute_input": "2024-07-05T00:49:25.221523Z",
     "iopub.status.busy": "2024-07-05T00:49:25.221523Z",
     "iopub.status.idle": "2024-07-05T00:49:25.233536Z",
     "shell.execute_reply": "2024-07-05T00:49:25.233536Z",
     "shell.execute_reply.started": "2024-07-05T00:49:25.221523Z"
    }
   },
   "outputs": [
    {
     "data": {
      "text/html": [
       "\n",
       "            <style>\n",
       "                .geemap-dark {\n",
       "                    --jp-widgets-color: white;\n",
       "                    --jp-widgets-label-color: white;\n",
       "                    --jp-ui-font-color1: white;\n",
       "                    --jp-layout-color2: #454545;\n",
       "                    background-color: #383838;\n",
       "                }\n",
       "\n",
       "                .geemap-dark .jupyter-button {\n",
       "                    --jp-layout-color3: #383838;\n",
       "                }\n",
       "\n",
       "                .geemap-colab {\n",
       "                    background-color: var(--colab-primary-surface-color, white);\n",
       "                }\n",
       "\n",
       "                .geemap-colab .jupyter-button {\n",
       "                    --jp-layout-color3: var(--colab-primary-surface-color, white);\n",
       "                }\n",
       "            </style>\n",
       "            "
      ],
      "text/plain": [
       "<IPython.core.display.HTML object>"
      ]
     },
     "metadata": {},
     "output_type": "display_data"
    },
    {
     "data": {
      "text/html": [
       "<div>\n",
       "<style scoped>\n",
       "    .dataframe tbody tr th:only-of-type {\n",
       "        vertical-align: middle;\n",
       "    }\n",
       "\n",
       "    .dataframe tbody tr th {\n",
       "        vertical-align: top;\n",
       "    }\n",
       "\n",
       "    .dataframe thead th {\n",
       "        text-align: right;\n",
       "    }\n",
       "</style>\n",
       "<table border=\"1\" class=\"dataframe\">\n",
       "  <thead>\n",
       "    <tr style=\"text-align: right;\">\n",
       "      <th></th>\n",
       "      <th>province</th>\n",
       "      <th>date</th>\n",
       "      <th>variable</th>\n",
       "      <th>value</th>\n",
       "    </tr>\n",
       "  </thead>\n",
       "  <tbody>\n",
       "    <tr>\n",
       "      <th>0</th>\n",
       "      <td>Araba/Álava</td>\n",
       "      <td>2000-01-01</td>\n",
       "      <td>avg_precipitation</td>\n",
       "      <td>22.252368</td>\n",
       "    </tr>\n",
       "    <tr>\n",
       "      <th>1</th>\n",
       "      <td>Araba/Álava</td>\n",
       "      <td>2000-02-01</td>\n",
       "      <td>avg_precipitation</td>\n",
       "      <td>23.672784</td>\n",
       "    </tr>\n",
       "    <tr>\n",
       "      <th>2</th>\n",
       "      <td>Araba/Álava</td>\n",
       "      <td>2000-03-01</td>\n",
       "      <td>avg_precipitation</td>\n",
       "      <td>50.380843</td>\n",
       "    </tr>\n",
       "    <tr>\n",
       "      <th>3</th>\n",
       "      <td>Araba/Álava</td>\n",
       "      <td>2000-04-01</td>\n",
       "      <td>avg_precipitation</td>\n",
       "      <td>122.973462</td>\n",
       "    </tr>\n",
       "    <tr>\n",
       "      <th>4</th>\n",
       "      <td>Araba/Álava</td>\n",
       "      <td>2000-05-01</td>\n",
       "      <td>avg_precipitation</td>\n",
       "      <td>69.824049</td>\n",
       "    </tr>\n",
       "  </tbody>\n",
       "</table>\n",
       "</div>"
      ],
      "text/plain": [
       "      province       date           variable       value\n",
       "0  Araba/Álava 2000-01-01  avg_precipitation   22.252368\n",
       "1  Araba/Álava 2000-02-01  avg_precipitation   23.672784\n",
       "2  Araba/Álava 2000-03-01  avg_precipitation   50.380843\n",
       "3  Araba/Álava 2000-04-01  avg_precipitation  122.973462\n",
       "4  Araba/Álava 2000-05-01  avg_precipitation   69.824049"
      ]
     },
     "execution_count": 15,
     "metadata": {},
     "output_type": "execute_result"
    }
   ],
   "source": [
    "data.head()"
   ]
  },
  {
   "cell_type": "code",
   "execution_count": 18,
   "id": "2a6d9ac4-36b6-4484-8223-255f5fd49b98",
   "metadata": {
    "execution": {
     "iopub.execute_input": "2024-07-05T00:51:08.309126Z",
     "iopub.status.busy": "2024-07-05T00:51:08.309126Z",
     "iopub.status.idle": "2024-07-05T00:51:08.403380Z",
     "shell.execute_reply": "2024-07-05T00:51:08.403380Z",
     "shell.execute_reply.started": "2024-07-05T00:51:08.309126Z"
    }
   },
   "outputs": [
    {
     "data": {
      "text/html": [
       "\n",
       "            <style>\n",
       "                .geemap-dark {\n",
       "                    --jp-widgets-color: white;\n",
       "                    --jp-widgets-label-color: white;\n",
       "                    --jp-ui-font-color1: white;\n",
       "                    --jp-layout-color2: #454545;\n",
       "                    background-color: #383838;\n",
       "                }\n",
       "\n",
       "                .geemap-dark .jupyter-button {\n",
       "                    --jp-layout-color3: #383838;\n",
       "                }\n",
       "\n",
       "                .geemap-colab {\n",
       "                    background-color: var(--colab-primary-surface-color, white);\n",
       "                }\n",
       "\n",
       "                .geemap-colab .jupyter-button {\n",
       "                    --jp-layout-color3: var(--colab-primary-surface-color, white);\n",
       "                }\n",
       "            </style>\n",
       "            "
      ],
      "text/plain": [
       "<IPython.core.display.HTML object>"
      ]
     },
     "metadata": {},
     "output_type": "display_data"
    }
   ],
   "source": [
    "data.to_csv('../data/climate_data.csv', index=False)"
   ]
  },
  {
   "cell_type": "code",
   "execution_count": null,
   "id": "5d25e40c-984c-4c41-8258-d13f72017579",
   "metadata": {},
   "outputs": [],
   "source": []
  }
 ],
 "metadata": {
  "kernelspec": {
   "display_name": "Python (cs913-dissertation-project)",
   "language": "python",
   "name": "cs913-dissertation-project"
  },
  "language_info": {
   "codemirror_mode": {
    "name": "ipython",
    "version": 3
   },
   "file_extension": ".py",
   "mimetype": "text/x-python",
   "name": "python",
   "nbconvert_exporter": "python",
   "pygments_lexer": "ipython3",
   "version": "3.10.0"
  }
 },
 "nbformat": 4,
 "nbformat_minor": 5
}
