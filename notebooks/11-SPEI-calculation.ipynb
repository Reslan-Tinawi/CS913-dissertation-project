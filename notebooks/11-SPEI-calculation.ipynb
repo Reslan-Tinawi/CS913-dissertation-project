{
 "cells": [
  {
   "cell_type": "code",
   "execution_count": 1,
   "id": "725cb196-9621-4564-9091-69bd80851b33",
   "metadata": {
    "execution": {
     "iopub.execute_input": "2024-07-04T12:27:20.925081Z",
     "iopub.status.busy": "2024-07-04T12:27:20.919008Z",
     "iopub.status.idle": "2024-07-04T12:27:24.990276Z",
     "shell.execute_reply": "2024-07-04T12:27:24.990276Z",
     "shell.execute_reply.started": "2024-07-04T12:27:20.925081Z"
    }
   },
   "outputs": [],
   "source": [
    "import ee\n",
    "import geemap\n",
    "import geopandas as gpd\n",
    "import numpy as np\n",
    "import pandas as pd\n",
    "import spei as si"
   ]
  },
  {
   "cell_type": "code",
   "execution_count": 5,
   "id": "1419d198-9438-44ba-a5c9-12360efa85cf",
   "metadata": {
    "execution": {
     "iopub.execute_input": "2024-07-04T12:30:33.533129Z",
     "iopub.status.busy": "2024-07-04T12:30:33.533129Z",
     "iopub.status.idle": "2024-07-04T12:31:07.165888Z",
     "shell.execute_reply": "2024-07-04T12:31:07.164878Z",
     "shell.execute_reply.started": "2024-07-04T12:30:33.533129Z"
    }
   },
   "outputs": [
    {
     "data": {
      "text/html": [
       "\n",
       "            <style>\n",
       "                .geemap-dark {\n",
       "                    --jp-widgets-color: white;\n",
       "                    --jp-widgets-label-color: white;\n",
       "                    --jp-ui-font-color1: white;\n",
       "                    --jp-layout-color2: #454545;\n",
       "                    background-color: #383838;\n",
       "                }\n",
       "\n",
       "                .geemap-dark .jupyter-button {\n",
       "                    --jp-layout-color3: #383838;\n",
       "                }\n",
       "\n",
       "                .geemap-colab {\n",
       "                    background-color: var(--colab-primary-surface-color, white);\n",
       "                }\n",
       "\n",
       "                .geemap-colab .jupyter-button {\n",
       "                    --jp-layout-color3: var(--colab-primary-surface-color, white);\n",
       "                }\n",
       "            </style>\n",
       "            "
      ],
      "text/plain": [
       "<IPython.core.display.HTML object>"
      ]
     },
     "metadata": {},
     "output_type": "display_data"
    },
    {
     "data": {
      "text/html": [
       "<p>To authorize access needed by Earth Engine, open the following\n",
       "        URL in a web browser and follow the instructions:</p>\n",
       "        <p><a href=https://code.earthengine.google.com/client-auth?scopes=https%3A//www.googleapis.com/auth/earthengine%20https%3A//www.googleapis.com/auth/cloud-platform%20https%3A//www.googleapis.com/auth/devstorage.full_control&request_id=HCTt6-bojJOHyqwekchqYenZII911d32SBKyyXSwtmM&tc=nSTmfkz1NgSCQaDnPLu4As6SOXUbeEXi9pLU4GuOX2s&cc=5NJqml8nNBk0Dlv9gM_jP5SvnxUYdPbCYL1L1WpyQVM>https://code.earthengine.google.com/client-auth?scopes=https%3A//www.googleapis.com/auth/earthengine%20https%3A//www.googleapis.com/auth/cloud-platform%20https%3A//www.googleapis.com/auth/devstorage.full_control&request_id=HCTt6-bojJOHyqwekchqYenZII911d32SBKyyXSwtmM&tc=nSTmfkz1NgSCQaDnPLu4As6SOXUbeEXi9pLU4GuOX2s&cc=5NJqml8nNBk0Dlv9gM_jP5SvnxUYdPbCYL1L1WpyQVM</a></p>\n",
       "        <p>The authorization workflow will generate a code, which you should paste in the box below.</p>\n",
       "        "
      ],
      "text/plain": [
       "<IPython.core.display.HTML object>"
      ]
     },
     "metadata": {},
     "output_type": "display_data"
    },
    {
     "name": "stdin",
     "output_type": "stream",
     "text": [
      "Enter verification code:  4/1ATx3LY7Uy5AkxfLzIb0bKb-bx0w_Yp57pdGNRUbW8644AAtdSjLjYWWNQrc\n"
     ]
    },
    {
     "name": "stdout",
     "output_type": "stream",
     "text": [
      "\n",
      "Successfully saved authorization token.\n"
     ]
    }
   ],
   "source": [
    "ee.Authenticate()"
   ]
  },
  {
   "cell_type": "code",
   "execution_count": 8,
   "id": "1430dc7f-2a14-41e9-9a43-ba12da1da213",
   "metadata": {
    "execution": {
     "iopub.execute_input": "2024-07-04T12:31:58.172153Z",
     "iopub.status.busy": "2024-07-04T12:31:58.172153Z",
     "iopub.status.idle": "2024-07-04T12:31:59.817860Z",
     "shell.execute_reply": "2024-07-04T12:31:59.817352Z",
     "shell.execute_reply.started": "2024-07-04T12:31:58.172153Z"
    }
   },
   "outputs": [
    {
     "data": {
      "text/html": [
       "\n",
       "            <style>\n",
       "                .geemap-dark {\n",
       "                    --jp-widgets-color: white;\n",
       "                    --jp-widgets-label-color: white;\n",
       "                    --jp-ui-font-color1: white;\n",
       "                    --jp-layout-color2: #454545;\n",
       "                    background-color: #383838;\n",
       "                }\n",
       "\n",
       "                .geemap-dark .jupyter-button {\n",
       "                    --jp-layout-color3: #383838;\n",
       "                }\n",
       "\n",
       "                .geemap-colab {\n",
       "                    background-color: var(--colab-primary-surface-color, white);\n",
       "                }\n",
       "\n",
       "                .geemap-colab .jupyter-button {\n",
       "                    --jp-layout-color3: var(--colab-primary-surface-color, white);\n",
       "                }\n",
       "            </style>\n",
       "            "
      ],
      "text/plain": [
       "<IPython.core.display.HTML object>"
      ]
     },
     "metadata": {},
     "output_type": "display_data"
    }
   ],
   "source": [
    "ee.Initialize(project=\"geo-for-good-ee-python\")"
   ]
  },
  {
   "cell_type": "code",
   "execution_count": 9,
   "id": "80b637fe-ae0b-46c7-86e8-d8d1d7ed8fc3",
   "metadata": {
    "execution": {
     "iopub.execute_input": "2024-07-04T12:32:14.978637Z",
     "iopub.status.busy": "2024-07-04T12:32:14.978637Z",
     "iopub.status.idle": "2024-07-04T12:32:14.991288Z",
     "shell.execute_reply": "2024-07-04T12:32:14.991288Z",
     "shell.execute_reply.started": "2024-07-04T12:32:14.978637Z"
    }
   },
   "outputs": [
    {
     "data": {
      "text/html": [
       "\n",
       "            <style>\n",
       "                .geemap-dark {\n",
       "                    --jp-widgets-color: white;\n",
       "                    --jp-widgets-label-color: white;\n",
       "                    --jp-ui-font-color1: white;\n",
       "                    --jp-layout-color2: #454545;\n",
       "                    background-color: #383838;\n",
       "                }\n",
       "\n",
       "                .geemap-dark .jupyter-button {\n",
       "                    --jp-layout-color3: #383838;\n",
       "                }\n",
       "\n",
       "                .geemap-colab {\n",
       "                    background-color: var(--colab-primary-surface-color, white);\n",
       "                }\n",
       "\n",
       "                .geemap-colab .jupyter-button {\n",
       "                    --jp-layout-color3: var(--colab-primary-surface-color, white);\n",
       "                }\n",
       "            </style>\n",
       "            "
      ],
      "text/plain": [
       "<IPython.core.display.HTML object>"
      ]
     },
     "metadata": {},
     "output_type": "display_data"
    }
   ],
   "source": [
    "dataset = ee.ImageCollection(\"IDAHO_EPSCOR/TERRACLIMATE\")"
   ]
  },
  {
   "cell_type": "code",
   "execution_count": 10,
   "id": "18f6761f-2655-4c53-a78f-d4f187138997",
   "metadata": {
    "execution": {
     "iopub.execute_input": "2024-07-04T12:32:21.698359Z",
     "iopub.status.busy": "2024-07-04T12:32:21.698359Z",
     "iopub.status.idle": "2024-07-04T12:32:21.711223Z",
     "shell.execute_reply": "2024-07-04T12:32:21.711223Z",
     "shell.execute_reply.started": "2024-07-04T12:32:21.698359Z"
    }
   },
   "outputs": [
    {
     "data": {
      "text/html": [
       "\n",
       "            <style>\n",
       "                .geemap-dark {\n",
       "                    --jp-widgets-color: white;\n",
       "                    --jp-widgets-label-color: white;\n",
       "                    --jp-ui-font-color1: white;\n",
       "                    --jp-layout-color2: #454545;\n",
       "                    background-color: #383838;\n",
       "                }\n",
       "\n",
       "                .geemap-dark .jupyter-button {\n",
       "                    --jp-layout-color3: #383838;\n",
       "                }\n",
       "\n",
       "                .geemap-colab {\n",
       "                    background-color: var(--colab-primary-surface-color, white);\n",
       "                }\n",
       "\n",
       "                .geemap-colab .jupyter-button {\n",
       "                    --jp-layout-color3: var(--colab-primary-surface-color, white);\n",
       "                }\n",
       "            </style>\n",
       "            "
      ],
      "text/plain": [
       "<IPython.core.display.HTML object>"
      ]
     },
     "metadata": {},
     "output_type": "display_data"
    }
   ],
   "source": [
    "start_date = \"2000-01-01\"\n",
    "end_date = \"2020-12-31\""
   ]
  },
  {
   "cell_type": "code",
   "execution_count": 11,
   "id": "a7cf088d-4760-4af8-9114-e5b9f7332417",
   "metadata": {
    "execution": {
     "iopub.execute_input": "2024-07-04T12:32:27.124917Z",
     "iopub.status.busy": "2024-07-04T12:32:27.124917Z",
     "iopub.status.idle": "2024-07-04T12:32:27.141026Z",
     "shell.execute_reply": "2024-07-04T12:32:27.141026Z",
     "shell.execute_reply.started": "2024-07-04T12:32:27.124917Z"
    }
   },
   "outputs": [
    {
     "data": {
      "text/html": [
       "\n",
       "            <style>\n",
       "                .geemap-dark {\n",
       "                    --jp-widgets-color: white;\n",
       "                    --jp-widgets-label-color: white;\n",
       "                    --jp-ui-font-color1: white;\n",
       "                    --jp-layout-color2: #454545;\n",
       "                    background-color: #383838;\n",
       "                }\n",
       "\n",
       "                .geemap-dark .jupyter-button {\n",
       "                    --jp-layout-color3: #383838;\n",
       "                }\n",
       "\n",
       "                .geemap-colab {\n",
       "                    background-color: var(--colab-primary-surface-color, white);\n",
       "                }\n",
       "\n",
       "                .geemap-colab .jupyter-button {\n",
       "                    --jp-layout-color3: var(--colab-primary-surface-color, white);\n",
       "                }\n",
       "            </style>\n",
       "            "
      ],
      "text/plain": [
       "<IPython.core.display.HTML object>"
      ]
     },
     "metadata": {},
     "output_type": "display_data"
    }
   ],
   "source": [
    "terraclimate = dataset.filterDate(start_date, end_date)"
   ]
  },
  {
   "cell_type": "code",
   "execution_count": 12,
   "id": "a04588cd-dc04-480a-b73e-30884129d499",
   "metadata": {
    "execution": {
     "iopub.execute_input": "2024-07-04T12:32:33.626667Z",
     "iopub.status.busy": "2024-07-04T12:32:33.626667Z",
     "iopub.status.idle": "2024-07-04T12:32:33.638177Z",
     "shell.execute_reply": "2024-07-04T12:32:33.637672Z",
     "shell.execute_reply.started": "2024-07-04T12:32:33.626667Z"
    }
   },
   "outputs": [
    {
     "data": {
      "text/html": [
       "\n",
       "            <style>\n",
       "                .geemap-dark {\n",
       "                    --jp-widgets-color: white;\n",
       "                    --jp-widgets-label-color: white;\n",
       "                    --jp-ui-font-color1: white;\n",
       "                    --jp-layout-color2: #454545;\n",
       "                    background-color: #383838;\n",
       "                }\n",
       "\n",
       "                .geemap-dark .jupyter-button {\n",
       "                    --jp-layout-color3: #383838;\n",
       "                }\n",
       "\n",
       "                .geemap-colab {\n",
       "                    background-color: var(--colab-primary-surface-color, white);\n",
       "                }\n",
       "\n",
       "                .geemap-colab .jupyter-button {\n",
       "                    --jp-layout-color3: var(--colab-primary-surface-color, white);\n",
       "                }\n",
       "            </style>\n",
       "            "
      ],
      "text/plain": [
       "<IPython.core.display.HTML object>"
      ]
     },
     "metadata": {},
     "output_type": "display_data"
    }
   ],
   "source": [
    "precip = terraclimate.select(\"pr\")\n",
    "pet = terraclimate.select(\"pet\")"
   ]
  },
  {
   "cell_type": "code",
   "execution_count": 13,
   "id": "4099fd1c-06ac-4785-93b1-efbdf024ca06",
   "metadata": {
    "execution": {
     "iopub.execute_input": "2024-07-04T12:33:01.731347Z",
     "iopub.status.busy": "2024-07-04T12:33:01.731347Z",
     "iopub.status.idle": "2024-07-04T12:33:12.573945Z",
     "shell.execute_reply": "2024-07-04T12:33:12.573945Z",
     "shell.execute_reply.started": "2024-07-04T12:33:01.731347Z"
    }
   },
   "outputs": [
    {
     "data": {
      "text/html": [
       "\n",
       "            <style>\n",
       "                .geemap-dark {\n",
       "                    --jp-widgets-color: white;\n",
       "                    --jp-widgets-label-color: white;\n",
       "                    --jp-ui-font-color1: white;\n",
       "                    --jp-layout-color2: #454545;\n",
       "                    background-color: #383838;\n",
       "                }\n",
       "\n",
       "                .geemap-dark .jupyter-button {\n",
       "                    --jp-layout-color3: #383838;\n",
       "                }\n",
       "\n",
       "                .geemap-colab {\n",
       "                    background-color: var(--colab-primary-surface-color, white);\n",
       "                }\n",
       "\n",
       "                .geemap-colab .jupyter-button {\n",
       "                    --jp-layout-color3: var(--colab-primary-surface-color, white);\n",
       "                }\n",
       "            </style>\n",
       "            "
      ],
      "text/plain": [
       "<IPython.core.display.HTML object>"
      ]
     },
     "metadata": {},
     "output_type": "display_data"
    }
   ],
   "source": [
    "spain_provinces = gpd.read_file(\"../data/maps/spain_map.geojson\")"
   ]
  },
  {
   "cell_type": "code",
   "execution_count": 14,
   "id": "093ba8a3-234d-4f75-9702-8ebc2b5585a6",
   "metadata": {
    "execution": {
     "iopub.execute_input": "2024-07-04T12:33:17.894105Z",
     "iopub.status.busy": "2024-07-04T12:33:17.894105Z",
     "iopub.status.idle": "2024-07-04T12:33:17.937509Z",
     "shell.execute_reply": "2024-07-04T12:33:17.937509Z",
     "shell.execute_reply.started": "2024-07-04T12:33:17.894105Z"
    }
   },
   "outputs": [
    {
     "data": {
      "text/html": [
       "\n",
       "            <style>\n",
       "                .geemap-dark {\n",
       "                    --jp-widgets-color: white;\n",
       "                    --jp-widgets-label-color: white;\n",
       "                    --jp-ui-font-color1: white;\n",
       "                    --jp-layout-color2: #454545;\n",
       "                    background-color: #383838;\n",
       "                }\n",
       "\n",
       "                .geemap-dark .jupyter-button {\n",
       "                    --jp-layout-color3: #383838;\n",
       "                }\n",
       "\n",
       "                .geemap-colab {\n",
       "                    background-color: var(--colab-primary-surface-color, white);\n",
       "                }\n",
       "\n",
       "                .geemap-colab .jupyter-button {\n",
       "                    --jp-layout-color3: var(--colab-primary-surface-color, white);\n",
       "                }\n",
       "            </style>\n",
       "            "
      ],
      "text/plain": [
       "<IPython.core.display.HTML object>"
      ]
     },
     "metadata": {},
     "output_type": "display_data"
    },
    {
     "data": {
      "text/html": [
       "<div>\n",
       "<style scoped>\n",
       "    .dataframe tbody tr th:only-of-type {\n",
       "        vertical-align: middle;\n",
       "    }\n",
       "\n",
       "    .dataframe tbody tr th {\n",
       "        vertical-align: top;\n",
       "    }\n",
       "\n",
       "    .dataframe thead th {\n",
       "        text-align: right;\n",
       "    }\n",
       "</style>\n",
       "<table border=\"1\" class=\"dataframe\">\n",
       "  <thead>\n",
       "    <tr style=\"text-align: right;\">\n",
       "      <th></th>\n",
       "      <th>community</th>\n",
       "      <th>province</th>\n",
       "      <th>geometry</th>\n",
       "    </tr>\n",
       "  </thead>\n",
       "  <tbody>\n",
       "    <tr>\n",
       "      <th>0</th>\n",
       "      <td>País Vasco/Euskadi</td>\n",
       "      <td>Araba/Álava</td>\n",
       "      <td>POLYGON ((-2.76808 42.61408, -2.76863 42.61334...</td>\n",
       "    </tr>\n",
       "    <tr>\n",
       "      <th>1</th>\n",
       "      <td>Castilla-La Mancha</td>\n",
       "      <td>Albacete</td>\n",
       "      <td>POLYGON ((-2.55212 38.08501, -2.55207 38.08517...</td>\n",
       "    </tr>\n",
       "    <tr>\n",
       "      <th>2</th>\n",
       "      <td>Comunitat Valenciana</td>\n",
       "      <td>Alacant/Alicante</td>\n",
       "      <td>MULTIPOLYGON (((-0.75223 37.88691, -0.75225 37...</td>\n",
       "    </tr>\n",
       "    <tr>\n",
       "      <th>3</th>\n",
       "      <td>Andalucía</td>\n",
       "      <td>Almería</td>\n",
       "      <td>MULTIPOLYGON (((-3.03624 35.93791, -3.03637 35...</td>\n",
       "    </tr>\n",
       "    <tr>\n",
       "      <th>4</th>\n",
       "      <td>Castilla y León</td>\n",
       "      <td>Ávila</td>\n",
       "      <td>POLYGON ((-5.43382 40.24491, -5.4343 40.24276,...</td>\n",
       "    </tr>\n",
       "  </tbody>\n",
       "</table>\n",
       "</div>"
      ],
      "text/plain": [
       "              community          province  \\\n",
       "0    País Vasco/Euskadi       Araba/Álava   \n",
       "1    Castilla-La Mancha          Albacete   \n",
       "2  Comunitat Valenciana  Alacant/Alicante   \n",
       "3             Andalucía           Almería   \n",
       "4       Castilla y León             Ávila   \n",
       "\n",
       "                                            geometry  \n",
       "0  POLYGON ((-2.76808 42.61408, -2.76863 42.61334...  \n",
       "1  POLYGON ((-2.55212 38.08501, -2.55207 38.08517...  \n",
       "2  MULTIPOLYGON (((-0.75223 37.88691, -0.75225 37...  \n",
       "3  MULTIPOLYGON (((-3.03624 35.93791, -3.03637 35...  \n",
       "4  POLYGON ((-5.43382 40.24491, -5.4343 40.24276,...  "
      ]
     },
     "execution_count": 14,
     "metadata": {},
     "output_type": "execute_result"
    }
   ],
   "source": [
    "spain_provinces.head()"
   ]
  },
  {
   "cell_type": "code",
   "execution_count": 25,
   "id": "71d560a5-f52d-431b-b160-8174bbae8e10",
   "metadata": {
    "execution": {
     "iopub.execute_input": "2024-07-04T12:35:40.252239Z",
     "iopub.status.busy": "2024-07-04T12:35:40.252239Z",
     "iopub.status.idle": "2024-07-04T12:35:40.267904Z",
     "shell.execute_reply": "2024-07-04T12:35:40.267904Z",
     "shell.execute_reply.started": "2024-07-04T12:35:40.252239Z"
    }
   },
   "outputs": [
    {
     "data": {
      "text/html": [
       "\n",
       "            <style>\n",
       "                .geemap-dark {\n",
       "                    --jp-widgets-color: white;\n",
       "                    --jp-widgets-label-color: white;\n",
       "                    --jp-ui-font-color1: white;\n",
       "                    --jp-layout-color2: #454545;\n",
       "                    background-color: #383838;\n",
       "                }\n",
       "\n",
       "                .geemap-dark .jupyter-button {\n",
       "                    --jp-layout-color3: #383838;\n",
       "                }\n",
       "\n",
       "                .geemap-colab {\n",
       "                    background-color: var(--colab-primary-surface-color, white);\n",
       "                }\n",
       "\n",
       "                .geemap-colab .jupyter-button {\n",
       "                    --jp-layout-color3: var(--colab-primary-surface-color, white);\n",
       "                }\n",
       "            </style>\n",
       "            "
      ],
      "text/plain": [
       "<IPython.core.display.HTML object>"
      ]
     },
     "metadata": {},
     "output_type": "display_data"
    }
   ],
   "source": [
    "def get_monthly_data(feature):\n",
    "    province_name = feature[\"properties\"][\"province\"]\n",
    "    province_geometry = feature[\"geometry\"]\n",
    "\n",
    "    # Convert the geometry to an ee.Geometry object\n",
    "    ee_geometry = ee.Geometry(province_geometry)\n",
    "\n",
    "    # Aggregate precipitation and PET data over the province\n",
    "    precip_reduced = (\n",
    "        precip.mean()\n",
    "        .reduceRegion(\n",
    "            reducer=ee.Reducer.mean(), geometry=ee_geometry, scale=1000, maxPixels=1e13\n",
    "        )\n",
    "        .getInfo()\n",
    "    )\n",
    "\n",
    "    pet_reduced = (\n",
    "        pet.mean()\n",
    "        .reduceRegion(\n",
    "            reducer=ee.Reducer.mean(), geometry=ee_geometry, scale=1000, maxPixels=1e13\n",
    "        )\n",
    "        .getInfo()\n",
    "    )\n",
    "\n",
    "    return {\"province\": province_name, \"precip\": precip_reduced, \"pet\": pet_reduced}"
   ]
  },
  {
   "cell_type": "code",
   "execution_count": 26,
   "id": "3f66b450-78e1-45c5-ab4e-d6beb1ff8303",
   "metadata": {
    "execution": {
     "iopub.execute_input": "2024-07-04T12:35:40.779241Z",
     "iopub.status.busy": "2024-07-04T12:35:40.779241Z",
     "iopub.status.idle": "2024-07-04T12:47:21.466111Z",
     "shell.execute_reply": "2024-07-04T12:47:21.465500Z",
     "shell.execute_reply.started": "2024-07-04T12:35:40.779241Z"
    }
   },
   "outputs": [
    {
     "data": {
      "text/html": [
       "\n",
       "            <style>\n",
       "                .geemap-dark {\n",
       "                    --jp-widgets-color: white;\n",
       "                    --jp-widgets-label-color: white;\n",
       "                    --jp-ui-font-color1: white;\n",
       "                    --jp-layout-color2: #454545;\n",
       "                    background-color: #383838;\n",
       "                }\n",
       "\n",
       "                .geemap-dark .jupyter-button {\n",
       "                    --jp-layout-color3: #383838;\n",
       "                }\n",
       "\n",
       "                .geemap-colab {\n",
       "                    background-color: var(--colab-primary-surface-color, white);\n",
       "                }\n",
       "\n",
       "                .geemap-colab .jupyter-button {\n",
       "                    --jp-layout-color3: var(--colab-primary-surface-color, white);\n",
       "                }\n",
       "            </style>\n",
       "            "
      ],
      "text/plain": [
       "<IPython.core.display.HTML object>"
      ]
     },
     "metadata": {},
     "output_type": "display_data"
    }
   ],
   "source": [
    "data = [get_monthly_data(feature) for feature in spain_provinces.iterfeatures()]"
   ]
  },
  {
   "cell_type": "code",
   "execution_count": 29,
   "id": "cc0f680b-ae04-4577-a52f-89ef543e6a5b",
   "metadata": {
    "execution": {
     "iopub.execute_input": "2024-07-04T13:07:10.375536Z",
     "iopub.status.busy": "2024-07-04T13:07:10.375536Z",
     "iopub.status.idle": "2024-07-04T13:07:10.387526Z",
     "shell.execute_reply": "2024-07-04T13:07:10.387526Z",
     "shell.execute_reply.started": "2024-07-04T13:07:10.375536Z"
    }
   },
   "outputs": [
    {
     "data": {
      "text/html": [
       "\n",
       "            <style>\n",
       "                .geemap-dark {\n",
       "                    --jp-widgets-color: white;\n",
       "                    --jp-widgets-label-color: white;\n",
       "                    --jp-ui-font-color1: white;\n",
       "                    --jp-layout-color2: #454545;\n",
       "                    background-color: #383838;\n",
       "                }\n",
       "\n",
       "                .geemap-dark .jupyter-button {\n",
       "                    --jp-layout-color3: #383838;\n",
       "                }\n",
       "\n",
       "                .geemap-colab {\n",
       "                    background-color: var(--colab-primary-surface-color, white);\n",
       "                }\n",
       "\n",
       "                .geemap-colab .jupyter-button {\n",
       "                    --jp-layout-color3: var(--colab-primary-surface-color, white);\n",
       "                }\n",
       "            </style>\n",
       "            "
      ],
      "text/plain": [
       "<IPython.core.display.HTML object>"
      ]
     },
     "metadata": {},
     "output_type": "display_data"
    }
   ],
   "source": [
    "df = pd.DataFrame(data)"
   ]
  },
  {
   "cell_type": "code",
   "execution_count": 30,
   "id": "d879127b-0ec7-459f-9cf3-e78abf294c59",
   "metadata": {
    "execution": {
     "iopub.execute_input": "2024-07-04T13:07:24.367141Z",
     "iopub.status.busy": "2024-07-04T13:07:24.367141Z",
     "iopub.status.idle": "2024-07-04T13:07:24.414022Z",
     "shell.execute_reply": "2024-07-04T13:07:24.414022Z",
     "shell.execute_reply.started": "2024-07-04T13:07:24.367141Z"
    }
   },
   "outputs": [
    {
     "data": {
      "text/html": [
       "\n",
       "            <style>\n",
       "                .geemap-dark {\n",
       "                    --jp-widgets-color: white;\n",
       "                    --jp-widgets-label-color: white;\n",
       "                    --jp-ui-font-color1: white;\n",
       "                    --jp-layout-color2: #454545;\n",
       "                    background-color: #383838;\n",
       "                }\n",
       "\n",
       "                .geemap-dark .jupyter-button {\n",
       "                    --jp-layout-color3: #383838;\n",
       "                }\n",
       "\n",
       "                .geemap-colab {\n",
       "                    background-color: var(--colab-primary-surface-color, white);\n",
       "                }\n",
       "\n",
       "                .geemap-colab .jupyter-button {\n",
       "                    --jp-layout-color3: var(--colab-primary-surface-color, white);\n",
       "                }\n",
       "            </style>\n",
       "            "
      ],
      "text/plain": [
       "<IPython.core.display.HTML object>"
      ]
     },
     "metadata": {},
     "output_type": "display_data"
    },
    {
     "data": {
      "text/html": [
       "<div>\n",
       "<style scoped>\n",
       "    .dataframe tbody tr th:only-of-type {\n",
       "        vertical-align: middle;\n",
       "    }\n",
       "\n",
       "    .dataframe tbody tr th {\n",
       "        vertical-align: top;\n",
       "    }\n",
       "\n",
       "    .dataframe thead th {\n",
       "        text-align: right;\n",
       "    }\n",
       "</style>\n",
       "<table border=\"1\" class=\"dataframe\">\n",
       "  <thead>\n",
       "    <tr style=\"text-align: right;\">\n",
       "      <th></th>\n",
       "      <th>province</th>\n",
       "      <th>precip</th>\n",
       "      <th>pet</th>\n",
       "    </tr>\n",
       "  </thead>\n",
       "  <tbody>\n",
       "    <tr>\n",
       "      <th>0</th>\n",
       "      <td>Araba/Álava</td>\n",
       "      <td>{'pr': 68.71483612564833}</td>\n",
       "      <td>{'pet': 792.6310332466908}</td>\n",
       "    </tr>\n",
       "    <tr>\n",
       "      <th>1</th>\n",
       "      <td>Albacete</td>\n",
       "      <td>{'pr': 33.89364474885767}</td>\n",
       "      <td>{'pet': 1094.2234909889955}</td>\n",
       "    </tr>\n",
       "    <tr>\n",
       "      <th>2</th>\n",
       "      <td>Alacant/Alicante</td>\n",
       "      <td>{'pr': 28.39076935035147}</td>\n",
       "      <td>{'pet': 1091.0780625897162}</td>\n",
       "    </tr>\n",
       "    <tr>\n",
       "      <th>3</th>\n",
       "      <td>Almería</td>\n",
       "      <td>{'pr': 30.14018937976419}</td>\n",
       "      <td>{'pet': 1084.0709587754259}</td>\n",
       "    </tr>\n",
       "    <tr>\n",
       "      <th>4</th>\n",
       "      <td>Ávila</td>\n",
       "      <td>{'pr': 45.54843365851541}</td>\n",
       "      <td>{'pet': 920.2413715607195}</td>\n",
       "    </tr>\n",
       "    <tr>\n",
       "      <th>5</th>\n",
       "      <td>Badajoz</td>\n",
       "      <td>{'pr': 47.81092644950861}</td>\n",
       "      <td>{'pet': 1130.4641056755358}</td>\n",
       "    </tr>\n",
       "    <tr>\n",
       "      <th>6</th>\n",
       "      <td>Illes Balears</td>\n",
       "      <td>{'pr': 49.26952776161438}</td>\n",
       "      <td>{'pet': 977.2442243661221}</td>\n",
       "    </tr>\n",
       "    <tr>\n",
       "      <th>7</th>\n",
       "      <td>Barcelona</td>\n",
       "      <td>{'pr': 56.71052972205257}</td>\n",
       "      <td>{'pet': 896.7353102350884}</td>\n",
       "    </tr>\n",
       "    <tr>\n",
       "      <th>8</th>\n",
       "      <td>Burgos</td>\n",
       "      <td>{'pr': 49.35436872505277}</td>\n",
       "      <td>{'pet': 838.4509611534675}</td>\n",
       "    </tr>\n",
       "    <tr>\n",
       "      <th>9</th>\n",
       "      <td>Cáceres</td>\n",
       "      <td>{'pr': 50.42425474243369}</td>\n",
       "      <td>{'pet': 1067.3006391662693}</td>\n",
       "    </tr>\n",
       "    <tr>\n",
       "      <th>10</th>\n",
       "      <td>Cádiz</td>\n",
       "      <td>{'pr': 57.01276410120502}</td>\n",
       "      <td>{'pet': 1109.512792990657}</td>\n",
       "    </tr>\n",
       "    <tr>\n",
       "      <th>11</th>\n",
       "      <td>Castelló/Castellón</td>\n",
       "      <td>{'pr': 39.24952480884083}</td>\n",
       "      <td>{'pet': 946.9263801303875}</td>\n",
       "    </tr>\n",
       "    <tr>\n",
       "      <th>12</th>\n",
       "      <td>Ciudad Real</td>\n",
       "      <td>{'pr': 36.75044107399955}</td>\n",
       "      <td>{'pet': 1082.452800558543}</td>\n",
       "    </tr>\n",
       "    <tr>\n",
       "      <th>13</th>\n",
       "      <td>Córdoba</td>\n",
       "      <td>{'pr': 46.85161362748052}</td>\n",
       "      <td>{'pet': 1150.128651378446}</td>\n",
       "    </tr>\n",
       "    <tr>\n",
       "      <th>14</th>\n",
       "      <td>A Coruña</td>\n",
       "      <td>{'pr': 111.49762379580628}</td>\n",
       "      <td>{'pet': 758.9222758828136}</td>\n",
       "    </tr>\n",
       "    <tr>\n",
       "      <th>15</th>\n",
       "      <td>Cuenca</td>\n",
       "      <td>{'pr': 39.17936797264074}</td>\n",
       "      <td>{'pet': 998.7844006015905}</td>\n",
       "    </tr>\n",
       "    <tr>\n",
       "      <th>16</th>\n",
       "      <td>Girona</td>\n",
       "      <td>{'pr': 59.833175295393076}</td>\n",
       "      <td>{'pet': 889.0275157958316}</td>\n",
       "    </tr>\n",
       "    <tr>\n",
       "      <th>17</th>\n",
       "      <td>Granada</td>\n",
       "      <td>{'pr': 41.02868961001139}</td>\n",
       "      <td>{'pet': 1076.1280344648408}</td>\n",
       "    </tr>\n",
       "    <tr>\n",
       "      <th>18</th>\n",
       "      <td>Guadalajara</td>\n",
       "      <td>{'pr': 41.966302456262675}</td>\n",
       "      <td>{'pet': 943.4979220224741}</td>\n",
       "    </tr>\n",
       "    <tr>\n",
       "      <th>19</th>\n",
       "      <td>Gipuzkoa</td>\n",
       "      <td>{'pr': 99.05762097108958}</td>\n",
       "      <td>{'pet': 790.4091089113391}</td>\n",
       "    </tr>\n",
       "    <tr>\n",
       "      <th>20</th>\n",
       "      <td>Huelva</td>\n",
       "      <td>{'pr': 45.31325244543164}</td>\n",
       "      <td>{'pet': 1118.7761277122975}</td>\n",
       "    </tr>\n",
       "    <tr>\n",
       "      <th>21</th>\n",
       "      <td>Huesca</td>\n",
       "      <td>{'pr': 58.262483262585974}</td>\n",
       "      <td>{'pet': 966.3895184397321}</td>\n",
       "    </tr>\n",
       "    <tr>\n",
       "      <th>22</th>\n",
       "      <td>Jaén</td>\n",
       "      <td>{'pr': 37.1858207374462}</td>\n",
       "      <td>{'pet': 1120.562592859079}</td>\n",
       "    </tr>\n",
       "    <tr>\n",
       "      <th>23</th>\n",
       "      <td>León</td>\n",
       "      <td>{'pr': 73.61789815244948}</td>\n",
       "      <td>{'pet': 824.4715557800539}</td>\n",
       "    </tr>\n",
       "    <tr>\n",
       "      <th>24</th>\n",
       "      <td>Lleida</td>\n",
       "      <td>{'pr': 63.02411341767257}</td>\n",
       "      <td>{'pet': 874.5406835915983}</td>\n",
       "    </tr>\n",
       "    <tr>\n",
       "      <th>25</th>\n",
       "      <td>La Rioja</td>\n",
       "      <td>{'pr': 46.683975735185555}</td>\n",
       "      <td>{'pet': 874.867938354163}</td>\n",
       "    </tr>\n",
       "    <tr>\n",
       "      <th>26</th>\n",
       "      <td>Lugo</td>\n",
       "      <td>{'pr': 119.23644493544931}</td>\n",
       "      <td>{'pet': 760.6841070097402}</td>\n",
       "    </tr>\n",
       "    <tr>\n",
       "      <th>27</th>\n",
       "      <td>Madrid</td>\n",
       "      <td>{'pr': 36.95255229646296}</td>\n",
       "      <td>{'pet': 970.4673958566414}</td>\n",
       "    </tr>\n",
       "    <tr>\n",
       "      <th>28</th>\n",
       "      <td>Málaga</td>\n",
       "      <td>{'pr': 53.137338572369394}</td>\n",
       "      <td>{'pet': 1113.0173641479046}</td>\n",
       "    </tr>\n",
       "    <tr>\n",
       "      <th>29</th>\n",
       "      <td>Murcia</td>\n",
       "      <td>{'pr': 28.02471841773651}</td>\n",
       "      <td>{'pet': 1121.0445273735681}</td>\n",
       "    </tr>\n",
       "    <tr>\n",
       "      <th>30</th>\n",
       "      <td>Navarra</td>\n",
       "      <td>{'pr': 65.26988178206174}</td>\n",
       "      <td>{'pet': 890.3918617832388}</td>\n",
       "    </tr>\n",
       "    <tr>\n",
       "      <th>31</th>\n",
       "      <td>Ourense</td>\n",
       "      <td>{'pr': 123.79573626449883}</td>\n",
       "      <td>{'pet': 813.6981952308278}</td>\n",
       "    </tr>\n",
       "    <tr>\n",
       "      <th>32</th>\n",
       "      <td>Asturias</td>\n",
       "      <td>{'pr': 87.9248367728034}</td>\n",
       "      <td>{'pet': 722.675920942965}</td>\n",
       "    </tr>\n",
       "    <tr>\n",
       "      <th>33</th>\n",
       "      <td>Palencia</td>\n",
       "      <td>{'pr': 45.0848990858388}</td>\n",
       "      <td>{'pet': 857.5661957663245}</td>\n",
       "    </tr>\n",
       "    <tr>\n",
       "      <th>34</th>\n",
       "      <td>Pontevedra</td>\n",
       "      <td>{'pr': 136.58181224071677}</td>\n",
       "      <td>{'pet': 774.0194863973736}</td>\n",
       "    </tr>\n",
       "    <tr>\n",
       "      <th>35</th>\n",
       "      <td>Salamanca</td>\n",
       "      <td>{'pr': 70.17603516487463}</td>\n",
       "      <td>{'pet': 956.8602207364511}</td>\n",
       "    </tr>\n",
       "    <tr>\n",
       "      <th>36</th>\n",
       "      <td>Cantabria</td>\n",
       "      <td>{'pr': 78.24986822346644}</td>\n",
       "      <td>{'pet': 745.7714082027072}</td>\n",
       "    </tr>\n",
       "    <tr>\n",
       "      <th>37</th>\n",
       "      <td>Segovia</td>\n",
       "      <td>{'pr': 39.09408382613158}</td>\n",
       "      <td>{'pet': 902.2978167527353}</td>\n",
       "    </tr>\n",
       "    <tr>\n",
       "      <th>38</th>\n",
       "      <td>Sevilla</td>\n",
       "      <td>{'pr': 47.55009310876714}</td>\n",
       "      <td>{'pet': 1164.4861862471582}</td>\n",
       "    </tr>\n",
       "    <tr>\n",
       "      <th>39</th>\n",
       "      <td>Soria</td>\n",
       "      <td>{'pr': 41.99991390663574}</td>\n",
       "      <td>{'pet': 913.6547857103118}</td>\n",
       "    </tr>\n",
       "    <tr>\n",
       "      <th>40</th>\n",
       "      <td>Tarragona</td>\n",
       "      <td>{'pr': 45.458538430342784}</td>\n",
       "      <td>{'pet': 972.3358858735394}</td>\n",
       "    </tr>\n",
       "    <tr>\n",
       "      <th>41</th>\n",
       "      <td>Teruel</td>\n",
       "      <td>{'pr': 39.85989860764693}</td>\n",
       "      <td>{'pet': 927.5063079021372}</td>\n",
       "    </tr>\n",
       "    <tr>\n",
       "      <th>42</th>\n",
       "      <td>Toledo</td>\n",
       "      <td>{'pr': 32.96604021757681}</td>\n",
       "      <td>{'pet': 1028.3995611490488}</td>\n",
       "    </tr>\n",
       "    <tr>\n",
       "      <th>43</th>\n",
       "      <td>València/Valencia</td>\n",
       "      <td>{'pr': 32.43134657718315}</td>\n",
       "      <td>{'pet': 1015.6132799047442}</td>\n",
       "    </tr>\n",
       "    <tr>\n",
       "      <th>44</th>\n",
       "      <td>Valladolid</td>\n",
       "      <td>{'pr': 36.76318935789401}</td>\n",
       "      <td>{'pet': 941.3875097612541}</td>\n",
       "    </tr>\n",
       "    <tr>\n",
       "      <th>45</th>\n",
       "      <td>Bizkaia</td>\n",
       "      <td>{'pr': 93.71228060316987}</td>\n",
       "      <td>{'pet': 773.8066529826323}</td>\n",
       "    </tr>\n",
       "    <tr>\n",
       "      <th>46</th>\n",
       "      <td>Zamora</td>\n",
       "      <td>{'pr': 63.80427694291399}</td>\n",
       "      <td>{'pet': 927.0851342662991}</td>\n",
       "    </tr>\n",
       "    <tr>\n",
       "      <th>47</th>\n",
       "      <td>Zaragoza</td>\n",
       "      <td>{'pr': 36.62537866024536}</td>\n",
       "      <td>{'pet': 1068.2955332064053}</td>\n",
       "    </tr>\n",
       "    <tr>\n",
       "      <th>48</th>\n",
       "      <td>Ceuta</td>\n",
       "      <td>{'pr': 58.66117791499655}</td>\n",
       "      <td>{'pet': 1076.5647675276375}</td>\n",
       "    </tr>\n",
       "    <tr>\n",
       "      <th>49</th>\n",
       "      <td>Melilla</td>\n",
       "      <td>{'pr': 28.02137665034861}</td>\n",
       "      <td>{'pet': 1083.1881128541756}</td>\n",
       "    </tr>\n",
       "    <tr>\n",
       "      <th>50</th>\n",
       "      <td>Territorios no asociados a ninguna provincia</td>\n",
       "      <td>{'pr': 31.11291808390022}</td>\n",
       "      <td>{'pet': 1108.8090632086164}</td>\n",
       "    </tr>\n",
       "    <tr>\n",
       "      <th>51</th>\n",
       "      <td>Territorios no asociados a ninguna provincia</td>\n",
       "      <td>{'pr': 104.17460317460318}</td>\n",
       "      <td>{'pet': 845.1190476190476}</td>\n",
       "    </tr>\n",
       "    <tr>\n",
       "      <th>52</th>\n",
       "      <td>Gibraltar. Territorio no asociado a ninguna pr...</td>\n",
       "      <td>{'pr': 60.108738504582284}</td>\n",
       "      <td>{'pet': 1075.2786481309263}</td>\n",
       "    </tr>\n",
       "    <tr>\n",
       "      <th>53</th>\n",
       "      <td>Las Palmas</td>\n",
       "      <td>{'pr': 14.37421671658516}</td>\n",
       "      <td>{'pet': 1257.9182600607796}</td>\n",
       "    </tr>\n",
       "    <tr>\n",
       "      <th>54</th>\n",
       "      <td>Santa Cruz de Tenerife</td>\n",
       "      <td>{'pr': 27.254277604323903}</td>\n",
       "      <td>{'pet': 1248.7377508899372}</td>\n",
       "    </tr>\n",
       "  </tbody>\n",
       "</table>\n",
       "</div>"
      ],
      "text/plain": [
       "                                             province  \\\n",
       "0                                         Araba/Álava   \n",
       "1                                            Albacete   \n",
       "2                                    Alacant/Alicante   \n",
       "3                                             Almería   \n",
       "4                                               Ávila   \n",
       "5                                             Badajoz   \n",
       "6                                       Illes Balears   \n",
       "7                                           Barcelona   \n",
       "8                                              Burgos   \n",
       "9                                             Cáceres   \n",
       "10                                              Cádiz   \n",
       "11                                 Castelló/Castellón   \n",
       "12                                        Ciudad Real   \n",
       "13                                            Córdoba   \n",
       "14                                           A Coruña   \n",
       "15                                             Cuenca   \n",
       "16                                             Girona   \n",
       "17                                            Granada   \n",
       "18                                        Guadalajara   \n",
       "19                                           Gipuzkoa   \n",
       "20                                             Huelva   \n",
       "21                                             Huesca   \n",
       "22                                               Jaén   \n",
       "23                                               León   \n",
       "24                                             Lleida   \n",
       "25                                           La Rioja   \n",
       "26                                               Lugo   \n",
       "27                                             Madrid   \n",
       "28                                             Málaga   \n",
       "29                                             Murcia   \n",
       "30                                            Navarra   \n",
       "31                                            Ourense   \n",
       "32                                           Asturias   \n",
       "33                                           Palencia   \n",
       "34                                         Pontevedra   \n",
       "35                                          Salamanca   \n",
       "36                                          Cantabria   \n",
       "37                                            Segovia   \n",
       "38                                            Sevilla   \n",
       "39                                              Soria   \n",
       "40                                          Tarragona   \n",
       "41                                             Teruel   \n",
       "42                                             Toledo   \n",
       "43                                  València/Valencia   \n",
       "44                                         Valladolid   \n",
       "45                                            Bizkaia   \n",
       "46                                             Zamora   \n",
       "47                                           Zaragoza   \n",
       "48                                              Ceuta   \n",
       "49                                            Melilla   \n",
       "50       Territorios no asociados a ninguna provincia   \n",
       "51       Territorios no asociados a ninguna provincia   \n",
       "52  Gibraltar. Territorio no asociado a ninguna pr...   \n",
       "53                                         Las Palmas   \n",
       "54                             Santa Cruz de Tenerife   \n",
       "\n",
       "                        precip                          pet  \n",
       "0    {'pr': 68.71483612564833}   {'pet': 792.6310332466908}  \n",
       "1    {'pr': 33.89364474885767}  {'pet': 1094.2234909889955}  \n",
       "2    {'pr': 28.39076935035147}  {'pet': 1091.0780625897162}  \n",
       "3    {'pr': 30.14018937976419}  {'pet': 1084.0709587754259}  \n",
       "4    {'pr': 45.54843365851541}   {'pet': 920.2413715607195}  \n",
       "5    {'pr': 47.81092644950861}  {'pet': 1130.4641056755358}  \n",
       "6    {'pr': 49.26952776161438}   {'pet': 977.2442243661221}  \n",
       "7    {'pr': 56.71052972205257}   {'pet': 896.7353102350884}  \n",
       "8    {'pr': 49.35436872505277}   {'pet': 838.4509611534675}  \n",
       "9    {'pr': 50.42425474243369}  {'pet': 1067.3006391662693}  \n",
       "10   {'pr': 57.01276410120502}   {'pet': 1109.512792990657}  \n",
       "11   {'pr': 39.24952480884083}   {'pet': 946.9263801303875}  \n",
       "12   {'pr': 36.75044107399955}   {'pet': 1082.452800558543}  \n",
       "13   {'pr': 46.85161362748052}   {'pet': 1150.128651378446}  \n",
       "14  {'pr': 111.49762379580628}   {'pet': 758.9222758828136}  \n",
       "15   {'pr': 39.17936797264074}   {'pet': 998.7844006015905}  \n",
       "16  {'pr': 59.833175295393076}   {'pet': 889.0275157958316}  \n",
       "17   {'pr': 41.02868961001139}  {'pet': 1076.1280344648408}  \n",
       "18  {'pr': 41.966302456262675}   {'pet': 943.4979220224741}  \n",
       "19   {'pr': 99.05762097108958}   {'pet': 790.4091089113391}  \n",
       "20   {'pr': 45.31325244543164}  {'pet': 1118.7761277122975}  \n",
       "21  {'pr': 58.262483262585974}   {'pet': 966.3895184397321}  \n",
       "22    {'pr': 37.1858207374462}   {'pet': 1120.562592859079}  \n",
       "23   {'pr': 73.61789815244948}   {'pet': 824.4715557800539}  \n",
       "24   {'pr': 63.02411341767257}   {'pet': 874.5406835915983}  \n",
       "25  {'pr': 46.683975735185555}    {'pet': 874.867938354163}  \n",
       "26  {'pr': 119.23644493544931}   {'pet': 760.6841070097402}  \n",
       "27   {'pr': 36.95255229646296}   {'pet': 970.4673958566414}  \n",
       "28  {'pr': 53.137338572369394}  {'pet': 1113.0173641479046}  \n",
       "29   {'pr': 28.02471841773651}  {'pet': 1121.0445273735681}  \n",
       "30   {'pr': 65.26988178206174}   {'pet': 890.3918617832388}  \n",
       "31  {'pr': 123.79573626449883}   {'pet': 813.6981952308278}  \n",
       "32    {'pr': 87.9248367728034}    {'pet': 722.675920942965}  \n",
       "33    {'pr': 45.0848990858388}   {'pet': 857.5661957663245}  \n",
       "34  {'pr': 136.58181224071677}   {'pet': 774.0194863973736}  \n",
       "35   {'pr': 70.17603516487463}   {'pet': 956.8602207364511}  \n",
       "36   {'pr': 78.24986822346644}   {'pet': 745.7714082027072}  \n",
       "37   {'pr': 39.09408382613158}   {'pet': 902.2978167527353}  \n",
       "38   {'pr': 47.55009310876714}  {'pet': 1164.4861862471582}  \n",
       "39   {'pr': 41.99991390663574}   {'pet': 913.6547857103118}  \n",
       "40  {'pr': 45.458538430342784}   {'pet': 972.3358858735394}  \n",
       "41   {'pr': 39.85989860764693}   {'pet': 927.5063079021372}  \n",
       "42   {'pr': 32.96604021757681}  {'pet': 1028.3995611490488}  \n",
       "43   {'pr': 32.43134657718315}  {'pet': 1015.6132799047442}  \n",
       "44   {'pr': 36.76318935789401}   {'pet': 941.3875097612541}  \n",
       "45   {'pr': 93.71228060316987}   {'pet': 773.8066529826323}  \n",
       "46   {'pr': 63.80427694291399}   {'pet': 927.0851342662991}  \n",
       "47   {'pr': 36.62537866024536}  {'pet': 1068.2955332064053}  \n",
       "48   {'pr': 58.66117791499655}  {'pet': 1076.5647675276375}  \n",
       "49   {'pr': 28.02137665034861}  {'pet': 1083.1881128541756}  \n",
       "50   {'pr': 31.11291808390022}  {'pet': 1108.8090632086164}  \n",
       "51  {'pr': 104.17460317460318}   {'pet': 845.1190476190476}  \n",
       "52  {'pr': 60.108738504582284}  {'pet': 1075.2786481309263}  \n",
       "53   {'pr': 14.37421671658516}  {'pet': 1257.9182600607796}  \n",
       "54  {'pr': 27.254277604323903}  {'pet': 1248.7377508899372}  "
      ]
     },
     "execution_count": 30,
     "metadata": {},
     "output_type": "execute_result"
    }
   ],
   "source": [
    "df"
   ]
  },
  {
   "cell_type": "code",
   "execution_count": null,
   "id": "4d90674e-afb1-40a1-887e-48e8a584f138",
   "metadata": {},
   "outputs": [],
   "source": []
  }
 ],
 "metadata": {
  "kernelspec": {
   "display_name": "Python (cs913-dissertation-project)",
   "language": "python",
   "name": "cs913-dissertation-project"
  },
  "language_info": {
   "codemirror_mode": {
    "name": "ipython",
    "version": 3
   },
   "file_extension": ".py",
   "mimetype": "text/x-python",
   "name": "python",
   "nbconvert_exporter": "python",
   "pygments_lexer": "ipython3",
   "version": "3.10.0"
  }
 },
 "nbformat": 4,
 "nbformat_minor": 5
}
